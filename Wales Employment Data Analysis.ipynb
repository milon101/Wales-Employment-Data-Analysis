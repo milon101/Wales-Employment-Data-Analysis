{
 "cells": [
  {
   "cell_type": "markdown",
   "metadata": {},
   "source": [
    "This notebook focuses on a data analysis and machine learning approach to explore the workplace employment landscape of Wales in different industries from 2009 to 2018. The [employment data](https://statswales.gov.wales/Catalogue/Business-Economy-and-Labour-Market/People-and-Work/Employment/Jobs/Whole-Workforce/workplaceemployment-by-industry-area) of wales from StatsWales is used as data source. The data source contains various data including workplace employment estimates, or estimates of total jobs, for Wales and its NUTS2 areas, along with comparable UK data disaggregated by industry section. \n",
    "\n",
    "In this notebook we will only explore Wales data from 2009 to 2018 for our analysis."
   ]
  },
  {
   "cell_type": "code",
   "execution_count": 1,
   "metadata": {},
   "outputs": [
    {
     "data": {
      "text/html": [
       "        <script type=\"text/javascript\">\n",
       "        window.PlotlyConfig = {MathJaxConfig: 'local'};\n",
       "        if (window.MathJax) {MathJax.Hub.Config({SVG: {font: \"STIX-Web\"}});}\n",
       "        if (typeof require !== 'undefined') {\n",
       "        require.undef(\"plotly\");\n",
       "        requirejs.config({\n",
       "            paths: {\n",
       "                'plotly': ['https://cdn.plot.ly/plotly-latest.min']\n",
       "            }\n",
       "        });\n",
       "        require(['plotly'], function(Plotly) {\n",
       "            window._Plotly = Plotly;\n",
       "        });\n",
       "        }\n",
       "        </script>\n",
       "        "
      ]
     },
     "metadata": {},
     "output_type": "display_data"
    },
    {
     "data": {
      "application/javascript": [
       "\n",
       "            setTimeout(function() {\n",
       "                var nbb_cell_id = 1;\n",
       "                var nbb_unformatted_code = \"## importing necessary packages\\n\\nfrom sklearn.cluster import KMeans\\nfrom sklearn import preprocessing\\nfrom sklearn.decomposition import PCA\\nfrom sklearn.preprocessing import StandardScaler\\nimport pandas as pd\\nimport numpy as np\\nimport matplotlib.pyplot as plt\\nimport plotly.offline as py\\nimport plotly.graph_objs as go\\nfrom scipy.cluster import hierarchy\\nfrom scipy import stats\\nimport seaborn as sns\\n\\npy.init_notebook_mode(connected=True)\\nimport plotly.express as px\\n\\n%matplotlib inline\\n%load_ext nb_black\";\n",
       "                var nbb_formatted_code = \"## importing necessary packages\\n\\nfrom sklearn.cluster import KMeans\\nfrom sklearn import preprocessing\\nfrom sklearn.decomposition import PCA\\nfrom sklearn.preprocessing import StandardScaler\\nimport pandas as pd\\nimport numpy as np\\nimport matplotlib.pyplot as plt\\nimport plotly.offline as py\\nimport plotly.graph_objs as go\\nfrom scipy.cluster import hierarchy\\nfrom scipy import stats\\nimport seaborn as sns\\n\\npy.init_notebook_mode(connected=True)\\nimport plotly.express as px\\n\\n%matplotlib inline\\n%load_ext nb_black\";\n",
       "                var nbb_cells = Jupyter.notebook.get_cells();\n",
       "                for (var i = 0; i < nbb_cells.length; ++i) {\n",
       "                    if (nbb_cells[i].input_prompt_number == nbb_cell_id) {\n",
       "                        if (nbb_cells[i].get_text() == nbb_unformatted_code) {\n",
       "                             nbb_cells[i].set_text(nbb_formatted_code);\n",
       "                        }\n",
       "                        break;\n",
       "                    }\n",
       "                }\n",
       "            }, 500);\n",
       "            "
      ],
      "text/plain": [
       "<IPython.core.display.Javascript object>"
      ]
     },
     "metadata": {},
     "output_type": "display_data"
    }
   ],
   "source": [
    "## importing necessary packages\n",
    "\n",
    "from sklearn.cluster import KMeans\n",
    "from sklearn import preprocessing\n",
    "from sklearn.decomposition import PCA\n",
    "from sklearn.preprocessing import StandardScaler\n",
    "import pandas as pd\n",
    "import numpy as np\n",
    "import matplotlib.pyplot as plt\n",
    "import plotly.offline as py\n",
    "import plotly.graph_objs as go\n",
    "from scipy.cluster import hierarchy\n",
    "from scipy import stats\n",
    "import seaborn as sns\n",
    "\n",
    "py.init_notebook_mode(connected=True)\n",
    "import plotly.express as px\n",
    "\n",
    "%matplotlib inline\n",
    "%load_ext nb_black"
   ]
  },
  {
   "cell_type": "markdown",
   "metadata": {},
   "source": [
    "## Data Preprocessing "
   ]
  },
  {
   "cell_type": "markdown",
   "metadata": {},
   "source": [
    "Different years data from StatsWales data source is downloaded in EXCEL format and named after years. First we will read 2009 Wales employment data of different industries from StatsWales."
   ]
  },
  {
   "cell_type": "code",
   "execution_count": 2,
   "metadata": {},
   "outputs": [
    {
     "data": {
      "text/html": [
       "<div>\n",
       "<style scoped>\n",
       "    .dataframe tbody tr th:only-of-type {\n",
       "        vertical-align: middle;\n",
       "    }\n",
       "\n",
       "    .dataframe tbody tr th {\n",
       "        vertical-align: top;\n",
       "    }\n",
       "\n",
       "    .dataframe thead th {\n",
       "        text-align: right;\n",
       "    }\n",
       "</style>\n",
       "<table border=\"1\" class=\"dataframe\">\n",
       "  <thead>\n",
       "    <tr style=\"text-align: right;\">\n",
       "      <th></th>\n",
       "      <th>Unnamed: 0</th>\n",
       "      <th>Unnamed: 1</th>\n",
       "      <th>United Kingdom</th>\n",
       "      <th>Wales</th>\n",
       "      <th>.</th>\n",
       "      <th>Wales .1</th>\n",
       "    </tr>\n",
       "  </thead>\n",
       "  <tbody>\n",
       "    <tr>\n",
       "      <th>0</th>\n",
       "      <td>NaN</td>\n",
       "      <td>NaN</td>\n",
       "      <td>NaN</td>\n",
       "      <td>West Wales and the Valleys</td>\n",
       "      <td>East Wales</td>\n",
       "      <td>.</td>\n",
       "    </tr>\n",
       "    <tr>\n",
       "      <th>1</th>\n",
       "      <td>All industries</td>\n",
       "      <td>NaN</td>\n",
       "      <td>29966500.0</td>\n",
       "      <td>783400</td>\n",
       "      <td>552900</td>\n",
       "      <td>1336300</td>\n",
       "    </tr>\n",
       "    <tr>\n",
       "      <th>2</th>\n",
       "      <td>All industries</td>\n",
       "      <td>Agriculture, forestry and fishing</td>\n",
       "      <td>389600.0</td>\n",
       "      <td>25700</td>\n",
       "      <td>12000</td>\n",
       "      <td>37700</td>\n",
       "    </tr>\n",
       "    <tr>\n",
       "      <th>3</th>\n",
       "      <td>NaN</td>\n",
       "      <td>Production</td>\n",
       "      <td>2832800.0</td>\n",
       "      <td>90200</td>\n",
       "      <td>66600</td>\n",
       "      <td>156700</td>\n",
       "    </tr>\n",
       "    <tr>\n",
       "      <th>4</th>\n",
       "      <td>NaN</td>\n",
       "      <td>Construction</td>\n",
       "      <td>2169500.0</td>\n",
       "      <td>60700</td>\n",
       "      <td>35900</td>\n",
       "      <td>96600</td>\n",
       "    </tr>\n",
       "    <tr>\n",
       "      <th>5</th>\n",
       "      <td>NaN</td>\n",
       "      <td>Wholesale, retail, transport, hotels and food</td>\n",
       "      <td>7899000.0</td>\n",
       "      <td>207700</td>\n",
       "      <td>137700</td>\n",
       "      <td>345400</td>\n",
       "    </tr>\n",
       "    <tr>\n",
       "      <th>6</th>\n",
       "      <td>NaN</td>\n",
       "      <td>Information and communication</td>\n",
       "      <td>1153800.0</td>\n",
       "      <td>12900</td>\n",
       "      <td>14900</td>\n",
       "      <td>27800</td>\n",
       "    </tr>\n",
       "    <tr>\n",
       "      <th>7</th>\n",
       "      <td>NaN</td>\n",
       "      <td>Finance and insurance activities</td>\n",
       "      <td>1089300.0</td>\n",
       "      <td>13900</td>\n",
       "      <td>19800</td>\n",
       "      <td>33800</td>\n",
       "    </tr>\n",
       "    <tr>\n",
       "      <th>8</th>\n",
       "      <td>NaN</td>\n",
       "      <td>Real estate activities</td>\n",
       "      <td>465500.0</td>\n",
       "      <td>7100</td>\n",
       "      <td>6500</td>\n",
       "      <td>13500</td>\n",
       "    </tr>\n",
       "    <tr>\n",
       "      <th>9</th>\n",
       "      <td>NaN</td>\n",
       "      <td>Professional, scientific and technical activit...</td>\n",
       "      <td>4572800.0</td>\n",
       "      <td>72400</td>\n",
       "      <td>72500</td>\n",
       "      <td>144800</td>\n",
       "    </tr>\n",
       "    <tr>\n",
       "      <th>10</th>\n",
       "      <td>NaN</td>\n",
       "      <td>Public administration, defence, education and ...</td>\n",
       "      <td>7739900.0</td>\n",
       "      <td>255700</td>\n",
       "      <td>160000</td>\n",
       "      <td>415600</td>\n",
       "    </tr>\n",
       "    <tr>\n",
       "      <th>11</th>\n",
       "      <td>NaN</td>\n",
       "      <td>Other service activities</td>\n",
       "      <td>1654600.0</td>\n",
       "      <td>37000</td>\n",
       "      <td>27200</td>\n",
       "      <td>64200</td>\n",
       "    </tr>\n",
       "  </tbody>\n",
       "</table>\n",
       "</div>"
      ],
      "text/plain": [
       "         Unnamed: 0                                         Unnamed: 1  \\\n",
       "0               NaN                                                NaN   \n",
       "1   All industries                                                 NaN   \n",
       "2   All industries                  Agriculture, forestry and fishing    \n",
       "3               NaN                                        Production    \n",
       "4               NaN                                      Construction    \n",
       "5               NaN     Wholesale, retail, transport, hotels and food    \n",
       "6               NaN                     Information and communication    \n",
       "7               NaN                  Finance and insurance activities    \n",
       "8               NaN                            Real estate activities    \n",
       "9               NaN  Professional, scientific and technical activit...   \n",
       "10              NaN  Public administration, defence, education and ...   \n",
       "11              NaN                          Other service activities    \n",
       "\n",
       "    United Kingdom                        Wales             . Wales .1  \n",
       "0               NaN  West Wales and the Valleys   East Wales         .  \n",
       "1        29966500.0                       783400       552900  1336300  \n",
       "2          389600.0                        25700        12000    37700  \n",
       "3         2832800.0                        90200        66600   156700  \n",
       "4         2169500.0                        60700        35900    96600  \n",
       "5         7899000.0                       207700       137700   345400  \n",
       "6         1153800.0                        12900        14900    27800  \n",
       "7         1089300.0                        13900        19800    33800  \n",
       "8          465500.0                         7100         6500    13500  \n",
       "9         4572800.0                        72400        72500   144800  \n",
       "10        7739900.0                       255700       160000   415600  \n",
       "11        1654600.0                        37000        27200    64200  "
      ]
     },
     "execution_count": 2,
     "metadata": {},
     "output_type": "execute_result"
    },
    {
     "data": {
      "application/javascript": [
       "\n",
       "            setTimeout(function() {\n",
       "                var nbb_cell_id = 2;\n",
       "                var nbb_unformatted_code = \"data_2009 = pd.read_excel(\\\"2009.xlsx\\\")\\ndata_2009\";\n",
       "                var nbb_formatted_code = \"data_2009 = pd.read_excel(\\\"2009.xlsx\\\")\\ndata_2009\";\n",
       "                var nbb_cells = Jupyter.notebook.get_cells();\n",
       "                for (var i = 0; i < nbb_cells.length; ++i) {\n",
       "                    if (nbb_cells[i].input_prompt_number == nbb_cell_id) {\n",
       "                        if (nbb_cells[i].get_text() == nbb_unformatted_code) {\n",
       "                             nbb_cells[i].set_text(nbb_formatted_code);\n",
       "                        }\n",
       "                        break;\n",
       "                    }\n",
       "                }\n",
       "            }, 500);\n",
       "            "
      ],
      "text/plain": [
       "<IPython.core.display.Javascript object>"
      ]
     },
     "metadata": {},
     "output_type": "display_data"
    }
   ],
   "source": [
    "data_2009 = pd.read_excel(\"2009.xlsx\")\n",
    "data_2009"
   ]
  },
  {
   "cell_type": "markdown",
   "metadata": {},
   "source": [
    "We can see that there are so many garbage data in the dataframe that we do not need for our analysis. We will clean the downloaded every year data in next few steps and them in a single dataframe."
   ]
  },
  {
   "cell_type": "code",
   "execution_count": 3,
   "metadata": {},
   "outputs": [
    {
     "data": {
      "text/html": [
       "<div>\n",
       "<style scoped>\n",
       "    .dataframe tbody tr th:only-of-type {\n",
       "        vertical-align: middle;\n",
       "    }\n",
       "\n",
       "    .dataframe tbody tr th {\n",
       "        vertical-align: top;\n",
       "    }\n",
       "\n",
       "    .dataframe thead th {\n",
       "        text-align: right;\n",
       "    }\n",
       "</style>\n",
       "<table border=\"1\" class=\"dataframe\">\n",
       "  <thead>\n",
       "    <tr style=\"text-align: right;\">\n",
       "      <th></th>\n",
       "      <th>All industries</th>\n",
       "      <th>Unnamed: 1</th>\n",
       "      <th>29966500</th>\n",
       "      <th>783400</th>\n",
       "      <th>552900</th>\n",
       "      <th>1336300</th>\n",
       "    </tr>\n",
       "  </thead>\n",
       "  <tbody>\n",
       "    <tr>\n",
       "      <th>0</th>\n",
       "      <td>All industries</td>\n",
       "      <td>Agriculture, forestry and fishing</td>\n",
       "      <td>389600</td>\n",
       "      <td>25700</td>\n",
       "      <td>12000</td>\n",
       "      <td>37700</td>\n",
       "    </tr>\n",
       "    <tr>\n",
       "      <th>1</th>\n",
       "      <td>NaN</td>\n",
       "      <td>Production</td>\n",
       "      <td>2832800</td>\n",
       "      <td>90200</td>\n",
       "      <td>66600</td>\n",
       "      <td>156700</td>\n",
       "    </tr>\n",
       "    <tr>\n",
       "      <th>2</th>\n",
       "      <td>NaN</td>\n",
       "      <td>Construction</td>\n",
       "      <td>2169500</td>\n",
       "      <td>60700</td>\n",
       "      <td>35900</td>\n",
       "      <td>96600</td>\n",
       "    </tr>\n",
       "    <tr>\n",
       "      <th>3</th>\n",
       "      <td>NaN</td>\n",
       "      <td>Wholesale, retail, transport, hotels and food</td>\n",
       "      <td>7899000</td>\n",
       "      <td>207700</td>\n",
       "      <td>137700</td>\n",
       "      <td>345400</td>\n",
       "    </tr>\n",
       "    <tr>\n",
       "      <th>4</th>\n",
       "      <td>NaN</td>\n",
       "      <td>Information and communication</td>\n",
       "      <td>1153800</td>\n",
       "      <td>12900</td>\n",
       "      <td>14900</td>\n",
       "      <td>27800</td>\n",
       "    </tr>\n",
       "    <tr>\n",
       "      <th>5</th>\n",
       "      <td>NaN</td>\n",
       "      <td>Finance and insurance activities</td>\n",
       "      <td>1089300</td>\n",
       "      <td>13900</td>\n",
       "      <td>19800</td>\n",
       "      <td>33800</td>\n",
       "    </tr>\n",
       "    <tr>\n",
       "      <th>6</th>\n",
       "      <td>NaN</td>\n",
       "      <td>Real estate activities</td>\n",
       "      <td>465500</td>\n",
       "      <td>7100</td>\n",
       "      <td>6500</td>\n",
       "      <td>13500</td>\n",
       "    </tr>\n",
       "    <tr>\n",
       "      <th>7</th>\n",
       "      <td>NaN</td>\n",
       "      <td>Professional, scientific and technical activit...</td>\n",
       "      <td>4572800</td>\n",
       "      <td>72400</td>\n",
       "      <td>72500</td>\n",
       "      <td>144800</td>\n",
       "    </tr>\n",
       "    <tr>\n",
       "      <th>8</th>\n",
       "      <td>NaN</td>\n",
       "      <td>Public administration, defence, education and ...</td>\n",
       "      <td>7739900</td>\n",
       "      <td>255700</td>\n",
       "      <td>160000</td>\n",
       "      <td>415600</td>\n",
       "    </tr>\n",
       "    <tr>\n",
       "      <th>9</th>\n",
       "      <td>NaN</td>\n",
       "      <td>Other service activities</td>\n",
       "      <td>1654600</td>\n",
       "      <td>37000</td>\n",
       "      <td>27200</td>\n",
       "      <td>64200</td>\n",
       "    </tr>\n",
       "  </tbody>\n",
       "</table>\n",
       "</div>"
      ],
      "text/plain": [
       "   All industries                                          Unnamed: 1  \\\n",
       "0  All industries                  Agriculture, forestry and fishing    \n",
       "1              NaN                                        Production    \n",
       "2              NaN                                      Construction    \n",
       "3              NaN     Wholesale, retail, transport, hotels and food    \n",
       "4              NaN                     Information and communication    \n",
       "5              NaN                  Finance and insurance activities    \n",
       "6              NaN                            Real estate activities    \n",
       "7              NaN  Professional, scientific and technical activit...   \n",
       "8              NaN  Public administration, defence, education and ...   \n",
       "9              NaN                          Other service activities    \n",
       "\n",
       "   29966500  783400  552900  1336300  \n",
       "0    389600   25700   12000    37700  \n",
       "1   2832800   90200   66600   156700  \n",
       "2   2169500   60700   35900    96600  \n",
       "3   7899000  207700  137700   345400  \n",
       "4   1153800   12900   14900    27800  \n",
       "5   1089300   13900   19800    33800  \n",
       "6    465500    7100    6500    13500  \n",
       "7   4572800   72400   72500   144800  \n",
       "8   7739900  255700  160000   415600  \n",
       "9   1654600   37000   27200    64200  "
      ]
     },
     "execution_count": 3,
     "metadata": {},
     "output_type": "execute_result"
    },
    {
     "data": {
      "application/javascript": [
       "\n",
       "            setTimeout(function() {\n",
       "                var nbb_cell_id = 3;\n",
       "                var nbb_unformatted_code = \"data_2009 = pd.read_excel(\\\"2009.xlsx\\\", skiprows=2)\\ndata_2009\";\n",
       "                var nbb_formatted_code = \"data_2009 = pd.read_excel(\\\"2009.xlsx\\\", skiprows=2)\\ndata_2009\";\n",
       "                var nbb_cells = Jupyter.notebook.get_cells();\n",
       "                for (var i = 0; i < nbb_cells.length; ++i) {\n",
       "                    if (nbb_cells[i].input_prompt_number == nbb_cell_id) {\n",
       "                        if (nbb_cells[i].get_text() == nbb_unformatted_code) {\n",
       "                             nbb_cells[i].set_text(nbb_formatted_code);\n",
       "                        }\n",
       "                        break;\n",
       "                    }\n",
       "                }\n",
       "            }, 500);\n",
       "            "
      ],
      "text/plain": [
       "<IPython.core.display.Javascript object>"
      ]
     },
     "metadata": {},
     "output_type": "display_data"
    }
   ],
   "source": [
    "data_2009 = pd.read_excel(\"2009.xlsx\", skiprows=2)\n",
    "data_2009"
   ]
  },
  {
   "cell_type": "code",
   "execution_count": 4,
   "metadata": {},
   "outputs": [
    {
     "data": {
      "text/html": [
       "<div>\n",
       "<style scoped>\n",
       "    .dataframe tbody tr th:only-of-type {\n",
       "        vertical-align: middle;\n",
       "    }\n",
       "\n",
       "    .dataframe tbody tr th {\n",
       "        vertical-align: top;\n",
       "    }\n",
       "\n",
       "    .dataframe thead th {\n",
       "        text-align: right;\n",
       "    }\n",
       "</style>\n",
       "<table border=\"1\" class=\"dataframe\">\n",
       "  <thead>\n",
       "    <tr style=\"text-align: right;\">\n",
       "      <th></th>\n",
       "      <th>Industry</th>\n",
       "      <th>2009</th>\n",
       "    </tr>\n",
       "  </thead>\n",
       "  <tbody>\n",
       "    <tr>\n",
       "      <th>0</th>\n",
       "      <td>Agriculture, forestry and fishing</td>\n",
       "      <td>37700</td>\n",
       "    </tr>\n",
       "    <tr>\n",
       "      <th>1</th>\n",
       "      <td>Production</td>\n",
       "      <td>156700</td>\n",
       "    </tr>\n",
       "    <tr>\n",
       "      <th>2</th>\n",
       "      <td>Construction</td>\n",
       "      <td>96600</td>\n",
       "    </tr>\n",
       "    <tr>\n",
       "      <th>3</th>\n",
       "      <td>Wholesale, retail, transport, hotels and food</td>\n",
       "      <td>345400</td>\n",
       "    </tr>\n",
       "    <tr>\n",
       "      <th>4</th>\n",
       "      <td>Information and communication</td>\n",
       "      <td>27800</td>\n",
       "    </tr>\n",
       "    <tr>\n",
       "      <th>5</th>\n",
       "      <td>Finance and insurance activities</td>\n",
       "      <td>33800</td>\n",
       "    </tr>\n",
       "    <tr>\n",
       "      <th>6</th>\n",
       "      <td>Real estate activities</td>\n",
       "      <td>13500</td>\n",
       "    </tr>\n",
       "    <tr>\n",
       "      <th>7</th>\n",
       "      <td>Professional, scientific and technical activit...</td>\n",
       "      <td>144800</td>\n",
       "    </tr>\n",
       "    <tr>\n",
       "      <th>8</th>\n",
       "      <td>Public administration, defence, education and ...</td>\n",
       "      <td>415600</td>\n",
       "    </tr>\n",
       "    <tr>\n",
       "      <th>9</th>\n",
       "      <td>Other service activities</td>\n",
       "      <td>64200</td>\n",
       "    </tr>\n",
       "  </tbody>\n",
       "</table>\n",
       "</div>"
      ],
      "text/plain": [
       "                                            Industry    2009\n",
       "0                 Agriculture, forestry and fishing    37700\n",
       "1                                        Production   156700\n",
       "2                                      Construction    96600\n",
       "3     Wholesale, retail, transport, hotels and food   345400\n",
       "4                     Information and communication    27800\n",
       "5                  Finance and insurance activities    33800\n",
       "6                            Real estate activities    13500\n",
       "7  Professional, scientific and technical activit...  144800\n",
       "8  Public administration, defence, education and ...  415600\n",
       "9                          Other service activities    64200"
      ]
     },
     "execution_count": 4,
     "metadata": {},
     "output_type": "execute_result"
    },
    {
     "data": {
      "application/javascript": [
       "\n",
       "            setTimeout(function() {\n",
       "                var nbb_cell_id = 4;\n",
       "                var nbb_unformatted_code = \"data_2009.columns = [\\\"temp\\\", \\\"Industry\\\", \\\"All\\\", \\\"West Wales\\\", \\\"East Wales\\\", \\\"2009\\\"]\\ndataframe = data_2009.drop([\\\"temp\\\", \\\"All\\\", \\\"West Wales\\\", \\\"East Wales\\\"], axis=1)\\ndataframe\";\n",
       "                var nbb_formatted_code = \"data_2009.columns = [\\\"temp\\\", \\\"Industry\\\", \\\"All\\\", \\\"West Wales\\\", \\\"East Wales\\\", \\\"2009\\\"]\\ndataframe = data_2009.drop([\\\"temp\\\", \\\"All\\\", \\\"West Wales\\\", \\\"East Wales\\\"], axis=1)\\ndataframe\";\n",
       "                var nbb_cells = Jupyter.notebook.get_cells();\n",
       "                for (var i = 0; i < nbb_cells.length; ++i) {\n",
       "                    if (nbb_cells[i].input_prompt_number == nbb_cell_id) {\n",
       "                        if (nbb_cells[i].get_text() == nbb_unformatted_code) {\n",
       "                             nbb_cells[i].set_text(nbb_formatted_code);\n",
       "                        }\n",
       "                        break;\n",
       "                    }\n",
       "                }\n",
       "            }, 500);\n",
       "            "
      ],
      "text/plain": [
       "<IPython.core.display.Javascript object>"
      ]
     },
     "metadata": {},
     "output_type": "display_data"
    }
   ],
   "source": [
    "data_2009.columns = [\"temp\", \"Industry\", \"All\", \"West Wales\", \"East Wales\", \"2009\"]\n",
    "dataframe = data_2009.drop([\"temp\", \"All\", \"West Wales\", \"East Wales\"], axis=1)\n",
    "dataframe"
   ]
  },
  {
   "cell_type": "markdown",
   "metadata": {},
   "source": [
    "We now have a dataframe containing industry names and data from 2009. We want to do the same for every other dataset to clean the data and merge them in one dataframe."
   ]
  },
  {
   "cell_type": "code",
   "execution_count": 5,
   "metadata": {},
   "outputs": [
    {
     "data": {
      "text/html": [
       "<div>\n",
       "<style scoped>\n",
       "    .dataframe tbody tr th:only-of-type {\n",
       "        vertical-align: middle;\n",
       "    }\n",
       "\n",
       "    .dataframe tbody tr th {\n",
       "        vertical-align: top;\n",
       "    }\n",
       "\n",
       "    .dataframe thead th {\n",
       "        text-align: right;\n",
       "    }\n",
       "</style>\n",
       "<table border=\"1\" class=\"dataframe\">\n",
       "  <thead>\n",
       "    <tr style=\"text-align: right;\">\n",
       "      <th></th>\n",
       "      <th>Industry</th>\n",
       "      <th>2009</th>\n",
       "      <th>2010</th>\n",
       "      <th>2011</th>\n",
       "      <th>2012</th>\n",
       "      <th>2013</th>\n",
       "      <th>2014</th>\n",
       "      <th>2015</th>\n",
       "      <th>2016</th>\n",
       "      <th>2017</th>\n",
       "      <th>2018</th>\n",
       "    </tr>\n",
       "  </thead>\n",
       "  <tbody>\n",
       "    <tr>\n",
       "      <th>0</th>\n",
       "      <td>Agriculture, forestry and fishing</td>\n",
       "      <td>37700</td>\n",
       "      <td>38200</td>\n",
       "      <td>36100</td>\n",
       "      <td>36100</td>\n",
       "      <td>36800</td>\n",
       "      <td>42700</td>\n",
       "      <td>40700</td>\n",
       "      <td>43200</td>\n",
       "      <td>40200</td>\n",
       "      <td>41100</td>\n",
       "    </tr>\n",
       "    <tr>\n",
       "      <th>1</th>\n",
       "      <td>Production</td>\n",
       "      <td>156700</td>\n",
       "      <td>149800</td>\n",
       "      <td>158600</td>\n",
       "      <td>154400</td>\n",
       "      <td>164200</td>\n",
       "      <td>173300</td>\n",
       "      <td>172300</td>\n",
       "      <td>162500</td>\n",
       "      <td>165100</td>\n",
       "      <td>165700</td>\n",
       "    </tr>\n",
       "    <tr>\n",
       "      <th>2</th>\n",
       "      <td>Construction</td>\n",
       "      <td>96600</td>\n",
       "      <td>93200</td>\n",
       "      <td>90000</td>\n",
       "      <td>91300</td>\n",
       "      <td>89300</td>\n",
       "      <td>97000</td>\n",
       "      <td>92600</td>\n",
       "      <td>102700</td>\n",
       "      <td>90800</td>\n",
       "      <td>101800</td>\n",
       "    </tr>\n",
       "    <tr>\n",
       "      <th>3</th>\n",
       "      <td>Wholesale, retail, transport, hotels and food</td>\n",
       "      <td>345400</td>\n",
       "      <td>344500</td>\n",
       "      <td>343100</td>\n",
       "      <td>347300</td>\n",
       "      <td>345100</td>\n",
       "      <td>337300</td>\n",
       "      <td>357700</td>\n",
       "      <td>360200</td>\n",
       "      <td>333500</td>\n",
       "      <td>347600</td>\n",
       "    </tr>\n",
       "    <tr>\n",
       "      <th>4</th>\n",
       "      <td>Information and communication</td>\n",
       "      <td>27800</td>\n",
       "      <td>27900</td>\n",
       "      <td>26400</td>\n",
       "      <td>27200</td>\n",
       "      <td>26900</td>\n",
       "      <td>35700</td>\n",
       "      <td>24000</td>\n",
       "      <td>34400</td>\n",
       "      <td>58900</td>\n",
       "      <td>31500</td>\n",
       "    </tr>\n",
       "    <tr>\n",
       "      <th>5</th>\n",
       "      <td>Finance and insurance activities</td>\n",
       "      <td>33800</td>\n",
       "      <td>29800</td>\n",
       "      <td>33200</td>\n",
       "      <td>31100</td>\n",
       "      <td>32400</td>\n",
       "      <td>32400</td>\n",
       "      <td>30800</td>\n",
       "      <td>31000</td>\n",
       "      <td>32100</td>\n",
       "      <td>35500</td>\n",
       "    </tr>\n",
       "    <tr>\n",
       "      <th>6</th>\n",
       "      <td>Real estate activities</td>\n",
       "      <td>13500</td>\n",
       "      <td>14600</td>\n",
       "      <td>17600</td>\n",
       "      <td>18800</td>\n",
       "      <td>18000</td>\n",
       "      <td>22200</td>\n",
       "      <td>19100</td>\n",
       "      <td>22700</td>\n",
       "      <td>18200</td>\n",
       "      <td>25200</td>\n",
       "    </tr>\n",
       "    <tr>\n",
       "      <th>7</th>\n",
       "      <td>Professional, scientific and technical activit...</td>\n",
       "      <td>144800</td>\n",
       "      <td>145800</td>\n",
       "      <td>143600</td>\n",
       "      <td>137300</td>\n",
       "      <td>149900</td>\n",
       "      <td>152900</td>\n",
       "      <td>166200</td>\n",
       "      <td>161200</td>\n",
       "      <td>176400</td>\n",
       "      <td>187100</td>\n",
       "    </tr>\n",
       "    <tr>\n",
       "      <th>8</th>\n",
       "      <td>Public administration, defence, education and ...</td>\n",
       "      <td>415600</td>\n",
       "      <td>418600</td>\n",
       "      <td>425600</td>\n",
       "      <td>421000</td>\n",
       "      <td>427000</td>\n",
       "      <td>427600</td>\n",
       "      <td>423200</td>\n",
       "      <td>418500</td>\n",
       "      <td>424500</td>\n",
       "      <td>434900</td>\n",
       "    </tr>\n",
       "    <tr>\n",
       "      <th>9</th>\n",
       "      <td>Other service activities</td>\n",
       "      <td>64200</td>\n",
       "      <td>68000</td>\n",
       "      <td>72400</td>\n",
       "      <td>72800</td>\n",
       "      <td>75500</td>\n",
       "      <td>73300</td>\n",
       "      <td>77200</td>\n",
       "      <td>72400</td>\n",
       "      <td>83200</td>\n",
       "      <td>81800</td>\n",
       "    </tr>\n",
       "  </tbody>\n",
       "</table>\n",
       "</div>"
      ],
      "text/plain": [
       "                                            Industry    2009    2010    2011  \\\n",
       "0                 Agriculture, forestry and fishing    37700   38200   36100   \n",
       "1                                        Production   156700  149800  158600   \n",
       "2                                      Construction    96600   93200   90000   \n",
       "3     Wholesale, retail, transport, hotels and food   345400  344500  343100   \n",
       "4                     Information and communication    27800   27900   26400   \n",
       "5                  Finance and insurance activities    33800   29800   33200   \n",
       "6                            Real estate activities    13500   14600   17600   \n",
       "7  Professional, scientific and technical activit...  144800  145800  143600   \n",
       "8  Public administration, defence, education and ...  415600  418600  425600   \n",
       "9                          Other service activities    64200   68000   72400   \n",
       "\n",
       "     2012    2013    2014    2015    2016    2017    2018  \n",
       "0   36100   36800   42700   40700   43200   40200   41100  \n",
       "1  154400  164200  173300  172300  162500  165100  165700  \n",
       "2   91300   89300   97000   92600  102700   90800  101800  \n",
       "3  347300  345100  337300  357700  360200  333500  347600  \n",
       "4   27200   26900   35700   24000   34400   58900   31500  \n",
       "5   31100   32400   32400   30800   31000   32100   35500  \n",
       "6   18800   18000   22200   19100   22700   18200   25200  \n",
       "7  137300  149900  152900  166200  161200  176400  187100  \n",
       "8  421000  427000  427600  423200  418500  424500  434900  \n",
       "9   72800   75500   73300   77200   72400   83200   81800  "
      ]
     },
     "execution_count": 5,
     "metadata": {},
     "output_type": "execute_result"
    },
    {
     "data": {
      "application/javascript": [
       "\n",
       "            setTimeout(function() {\n",
       "                var nbb_cell_id = 5;\n",
       "                var nbb_unformatted_code = \"filenames = [\\n    \\\"2009.xlsx\\\",\\n    \\\"2010.xlsx\\\",\\n    \\\"2011.xlsx\\\",\\n    \\\"2012.xlsx\\\",\\n    \\\"2013.xlsx\\\",\\n    \\\"2014.xlsx\\\",\\n    \\\"2015.xlsx\\\",\\n    \\\"2016.xlsx\\\",\\n    \\\"2017.xlsx\\\",\\n    \\\"2018.xlsx\\\",\\n]\\nyears_ = [\\n    \\\"2009\\\",\\n    \\\"2010\\\",\\n    \\\"2011\\\",\\n    \\\"2012\\\",\\n    \\\"2013\\\",\\n    \\\"2014\\\",\\n    \\\"2015\\\",\\n    \\\"2016\\\",\\n    \\\"2017\\\",\\n    \\\"2018\\\",\\n]\\nfor year, file in zip(years_[1:], filenames[1:]):\\n    df_ = pd.read_excel(file, skiprows=2)\\n    df_.columns = [\\\"temp\\\", \\\"Industry\\\", \\\"All\\\", \\\"West Wales\\\", \\\"East Wales\\\", year]\\n    dataframe[year] = df_[year]\\n\\ndataframe\";\n",
       "                var nbb_formatted_code = \"filenames = [\\n    \\\"2009.xlsx\\\",\\n    \\\"2010.xlsx\\\",\\n    \\\"2011.xlsx\\\",\\n    \\\"2012.xlsx\\\",\\n    \\\"2013.xlsx\\\",\\n    \\\"2014.xlsx\\\",\\n    \\\"2015.xlsx\\\",\\n    \\\"2016.xlsx\\\",\\n    \\\"2017.xlsx\\\",\\n    \\\"2018.xlsx\\\",\\n]\\nyears_ = [\\n    \\\"2009\\\",\\n    \\\"2010\\\",\\n    \\\"2011\\\",\\n    \\\"2012\\\",\\n    \\\"2013\\\",\\n    \\\"2014\\\",\\n    \\\"2015\\\",\\n    \\\"2016\\\",\\n    \\\"2017\\\",\\n    \\\"2018\\\",\\n]\\nfor year, file in zip(years_[1:], filenames[1:]):\\n    df_ = pd.read_excel(file, skiprows=2)\\n    df_.columns = [\\\"temp\\\", \\\"Industry\\\", \\\"All\\\", \\\"West Wales\\\", \\\"East Wales\\\", year]\\n    dataframe[year] = df_[year]\\n\\ndataframe\";\n",
       "                var nbb_cells = Jupyter.notebook.get_cells();\n",
       "                for (var i = 0; i < nbb_cells.length; ++i) {\n",
       "                    if (nbb_cells[i].input_prompt_number == nbb_cell_id) {\n",
       "                        if (nbb_cells[i].get_text() == nbb_unformatted_code) {\n",
       "                             nbb_cells[i].set_text(nbb_formatted_code);\n",
       "                        }\n",
       "                        break;\n",
       "                    }\n",
       "                }\n",
       "            }, 500);\n",
       "            "
      ],
      "text/plain": [
       "<IPython.core.display.Javascript object>"
      ]
     },
     "metadata": {},
     "output_type": "display_data"
    }
   ],
   "source": [
    "filenames = [\n",
    "    \"2009.xlsx\",\n",
    "    \"2010.xlsx\",\n",
    "    \"2011.xlsx\",\n",
    "    \"2012.xlsx\",\n",
    "    \"2013.xlsx\",\n",
    "    \"2014.xlsx\",\n",
    "    \"2015.xlsx\",\n",
    "    \"2016.xlsx\",\n",
    "    \"2017.xlsx\",\n",
    "    \"2018.xlsx\",\n",
    "]\n",
    "years_ = [\n",
    "    \"2009\",\n",
    "    \"2010\",\n",
    "    \"2011\",\n",
    "    \"2012\",\n",
    "    \"2013\",\n",
    "    \"2014\",\n",
    "    \"2015\",\n",
    "    \"2016\",\n",
    "    \"2017\",\n",
    "    \"2018\",\n",
    "]\n",
    "for year, file in zip(years_[1:], filenames[1:]):\n",
    "    df_ = pd.read_excel(file, skiprows=2)\n",
    "    df_.columns = [\"temp\", \"Industry\", \"All\", \"West Wales\", \"East Wales\", year]\n",
    "    dataframe[year] = df_[year]\n",
    "\n",
    "dataframe"
   ]
  },
  {
   "cell_type": "markdown",
   "metadata": {},
   "source": [
    "We have a dataframe with industry names and corresponding employment data for every year from 2009 to 2018 but the industry names are too long and that is not convenient. We will rename the industry names for convenience and save a copy of our dataframe."
   ]
  },
  {
   "cell_type": "code",
   "execution_count": 6,
   "metadata": {},
   "outputs": [
    {
     "data": {
      "text/html": [
       "<div>\n",
       "<style scoped>\n",
       "    .dataframe tbody tr th:only-of-type {\n",
       "        vertical-align: middle;\n",
       "    }\n",
       "\n",
       "    .dataframe tbody tr th {\n",
       "        vertical-align: top;\n",
       "    }\n",
       "\n",
       "    .dataframe thead th {\n",
       "        text-align: right;\n",
       "    }\n",
       "</style>\n",
       "<table border=\"1\" class=\"dataframe\">\n",
       "  <thead>\n",
       "    <tr style=\"text-align: right;\">\n",
       "      <th></th>\n",
       "      <th>Industry</th>\n",
       "      <th>2009</th>\n",
       "      <th>2010</th>\n",
       "      <th>2011</th>\n",
       "      <th>2012</th>\n",
       "      <th>2013</th>\n",
       "      <th>2014</th>\n",
       "      <th>2015</th>\n",
       "      <th>2016</th>\n",
       "      <th>2017</th>\n",
       "      <th>2018</th>\n",
       "    </tr>\n",
       "  </thead>\n",
       "  <tbody>\n",
       "    <tr>\n",
       "      <th>0</th>\n",
       "      <td>Agriculture</td>\n",
       "      <td>37700</td>\n",
       "      <td>38200</td>\n",
       "      <td>36100</td>\n",
       "      <td>36100</td>\n",
       "      <td>36800</td>\n",
       "      <td>42700</td>\n",
       "      <td>40700</td>\n",
       "      <td>43200</td>\n",
       "      <td>40200</td>\n",
       "      <td>41100</td>\n",
       "    </tr>\n",
       "    <tr>\n",
       "      <th>1</th>\n",
       "      <td>Production</td>\n",
       "      <td>156700</td>\n",
       "      <td>149800</td>\n",
       "      <td>158600</td>\n",
       "      <td>154400</td>\n",
       "      <td>164200</td>\n",
       "      <td>173300</td>\n",
       "      <td>172300</td>\n",
       "      <td>162500</td>\n",
       "      <td>165100</td>\n",
       "      <td>165700</td>\n",
       "    </tr>\n",
       "    <tr>\n",
       "      <th>2</th>\n",
       "      <td>Construction</td>\n",
       "      <td>96600</td>\n",
       "      <td>93200</td>\n",
       "      <td>90000</td>\n",
       "      <td>91300</td>\n",
       "      <td>89300</td>\n",
       "      <td>97000</td>\n",
       "      <td>92600</td>\n",
       "      <td>102700</td>\n",
       "      <td>90800</td>\n",
       "      <td>101800</td>\n",
       "    </tr>\n",
       "    <tr>\n",
       "      <th>3</th>\n",
       "      <td>Retail</td>\n",
       "      <td>345400</td>\n",
       "      <td>344500</td>\n",
       "      <td>343100</td>\n",
       "      <td>347300</td>\n",
       "      <td>345100</td>\n",
       "      <td>337300</td>\n",
       "      <td>357700</td>\n",
       "      <td>360200</td>\n",
       "      <td>333500</td>\n",
       "      <td>347600</td>\n",
       "    </tr>\n",
       "    <tr>\n",
       "      <th>4</th>\n",
       "      <td>ICT</td>\n",
       "      <td>27800</td>\n",
       "      <td>27900</td>\n",
       "      <td>26400</td>\n",
       "      <td>27200</td>\n",
       "      <td>26900</td>\n",
       "      <td>35700</td>\n",
       "      <td>24000</td>\n",
       "      <td>34400</td>\n",
       "      <td>58900</td>\n",
       "      <td>31500</td>\n",
       "    </tr>\n",
       "    <tr>\n",
       "      <th>5</th>\n",
       "      <td>Finance</td>\n",
       "      <td>33800</td>\n",
       "      <td>29800</td>\n",
       "      <td>33200</td>\n",
       "      <td>31100</td>\n",
       "      <td>32400</td>\n",
       "      <td>32400</td>\n",
       "      <td>30800</td>\n",
       "      <td>31000</td>\n",
       "      <td>32100</td>\n",
       "      <td>35500</td>\n",
       "    </tr>\n",
       "    <tr>\n",
       "      <th>6</th>\n",
       "      <td>Real_Estate</td>\n",
       "      <td>13500</td>\n",
       "      <td>14600</td>\n",
       "      <td>17600</td>\n",
       "      <td>18800</td>\n",
       "      <td>18000</td>\n",
       "      <td>22200</td>\n",
       "      <td>19100</td>\n",
       "      <td>22700</td>\n",
       "      <td>18200</td>\n",
       "      <td>25200</td>\n",
       "    </tr>\n",
       "    <tr>\n",
       "      <th>7</th>\n",
       "      <td>Professional_Service</td>\n",
       "      <td>144800</td>\n",
       "      <td>145800</td>\n",
       "      <td>143600</td>\n",
       "      <td>137300</td>\n",
       "      <td>149900</td>\n",
       "      <td>152900</td>\n",
       "      <td>166200</td>\n",
       "      <td>161200</td>\n",
       "      <td>176400</td>\n",
       "      <td>187100</td>\n",
       "    </tr>\n",
       "    <tr>\n",
       "      <th>8</th>\n",
       "      <td>Public_Adminstration</td>\n",
       "      <td>415600</td>\n",
       "      <td>418600</td>\n",
       "      <td>425600</td>\n",
       "      <td>421000</td>\n",
       "      <td>427000</td>\n",
       "      <td>427600</td>\n",
       "      <td>423200</td>\n",
       "      <td>418500</td>\n",
       "      <td>424500</td>\n",
       "      <td>434900</td>\n",
       "    </tr>\n",
       "    <tr>\n",
       "      <th>9</th>\n",
       "      <td>Other_Service</td>\n",
       "      <td>64200</td>\n",
       "      <td>68000</td>\n",
       "      <td>72400</td>\n",
       "      <td>72800</td>\n",
       "      <td>75500</td>\n",
       "      <td>73300</td>\n",
       "      <td>77200</td>\n",
       "      <td>72400</td>\n",
       "      <td>83200</td>\n",
       "      <td>81800</td>\n",
       "    </tr>\n",
       "  </tbody>\n",
       "</table>\n",
       "</div>"
      ],
      "text/plain": [
       "                Industry    2009    2010    2011    2012    2013    2014  \\\n",
       "0            Agriculture   37700   38200   36100   36100   36800   42700   \n",
       "1             Production  156700  149800  158600  154400  164200  173300   \n",
       "2           Construction   96600   93200   90000   91300   89300   97000   \n",
       "3                 Retail  345400  344500  343100  347300  345100  337300   \n",
       "4                    ICT   27800   27900   26400   27200   26900   35700   \n",
       "5                Finance   33800   29800   33200   31100   32400   32400   \n",
       "6            Real_Estate   13500   14600   17600   18800   18000   22200   \n",
       "7   Professional_Service  144800  145800  143600  137300  149900  152900   \n",
       "8  Public_Adminstration   415600  418600  425600  421000  427000  427600   \n",
       "9          Other_Service   64200   68000   72400   72800   75500   73300   \n",
       "\n",
       "     2015    2016    2017    2018  \n",
       "0   40700   43200   40200   41100  \n",
       "1  172300  162500  165100  165700  \n",
       "2   92600  102700   90800  101800  \n",
       "3  357700  360200  333500  347600  \n",
       "4   24000   34400   58900   31500  \n",
       "5   30800   31000   32100   35500  \n",
       "6   19100   22700   18200   25200  \n",
       "7  166200  161200  176400  187100  \n",
       "8  423200  418500  424500  434900  \n",
       "9   77200   72400   83200   81800  "
      ]
     },
     "execution_count": 6,
     "metadata": {},
     "output_type": "execute_result"
    },
    {
     "data": {
      "application/javascript": [
       "\n",
       "            setTimeout(function() {\n",
       "                var nbb_cell_id = 6;\n",
       "                var nbb_unformatted_code = \"industries_ = [\\n    \\\"Agriculture\\\",\\n    \\\"Production\\\",\\n    \\\"Construction\\\",\\n    \\\"Retail\\\",\\n    \\\"ICT\\\",\\n    \\\"Finance\\\",\\n    \\\"Real_Estate\\\",\\n    \\\"Professional_Service\\\",\\n    \\\"Public_Adminstration \\\",\\n    \\\"Other_Service\\\",\\n]\\ndataframe[\\\"Industry\\\"] = industries_\\ndataframe.set_index(\\\"Industry\\\", inplace=True)\\ndataframe.to_csv(\\\"employment_data.csv\\\")\\ndataframe = pd.read_csv(\\\"employment_data.csv\\\")\\ndataframe\";\n",
       "                var nbb_formatted_code = \"industries_ = [\\n    \\\"Agriculture\\\",\\n    \\\"Production\\\",\\n    \\\"Construction\\\",\\n    \\\"Retail\\\",\\n    \\\"ICT\\\",\\n    \\\"Finance\\\",\\n    \\\"Real_Estate\\\",\\n    \\\"Professional_Service\\\",\\n    \\\"Public_Adminstration \\\",\\n    \\\"Other_Service\\\",\\n]\\ndataframe[\\\"Industry\\\"] = industries_\\ndataframe.set_index(\\\"Industry\\\", inplace=True)\\ndataframe.to_csv(\\\"employment_data.csv\\\")\\ndataframe = pd.read_csv(\\\"employment_data.csv\\\")\\ndataframe\";\n",
       "                var nbb_cells = Jupyter.notebook.get_cells();\n",
       "                for (var i = 0; i < nbb_cells.length; ++i) {\n",
       "                    if (nbb_cells[i].input_prompt_number == nbb_cell_id) {\n",
       "                        if (nbb_cells[i].get_text() == nbb_unformatted_code) {\n",
       "                             nbb_cells[i].set_text(nbb_formatted_code);\n",
       "                        }\n",
       "                        break;\n",
       "                    }\n",
       "                }\n",
       "            }, 500);\n",
       "            "
      ],
      "text/plain": [
       "<IPython.core.display.Javascript object>"
      ]
     },
     "metadata": {},
     "output_type": "display_data"
    }
   ],
   "source": [
    "industries_ = [\n",
    "    \"Agriculture\",\n",
    "    \"Production\",\n",
    "    \"Construction\",\n",
    "    \"Retail\",\n",
    "    \"ICT\",\n",
    "    \"Finance\",\n",
    "    \"Real_Estate\",\n",
    "    \"Professional_Service\",\n",
    "    \"Public_Adminstration \",\n",
    "    \"Other_Service\",\n",
    "]\n",
    "dataframe[\"Industry\"] = industries_\n",
    "dataframe.set_index(\"Industry\", inplace=True)\n",
    "dataframe.to_csv(\"employment_data.csv\")\n",
    "dataframe = pd.read_csv(\"employment_data.csv\")\n",
    "dataframe"
   ]
  },
  {
   "cell_type": "markdown",
   "metadata": {},
   "source": [
    "We now have a clean data frame. Next we want to check if there's any null values in the dataset. If any null values are found we will replace it with mean values."
   ]
  },
  {
   "cell_type": "code",
   "execution_count": 7,
   "metadata": {},
   "outputs": [
    {
     "data": {
      "text/html": [
       "<div>\n",
       "<style scoped>\n",
       "    .dataframe tbody tr th:only-of-type {\n",
       "        vertical-align: middle;\n",
       "    }\n",
       "\n",
       "    .dataframe tbody tr th {\n",
       "        vertical-align: top;\n",
       "    }\n",
       "\n",
       "    .dataframe thead th {\n",
       "        text-align: right;\n",
       "    }\n",
       "</style>\n",
       "<table border=\"1\" class=\"dataframe\">\n",
       "  <thead>\n",
       "    <tr style=\"text-align: right;\">\n",
       "      <th></th>\n",
       "      <th>Industry</th>\n",
       "      <th>2009</th>\n",
       "      <th>2010</th>\n",
       "      <th>2011</th>\n",
       "      <th>2012</th>\n",
       "      <th>2013</th>\n",
       "      <th>2014</th>\n",
       "      <th>2015</th>\n",
       "      <th>2016</th>\n",
       "      <th>2017</th>\n",
       "      <th>2018</th>\n",
       "    </tr>\n",
       "  </thead>\n",
       "  <tbody>\n",
       "    <tr>\n",
       "      <th>0</th>\n",
       "      <td>False</td>\n",
       "      <td>False</td>\n",
       "      <td>False</td>\n",
       "      <td>False</td>\n",
       "      <td>False</td>\n",
       "      <td>False</td>\n",
       "      <td>False</td>\n",
       "      <td>False</td>\n",
       "      <td>False</td>\n",
       "      <td>False</td>\n",
       "      <td>False</td>\n",
       "    </tr>\n",
       "    <tr>\n",
       "      <th>1</th>\n",
       "      <td>False</td>\n",
       "      <td>False</td>\n",
       "      <td>False</td>\n",
       "      <td>False</td>\n",
       "      <td>False</td>\n",
       "      <td>False</td>\n",
       "      <td>False</td>\n",
       "      <td>False</td>\n",
       "      <td>False</td>\n",
       "      <td>False</td>\n",
       "      <td>False</td>\n",
       "    </tr>\n",
       "    <tr>\n",
       "      <th>2</th>\n",
       "      <td>False</td>\n",
       "      <td>False</td>\n",
       "      <td>False</td>\n",
       "      <td>False</td>\n",
       "      <td>False</td>\n",
       "      <td>False</td>\n",
       "      <td>False</td>\n",
       "      <td>False</td>\n",
       "      <td>False</td>\n",
       "      <td>False</td>\n",
       "      <td>False</td>\n",
       "    </tr>\n",
       "    <tr>\n",
       "      <th>3</th>\n",
       "      <td>False</td>\n",
       "      <td>False</td>\n",
       "      <td>False</td>\n",
       "      <td>False</td>\n",
       "      <td>False</td>\n",
       "      <td>False</td>\n",
       "      <td>False</td>\n",
       "      <td>False</td>\n",
       "      <td>False</td>\n",
       "      <td>False</td>\n",
       "      <td>False</td>\n",
       "    </tr>\n",
       "    <tr>\n",
       "      <th>4</th>\n",
       "      <td>False</td>\n",
       "      <td>False</td>\n",
       "      <td>False</td>\n",
       "      <td>False</td>\n",
       "      <td>False</td>\n",
       "      <td>False</td>\n",
       "      <td>False</td>\n",
       "      <td>False</td>\n",
       "      <td>False</td>\n",
       "      <td>False</td>\n",
       "      <td>False</td>\n",
       "    </tr>\n",
       "    <tr>\n",
       "      <th>5</th>\n",
       "      <td>False</td>\n",
       "      <td>False</td>\n",
       "      <td>False</td>\n",
       "      <td>False</td>\n",
       "      <td>False</td>\n",
       "      <td>False</td>\n",
       "      <td>False</td>\n",
       "      <td>False</td>\n",
       "      <td>False</td>\n",
       "      <td>False</td>\n",
       "      <td>False</td>\n",
       "    </tr>\n",
       "    <tr>\n",
       "      <th>6</th>\n",
       "      <td>False</td>\n",
       "      <td>False</td>\n",
       "      <td>False</td>\n",
       "      <td>False</td>\n",
       "      <td>False</td>\n",
       "      <td>False</td>\n",
       "      <td>False</td>\n",
       "      <td>False</td>\n",
       "      <td>False</td>\n",
       "      <td>False</td>\n",
       "      <td>False</td>\n",
       "    </tr>\n",
       "    <tr>\n",
       "      <th>7</th>\n",
       "      <td>False</td>\n",
       "      <td>False</td>\n",
       "      <td>False</td>\n",
       "      <td>False</td>\n",
       "      <td>False</td>\n",
       "      <td>False</td>\n",
       "      <td>False</td>\n",
       "      <td>False</td>\n",
       "      <td>False</td>\n",
       "      <td>False</td>\n",
       "      <td>False</td>\n",
       "    </tr>\n",
       "    <tr>\n",
       "      <th>8</th>\n",
       "      <td>False</td>\n",
       "      <td>False</td>\n",
       "      <td>False</td>\n",
       "      <td>False</td>\n",
       "      <td>False</td>\n",
       "      <td>False</td>\n",
       "      <td>False</td>\n",
       "      <td>False</td>\n",
       "      <td>False</td>\n",
       "      <td>False</td>\n",
       "      <td>False</td>\n",
       "    </tr>\n",
       "    <tr>\n",
       "      <th>9</th>\n",
       "      <td>False</td>\n",
       "      <td>False</td>\n",
       "      <td>False</td>\n",
       "      <td>False</td>\n",
       "      <td>False</td>\n",
       "      <td>False</td>\n",
       "      <td>False</td>\n",
       "      <td>False</td>\n",
       "      <td>False</td>\n",
       "      <td>False</td>\n",
       "      <td>False</td>\n",
       "    </tr>\n",
       "  </tbody>\n",
       "</table>\n",
       "</div>"
      ],
      "text/plain": [
       "   Industry   2009   2010   2011   2012   2013   2014   2015   2016   2017  \\\n",
       "0     False  False  False  False  False  False  False  False  False  False   \n",
       "1     False  False  False  False  False  False  False  False  False  False   \n",
       "2     False  False  False  False  False  False  False  False  False  False   \n",
       "3     False  False  False  False  False  False  False  False  False  False   \n",
       "4     False  False  False  False  False  False  False  False  False  False   \n",
       "5     False  False  False  False  False  False  False  False  False  False   \n",
       "6     False  False  False  False  False  False  False  False  False  False   \n",
       "7     False  False  False  False  False  False  False  False  False  False   \n",
       "8     False  False  False  False  False  False  False  False  False  False   \n",
       "9     False  False  False  False  False  False  False  False  False  False   \n",
       "\n",
       "    2018  \n",
       "0  False  \n",
       "1  False  \n",
       "2  False  \n",
       "3  False  \n",
       "4  False  \n",
       "5  False  \n",
       "6  False  \n",
       "7  False  \n",
       "8  False  \n",
       "9  False  "
      ]
     },
     "execution_count": 7,
     "metadata": {},
     "output_type": "execute_result"
    },
    {
     "data": {
      "application/javascript": [
       "\n",
       "            setTimeout(function() {\n",
       "                var nbb_cell_id = 7;\n",
       "                var nbb_unformatted_code = \"data = dataframe.copy()\\ndata.isnull()\";\n",
       "                var nbb_formatted_code = \"data = dataframe.copy()\\ndata.isnull()\";\n",
       "                var nbb_cells = Jupyter.notebook.get_cells();\n",
       "                for (var i = 0; i < nbb_cells.length; ++i) {\n",
       "                    if (nbb_cells[i].input_prompt_number == nbb_cell_id) {\n",
       "                        if (nbb_cells[i].get_text() == nbb_unformatted_code) {\n",
       "                             nbb_cells[i].set_text(nbb_formatted_code);\n",
       "                        }\n",
       "                        break;\n",
       "                    }\n",
       "                }\n",
       "            }, 500);\n",
       "            "
      ],
      "text/plain": [
       "<IPython.core.display.Javascript object>"
      ]
     },
     "metadata": {},
     "output_type": "display_data"
    }
   ],
   "source": [
    "data = dataframe.copy()\n",
    "data.isnull()"
   ]
  },
  {
   "cell_type": "markdown",
   "metadata": {},
   "source": [
    "There's no null values in dataset. Next we will check for ouliers in the dataset and if there's any outlier we will replace it with mean values. To find outliers we will calculate **zscore** in the dataset. Generally, if **zscore** is less then **-3** or bigger then **+3** then it is taken as an outlier. "
   ]
  },
  {
   "cell_type": "code",
   "execution_count": 8,
   "metadata": {},
   "outputs": [
    {
     "data": {
      "text/plain": [
       "(array([], dtype=int64), array([], dtype=int64))"
      ]
     },
     "execution_count": 8,
     "metadata": {},
     "output_type": "execute_result"
    },
    {
     "data": {
      "application/javascript": [
       "\n",
       "            setTimeout(function() {\n",
       "                var nbb_cell_id = 8;\n",
       "                var nbb_unformatted_code = \"z_score = np.abs(stats.zscore(data.drop(\\\"Industry\\\", axis=1)))\\nnp.where(z_score > 3)\";\n",
       "                var nbb_formatted_code = \"z_score = np.abs(stats.zscore(data.drop(\\\"Industry\\\", axis=1)))\\nnp.where(z_score > 3)\";\n",
       "                var nbb_cells = Jupyter.notebook.get_cells();\n",
       "                for (var i = 0; i < nbb_cells.length; ++i) {\n",
       "                    if (nbb_cells[i].input_prompt_number == nbb_cell_id) {\n",
       "                        if (nbb_cells[i].get_text() == nbb_unformatted_code) {\n",
       "                             nbb_cells[i].set_text(nbb_formatted_code);\n",
       "                        }\n",
       "                        break;\n",
       "                    }\n",
       "                }\n",
       "            }, 500);\n",
       "            "
      ],
      "text/plain": [
       "<IPython.core.display.Javascript object>"
      ]
     },
     "metadata": {},
     "output_type": "display_data"
    }
   ],
   "source": [
    "z_score = np.abs(stats.zscore(data.drop(\"Industry\", axis=1)))\n",
    "np.where(z_score > 3)"
   ]
  },
  {
   "cell_type": "markdown",
   "metadata": {},
   "source": [
    "We can see that there's no oulier as well in the dataset."
   ]
  },
  {
   "cell_type": "markdown",
   "metadata": {},
   "source": [
    "# Data Analysis"
   ]
  },
  {
   "cell_type": "markdown",
   "metadata": {},
   "source": [
    "In this section, we will do some data analysis to answer some questions from the data. First, we want to know about **which industry employed highest and lowest workers over the period**.\n",
    "\n",
    "To do this we take sum over all years for every industry data and make a new column called total employee in the dataframe."
   ]
  },
  {
   "cell_type": "code",
   "execution_count": 9,
   "metadata": {},
   "outputs": [
    {
     "data": {
      "text/html": [
       "<div>\n",
       "<style scoped>\n",
       "    .dataframe tbody tr th:only-of-type {\n",
       "        vertical-align: middle;\n",
       "    }\n",
       "\n",
       "    .dataframe tbody tr th {\n",
       "        vertical-align: top;\n",
       "    }\n",
       "\n",
       "    .dataframe thead th {\n",
       "        text-align: right;\n",
       "    }\n",
       "</style>\n",
       "<table border=\"1\" class=\"dataframe\">\n",
       "  <thead>\n",
       "    <tr style=\"text-align: right;\">\n",
       "      <th></th>\n",
       "      <th>Industry</th>\n",
       "      <th>2009</th>\n",
       "      <th>2010</th>\n",
       "      <th>2011</th>\n",
       "      <th>2012</th>\n",
       "      <th>2013</th>\n",
       "      <th>2014</th>\n",
       "      <th>2015</th>\n",
       "      <th>2016</th>\n",
       "      <th>2017</th>\n",
       "      <th>2018</th>\n",
       "      <th>Total employee</th>\n",
       "    </tr>\n",
       "  </thead>\n",
       "  <tbody>\n",
       "    <tr>\n",
       "      <th>0</th>\n",
       "      <td>Agriculture</td>\n",
       "      <td>37700</td>\n",
       "      <td>38200</td>\n",
       "      <td>36100</td>\n",
       "      <td>36100</td>\n",
       "      <td>36800</td>\n",
       "      <td>42700</td>\n",
       "      <td>40700</td>\n",
       "      <td>43200</td>\n",
       "      <td>40200</td>\n",
       "      <td>41100</td>\n",
       "      <td>392800.0</td>\n",
       "    </tr>\n",
       "    <tr>\n",
       "      <th>1</th>\n",
       "      <td>Production</td>\n",
       "      <td>156700</td>\n",
       "      <td>149800</td>\n",
       "      <td>158600</td>\n",
       "      <td>154400</td>\n",
       "      <td>164200</td>\n",
       "      <td>173300</td>\n",
       "      <td>172300</td>\n",
       "      <td>162500</td>\n",
       "      <td>165100</td>\n",
       "      <td>165700</td>\n",
       "      <td>1622600.0</td>\n",
       "    </tr>\n",
       "    <tr>\n",
       "      <th>2</th>\n",
       "      <td>Construction</td>\n",
       "      <td>96600</td>\n",
       "      <td>93200</td>\n",
       "      <td>90000</td>\n",
       "      <td>91300</td>\n",
       "      <td>89300</td>\n",
       "      <td>97000</td>\n",
       "      <td>92600</td>\n",
       "      <td>102700</td>\n",
       "      <td>90800</td>\n",
       "      <td>101800</td>\n",
       "      <td>945300.0</td>\n",
       "    </tr>\n",
       "    <tr>\n",
       "      <th>3</th>\n",
       "      <td>Retail</td>\n",
       "      <td>345400</td>\n",
       "      <td>344500</td>\n",
       "      <td>343100</td>\n",
       "      <td>347300</td>\n",
       "      <td>345100</td>\n",
       "      <td>337300</td>\n",
       "      <td>357700</td>\n",
       "      <td>360200</td>\n",
       "      <td>333500</td>\n",
       "      <td>347600</td>\n",
       "      <td>3461700.0</td>\n",
       "    </tr>\n",
       "    <tr>\n",
       "      <th>4</th>\n",
       "      <td>ICT</td>\n",
       "      <td>27800</td>\n",
       "      <td>27900</td>\n",
       "      <td>26400</td>\n",
       "      <td>27200</td>\n",
       "      <td>26900</td>\n",
       "      <td>35700</td>\n",
       "      <td>24000</td>\n",
       "      <td>34400</td>\n",
       "      <td>58900</td>\n",
       "      <td>31500</td>\n",
       "      <td>320700.0</td>\n",
       "    </tr>\n",
       "    <tr>\n",
       "      <th>5</th>\n",
       "      <td>Finance</td>\n",
       "      <td>33800</td>\n",
       "      <td>29800</td>\n",
       "      <td>33200</td>\n",
       "      <td>31100</td>\n",
       "      <td>32400</td>\n",
       "      <td>32400</td>\n",
       "      <td>30800</td>\n",
       "      <td>31000</td>\n",
       "      <td>32100</td>\n",
       "      <td>35500</td>\n",
       "      <td>322100.0</td>\n",
       "    </tr>\n",
       "    <tr>\n",
       "      <th>6</th>\n",
       "      <td>Real_Estate</td>\n",
       "      <td>13500</td>\n",
       "      <td>14600</td>\n",
       "      <td>17600</td>\n",
       "      <td>18800</td>\n",
       "      <td>18000</td>\n",
       "      <td>22200</td>\n",
       "      <td>19100</td>\n",
       "      <td>22700</td>\n",
       "      <td>18200</td>\n",
       "      <td>25200</td>\n",
       "      <td>189900.0</td>\n",
       "    </tr>\n",
       "    <tr>\n",
       "      <th>7</th>\n",
       "      <td>Professional_Service</td>\n",
       "      <td>144800</td>\n",
       "      <td>145800</td>\n",
       "      <td>143600</td>\n",
       "      <td>137300</td>\n",
       "      <td>149900</td>\n",
       "      <td>152900</td>\n",
       "      <td>166200</td>\n",
       "      <td>161200</td>\n",
       "      <td>176400</td>\n",
       "      <td>187100</td>\n",
       "      <td>1565200.0</td>\n",
       "    </tr>\n",
       "    <tr>\n",
       "      <th>8</th>\n",
       "      <td>Public_Adminstration</td>\n",
       "      <td>415600</td>\n",
       "      <td>418600</td>\n",
       "      <td>425600</td>\n",
       "      <td>421000</td>\n",
       "      <td>427000</td>\n",
       "      <td>427600</td>\n",
       "      <td>423200</td>\n",
       "      <td>418500</td>\n",
       "      <td>424500</td>\n",
       "      <td>434900</td>\n",
       "      <td>4236500.0</td>\n",
       "    </tr>\n",
       "    <tr>\n",
       "      <th>9</th>\n",
       "      <td>Other_Service</td>\n",
       "      <td>64200</td>\n",
       "      <td>68000</td>\n",
       "      <td>72400</td>\n",
       "      <td>72800</td>\n",
       "      <td>75500</td>\n",
       "      <td>73300</td>\n",
       "      <td>77200</td>\n",
       "      <td>72400</td>\n",
       "      <td>83200</td>\n",
       "      <td>81800</td>\n",
       "      <td>740800.0</td>\n",
       "    </tr>\n",
       "  </tbody>\n",
       "</table>\n",
       "</div>"
      ],
      "text/plain": [
       "                Industry    2009    2010    2011    2012    2013    2014  \\\n",
       "0            Agriculture   37700   38200   36100   36100   36800   42700   \n",
       "1             Production  156700  149800  158600  154400  164200  173300   \n",
       "2           Construction   96600   93200   90000   91300   89300   97000   \n",
       "3                 Retail  345400  344500  343100  347300  345100  337300   \n",
       "4                    ICT   27800   27900   26400   27200   26900   35700   \n",
       "5                Finance   33800   29800   33200   31100   32400   32400   \n",
       "6            Real_Estate   13500   14600   17600   18800   18000   22200   \n",
       "7   Professional_Service  144800  145800  143600  137300  149900  152900   \n",
       "8  Public_Adminstration   415600  418600  425600  421000  427000  427600   \n",
       "9          Other_Service   64200   68000   72400   72800   75500   73300   \n",
       "\n",
       "     2015    2016    2017    2018  Total employee  \n",
       "0   40700   43200   40200   41100        392800.0  \n",
       "1  172300  162500  165100  165700       1622600.0  \n",
       "2   92600  102700   90800  101800        945300.0  \n",
       "3  357700  360200  333500  347600       3461700.0  \n",
       "4   24000   34400   58900   31500        320700.0  \n",
       "5   30800   31000   32100   35500        322100.0  \n",
       "6   19100   22700   18200   25200        189900.0  \n",
       "7  166200  161200  176400  187100       1565200.0  \n",
       "8  423200  418500  424500  434900       4236500.0  \n",
       "9   77200   72400   83200   81800        740800.0  "
      ]
     },
     "execution_count": 9,
     "metadata": {},
     "output_type": "execute_result"
    },
    {
     "data": {
      "application/javascript": [
       "\n",
       "            setTimeout(function() {\n",
       "                var nbb_cell_id = 9;\n",
       "                var nbb_unformatted_code = \"data = dataframe.copy()\\ndata.set_index(\\\"Industry\\\")\\n\\ntotal_employee = []\\ncolumns = data[\\\"Industry\\\"][:]\\n\\nfor column in columns:\\n    employee = float(data.loc[data[\\\"Industry\\\"] == column].sum(axis=1))\\n    total_employee.append(employee)\\n\\ndata[\\\"Total employee\\\"] = total_employee\\ndata\";\n",
       "                var nbb_formatted_code = \"data = dataframe.copy()\\ndata.set_index(\\\"Industry\\\")\\n\\ntotal_employee = []\\ncolumns = data[\\\"Industry\\\"][:]\\n\\nfor column in columns:\\n    employee = float(data.loc[data[\\\"Industry\\\"] == column].sum(axis=1))\\n    total_employee.append(employee)\\n\\ndata[\\\"Total employee\\\"] = total_employee\\ndata\";\n",
       "                var nbb_cells = Jupyter.notebook.get_cells();\n",
       "                for (var i = 0; i < nbb_cells.length; ++i) {\n",
       "                    if (nbb_cells[i].input_prompt_number == nbb_cell_id) {\n",
       "                        if (nbb_cells[i].get_text() == nbb_unformatted_code) {\n",
       "                             nbb_cells[i].set_text(nbb_formatted_code);\n",
       "                        }\n",
       "                        break;\n",
       "                    }\n",
       "                }\n",
       "            }, 500);\n",
       "            "
      ],
      "text/plain": [
       "<IPython.core.display.Javascript object>"
      ]
     },
     "metadata": {},
     "output_type": "display_data"
    }
   ],
   "source": [
    "data = dataframe.copy()\n",
    "data.set_index(\"Industry\")\n",
    "\n",
    "total_employee = []\n",
    "columns = data[\"Industry\"][:]\n",
    "\n",
    "for column in columns:\n",
    "    employee = float(data.loc[data[\"Industry\"] == column].sum(axis=1))\n",
    "    total_employee.append(employee)\n",
    "\n",
    "data[\"Total employee\"] = total_employee\n",
    "data"
   ]
  },
  {
   "cell_type": "markdown",
   "metadata": {},
   "source": [
    "We have highest and lowest workers for each industry over the period in numbers. We will plot it for visualizations."
   ]
  },
  {
   "cell_type": "code",
   "execution_count": 10,
   "metadata": {},
   "outputs": [
    {
     "data": {
      "image/png": "[encoded data removed]",
      "text/plain": [
       "<Figure size 432x288 with 1 Axes>"
      ]
     },
     "metadata": {
      "needs_background": "light"
     },
     "output_type": "display_data"
    },
    {
     "data": {
      "application/javascript": [
       "\n",
       "            setTimeout(function() {\n",
       "                var nbb_cell_id = 10;\n",
       "                var nbb_unformatted_code = \"data.plot.bar(x=\\\"Industry\\\", y=\\\"Total employee\\\", align=\\\"center\\\", alpha=1)\\nplt.title(\\\"Total employees in each industry\\\")\\nplt.show()\";\n",
       "                var nbb_formatted_code = \"data.plot.bar(x=\\\"Industry\\\", y=\\\"Total employee\\\", align=\\\"center\\\", alpha=1)\\nplt.title(\\\"Total employees in each industry\\\")\\nplt.show()\";\n",
       "                var nbb_cells = Jupyter.notebook.get_cells();\n",
       "                for (var i = 0; i < nbb_cells.length; ++i) {\n",
       "                    if (nbb_cells[i].input_prompt_number == nbb_cell_id) {\n",
       "                        if (nbb_cells[i].get_text() == nbb_unformatted_code) {\n",
       "                             nbb_cells[i].set_text(nbb_formatted_code);\n",
       "                        }\n",
       "                        break;\n",
       "                    }\n",
       "                }\n",
       "            }, 500);\n",
       "            "
      ],
      "text/plain": [
       "<IPython.core.display.Javascript object>"
      ]
     },
     "metadata": {},
     "output_type": "display_data"
    }
   ],
   "source": [
    "data.plot.bar(x=\"Industry\", y=\"Total employee\", align=\"center\", alpha=1)\n",
    "plt.title(\"Total employees in each industry\")\n",
    "plt.show()"
   ]
  },
  {
   "cell_type": "markdown",
   "metadata": {},
   "source": [
    "From the visualization above we can see that **public administration** employed highest followed by **retail,, production, professional service and other service** industries consequently. **Agriculture, ICT, finance, and real estate** employed below **50000** total employees and **real estate** industry employed lowest over the years.\n",
    "\n",
    "Next we want to have a look at the **overall growth** of the industries over the period. We will calculate the percent change over the years in each industry and sum it up to find the **overall growth**."
   ]
  },
  {
   "cell_type": "code",
   "execution_count": 11,
   "metadata": {},
   "outputs": [
    {
     "data": {
      "text/html": [
       "<div>\n",
       "<style scoped>\n",
       "    .dataframe tbody tr th:only-of-type {\n",
       "        vertical-align: middle;\n",
       "    }\n",
       "\n",
       "    .dataframe tbody tr th {\n",
       "        vertical-align: top;\n",
       "    }\n",
       "\n",
       "    .dataframe thead th {\n",
       "        text-align: right;\n",
       "    }\n",
       "</style>\n",
       "<table border=\"1\" class=\"dataframe\">\n",
       "  <thead>\n",
       "    <tr style=\"text-align: right;\">\n",
       "      <th></th>\n",
       "      <th>Industry</th>\n",
       "      <th>2009</th>\n",
       "      <th>2010</th>\n",
       "      <th>2011</th>\n",
       "      <th>2012</th>\n",
       "      <th>2013</th>\n",
       "      <th>2014</th>\n",
       "      <th>2015</th>\n",
       "      <th>2016</th>\n",
       "      <th>2017</th>\n",
       "      <th>2018</th>\n",
       "    </tr>\n",
       "  </thead>\n",
       "  <tbody>\n",
       "    <tr>\n",
       "      <th>0</th>\n",
       "      <td>Agriculture</td>\n",
       "      <td>NaN</td>\n",
       "      <td>0.013263</td>\n",
       "      <td>-0.054974</td>\n",
       "      <td>0.000000</td>\n",
       "      <td>0.019391</td>\n",
       "      <td>0.160326</td>\n",
       "      <td>-0.046838</td>\n",
       "      <td>0.061425</td>\n",
       "      <td>-0.069444</td>\n",
       "      <td>0.022388</td>\n",
       "    </tr>\n",
       "    <tr>\n",
       "      <th>1</th>\n",
       "      <td>Production</td>\n",
       "      <td>NaN</td>\n",
       "      <td>-0.044033</td>\n",
       "      <td>0.058745</td>\n",
       "      <td>-0.026482</td>\n",
       "      <td>0.063472</td>\n",
       "      <td>0.055420</td>\n",
       "      <td>-0.005770</td>\n",
       "      <td>-0.056878</td>\n",
       "      <td>0.016000</td>\n",
       "      <td>0.003634</td>\n",
       "    </tr>\n",
       "    <tr>\n",
       "      <th>2</th>\n",
       "      <td>Construction</td>\n",
       "      <td>NaN</td>\n",
       "      <td>-0.035197</td>\n",
       "      <td>-0.034335</td>\n",
       "      <td>0.014444</td>\n",
       "      <td>-0.021906</td>\n",
       "      <td>0.086226</td>\n",
       "      <td>-0.045361</td>\n",
       "      <td>0.109071</td>\n",
       "      <td>-0.115871</td>\n",
       "      <td>0.121145</td>\n",
       "    </tr>\n",
       "    <tr>\n",
       "      <th>3</th>\n",
       "      <td>Retail</td>\n",
       "      <td>NaN</td>\n",
       "      <td>-0.002606</td>\n",
       "      <td>-0.004064</td>\n",
       "      <td>0.012241</td>\n",
       "      <td>-0.006335</td>\n",
       "      <td>-0.022602</td>\n",
       "      <td>0.060480</td>\n",
       "      <td>0.006989</td>\n",
       "      <td>-0.074125</td>\n",
       "      <td>0.042279</td>\n",
       "    </tr>\n",
       "    <tr>\n",
       "      <th>4</th>\n",
       "      <td>ICT</td>\n",
       "      <td>NaN</td>\n",
       "      <td>0.003597</td>\n",
       "      <td>-0.053763</td>\n",
       "      <td>0.030303</td>\n",
       "      <td>-0.011029</td>\n",
       "      <td>0.327138</td>\n",
       "      <td>-0.327731</td>\n",
       "      <td>0.433333</td>\n",
       "      <td>0.712209</td>\n",
       "      <td>-0.465195</td>\n",
       "    </tr>\n",
       "    <tr>\n",
       "      <th>5</th>\n",
       "      <td>Finance</td>\n",
       "      <td>NaN</td>\n",
       "      <td>-0.118343</td>\n",
       "      <td>0.114094</td>\n",
       "      <td>-0.063253</td>\n",
       "      <td>0.041801</td>\n",
       "      <td>0.000000</td>\n",
       "      <td>-0.049383</td>\n",
       "      <td>0.006494</td>\n",
       "      <td>0.035484</td>\n",
       "      <td>0.105919</td>\n",
       "    </tr>\n",
       "    <tr>\n",
       "      <th>6</th>\n",
       "      <td>Real_Estate</td>\n",
       "      <td>NaN</td>\n",
       "      <td>0.081481</td>\n",
       "      <td>0.205479</td>\n",
       "      <td>0.068182</td>\n",
       "      <td>-0.042553</td>\n",
       "      <td>0.233333</td>\n",
       "      <td>-0.139640</td>\n",
       "      <td>0.188482</td>\n",
       "      <td>-0.198238</td>\n",
       "      <td>0.384615</td>\n",
       "    </tr>\n",
       "    <tr>\n",
       "      <th>7</th>\n",
       "      <td>Professional_Service</td>\n",
       "      <td>NaN</td>\n",
       "      <td>0.006906</td>\n",
       "      <td>-0.015089</td>\n",
       "      <td>-0.043872</td>\n",
       "      <td>0.091770</td>\n",
       "      <td>0.020013</td>\n",
       "      <td>0.086985</td>\n",
       "      <td>-0.030084</td>\n",
       "      <td>0.094293</td>\n",
       "      <td>0.060658</td>\n",
       "    </tr>\n",
       "    <tr>\n",
       "      <th>8</th>\n",
       "      <td>Public_Adminstration</td>\n",
       "      <td>NaN</td>\n",
       "      <td>0.007218</td>\n",
       "      <td>0.016722</td>\n",
       "      <td>-0.010808</td>\n",
       "      <td>0.014252</td>\n",
       "      <td>0.001405</td>\n",
       "      <td>-0.010290</td>\n",
       "      <td>-0.011106</td>\n",
       "      <td>0.014337</td>\n",
       "      <td>0.024499</td>\n",
       "    </tr>\n",
       "    <tr>\n",
       "      <th>9</th>\n",
       "      <td>Other_Service</td>\n",
       "      <td>NaN</td>\n",
       "      <td>0.059190</td>\n",
       "      <td>0.064706</td>\n",
       "      <td>0.005525</td>\n",
       "      <td>0.037088</td>\n",
       "      <td>-0.029139</td>\n",
       "      <td>0.053206</td>\n",
       "      <td>-0.062176</td>\n",
       "      <td>0.149171</td>\n",
       "      <td>-0.016827</td>\n",
       "    </tr>\n",
       "  </tbody>\n",
       "</table>\n",
       "</div>"
      ],
      "text/plain": [
       "                Industry  2009      2010      2011      2012      2013  \\\n",
       "0            Agriculture   NaN  0.013263 -0.054974  0.000000  0.019391   \n",
       "1             Production   NaN -0.044033  0.058745 -0.026482  0.063472   \n",
       "2           Construction   NaN -0.035197 -0.034335  0.014444 -0.021906   \n",
       "3                 Retail   NaN -0.002606 -0.004064  0.012241 -0.006335   \n",
       "4                    ICT   NaN  0.003597 -0.053763  0.030303 -0.011029   \n",
       "5                Finance   NaN -0.118343  0.114094 -0.063253  0.041801   \n",
       "6            Real_Estate   NaN  0.081481  0.205479  0.068182 -0.042553   \n",
       "7   Professional_Service   NaN  0.006906 -0.015089 -0.043872  0.091770   \n",
       "8  Public_Adminstration    NaN  0.007218  0.016722 -0.010808  0.014252   \n",
       "9          Other_Service   NaN  0.059190  0.064706  0.005525  0.037088   \n",
       "\n",
       "       2014      2015      2016      2017      2018  \n",
       "0  0.160326 -0.046838  0.061425 -0.069444  0.022388  \n",
       "1  0.055420 -0.005770 -0.056878  0.016000  0.003634  \n",
       "2  0.086226 -0.045361  0.109071 -0.115871  0.121145  \n",
       "3 -0.022602  0.060480  0.006989 -0.074125  0.042279  \n",
       "4  0.327138 -0.327731  0.433333  0.712209 -0.465195  \n",
       "5  0.000000 -0.049383  0.006494  0.035484  0.105919  \n",
       "6  0.233333 -0.139640  0.188482 -0.198238  0.384615  \n",
       "7  0.020013  0.086985 -0.030084  0.094293  0.060658  \n",
       "8  0.001405 -0.010290 -0.011106  0.014337  0.024499  \n",
       "9 -0.029139  0.053206 -0.062176  0.149171 -0.016827  "
      ]
     },
     "execution_count": 11,
     "metadata": {},
     "output_type": "execute_result"
    },
    {
     "data": {
      "application/javascript": [
       "\n",
       "            setTimeout(function() {\n",
       "                var nbb_cell_id = 11;\n",
       "                var nbb_unformatted_code = \"data = dataframe.copy()\\ndata.set_index(\\\"Industry\\\", inplace=True)\\npctChange = data.pct_change(axis=1)\\npctChange.reset_index(inplace=True)\\npctChange\";\n",
       "                var nbb_formatted_code = \"data = dataframe.copy()\\ndata.set_index(\\\"Industry\\\", inplace=True)\\npctChange = data.pct_change(axis=1)\\npctChange.reset_index(inplace=True)\\npctChange\";\n",
       "                var nbb_cells = Jupyter.notebook.get_cells();\n",
       "                for (var i = 0; i < nbb_cells.length; ++i) {\n",
       "                    if (nbb_cells[i].input_prompt_number == nbb_cell_id) {\n",
       "                        if (nbb_cells[i].get_text() == nbb_unformatted_code) {\n",
       "                             nbb_cells[i].set_text(nbb_formatted_code);\n",
       "                        }\n",
       "                        break;\n",
       "                    }\n",
       "                }\n",
       "            }, 500);\n",
       "            "
      ],
      "text/plain": [
       "<IPython.core.display.Javascript object>"
      ]
     },
     "metadata": {},
     "output_type": "display_data"
    }
   ],
   "source": [
    "data = dataframe.copy()\n",
    "data.set_index(\"Industry\", inplace=True)\n",
    "pctChange = data.pct_change(axis=1)\n",
    "pctChange.reset_index(inplace=True)\n",
    "pctChange"
   ]
  },
  {
   "cell_type": "code",
   "execution_count": 12,
   "metadata": {},
   "outputs": [
    {
     "name": "stdout",
     "output_type": "stream",
     "text": [
      "                Industry  2009      2010      2011      2012      2013  \\\n",
      "0            Agriculture   NaN  0.013263 -0.054974  0.000000  0.019391   \n",
      "1             Production   NaN -0.044033  0.058745 -0.026482  0.063472   \n",
      "2           Construction   NaN -0.035197 -0.034335  0.014444 -0.021906   \n",
      "3                 Retail   NaN -0.002606 -0.004064  0.012241 -0.006335   \n",
      "4                    ICT   NaN  0.003597 -0.053763  0.030303 -0.011029   \n",
      "5                Finance   NaN -0.118343  0.114094 -0.063253  0.041801   \n",
      "6            Real_Estate   NaN  0.081481  0.205479  0.068182 -0.042553   \n",
      "7   Professional_Service   NaN  0.006906 -0.015089 -0.043872  0.091770   \n",
      "8  Public_Adminstration    NaN  0.007218  0.016722 -0.010808  0.014252   \n",
      "9          Other_Service   NaN  0.059190  0.064706  0.005525  0.037088   \n",
      "\n",
      "       2014      2015      2016      2017      2018  Overall Growth  \n",
      "0  0.160326 -0.046838  0.061425 -0.069444  0.022388        0.105536  \n",
      "1  0.055420 -0.005770 -0.056878  0.016000  0.003634        0.064108  \n",
      "2  0.086226 -0.045361  0.109071 -0.115871  0.121145        0.078218  \n",
      "3 -0.022602  0.060480  0.006989 -0.074125  0.042279        0.012258  \n",
      "4  0.327138 -0.327731  0.433333  0.712209 -0.465195        0.648861  \n",
      "5  0.000000 -0.049383  0.006494  0.035484  0.105919        0.072812  \n",
      "6  0.233333 -0.139640  0.188482 -0.198238  0.384615        0.781142  \n",
      "7  0.020013  0.086985 -0.030084  0.094293  0.060658        0.271579  \n",
      "8  0.001405 -0.010290 -0.011106  0.014337  0.024499        0.046230  \n",
      "9 -0.029139  0.053206 -0.062176  0.149171 -0.016827        0.260744  \n"
     ]
    },
    {
     "data": {
      "image/png": "[encoded data removed]",
      "text/plain": [
       "<Figure size 432x288 with 1 Axes>"
      ]
     },
     "metadata": {
      "needs_background": "light"
     },
     "output_type": "display_data"
    },
    {
     "data": {
      "application/javascript": [
       "\n",
       "            setTimeout(function() {\n",
       "                var nbb_cell_id = 12;\n",
       "                var nbb_unformatted_code = \"growth = []\\ncolumns = pctChange[\\\"Industry\\\"][:]\\nfor column in columns:\\n    gr = float(pctChange.loc[pctChange[\\\"Industry\\\"] == column].sum(axis=1))\\n    growth.append(gr)\\npctChange[\\\"Overall Growth\\\"] = growth\\nprint(pctChange)\\npctChange.plot.bar(\\n    x=\\\"Industry\\\",\\n    y=\\\"Overall Growth\\\",\\n    title=\\\"Overall Growth Per Industry\\\",\\n    align=\\\"center\\\",\\n    alpha=1,\\n)\\nplt.show()\";\n",
       "                var nbb_formatted_code = \"growth = []\\ncolumns = pctChange[\\\"Industry\\\"][:]\\nfor column in columns:\\n    gr = float(pctChange.loc[pctChange[\\\"Industry\\\"] == column].sum(axis=1))\\n    growth.append(gr)\\npctChange[\\\"Overall Growth\\\"] = growth\\nprint(pctChange)\\npctChange.plot.bar(\\n    x=\\\"Industry\\\",\\n    y=\\\"Overall Growth\\\",\\n    title=\\\"Overall Growth Per Industry\\\",\\n    align=\\\"center\\\",\\n    alpha=1,\\n)\\nplt.show()\";\n",
       "                var nbb_cells = Jupyter.notebook.get_cells();\n",
       "                for (var i = 0; i < nbb_cells.length; ++i) {\n",
       "                    if (nbb_cells[i].input_prompt_number == nbb_cell_id) {\n",
       "                        if (nbb_cells[i].get_text() == nbb_unformatted_code) {\n",
       "                             nbb_cells[i].set_text(nbb_formatted_code);\n",
       "                        }\n",
       "                        break;\n",
       "                    }\n",
       "                }\n",
       "            }, 500);\n",
       "            "
      ],
      "text/plain": [
       "<IPython.core.display.Javascript object>"
      ]
     },
     "metadata": {},
     "output_type": "display_data"
    }
   ],
   "source": [
    "growth = []\n",
    "columns = pctChange[\"Industry\"][:]\n",
    "for column in columns:\n",
    "    gr = float(pctChange.loc[pctChange[\"Industry\"] == column].sum(axis=1))\n",
    "    growth.append(gr)\n",
    "pctChange[\"Overall Growth\"] = growth\n",
    "print(pctChange)\n",
    "pctChange.plot.bar(\n",
    "    x=\"Industry\",\n",
    "    y=\"Overall Growth\",\n",
    "    title=\"Overall Growth Per Industry\",\n",
    "    align=\"center\",\n",
    "    alpha=1,\n",
    ")\n",
    "plt.show()"
   ]
  },
  {
   "cell_type": "markdown",
   "metadata": {},
   "source": [
    "We can see that even though **real estate** industry employed the lowest employees over the years but this industry is the highest growing industry right after **ICT** industry. The **real estate** and **retal** industries changed **$2.34\\%$** and **$1.95\\%$** respectively.  **Professional service and other service** are the next two industries with the growth rate of **$0.81 \\%$** and **$0.78\\%$** respectively and having **$0.04 \\%$** growth rate the **retail** industry is lowest growing. **Agricluture, construction, finance, production and public administration** have growth rate **$0.32\\%, .23\\%, .22\\%, 0.19\\% $** and **$0.14\\%$** respectively.\n",
    "\n",
    "Now we will look at the specific years and find out the **best and worst performing year in relation to employmnet**. We will take the year wise sum to get the total employment number for a year."
   ]
  },
  {
   "cell_type": "code",
   "execution_count": 13,
   "metadata": {},
   "outputs": [
    {
     "data": {
      "text/plain": [
       "{'2009': 1336100,\n",
       " '2010': 1330400,\n",
       " '2011': 1346600,\n",
       " '2012': 1337300,\n",
       " '2013': 1365100,\n",
       " '2014': 1394400,\n",
       " '2015': 1403800,\n",
       " '2016': 1408800,\n",
       " '2017': 1422900,\n",
       " '2018': 1452200}"
      ]
     },
     "execution_count": 13,
     "metadata": {},
     "output_type": "execute_result"
    },
    {
     "data": {
      "application/javascript": [
       "\n",
       "            setTimeout(function() {\n",
       "                var nbb_cell_id = 13;\n",
       "                var nbb_unformatted_code = \"data = dataframe.copy()\\nemployment_number = [data[year].sum() for year in years_]\\nen_dict = dict(zip(years_, employment_number))\\nen_dict\";\n",
       "                var nbb_formatted_code = \"data = dataframe.copy()\\nemployment_number = [data[year].sum() for year in years_]\\nen_dict = dict(zip(years_, employment_number))\\nen_dict\";\n",
       "                var nbb_cells = Jupyter.notebook.get_cells();\n",
       "                for (var i = 0; i < nbb_cells.length; ++i) {\n",
       "                    if (nbb_cells[i].input_prompt_number == nbb_cell_id) {\n",
       "                        if (nbb_cells[i].get_text() == nbb_unformatted_code) {\n",
       "                             nbb_cells[i].set_text(nbb_formatted_code);\n",
       "                        }\n",
       "                        break;\n",
       "                    }\n",
       "                }\n",
       "            }, 500);\n",
       "            "
      ],
      "text/plain": [
       "<IPython.core.display.Javascript object>"
      ]
     },
     "metadata": {},
     "output_type": "display_data"
    }
   ],
   "source": [
    "data = dataframe.copy()\n",
    "employment_number = [data[year].sum() for year in years_]\n",
    "en_dict = dict(zip(years_, employment_number))\n",
    "en_dict"
   ]
  },
  {
   "cell_type": "code",
   "execution_count": 14,
   "metadata": {},
   "outputs": [
    {
     "data": {
      "image/png": "[encoded data removed]",
      "text/plain": [
       "<Figure size 432x288 with 1 Axes>"
      ]
     },
     "metadata": {
      "needs_background": "light"
     },
     "output_type": "display_data"
    },
    {
     "data": {
      "application/javascript": [
       "\n",
       "            setTimeout(function() {\n",
       "                var nbb_cell_id = 14;\n",
       "                var nbb_unformatted_code = \"plt.plot(years_, employment_number)\\nplt.title(\\\"Employment number in years\\\")\\nplt.xlabel(\\\"Year\\\")\\nplt.ylabel(\\\"Employment\\\")\\nplt.show()\";\n",
       "                var nbb_formatted_code = \"plt.plot(years_, employment_number)\\nplt.title(\\\"Employment number in years\\\")\\nplt.xlabel(\\\"Year\\\")\\nplt.ylabel(\\\"Employment\\\")\\nplt.show()\";\n",
       "                var nbb_cells = Jupyter.notebook.get_cells();\n",
       "                for (var i = 0; i < nbb_cells.length; ++i) {\n",
       "                    if (nbb_cells[i].input_prompt_number == nbb_cell_id) {\n",
       "                        if (nbb_cells[i].get_text() == nbb_unformatted_code) {\n",
       "                             nbb_cells[i].set_text(nbb_formatted_code);\n",
       "                        }\n",
       "                        break;\n",
       "                    }\n",
       "                }\n",
       "            }, 500);\n",
       "            "
      ],
      "text/plain": [
       "<IPython.core.display.Javascript object>"
      ]
     },
     "metadata": {},
     "output_type": "display_data"
    }
   ],
   "source": [
    "plt.plot(years_, employment_number)\n",
    "plt.title(\"Employment number in years\")\n",
    "plt.xlabel(\"Year\")\n",
    "plt.ylabel(\"Employment\")\n",
    "plt.show()"
   ]
  },
  {
   "cell_type": "markdown",
   "metadata": {},
   "source": [
    "We can clearly see that **2010** is the **worst performing year** and **2018** is the **best performing year** over the years in terms of number of employment. The total employment number was increasing and decreasing from 2009 to 2012. But after 2012 the total employment in Wales is increasing every year. The rate of increase was high from 2012 to 2014 and from 2016 to 2018. In the middle from 2014 to 2016 the increase in employment number was moderate."
   ]
  },
  {
   "cell_type": "markdown",
   "metadata": {},
   "source": [
    "# Visual Analysis"
   ]
  },
  {
   "cell_type": "markdown",
   "metadata": {},
   "source": [
    "[Plotly Express](https://plotly.com/python/plotly-express/) is a great tool for creating dynamic visualizations for a dataset. In this section we will create such kind fo dynamic **scatter/bubble plot** showing the change of workforce number over the period using Plotly express. To do this we will make some changes in our dataframe first."
   ]
  },
  {
   "cell_type": "code",
   "execution_count": 15,
   "metadata": {},
   "outputs": [
    {
     "data": {
      "application/javascript": [
       "\n",
       "            setTimeout(function() {\n",
       "                var nbb_cell_id = 15;\n",
       "                var nbb_unformatted_code = \"data = dataframe.copy()\\n\\nyearstacked = []\\nindustries = []\\ncolumn_lst = []\\nk = 0\\n\\nfor i in range(len(industries_)):\\n    for j in range(len(data[\\\"Industry\\\"])):\\n        yearstacked.append(years_[k])\\n        industries.append(industries_[j])\\n    k += 1\\n\\nfor year in years_:\\n    tmp = data[year]\\n    for i in tmp:\\n        column_lst.append(i)\\n\\ntuples = list(zip(yearstacked, industries, column_lst))\\nplotly_dataframe = pd.DataFrame(tuples, columns=[\\\"Years\\\", \\\"Industry\\\", \\\"Employment\\\"])\";\n",
       "                var nbb_formatted_code = \"data = dataframe.copy()\\n\\nyearstacked = []\\nindustries = []\\ncolumn_lst = []\\nk = 0\\n\\nfor i in range(len(industries_)):\\n    for j in range(len(data[\\\"Industry\\\"])):\\n        yearstacked.append(years_[k])\\n        industries.append(industries_[j])\\n    k += 1\\n\\nfor year in years_:\\n    tmp = data[year]\\n    for i in tmp:\\n        column_lst.append(i)\\n\\ntuples = list(zip(yearstacked, industries, column_lst))\\nplotly_dataframe = pd.DataFrame(tuples, columns=[\\\"Years\\\", \\\"Industry\\\", \\\"Employment\\\"])\";\n",
       "                var nbb_cells = Jupyter.notebook.get_cells();\n",
       "                for (var i = 0; i < nbb_cells.length; ++i) {\n",
       "                    if (nbb_cells[i].input_prompt_number == nbb_cell_id) {\n",
       "                        if (nbb_cells[i].get_text() == nbb_unformatted_code) {\n",
       "                             nbb_cells[i].set_text(nbb_formatted_code);\n",
       "                        }\n",
       "                        break;\n",
       "                    }\n",
       "                }\n",
       "            }, 500);\n",
       "            "
      ],
      "text/plain": [
       "<IPython.core.display.Javascript object>"
      ]
     },
     "metadata": {},
     "output_type": "display_data"
    }
   ],
   "source": [
    "data = dataframe.copy()\n",
    "\n",
    "yearstacked = []\n",
    "industries = []\n",
    "column_lst = []\n",
    "k = 0\n",
    "\n",
    "for i in range(len(industries_)):\n",
    "    for j in range(len(data[\"Industry\"])):\n",
    "        yearstacked.append(years_[k])\n",
    "        industries.append(industries_[j])\n",
    "    k += 1\n",
    "\n",
    "for year in years_:\n",
    "    tmp = data[year]\n",
    "    for i in tmp:\n",
    "        column_lst.append(i)\n",
    "\n",
    "tuples = list(zip(yearstacked, industries, column_lst))\n",
    "plotly_dataframe = pd.DataFrame(tuples, columns=[\"Years\", \"Industry\", \"Employment\"])"
   ]
  },
  {
   "cell_type": "code",
   "execution_count": 16,
   "metadata": {},
   "outputs": [
    {
     "data": {
      "application/vnd.plotly.v1+json": {
       "config": {
        "plotlyServerURL": "https://plot.ly"
       },
       "data": [
        {
         "hovertemplate": "Industry=%{x}<br>Years=2009<br>Employment=%{marker.size}<extra></extra>",
         "legendgroup": "Agriculture",
         "marker": {
          "color": "#636efa",
          "size": [
           37700
          ],
          "sizemode": "area",
          "sizeref": 1087.25,
          "symbol": "circle"
         },
         "mode": "markers",
         "name": "Agriculture",
         "showlegend": true,
         "type": "scatter",
         "x": [
          "Agriculture"
         ],
         "xaxis": "x",
         "y": [
          37700
         ],
         "yaxis": "y"
        },
        {
         "hovertemplate": "Industry=%{x}<br>Years=2009<br>Employment=%{marker.size}<extra></extra>",
         "legendgroup": "Production",
         "marker": {
          "color": "#EF553B",
          "size": [
           156700
          ],
          "sizemode": "area",
          "sizeref": 1087.25,
          "symbol": "circle"
         },
         "mode": "markers",
         "name": "Production",
         "showlegend": true,
         "type": "scatter",
         "x": [
          "Production"
         ],
         "xaxis": "x",
         "y": [
          156700
         ],
         "yaxis": "y"
        },
        {
         "hovertemplate": "Industry=%{x}<br>Years=2009<br>Employment=%{marker.size}<extra></extra>",
         "legendgroup": "Construction",
         "marker": {
          "color": "#00cc96",
          "size": [
           96600
          ],
          "sizemode": "area",
          "sizeref": 1087.25,
          "symbol": "circle"
         },
         "mode": "markers",
         "name": "Construction",
         "showlegend": true,
         "type": "scatter",
         "x": [
          "Construction"
         ],
         "xaxis": "x",
         "y": [
          96600
         ],
         "yaxis": "y"
        },
        {
         "hovertemplate": "Industry=%{x}<br>Years=2009<br>Employment=%{marker.size}<extra></extra>",
         "legendgroup": "Retail",
         "marker": {
          "color": "#ab63fa",
          "size": [
           345400
          ],
          "sizemode": "area",
          "sizeref": 1087.25,
          "symbol": "circle"
         },
         "mode": "markers",
         "name": "Retail",
         "showlegend": true,
         "type": "scatter",
         "x": [
          "Retail"
         ],
         "xaxis": "x",
         "y": [
          345400
         ],
         "yaxis": "y"
        },
        {
         "hovertemplate": "Industry=%{x}<br>Years=2009<br>Employment=%{marker.size}<extra></extra>",
         "legendgroup": "ICT",
         "marker": {
          "color": "#FFA15A",
          "size": [
           27800
          ],
          "sizemode": "area",
          "sizeref": 1087.25,
          "symbol": "circle"
         },
         "mode": "markers",
         "name": "ICT",
         "showlegend": true,
         "type": "scatter",
         "x": [
          "ICT"
         ],
         "xaxis": "x",
         "y": [
          27800
         ],
         "yaxis": "y"
        },
        {
         "hovertemplate": "Industry=%{x}<br>Years=2009<br>Employment=%{marker.size}<extra></extra>",
         "legendgroup": "Finance",
         "marker": {
          "color": "#19d3f3",
          "size": [
           33800
          ],
          "sizemode": "area",
          "sizeref": 1087.25,
          "symbol": "circle"
         },
         "mode": "markers",
         "name": "Finance",
         "showlegend": true,
         "type": "scatter",
         "x": [
          "Finance"
         ],
         "xaxis": "x",
         "y": [
          33800
         ],
         "yaxis": "y"
        },
        {
         "hovertemplate": "Industry=%{x}<br>Years=2009<br>Employment=%{marker.size}<extra></extra>",
         "legendgroup": "Real_Estate",
         "marker": {
          "color": "#FF6692",
          "size": [
           13500
          ],
          "sizemode": "area",
          "sizeref": 1087.25,
          "symbol": "circle"
         },
         "mode": "markers",
         "name": "Real_Estate",
         "showlegend": true,
         "type": "scatter",
         "x": [
          "Real_Estate"
         ],
         "xaxis": "x",
         "y": [
          13500
         ],
         "yaxis": "y"
        },
        {
         "hovertemplate": "Industry=%{x}<br>Years=2009<br>Employment=%{marker.size}<extra></extra>",
         "legendgroup": "Professional_Service",
         "marker": {
          "color": "#B6E880",
          "size": [
           144800
          ],
          "sizemode": "area",
          "sizeref": 1087.25,
          "symbol": "circle"
         },
         "mode": "markers",
         "name": "Professional_Service",
         "showlegend": true,
         "type": "scatter",
         "x": [
          "Professional_Service"
         ],
         "xaxis": "x",
         "y": [
          144800
         ],
         "yaxis": "y"
        },
        {
         "hovertemplate": "Industry=%{x}<br>Years=2009<br>Employment=%{marker.size}<extra></extra>",
         "legendgroup": "Public_Adminstration ",
         "marker": {
          "color": "#FF97FF",
          "size": [
           415600
          ],
          "sizemode": "area",
          "sizeref": 1087.25,
          "symbol": "circle"
         },
         "mode": "markers",
         "name": "Public_Adminstration ",
         "showlegend": true,
         "type": "scatter",
         "x": [
          "Public_Adminstration "
         ],
         "xaxis": "x",
         "y": [
          415600
         ],
         "yaxis": "y"
        },
        {
         "hovertemplate": "Industry=%{x}<br>Years=2009<br>Employment=%{marker.size}<extra></extra>",
         "legendgroup": "Other_Service",
         "marker": {
          "color": "#FECB52",
          "size": [
           64200
          ],
          "sizemode": "area",
          "sizeref": 1087.25,
          "symbol": "circle"
         },
         "mode": "markers",
         "name": "Other_Service",
         "showlegend": true,
         "type": "scatter",
         "x": [
          "Other_Service"
         ],
         "xaxis": "x",
         "y": [
          64200
         ],
         "yaxis": "y"
        }
       ],
       "frames": [
        {
         "data": [
          {
           "hovertemplate": "Industry=%{x}<br>Years=2009<br>Employment=%{marker.size}<extra></extra>",
           "legendgroup": "Agriculture",
           "marker": {
            "color": "#636efa",
            "size": [
             37700
            ],
            "sizemode": "area",
            "sizeref": 1087.25,
            "symbol": "circle"
           },
           "mode": "markers",
           "name": "Agriculture",
           "showlegend": true,
           "type": "scatter",
           "x": [
            "Agriculture"
           ],
           "xaxis": "x",
           "y": [
            37700
           ],
           "yaxis": "y"
          },
          {
           "hovertemplate": "Industry=%{x}<br>Years=2009<br>Employment=%{marker.size}<extra></extra>",
           "legendgroup": "Production",
           "marker": {
            "color": "#EF553B",
            "size": [
             156700
            ],
            "sizemode": "area",
            "sizeref": 1087.25,
            "symbol": "circle"
           },
           "mode": "markers",
           "name": "Production",
           "showlegend": true,
           "type": "scatter",
           "x": [
            "Production"
           ],
           "xaxis": "x",
           "y": [
            156700
           ],
           "yaxis": "y"
          },
          {
           "hovertemplate": "Industry=%{x}<br>Years=2009<br>Employment=%{marker.size}<extra></extra>",
           "legendgroup": "Construction",
           "marker": {
            "color": "#00cc96",
            "size": [
             96600
            ],
            "sizemode": "area",
            "sizeref": 1087.25,
            "symbol": "circle"
           },
           "mode": "markers",
           "name": "Construction",
           "showlegend": true,
           "type": "scatter",
           "x": [
            "Construction"
           ],
           "xaxis": "x",
           "y": [
            96600
           ],
           "yaxis": "y"
          },
          {
           "hovertemplate": "Industry=%{x}<br>Years=2009<br>Employment=%{marker.size}<extra></extra>",
           "legendgroup": "Retail",
           "marker": {
            "color": "#ab63fa",
            "size": [
             345400
            ],
            "sizemode": "area",
            "sizeref": 1087.25,
            "symbol": "circle"
           },
           "mode": "markers",
           "name": "Retail",
           "showlegend": true,
           "type": "scatter",
           "x": [
            "Retail"
           ],
           "xaxis": "x",
           "y": [
            345400
           ],
           "yaxis": "y"
          },
          {
           "hovertemplate": "Industry=%{x}<br>Years=2009<br>Employment=%{marker.size}<extra></extra>",
           "legendgroup": "ICT",
           "marker": {
            "color": "#FFA15A",
            "size": [
             27800
            ],
            "sizemode": "area",
            "sizeref": 1087.25,
            "symbol": "circle"
           },
           "mode": "markers",
           "name": "ICT",
           "showlegend": true,
           "type": "scatter",
           "x": [
            "ICT"
           ],
           "xaxis": "x",
           "y": [
            27800
           ],
           "yaxis": "y"
          },
          {
           "hovertemplate": "Industry=%{x}<br>Years=2009<br>Employment=%{marker.size}<extra></extra>",
           "legendgroup": "Finance",
           "marker": {
            "color": "#19d3f3",
            "size": [
             33800
            ],
            "sizemode": "area",
            "sizeref": 1087.25,
            "symbol": "circle"
           },
           "mode": "markers",
           "name": "Finance",
           "showlegend": true,
           "type": "scatter",
           "x": [
            "Finance"
           ],
           "xaxis": "x",
           "y": [
            33800
           ],
           "yaxis": "y"
          },
          {
           "hovertemplate": "Industry=%{x}<br>Years=2009<br>Employment=%{marker.size}<extra></extra>",
           "legendgroup": "Real_Estate",
           "marker": {
            "color": "#FF6692",
            "size": [
             13500
            ],
            "sizemode": "area",
            "sizeref": 1087.25,
            "symbol": "circle"
           },
           "mode": "markers",
           "name": "Real_Estate",
           "showlegend": true,
           "type": "scatter",
           "x": [
            "Real_Estate"
           ],
           "xaxis": "x",
           "y": [
            13500
           ],
           "yaxis": "y"
          },
          {
           "hovertemplate": "Industry=%{x}<br>Years=2009<br>Employment=%{marker.size}<extra></extra>",
           "legendgroup": "Professional_Service",
           "marker": {
            "color": "#B6E880",
            "size": [
             144800
            ],
            "sizemode": "area",
            "sizeref": 1087.25,
            "symbol": "circle"
           },
           "mode": "markers",
           "name": "Professional_Service",
           "showlegend": true,
           "type": "scatter",
           "x": [
            "Professional_Service"
           ],
           "xaxis": "x",
           "y": [
            144800
           ],
           "yaxis": "y"
          },
          {
           "hovertemplate": "Industry=%{x}<br>Years=2009<br>Employment=%{marker.size}<extra></extra>",
           "legendgroup": "Public_Adminstration ",
           "marker": {
            "color": "#FF97FF",
            "size": [
             415600
            ],
            "sizemode": "area",
            "sizeref": 1087.25,
            "symbol": "circle"
           },
           "mode": "markers",
           "name": "Public_Adminstration ",
           "showlegend": true,
           "type": "scatter",
           "x": [
            "Public_Adminstration "
           ],
           "xaxis": "x",
           "y": [
            415600
           ],
           "yaxis": "y"
          },
          {
           "hovertemplate": "Industry=%{x}<br>Years=2009<br>Employment=%{marker.size}<extra></extra>",
           "legendgroup": "Other_Service",
           "marker": {
            "color": "#FECB52",
            "size": [
             64200
            ],
            "sizemode": "area",
            "sizeref": 1087.25,
            "symbol": "circle"
           },
           "mode": "markers",
           "name": "Other_Service",
           "showlegend": true,
           "type": "scatter",
           "x": [
            "Other_Service"
           ],
           "xaxis": "x",
           "y": [
            64200
           ],
           "yaxis": "y"
          }
         ],
         "name": "2009"
        },
        {
         "data": [
          {
           "hovertemplate": "Industry=%{x}<br>Years=2010<br>Employment=%{marker.size}<extra></extra>",
           "legendgroup": "Agriculture",
           "marker": {
            "color": "#636efa",
            "size": [
             38200
            ],
            "sizemode": "area",
            "sizeref": 1087.25,
            "symbol": "circle"
           },
           "mode": "markers",
           "name": "Agriculture",
           "showlegend": true,
           "type": "scatter",
           "x": [
            "Agriculture"
           ],
           "xaxis": "x",
           "y": [
            38200
           ],
           "yaxis": "y"
          },
          {
           "hovertemplate": "Industry=%{x}<br>Years=2010<br>Employment=%{marker.size}<extra></extra>",
           "legendgroup": "Production",
           "marker": {
            "color": "#EF553B",
            "size": [
             149800
            ],
            "sizemode": "area",
            "sizeref": 1087.25,
            "symbol": "circle"
           },
           "mode": "markers",
           "name": "Production",
           "showlegend": true,
           "type": "scatter",
           "x": [
            "Production"
           ],
           "xaxis": "x",
           "y": [
            149800
           ],
           "yaxis": "y"
          },
          {
           "hovertemplate": "Industry=%{x}<br>Years=2010<br>Employment=%{marker.size}<extra></extra>",
           "legendgroup": "Construction",
           "marker": {
            "color": "#00cc96",
            "size": [
             93200
            ],
            "sizemode": "area",
            "sizeref": 1087.25,
            "symbol": "circle"
           },
           "mode": "markers",
           "name": "Construction",
           "showlegend": true,
           "type": "scatter",
           "x": [
            "Construction"
           ],
           "xaxis": "x",
           "y": [
            93200
           ],
           "yaxis": "y"
          },
          {
           "hovertemplate": "Industry=%{x}<br>Years=2010<br>Employment=%{marker.size}<extra></extra>",
           "legendgroup": "Retail",
           "marker": {
            "color": "#ab63fa",
            "size": [
             344500
            ],
            "sizemode": "area",
            "sizeref": 1087.25,
            "symbol": "circle"
           },
           "mode": "markers",
           "name": "Retail",
           "showlegend": true,
           "type": "scatter",
           "x": [
            "Retail"
           ],
           "xaxis": "x",
           "y": [
            344500
           ],
           "yaxis": "y"
          },
          {
           "hovertemplate": "Industry=%{x}<br>Years=2010<br>Employment=%{marker.size}<extra></extra>",
           "legendgroup": "ICT",
           "marker": {
            "color": "#FFA15A",
            "size": [
             27900
            ],
            "sizemode": "area",
            "sizeref": 1087.25,
            "symbol": "circle"
           },
           "mode": "markers",
           "name": "ICT",
           "showlegend": true,
           "type": "scatter",
           "x": [
            "ICT"
           ],
           "xaxis": "x",
           "y": [
            27900
           ],
           "yaxis": "y"
          },
          {
           "hovertemplate": "Industry=%{x}<br>Years=2010<br>Employment=%{marker.size}<extra></extra>",
           "legendgroup": "Finance",
           "marker": {
            "color": "#19d3f3",
            "size": [
             29800
            ],
            "sizemode": "area",
            "sizeref": 1087.25,
            "symbol": "circle"
           },
           "mode": "markers",
           "name": "Finance",
           "showlegend": true,
           "type": "scatter",
           "x": [
            "Finance"
           ],
           "xaxis": "x",
           "y": [
            29800
           ],
           "yaxis": "y"
          },
          {
           "hovertemplate": "Industry=%{x}<br>Years=2010<br>Employment=%{marker.size}<extra></extra>",
           "legendgroup": "Real_Estate",
           "marker": {
            "color": "#FF6692",
            "size": [
             14600
            ],
            "sizemode": "area",
            "sizeref": 1087.25,
            "symbol": "circle"
           },
           "mode": "markers",
           "name": "Real_Estate",
           "showlegend": true,
           "type": "scatter",
           "x": [
            "Real_Estate"
           ],
           "xaxis": "x",
           "y": [
            14600
           ],
           "yaxis": "y"
          },
          {
           "hovertemplate": "Industry=%{x}<br>Years=2010<br>Employment=%{marker.size}<extra></extra>",
           "legendgroup": "Professional_Service",
           "marker": {
            "color": "#B6E880",
            "size": [
             145800
            ],
            "sizemode": "area",
            "sizeref": 1087.25,
            "symbol": "circle"
           },
           "mode": "markers",
           "name": "Professional_Service",
           "showlegend": true,
           "type": "scatter",
           "x": [
            "Professional_Service"
           ],
           "xaxis": "x",
           "y": [
            145800
           ],
           "yaxis": "y"
          },
          {
           "hovertemplate": "Industry=%{x}<br>Years=2010<br>Employment=%{marker.size}<extra></extra>",
           "legendgroup": "Public_Adminstration ",
           "marker": {
            "color": "#FF97FF",
            "size": [
             418600
            ],
            "sizemode": "area",
            "sizeref": 1087.25,
            "symbol": "circle"
           },
           "mode": "markers",
           "name": "Public_Adminstration ",
           "showlegend": true,
           "type": "scatter",
           "x": [
            "Public_Adminstration "
           ],
           "xaxis": "x",
           "y": [
            418600
           ],
           "yaxis": "y"
          },
          {
           "hovertemplate": "Industry=%{x}<br>Years=2010<br>Employment=%{marker.size}<extra></extra>",
           "legendgroup": "Other_Service",
           "marker": {
            "color": "#FECB52",
            "size": [
             68000
            ],
            "sizemode": "area",
            "sizeref": 1087.25,
            "symbol": "circle"
           },
           "mode": "markers",
           "name": "Other_Service",
           "showlegend": true,
           "type": "scatter",
           "x": [
            "Other_Service"
           ],
           "xaxis": "x",
           "y": [
            68000
           ],
           "yaxis": "y"
          }
         ],
         "name": "2010"
        },
        {
         "data": [
          {
           "hovertemplate": "Industry=%{x}<br>Years=2011<br>Employment=%{marker.size}<extra></extra>",
           "legendgroup": "Agriculture",
           "marker": {
            "color": "#636efa",
            "size": [
             36100
            ],
            "sizemode": "area",
            "sizeref": 1087.25,
            "symbol": "circle"
           },
           "mode": "markers",
           "name": "Agriculture",
           "showlegend": true,
           "type": "scatter",
           "x": [
            "Agriculture"
           ],
           "xaxis": "x",
           "y": [
            36100
           ],
           "yaxis": "y"
          },
          {
           "hovertemplate": "Industry=%{x}<br>Years=2011<br>Employment=%{marker.size}<extra></extra>",
           "legendgroup": "Production",
           "marker": {
            "color": "#EF553B",
            "size": [
             158600
            ],
            "sizemode": "area",
            "sizeref": 1087.25,
            "symbol": "circle"
           },
           "mode": "markers",
           "name": "Production",
           "showlegend": true,
           "type": "scatter",
           "x": [
            "Production"
           ],
           "xaxis": "x",
           "y": [
            158600
           ],
           "yaxis": "y"
          },
          {
           "hovertemplate": "Industry=%{x}<br>Years=2011<br>Employment=%{marker.size}<extra></extra>",
           "legendgroup": "Construction",
           "marker": {
            "color": "#00cc96",
            "size": [
             90000
            ],
            "sizemode": "area",
            "sizeref": 1087.25,
            "symbol": "circle"
           },
           "mode": "markers",
           "name": "Construction",
           "showlegend": true,
           "type": "scatter",
           "x": [
            "Construction"
           ],
           "xaxis": "x",
           "y": [
            90000
           ],
           "yaxis": "y"
          },
          {
           "hovertemplate": "Industry=%{x}<br>Years=2011<br>Employment=%{marker.size}<extra></extra>",
           "legendgroup": "Retail",
           "marker": {
            "color": "#ab63fa",
            "size": [
             343100
            ],
            "sizemode": "area",
            "sizeref": 1087.25,
            "symbol": "circle"
           },
           "mode": "markers",
           "name": "Retail",
           "showlegend": true,
           "type": "scatter",
           "x": [
            "Retail"
           ],
           "xaxis": "x",
           "y": [
            343100
           ],
           "yaxis": "y"
          },
          {
           "hovertemplate": "Industry=%{x}<br>Years=2011<br>Employment=%{marker.size}<extra></extra>",
           "legendgroup": "ICT",
           "marker": {
            "color": "#FFA15A",
            "size": [
             26400
            ],
            "sizemode": "area",
            "sizeref": 1087.25,
            "symbol": "circle"
           },
           "mode": "markers",
           "name": "ICT",
           "showlegend": true,
           "type": "scatter",
           "x": [
            "ICT"
           ],
           "xaxis": "x",
           "y": [
            26400
           ],
           "yaxis": "y"
          },
          {
           "hovertemplate": "Industry=%{x}<br>Years=2011<br>Employment=%{marker.size}<extra></extra>",
           "legendgroup": "Finance",
           "marker": {
            "color": "#19d3f3",
            "size": [
             33200
            ],
            "sizemode": "area",
            "sizeref": 1087.25,
            "symbol": "circle"
           },
           "mode": "markers",
           "name": "Finance",
           "showlegend": true,
           "type": "scatter",
           "x": [
            "Finance"
           ],
           "xaxis": "x",
           "y": [
            33200
           ],
           "yaxis": "y"
          },
          {
           "hovertemplate": "Industry=%{x}<br>Years=2011<br>Employment=%{marker.size}<extra></extra>",
           "legendgroup": "Real_Estate",
           "marker": {
            "color": "#FF6692",
            "size": [
             17600
            ],
            "sizemode": "area",
            "sizeref": 1087.25,
            "symbol": "circle"
           },
           "mode": "markers",
           "name": "Real_Estate",
           "showlegend": true,
           "type": "scatter",
           "x": [
            "Real_Estate"
           ],
           "xaxis": "x",
           "y": [
            17600
           ],
           "yaxis": "y"
          },
          {
           "hovertemplate": "Industry=%{x}<br>Years=2011<br>Employment=%{marker.size}<extra></extra>",
           "legendgroup": "Professional_Service",
           "marker": {
            "color": "#B6E880",
            "size": [
             143600
            ],
            "sizemode": "area",
            "sizeref": 1087.25,
            "symbol": "circle"
           },
           "mode": "markers",
           "name": "Professional_Service",
           "showlegend": true,
           "type": "scatter",
           "x": [
            "Professional_Service"
           ],
           "xaxis": "x",
           "y": [
            143600
           ],
           "yaxis": "y"
          },
          {
           "hovertemplate": "Industry=%{x}<br>Years=2011<br>Employment=%{marker.size}<extra></extra>",
           "legendgroup": "Public_Adminstration ",
           "marker": {
            "color": "#FF97FF",
            "size": [
             425600
            ],
            "sizemode": "area",
            "sizeref": 1087.25,
            "symbol": "circle"
           },
           "mode": "markers",
           "name": "Public_Adminstration ",
           "showlegend": true,
           "type": "scatter",
           "x": [
            "Public_Adminstration "
           ],
           "xaxis": "x",
           "y": [
            425600
           ],
           "yaxis": "y"
          },
          {
           "hovertemplate": "Industry=%{x}<br>Years=2011<br>Employment=%{marker.size}<extra></extra>",
           "legendgroup": "Other_Service",
           "marker": {
            "color": "#FECB52",
            "size": [
             72400
            ],
            "sizemode": "area",
            "sizeref": 1087.25,
            "symbol": "circle"
           },
           "mode": "markers",
           "name": "Other_Service",
           "showlegend": true,
           "type": "scatter",
           "x": [
            "Other_Service"
           ],
           "xaxis": "x",
           "y": [
            72400
           ],
           "yaxis": "y"
          }
         ],
         "name": "2011"
        },
        {
         "data": [
          {
           "hovertemplate": "Industry=%{x}<br>Years=2012<br>Employment=%{marker.size}<extra></extra>",
           "legendgroup": "Agriculture",
           "marker": {
            "color": "#636efa",
            "size": [
             36100
            ],
            "sizemode": "area",
            "sizeref": 1087.25,
            "symbol": "circle"
           },
           "mode": "markers",
           "name": "Agriculture",
           "showlegend": true,
           "type": "scatter",
           "x": [
            "Agriculture"
           ],
           "xaxis": "x",
           "y": [
            36100
           ],
           "yaxis": "y"
          },
          {
           "hovertemplate": "Industry=%{x}<br>Years=2012<br>Employment=%{marker.size}<extra></extra>",
           "legendgroup": "Production",
           "marker": {
            "color": "#EF553B",
            "size": [
             154400
            ],
            "sizemode": "area",
            "sizeref": 1087.25,
            "symbol": "circle"
           },
           "mode": "markers",
           "name": "Production",
           "showlegend": true,
           "type": "scatter",
           "x": [
            "Production"
           ],
           "xaxis": "x",
           "y": [
            154400
           ],
           "yaxis": "y"
          },
          {
           "hovertemplate": "Industry=%{x}<br>Years=2012<br>Employment=%{marker.size}<extra></extra>",
           "legendgroup": "Construction",
           "marker": {
            "color": "#00cc96",
            "size": [
             91300
            ],
            "sizemode": "area",
            "sizeref": 1087.25,
            "symbol": "circle"
           },
           "mode": "markers",
           "name": "Construction",
           "showlegend": true,
           "type": "scatter",
           "x": [
            "Construction"
           ],
           "xaxis": "x",
           "y": [
            91300
           ],
           "yaxis": "y"
          },
          {
           "hovertemplate": "Industry=%{x}<br>Years=2012<br>Employment=%{marker.size}<extra></extra>",
           "legendgroup": "Retail",
           "marker": {
            "color": "#ab63fa",
            "size": [
             347300
            ],
            "sizemode": "area",
            "sizeref": 1087.25,
            "symbol": "circle"
           },
           "mode": "markers",
           "name": "Retail",
           "showlegend": true,
           "type": "scatter",
           "x": [
            "Retail"
           ],
           "xaxis": "x",
           "y": [
            347300
           ],
           "yaxis": "y"
          },
          {
           "hovertemplate": "Industry=%{x}<br>Years=2012<br>Employment=%{marker.size}<extra></extra>",
           "legendgroup": "ICT",
           "marker": {
            "color": "#FFA15A",
            "size": [
             27200
            ],
            "sizemode": "area",
            "sizeref": 1087.25,
            "symbol": "circle"
           },
           "mode": "markers",
           "name": "ICT",
           "showlegend": true,
           "type": "scatter",
           "x": [
            "ICT"
           ],
           "xaxis": "x",
           "y": [
            27200
           ],
           "yaxis": "y"
          },
          {
           "hovertemplate": "Industry=%{x}<br>Years=2012<br>Employment=%{marker.size}<extra></extra>",
           "legendgroup": "Finance",
           "marker": {
            "color": "#19d3f3",
            "size": [
             31100
            ],
            "sizemode": "area",
            "sizeref": 1087.25,
            "symbol": "circle"
           },
           "mode": "markers",
           "name": "Finance",
           "showlegend": true,
           "type": "scatter",
           "x": [
            "Finance"
           ],
           "xaxis": "x",
           "y": [
            31100
           ],
           "yaxis": "y"
          },
          {
           "hovertemplate": "Industry=%{x}<br>Years=2012<br>Employment=%{marker.size}<extra></extra>",
           "legendgroup": "Real_Estate",
           "marker": {
            "color": "#FF6692",
            "size": [
             18800
            ],
            "sizemode": "area",
            "sizeref": 1087.25,
            "symbol": "circle"
           },
           "mode": "markers",
           "name": "Real_Estate",
           "showlegend": true,
           "type": "scatter",
           "x": [
            "Real_Estate"
           ],
           "xaxis": "x",
           "y": [
            18800
           ],
           "yaxis": "y"
          },
          {
           "hovertemplate": "Industry=%{x}<br>Years=2012<br>Employment=%{marker.size}<extra></extra>",
           "legendgroup": "Professional_Service",
           "marker": {
            "color": "#B6E880",
            "size": [
             137300
            ],
            "sizemode": "area",
            "sizeref": 1087.25,
            "symbol": "circle"
           },
           "mode": "markers",
           "name": "Professional_Service",
           "showlegend": true,
           "type": "scatter",
           "x": [
            "Professional_Service"
           ],
           "xaxis": "x",
           "y": [
            137300
           ],
           "yaxis": "y"
          },
          {
           "hovertemplate": "Industry=%{x}<br>Years=2012<br>Employment=%{marker.size}<extra></extra>",
           "legendgroup": "Public_Adminstration ",
           "marker": {
            "color": "#FF97FF",
            "size": [
             421000
            ],
            "sizemode": "area",
            "sizeref": 1087.25,
            "symbol": "circle"
           },
           "mode": "markers",
           "name": "Public_Adminstration ",
           "showlegend": true,
           "type": "scatter",
           "x": [
            "Public_Adminstration "
           ],
           "xaxis": "x",
           "y": [
            421000
           ],
           "yaxis": "y"
          },
          {
           "hovertemplate": "Industry=%{x}<br>Years=2012<br>Employment=%{marker.size}<extra></extra>",
           "legendgroup": "Other_Service",
           "marker": {
            "color": "#FECB52",
            "size": [
             72800
            ],
            "sizemode": "area",
            "sizeref": 1087.25,
            "symbol": "circle"
           },
           "mode": "markers",
           "name": "Other_Service",
           "showlegend": true,
           "type": "scatter",
           "x": [
            "Other_Service"
           ],
           "xaxis": "x",
           "y": [
            72800
           ],
           "yaxis": "y"
          }
         ],
         "name": "2012"
        },
        {
         "data": [
          {
           "hovertemplate": "Industry=%{x}<br>Years=2013<br>Employment=%{marker.size}<extra></extra>",
           "legendgroup": "Agriculture",
           "marker": {
            "color": "#636efa",
            "size": [
             36800
            ],
            "sizemode": "area",
            "sizeref": 1087.25,
            "symbol": "circle"
           },
           "mode": "markers",
           "name": "Agriculture",
           "showlegend": true,
           "type": "scatter",
           "x": [
            "Agriculture"
           ],
           "xaxis": "x",
           "y": [
            36800
           ],
           "yaxis": "y"
          },
          {
           "hovertemplate": "Industry=%{x}<br>Years=2013<br>Employment=%{marker.size}<extra></extra>",
           "legendgroup": "Production",
           "marker": {
            "color": "#EF553B",
            "size": [
             164200
            ],
            "sizemode": "area",
            "sizeref": 1087.25,
            "symbol": "circle"
           },
           "mode": "markers",
           "name": "Production",
           "showlegend": true,
           "type": "scatter",
           "x": [
            "Production"
           ],
           "xaxis": "x",
           "y": [
            164200
           ],
           "yaxis": "y"
          },
          {
           "hovertemplate": "Industry=%{x}<br>Years=2013<br>Employment=%{marker.size}<extra></extra>",
           "legendgroup": "Construction",
           "marker": {
            "color": "#00cc96",
            "size": [
             89300
            ],
            "sizemode": "area",
            "sizeref": 1087.25,
            "symbol": "circle"
           },
           "mode": "markers",
           "name": "Construction",
           "showlegend": true,
           "type": "scatter",
           "x": [
            "Construction"
           ],
           "xaxis": "x",
           "y": [
            89300
           ],
           "yaxis": "y"
          },
          {
           "hovertemplate": "Industry=%{x}<br>Years=2013<br>Employment=%{marker.size}<extra></extra>",
           "legendgroup": "Retail",
           "marker": {
            "color": "#ab63fa",
            "size": [
             345100
            ],
            "sizemode": "area",
            "sizeref": 1087.25,
            "symbol": "circle"
           },
           "mode": "markers",
           "name": "Retail",
           "showlegend": true,
           "type": "scatter",
           "x": [
            "Retail"
           ],
           "xaxis": "x",
           "y": [
            345100
           ],
           "yaxis": "y"
          },
          {
           "hovertemplate": "Industry=%{x}<br>Years=2013<br>Employment=%{marker.size}<extra></extra>",
           "legendgroup": "ICT",
           "marker": {
            "color": "#FFA15A",
            "size": [
             26900
            ],
            "sizemode": "area",
            "sizeref": 1087.25,
            "symbol": "circle"
           },
           "mode": "markers",
           "name": "ICT",
           "showlegend": true,
           "type": "scatter",
           "x": [
            "ICT"
           ],
           "xaxis": "x",
           "y": [
            26900
           ],
           "yaxis": "y"
          },
          {
           "hovertemplate": "Industry=%{x}<br>Years=2013<br>Employment=%{marker.size}<extra></extra>",
           "legendgroup": "Finance",
           "marker": {
            "color": "#19d3f3",
            "size": [
             32400
            ],
            "sizemode": "area",
            "sizeref": 1087.25,
            "symbol": "circle"
           },
           "mode": "markers",
           "name": "Finance",
           "showlegend": true,
           "type": "scatter",
           "x": [
            "Finance"
           ],
           "xaxis": "x",
           "y": [
            32400
           ],
           "yaxis": "y"
          },
          {
           "hovertemplate": "Industry=%{x}<br>Years=2013<br>Employment=%{marker.size}<extra></extra>",
           "legendgroup": "Real_Estate",
           "marker": {
            "color": "#FF6692",
            "size": [
             18000
            ],
            "sizemode": "area",
            "sizeref": 1087.25,
            "symbol": "circle"
           },
           "mode": "markers",
           "name": "Real_Estate",
           "showlegend": true,
           "type": "scatter",
           "x": [
            "Real_Estate"
           ],
           "xaxis": "x",
           "y": [
            18000
           ],
           "yaxis": "y"
          },
          {
           "hovertemplate": "Industry=%{x}<br>Years=2013<br>Employment=%{marker.size}<extra></extra>",
           "legendgroup": "Professional_Service",
           "marker": {
            "color": "#B6E880",
            "size": [
             149900
            ],
            "sizemode": "area",
            "sizeref": 1087.25,
            "symbol": "circle"
           },
           "mode": "markers",
           "name": "Professional_Service",
           "showlegend": true,
           "type": "scatter",
           "x": [
            "Professional_Service"
           ],
           "xaxis": "x",
           "y": [
            149900
           ],
           "yaxis": "y"
          },
          {
           "hovertemplate": "Industry=%{x}<br>Years=2013<br>Employment=%{marker.size}<extra></extra>",
           "legendgroup": "Public_Adminstration ",
           "marker": {
            "color": "#FF97FF",
            "size": [
             427000
            ],
            "sizemode": "area",
            "sizeref": 1087.25,
            "symbol": "circle"
           },
           "mode": "markers",
           "name": "Public_Adminstration ",
           "showlegend": true,
           "type": "scatter",
           "x": [
            "Public_Adminstration "
           ],
           "xaxis": "x",
           "y": [
            427000
           ],
           "yaxis": "y"
          },
          {
           "hovertemplate": "Industry=%{x}<br>Years=2013<br>Employment=%{marker.size}<extra></extra>",
           "legendgroup": "Other_Service",
           "marker": {
            "color": "#FECB52",
            "size": [
             75500
            ],
            "sizemode": "area",
            "sizeref": 1087.25,
            "symbol": "circle"
           },
           "mode": "markers",
           "name": "Other_Service",
           "showlegend": true,
           "type": "scatter",
           "x": [
            "Other_Service"
           ],
           "xaxis": "x",
           "y": [
            75500
           ],
           "yaxis": "y"
          }
         ],
         "name": "2013"
        },
        {
         "data": [
          {
           "hovertemplate": "Industry=%{x}<br>Years=2014<br>Employment=%{marker.size}<extra></extra>",
           "legendgroup": "Agriculture",
           "marker": {
            "color": "#636efa",
            "size": [
             42700
            ],
            "sizemode": "area",
            "sizeref": 1087.25,
            "symbol": "circle"
           },
           "mode": "markers",
           "name": "Agriculture",
           "showlegend": true,
           "type": "scatter",
           "x": [
            "Agriculture"
           ],
           "xaxis": "x",
           "y": [
            42700
           ],
           "yaxis": "y"
          },
          {
           "hovertemplate": "Industry=%{x}<br>Years=2014<br>Employment=%{marker.size}<extra></extra>",
           "legendgroup": "Production",
           "marker": {
            "color": "#EF553B",
            "size": [
             173300
            ],
            "sizemode": "area",
            "sizeref": 1087.25,
            "symbol": "circle"
           },
           "mode": "markers",
           "name": "Production",
           "showlegend": true,
           "type": "scatter",
           "x": [
            "Production"
           ],
           "xaxis": "x",
           "y": [
            173300
           ],
           "yaxis": "y"
          },
          {
           "hovertemplate": "Industry=%{x}<br>Years=2014<br>Employment=%{marker.size}<extra></extra>",
           "legendgroup": "Construction",
           "marker": {
            "color": "#00cc96",
            "size": [
             97000
            ],
            "sizemode": "area",
            "sizeref": 1087.25,
            "symbol": "circle"
           },
           "mode": "markers",
           "name": "Construction",
           "showlegend": true,
           "type": "scatter",
           "x": [
            "Construction"
           ],
           "xaxis": "x",
           "y": [
            97000
           ],
           "yaxis": "y"
          },
          {
           "hovertemplate": "Industry=%{x}<br>Years=2014<br>Employment=%{marker.size}<extra></extra>",
           "legendgroup": "Retail",
           "marker": {
            "color": "#ab63fa",
            "size": [
             337300
            ],
            "sizemode": "area",
            "sizeref": 1087.25,
            "symbol": "circle"
           },
           "mode": "markers",
           "name": "Retail",
           "showlegend": true,
           "type": "scatter",
           "x": [
            "Retail"
           ],
           "xaxis": "x",
           "y": [
            337300
           ],
           "yaxis": "y"
          },
          {
           "hovertemplate": "Industry=%{x}<br>Years=2014<br>Employment=%{marker.size}<extra></extra>",
           "legendgroup": "ICT",
           "marker": {
            "color": "#FFA15A",
            "size": [
             35700
            ],
            "sizemode": "area",
            "sizeref": 1087.25,
            "symbol": "circle"
           },
           "mode": "markers",
           "name": "ICT",
           "showlegend": true,
           "type": "scatter",
           "x": [
            "ICT"
           ],
           "xaxis": "x",
           "y": [
            35700
           ],
           "yaxis": "y"
          },
          {
           "hovertemplate": "Industry=%{x}<br>Years=2014<br>Employment=%{marker.size}<extra></extra>",
           "legendgroup": "Finance",
           "marker": {
            "color": "#19d3f3",
            "size": [
             32400
            ],
            "sizemode": "area",
            "sizeref": 1087.25,
            "symbol": "circle"
           },
           "mode": "markers",
           "name": "Finance",
           "showlegend": true,
           "type": "scatter",
           "x": [
            "Finance"
           ],
           "xaxis": "x",
           "y": [
            32400
           ],
           "yaxis": "y"
          },
          {
           "hovertemplate": "Industry=%{x}<br>Years=2014<br>Employment=%{marker.size}<extra></extra>",
           "legendgroup": "Real_Estate",
           "marker": {
            "color": "#FF6692",
            "size": [
             22200
            ],
            "sizemode": "area",
            "sizeref": 1087.25,
            "symbol": "circle"
           },
           "mode": "markers",
           "name": "Real_Estate",
           "showlegend": true,
           "type": "scatter",
           "x": [
            "Real_Estate"
           ],
           "xaxis": "x",
           "y": [
            22200
           ],
           "yaxis": "y"
          },
          {
           "hovertemplate": "Industry=%{x}<br>Years=2014<br>Employment=%{marker.size}<extra></extra>",
           "legendgroup": "Professional_Service",
           "marker": {
            "color": "#B6E880",
            "size": [
             152900
            ],
            "sizemode": "area",
            "sizeref": 1087.25,
            "symbol": "circle"
           },
           "mode": "markers",
           "name": "Professional_Service",
           "showlegend": true,
           "type": "scatter",
           "x": [
            "Professional_Service"
           ],
           "xaxis": "x",
           "y": [
            152900
           ],
           "yaxis": "y"
          },
          {
           "hovertemplate": "Industry=%{x}<br>Years=2014<br>Employment=%{marker.size}<extra></extra>",
           "legendgroup": "Public_Adminstration ",
           "marker": {
            "color": "#FF97FF",
            "size": [
             427600
            ],
            "sizemode": "area",
            "sizeref": 1087.25,
            "symbol": "circle"
           },
           "mode": "markers",
           "name": "Public_Adminstration ",
           "showlegend": true,
           "type": "scatter",
           "x": [
            "Public_Adminstration "
           ],
           "xaxis": "x",
           "y": [
            427600
           ],
           "yaxis": "y"
          },
          {
           "hovertemplate": "Industry=%{x}<br>Years=2014<br>Employment=%{marker.size}<extra></extra>",
           "legendgroup": "Other_Service",
           "marker": {
            "color": "#FECB52",
            "size": [
             73300
            ],
            "sizemode": "area",
            "sizeref": 1087.25,
            "symbol": "circle"
           },
           "mode": "markers",
           "name": "Other_Service",
           "showlegend": true,
           "type": "scatter",
           "x": [
            "Other_Service"
           ],
           "xaxis": "x",
           "y": [
            73300
           ],
           "yaxis": "y"
          }
         ],
         "name": "2014"
        },
        {
         "data": [
          {
           "hovertemplate": "Industry=%{x}<br>Years=2015<br>Employment=%{marker.size}<extra></extra>",
           "legendgroup": "Agriculture",
           "marker": {
            "color": "#636efa",
            "size": [
             40700
            ],
            "sizemode": "area",
            "sizeref": 1087.25,
            "symbol": "circle"
           },
           "mode": "markers",
           "name": "Agriculture",
           "showlegend": true,
           "type": "scatter",
           "x": [
            "Agriculture"
           ],
           "xaxis": "x",
           "y": [
            40700
           ],
           "yaxis": "y"
          },
          {
           "hovertemplate": "Industry=%{x}<br>Years=2015<br>Employment=%{marker.size}<extra></extra>",
           "legendgroup": "Production",
           "marker": {
            "color": "#EF553B",
            "size": [
             172300
            ],
            "sizemode": "area",
            "sizeref": 1087.25,
            "symbol": "circle"
           },
           "mode": "markers",
           "name": "Production",
           "showlegend": true,
           "type": "scatter",
           "x": [
            "Production"
           ],
           "xaxis": "x",
           "y": [
            172300
           ],
           "yaxis": "y"
          },
          {
           "hovertemplate": "Industry=%{x}<br>Years=2015<br>Employment=%{marker.size}<extra></extra>",
           "legendgroup": "Construction",
           "marker": {
            "color": "#00cc96",
            "size": [
             92600
            ],
            "sizemode": "area",
            "sizeref": 1087.25,
            "symbol": "circle"
           },
           "mode": "markers",
           "name": "Construction",
           "showlegend": true,
           "type": "scatter",
           "x": [
            "Construction"
           ],
           "xaxis": "x",
           "y": [
            92600
           ],
           "yaxis": "y"
          },
          {
           "hovertemplate": "Industry=%{x}<br>Years=2015<br>Employment=%{marker.size}<extra></extra>",
           "legendgroup": "Retail",
           "marker": {
            "color": "#ab63fa",
            "size": [
             357700
            ],
            "sizemode": "area",
            "sizeref": 1087.25,
            "symbol": "circle"
           },
           "mode": "markers",
           "name": "Retail",
           "showlegend": true,
           "type": "scatter",
           "x": [
            "Retail"
           ],
           "xaxis": "x",
           "y": [
            357700
           ],
           "yaxis": "y"
          },
          {
           "hovertemplate": "Industry=%{x}<br>Years=2015<br>Employment=%{marker.size}<extra></extra>",
           "legendgroup": "ICT",
           "marker": {
            "color": "#FFA15A",
            "size": [
             24000
            ],
            "sizemode": "area",
            "sizeref": 1087.25,
            "symbol": "circle"
           },
           "mode": "markers",
           "name": "ICT",
           "showlegend": true,
           "type": "scatter",
           "x": [
            "ICT"
           ],
           "xaxis": "x",
           "y": [
            24000
           ],
           "yaxis": "y"
          },
          {
           "hovertemplate": "Industry=%{x}<br>Years=2015<br>Employment=%{marker.size}<extra></extra>",
           "legendgroup": "Finance",
           "marker": {
            "color": "#19d3f3",
            "size": [
             30800
            ],
            "sizemode": "area",
            "sizeref": 1087.25,
            "symbol": "circle"
           },
           "mode": "markers",
           "name": "Finance",
           "showlegend": true,
           "type": "scatter",
           "x": [
            "Finance"
           ],
           "xaxis": "x",
           "y": [
            30800
           ],
           "yaxis": "y"
          },
          {
           "hovertemplate": "Industry=%{x}<br>Years=2015<br>Employment=%{marker.size}<extra></extra>",
           "legendgroup": "Real_Estate",
           "marker": {
            "color": "#FF6692",
            "size": [
             19100
            ],
            "sizemode": "area",
            "sizeref": 1087.25,
            "symbol": "circle"
           },
           "mode": "markers",
           "name": "Real_Estate",
           "showlegend": true,
           "type": "scatter",
           "x": [
            "Real_Estate"
           ],
           "xaxis": "x",
           "y": [
            19100
           ],
           "yaxis": "y"
          },
          {
           "hovertemplate": "Industry=%{x}<br>Years=2015<br>Employment=%{marker.size}<extra></extra>",
           "legendgroup": "Professional_Service",
           "marker": {
            "color": "#B6E880",
            "size": [
             166200
            ],
            "sizemode": "area",
            "sizeref": 1087.25,
            "symbol": "circle"
           },
           "mode": "markers",
           "name": "Professional_Service",
           "showlegend": true,
           "type": "scatter",
           "x": [
            "Professional_Service"
           ],
           "xaxis": "x",
           "y": [
            166200
           ],
           "yaxis": "y"
          },
          {
           "hovertemplate": "Industry=%{x}<br>Years=2015<br>Employment=%{marker.size}<extra></extra>",
           "legendgroup": "Public_Adminstration ",
           "marker": {
            "color": "#FF97FF",
            "size": [
             423200
            ],
            "sizemode": "area",
            "sizeref": 1087.25,
            "symbol": "circle"
           },
           "mode": "markers",
           "name": "Public_Adminstration ",
           "showlegend": true,
           "type": "scatter",
           "x": [
            "Public_Adminstration "
           ],
           "xaxis": "x",
           "y": [
            423200
           ],
           "yaxis": "y"
          },
          {
           "hovertemplate": "Industry=%{x}<br>Years=2015<br>Employment=%{marker.size}<extra></extra>",
           "legendgroup": "Other_Service",
           "marker": {
            "color": "#FECB52",
            "size": [
             77200
            ],
            "sizemode": "area",
            "sizeref": 1087.25,
            "symbol": "circle"
           },
           "mode": "markers",
           "name": "Other_Service",
           "showlegend": true,
           "type": "scatter",
           "x": [
            "Other_Service"
           ],
           "xaxis": "x",
           "y": [
            77200
           ],
           "yaxis": "y"
          }
         ],
         "name": "2015"
        },
        {
         "data": [
          {
           "hovertemplate": "Industry=%{x}<br>Years=2016<br>Employment=%{marker.size}<extra></extra>",
           "legendgroup": "Agriculture",
           "marker": {
            "color": "#636efa",
            "size": [
             43200
            ],
            "sizemode": "area",
            "sizeref": 1087.25,
            "symbol": "circle"
           },
           "mode": "markers",
           "name": "Agriculture",
           "showlegend": true,
           "type": "scatter",
           "x": [
            "Agriculture"
           ],
           "xaxis": "x",
           "y": [
            43200
           ],
           "yaxis": "y"
          },
          {
           "hovertemplate": "Industry=%{x}<br>Years=2016<br>Employment=%{marker.size}<extra></extra>",
           "legendgroup": "Production",
           "marker": {
            "color": "#EF553B",
            "size": [
             162500
            ],
            "sizemode": "area",
            "sizeref": 1087.25,
            "symbol": "circle"
           },
           "mode": "markers",
           "name": "Production",
           "showlegend": true,
           "type": "scatter",
           "x": [
            "Production"
           ],
           "xaxis": "x",
           "y": [
            162500
           ],
           "yaxis": "y"
          },
          {
           "hovertemplate": "Industry=%{x}<br>Years=2016<br>Employment=%{marker.size}<extra></extra>",
           "legendgroup": "Construction",
           "marker": {
            "color": "#00cc96",
            "size": [
             102700
            ],
            "sizemode": "area",
            "sizeref": 1087.25,
            "symbol": "circle"
           },
           "mode": "markers",
           "name": "Construction",
           "showlegend": true,
           "type": "scatter",
           "x": [
            "Construction"
           ],
           "xaxis": "x",
           "y": [
            102700
           ],
           "yaxis": "y"
          },
          {
           "hovertemplate": "Industry=%{x}<br>Years=2016<br>Employment=%{marker.size}<extra></extra>",
           "legendgroup": "Retail",
           "marker": {
            "color": "#ab63fa",
            "size": [
             360200
            ],
            "sizemode": "area",
            "sizeref": 1087.25,
            "symbol": "circle"
           },
           "mode": "markers",
           "name": "Retail",
           "showlegend": true,
           "type": "scatter",
           "x": [
            "Retail"
           ],
           "xaxis": "x",
           "y": [
            360200
           ],
           "yaxis": "y"
          },
          {
           "hovertemplate": "Industry=%{x}<br>Years=2016<br>Employment=%{marker.size}<extra></extra>",
           "legendgroup": "ICT",
           "marker": {
            "color": "#FFA15A",
            "size": [
             34400
            ],
            "sizemode": "area",
            "sizeref": 1087.25,
            "symbol": "circle"
           },
           "mode": "markers",
           "name": "ICT",
           "showlegend": true,
           "type": "scatter",
           "x": [
            "ICT"
           ],
           "xaxis": "x",
           "y": [
            34400
           ],
           "yaxis": "y"
          },
          {
           "hovertemplate": "Industry=%{x}<br>Years=2016<br>Employment=%{marker.size}<extra></extra>",
           "legendgroup": "Finance",
           "marker": {
            "color": "#19d3f3",
            "size": [
             31000
            ],
            "sizemode": "area",
            "sizeref": 1087.25,
            "symbol": "circle"
           },
           "mode": "markers",
           "name": "Finance",
           "showlegend": true,
           "type": "scatter",
           "x": [
            "Finance"
           ],
           "xaxis": "x",
           "y": [
            31000
           ],
           "yaxis": "y"
          },
          {
           "hovertemplate": "Industry=%{x}<br>Years=2016<br>Employment=%{marker.size}<extra></extra>",
           "legendgroup": "Real_Estate",
           "marker": {
            "color": "#FF6692",
            "size": [
             22700
            ],
            "sizemode": "area",
            "sizeref": 1087.25,
            "symbol": "circle"
           },
           "mode": "markers",
           "name": "Real_Estate",
           "showlegend": true,
           "type": "scatter",
           "x": [
            "Real_Estate"
           ],
           "xaxis": "x",
           "y": [
            22700
           ],
           "yaxis": "y"
          },
          {
           "hovertemplate": "Industry=%{x}<br>Years=2016<br>Employment=%{marker.size}<extra></extra>",
           "legendgroup": "Professional_Service",
           "marker": {
            "color": "#B6E880",
            "size": [
             161200
            ],
            "sizemode": "area",
            "sizeref": 1087.25,
            "symbol": "circle"
           },
           "mode": "markers",
           "name": "Professional_Service",
           "showlegend": true,
           "type": "scatter",
           "x": [
            "Professional_Service"
           ],
           "xaxis": "x",
           "y": [
            161200
           ],
           "yaxis": "y"
          },
          {
           "hovertemplate": "Industry=%{x}<br>Years=2016<br>Employment=%{marker.size}<extra></extra>",
           "legendgroup": "Public_Adminstration ",
           "marker": {
            "color": "#FF97FF",
            "size": [
             418500
            ],
            "sizemode": "area",
            "sizeref": 1087.25,
            "symbol": "circle"
           },
           "mode": "markers",
           "name": "Public_Adminstration ",
           "showlegend": true,
           "type": "scatter",
           "x": [
            "Public_Adminstration "
           ],
           "xaxis": "x",
           "y": [
            418500
           ],
           "yaxis": "y"
          },
          {
           "hovertemplate": "Industry=%{x}<br>Years=2016<br>Employment=%{marker.size}<extra></extra>",
           "legendgroup": "Other_Service",
           "marker": {
            "color": "#FECB52",
            "size": [
             72400
            ],
            "sizemode": "area",
            "sizeref": 1087.25,
            "symbol": "circle"
           },
           "mode": "markers",
           "name": "Other_Service",
           "showlegend": true,
           "type": "scatter",
           "x": [
            "Other_Service"
           ],
           "xaxis": "x",
           "y": [
            72400
           ],
           "yaxis": "y"
          }
         ],
         "name": "2016"
        },
        {
         "data": [
          {
           "hovertemplate": "Industry=%{x}<br>Years=2017<br>Employment=%{marker.size}<extra></extra>",
           "legendgroup": "Agriculture",
           "marker": {
            "color": "#636efa",
            "size": [
             40200
            ],
            "sizemode": "area",
            "sizeref": 1087.25,
            "symbol": "circle"
           },
           "mode": "markers",
           "name": "Agriculture",
           "showlegend": true,
           "type": "scatter",
           "x": [
            "Agriculture"
           ],
           "xaxis": "x",
           "y": [
            40200
           ],
           "yaxis": "y"
          },
          {
           "hovertemplate": "Industry=%{x}<br>Years=2017<br>Employment=%{marker.size}<extra></extra>",
           "legendgroup": "Production",
           "marker": {
            "color": "#EF553B",
            "size": [
             165100
            ],
            "sizemode": "area",
            "sizeref": 1087.25,
            "symbol": "circle"
           },
           "mode": "markers",
           "name": "Production",
           "showlegend": true,
           "type": "scatter",
           "x": [
            "Production"
           ],
           "xaxis": "x",
           "y": [
            165100
           ],
           "yaxis": "y"
          },
          {
           "hovertemplate": "Industry=%{x}<br>Years=2017<br>Employment=%{marker.size}<extra></extra>",
           "legendgroup": "Construction",
           "marker": {
            "color": "#00cc96",
            "size": [
             90800
            ],
            "sizemode": "area",
            "sizeref": 1087.25,
            "symbol": "circle"
           },
           "mode": "markers",
           "name": "Construction",
           "showlegend": true,
           "type": "scatter",
           "x": [
            "Construction"
           ],
           "xaxis": "x",
           "y": [
            90800
           ],
           "yaxis": "y"
          },
          {
           "hovertemplate": "Industry=%{x}<br>Years=2017<br>Employment=%{marker.size}<extra></extra>",
           "legendgroup": "Retail",
           "marker": {
            "color": "#ab63fa",
            "size": [
             333500
            ],
            "sizemode": "area",
            "sizeref": 1087.25,
            "symbol": "circle"
           },
           "mode": "markers",
           "name": "Retail",
           "showlegend": true,
           "type": "scatter",
           "x": [
            "Retail"
           ],
           "xaxis": "x",
           "y": [
            333500
           ],
           "yaxis": "y"
          },
          {
           "hovertemplate": "Industry=%{x}<br>Years=2017<br>Employment=%{marker.size}<extra></extra>",
           "legendgroup": "ICT",
           "marker": {
            "color": "#FFA15A",
            "size": [
             58900
            ],
            "sizemode": "area",
            "sizeref": 1087.25,
            "symbol": "circle"
           },
           "mode": "markers",
           "name": "ICT",
           "showlegend": true,
           "type": "scatter",
           "x": [
            "ICT"
           ],
           "xaxis": "x",
           "y": [
            58900
           ],
           "yaxis": "y"
          },
          {
           "hovertemplate": "Industry=%{x}<br>Years=2017<br>Employment=%{marker.size}<extra></extra>",
           "legendgroup": "Finance",
           "marker": {
            "color": "#19d3f3",
            "size": [
             32100
            ],
            "sizemode": "area",
            "sizeref": 1087.25,
            "symbol": "circle"
           },
           "mode": "markers",
           "name": "Finance",
           "showlegend": true,
           "type": "scatter",
           "x": [
            "Finance"
           ],
           "xaxis": "x",
           "y": [
            32100
           ],
           "yaxis": "y"
          },
          {
           "hovertemplate": "Industry=%{x}<br>Years=2017<br>Employment=%{marker.size}<extra></extra>",
           "legendgroup": "Real_Estate",
           "marker": {
            "color": "#FF6692",
            "size": [
             18200
            ],
            "sizemode": "area",
            "sizeref": 1087.25,
            "symbol": "circle"
           },
           "mode": "markers",
           "name": "Real_Estate",
           "showlegend": true,
           "type": "scatter",
           "x": [
            "Real_Estate"
           ],
           "xaxis": "x",
           "y": [
            18200
           ],
           "yaxis": "y"
          },
          {
           "hovertemplate": "Industry=%{x}<br>Years=2017<br>Employment=%{marker.size}<extra></extra>",
           "legendgroup": "Professional_Service",
           "marker": {
            "color": "#B6E880",
            "size": [
             176400
            ],
            "sizemode": "area",
            "sizeref": 1087.25,
            "symbol": "circle"
           },
           "mode": "markers",
           "name": "Professional_Service",
           "showlegend": true,
           "type": "scatter",
           "x": [
            "Professional_Service"
           ],
           "xaxis": "x",
           "y": [
            176400
           ],
           "yaxis": "y"
          },
          {
           "hovertemplate": "Industry=%{x}<br>Years=2017<br>Employment=%{marker.size}<extra></extra>",
           "legendgroup": "Public_Adminstration ",
           "marker": {
            "color": "#FF97FF",
            "size": [
             424500
            ],
            "sizemode": "area",
            "sizeref": 1087.25,
            "symbol": "circle"
           },
           "mode": "markers",
           "name": "Public_Adminstration ",
           "showlegend": true,
           "type": "scatter",
           "x": [
            "Public_Adminstration "
           ],
           "xaxis": "x",
           "y": [
            424500
           ],
           "yaxis": "y"
          },
          {
           "hovertemplate": "Industry=%{x}<br>Years=2017<br>Employment=%{marker.size}<extra></extra>",
           "legendgroup": "Other_Service",
           "marker": {
            "color": "#FECB52",
            "size": [
             83200
            ],
            "sizemode": "area",
            "sizeref": 1087.25,
            "symbol": "circle"
           },
           "mode": "markers",
           "name": "Other_Service",
           "showlegend": true,
           "type": "scatter",
           "x": [
            "Other_Service"
           ],
           "xaxis": "x",
           "y": [
            83200
           ],
           "yaxis": "y"
          }
         ],
         "name": "2017"
        },
        {
         "data": [
          {
           "hovertemplate": "Industry=%{x}<br>Years=2018<br>Employment=%{marker.size}<extra></extra>",
           "legendgroup": "Agriculture",
           "marker": {
            "color": "#636efa",
            "size": [
             41100
            ],
            "sizemode": "area",
            "sizeref": 1087.25,
            "symbol": "circle"
           },
           "mode": "markers",
           "name": "Agriculture",
           "showlegend": true,
           "type": "scatter",
           "x": [
            "Agriculture"
           ],
           "xaxis": "x",
           "y": [
            41100
           ],
           "yaxis": "y"
          },
          {
           "hovertemplate": "Industry=%{x}<br>Years=2018<br>Employment=%{marker.size}<extra></extra>",
           "legendgroup": "Production",
           "marker": {
            "color": "#EF553B",
            "size": [
             165700
            ],
            "sizemode": "area",
            "sizeref": 1087.25,
            "symbol": "circle"
           },
           "mode": "markers",
           "name": "Production",
           "showlegend": true,
           "type": "scatter",
           "x": [
            "Production"
           ],
           "xaxis": "x",
           "y": [
            165700
           ],
           "yaxis": "y"
          },
          {
           "hovertemplate": "Industry=%{x}<br>Years=2018<br>Employment=%{marker.size}<extra></extra>",
           "legendgroup": "Construction",
           "marker": {
            "color": "#00cc96",
            "size": [
             101800
            ],
            "sizemode": "area",
            "sizeref": 1087.25,
            "symbol": "circle"
           },
           "mode": "markers",
           "name": "Construction",
           "showlegend": true,
           "type": "scatter",
           "x": [
            "Construction"
           ],
           "xaxis": "x",
           "y": [
            101800
           ],
           "yaxis": "y"
          },
          {
           "hovertemplate": "Industry=%{x}<br>Years=2018<br>Employment=%{marker.size}<extra></extra>",
           "legendgroup": "Retail",
           "marker": {
            "color": "#ab63fa",
            "size": [
             347600
            ],
            "sizemode": "area",
            "sizeref": 1087.25,
            "symbol": "circle"
           },
           "mode": "markers",
           "name": "Retail",
           "showlegend": true,
           "type": "scatter",
           "x": [
            "Retail"
           ],
           "xaxis": "x",
           "y": [
            347600
           ],
           "yaxis": "y"
          },
          {
           "hovertemplate": "Industry=%{x}<br>Years=2018<br>Employment=%{marker.size}<extra></extra>",
           "legendgroup": "ICT",
           "marker": {
            "color": "#FFA15A",
            "size": [
             31500
            ],
            "sizemode": "area",
            "sizeref": 1087.25,
            "symbol": "circle"
           },
           "mode": "markers",
           "name": "ICT",
           "showlegend": true,
           "type": "scatter",
           "x": [
            "ICT"
           ],
           "xaxis": "x",
           "y": [
            31500
           ],
           "yaxis": "y"
          },
          {
           "hovertemplate": "Industry=%{x}<br>Years=2018<br>Employment=%{marker.size}<extra></extra>",
           "legendgroup": "Finance",
           "marker": {
            "color": "#19d3f3",
            "size": [
             35500
            ],
            "sizemode": "area",
            "sizeref": 1087.25,
            "symbol": "circle"
           },
           "mode": "markers",
           "name": "Finance",
           "showlegend": true,
           "type": "scatter",
           "x": [
            "Finance"
           ],
           "xaxis": "x",
           "y": [
            35500
           ],
           "yaxis": "y"
          },
          {
           "hovertemplate": "Industry=%{x}<br>Years=2018<br>Employment=%{marker.size}<extra></extra>",
           "legendgroup": "Real_Estate",
           "marker": {
            "color": "#FF6692",
            "size": [
             25200
            ],
            "sizemode": "area",
            "sizeref": 1087.25,
            "symbol": "circle"
           },
           "mode": "markers",
           "name": "Real_Estate",
           "showlegend": true,
           "type": "scatter",
           "x": [
            "Real_Estate"
           ],
           "xaxis": "x",
           "y": [
            25200
           ],
           "yaxis": "y"
          },
          {
           "hovertemplate": "Industry=%{x}<br>Years=2018<br>Employment=%{marker.size}<extra></extra>",
           "legendgroup": "Professional_Service",
           "marker": {
            "color": "#B6E880",
            "size": [
             187100
            ],
            "sizemode": "area",
            "sizeref": 1087.25,
            "symbol": "circle"
           },
           "mode": "markers",
           "name": "Professional_Service",
           "showlegend": true,
           "type": "scatter",
           "x": [
            "Professional_Service"
           ],
           "xaxis": "x",
           "y": [
            187100
           ],
           "yaxis": "y"
          },
          {
           "hovertemplate": "Industry=%{x}<br>Years=2018<br>Employment=%{marker.size}<extra></extra>",
           "legendgroup": "Public_Adminstration ",
           "marker": {
            "color": "#FF97FF",
            "size": [
             434900
            ],
            "sizemode": "area",
            "sizeref": 1087.25,
            "symbol": "circle"
           },
           "mode": "markers",
           "name": "Public_Adminstration ",
           "showlegend": true,
           "type": "scatter",
           "x": [
            "Public_Adminstration "
           ],
           "xaxis": "x",
           "y": [
            434900
           ],
           "yaxis": "y"
          },
          {
           "hovertemplate": "Industry=%{x}<br>Years=2018<br>Employment=%{marker.size}<extra></extra>",
           "legendgroup": "Other_Service",
           "marker": {
            "color": "#FECB52",
            "size": [
             81800
            ],
            "sizemode": "area",
            "sizeref": 1087.25,
            "symbol": "circle"
           },
           "mode": "markers",
           "name": "Other_Service",
           "showlegend": true,
           "type": "scatter",
           "x": [
            "Other_Service"
           ],
           "xaxis": "x",
           "y": [
            81800
           ],
           "yaxis": "y"
          }
         ],
         "name": "2018"
        }
       ],
       "layout": {
        "legend": {
         "itemsizing": "constant",
         "title": {
          "text": "Industry"
         },
         "tracegroupgap": 0
        },
        "margin": {
         "t": 60
        },
        "sliders": [
         {
          "active": 0,
          "currentvalue": {
           "prefix": "Years="
          },
          "len": 0.9,
          "pad": {
           "b": 10,
           "t": 60
          },
          "steps": [
           {
            "args": [
             [
              "2009"
             ],
             {
              "frame": {
               "duration": 0,
               "redraw": false
              },
              "fromcurrent": true,
              "mode": "immediate",
              "transition": {
               "duration": 0,
               "easing": "linear"
              }
             }
            ],
            "label": "2009",
            "method": "animate"
           },
           {
            "args": [
             [
              "2010"
             ],
             {
              "frame": {
               "duration": 0,
               "redraw": false
              },
              "fromcurrent": true,
              "mode": "immediate",
              "transition": {
               "duration": 0,
               "easing": "linear"
              }
             }
            ],
            "label": "2010",
            "method": "animate"
           },
           {
            "args": [
             [
              "2011"
             ],
             {
              "frame": {
               "duration": 0,
               "redraw": false
              },
              "fromcurrent": true,
              "mode": "immediate",
              "transition": {
               "duration": 0,
               "easing": "linear"
              }
             }
            ],
            "label": "2011",
            "method": "animate"
           },
           {
            "args": [
             [
              "2012"
             ],
             {
              "frame": {
               "duration": 0,
               "redraw": false
              },
              "fromcurrent": true,
              "mode": "immediate",
              "transition": {
               "duration": 0,
               "easing": "linear"
              }
             }
            ],
            "label": "2012",
            "method": "animate"
           },
           {
            "args": [
             [
              "2013"
             ],
             {
              "frame": {
               "duration": 0,
               "redraw": false
              },
              "fromcurrent": true,
              "mode": "immediate",
              "transition": {
               "duration": 0,
               "easing": "linear"
              }
             }
            ],
            "label": "2013",
            "method": "animate"
           },
           {
            "args": [
             [
              "2014"
             ],
             {
              "frame": {
               "duration": 0,
               "redraw": false
              },
              "fromcurrent": true,
              "mode": "immediate",
              "transition": {
               "duration": 0,
               "easing": "linear"
              }
             }
            ],
            "label": "2014",
            "method": "animate"
           },
           {
            "args": [
             [
              "2015"
             ],
             {
              "frame": {
               "duration": 0,
               "redraw": false
              },
              "fromcurrent": true,
              "mode": "immediate",
              "transition": {
               "duration": 0,
               "easing": "linear"
              }
             }
            ],
            "label": "2015",
            "method": "animate"
           },
           {
            "args": [
             [
              "2016"
             ],
             {
              "frame": {
               "duration": 0,
               "redraw": false
              },
              "fromcurrent": true,
              "mode": "immediate",
              "transition": {
               "duration": 0,
               "easing": "linear"
              }
             }
            ],
            "label": "2016",
            "method": "animate"
           },
           {
            "args": [
             [
              "2017"
             ],
             {
              "frame": {
               "duration": 0,
               "redraw": false
              },
              "fromcurrent": true,
              "mode": "immediate",
              "transition": {
               "duration": 0,
               "easing": "linear"
              }
             }
            ],
            "label": "2017",
            "method": "animate"
           },
           {
            "args": [
             [
              "2018"
             ],
             {
              "frame": {
               "duration": 0,
               "redraw": false
              },
              "fromcurrent": true,
              "mode": "immediate",
              "transition": {
               "duration": 0,
               "easing": "linear"
              }
             }
            ],
            "label": "2018",
            "method": "animate"
           }
          ],
          "x": 0.1,
          "xanchor": "left",
          "y": 0,
          "yanchor": "top"
         }
        ],
        "template": {
         "data": {
          "bar": [
           {
            "error_x": {
             "color": "#2a3f5f"
            },
            "error_y": {
             "color": "#2a3f5f"
            },
            "marker": {
             "line": {
              "color": "#E5ECF6",
              "width": 0.5
             }
            },
            "type": "bar"
           }
          ],
          "barpolar": [
           {
            "marker": {
             "line": {
              "color": "#E5ECF6",
              "width": 0.5
             }
            },
            "type": "barpolar"
           }
          ],
          "carpet": [
           {
            "aaxis": {
             "endlinecolor": "#2a3f5f",
             "gridcolor": "white",
             "linecolor": "white",
             "minorgridcolor": "white",
             "startlinecolor": "#2a3f5f"
            },
            "baxis": {
             "endlinecolor": "#2a3f5f",
             "gridcolor": "white",
             "linecolor": "white",
             "minorgridcolor": "white",
             "startlinecolor": "#2a3f5f"
            },
            "type": "carpet"
           }
          ],
          "choropleth": [
           {
            "colorbar": {
             "outlinewidth": 0,
             "ticks": ""
            },
            "type": "choropleth"
           }
          ],
          "contour": [
           {
            "colorbar": {
             "outlinewidth": 0,
             "ticks": ""
            },
            "colorscale": [
             [
              0,
              "#0d0887"
             ],
             [
              0.1111111111111111,
              "#46039f"
             ],
             [
              0.2222222222222222,
              "#7201a8"
             ],
             [
              0.3333333333333333,
              "#9c179e"
             ],
             [
              0.4444444444444444,
              "#bd3786"
             ],
             [
              0.5555555555555556,
              "#d8576b"
             ],
             [
              0.6666666666666666,
              "#ed7953"
             ],
             [
              0.7777777777777778,
              "#fb9f3a"
             ],
             [
              0.8888888888888888,
              "#fdca26"
             ],
             [
              1,
              "#f0f921"
             ]
            ],
            "type": "contour"
           }
          ],
          "contourcarpet": [
           {
            "colorbar": {
             "outlinewidth": 0,
             "ticks": ""
            },
            "type": "contourcarpet"
           }
          ],
          "heatmap": [
           {
            "colorbar": {
             "outlinewidth": 0,
             "ticks": ""
            },
            "colorscale": [
             [
              0,
              "#0d0887"
             ],
             [
              0.1111111111111111,
              "#46039f"
             ],
             [
              0.2222222222222222,
              "#7201a8"
             ],
             [
              0.3333333333333333,
              "#9c179e"
             ],
             [
              0.4444444444444444,
              "#bd3786"
             ],
             [
              0.5555555555555556,
              "#d8576b"
             ],
             [
              0.6666666666666666,
              "#ed7953"
             ],
             [
              0.7777777777777778,
              "#fb9f3a"
             ],
             [
              0.8888888888888888,
              "#fdca26"
             ],
             [
              1,
              "#f0f921"
             ]
            ],
            "type": "heatmap"
           }
          ],
          "heatmapgl": [
           {
            "colorbar": {
             "outlinewidth": 0,
             "ticks": ""
            },
            "colorscale": [
             [
              0,
              "#0d0887"
             ],
             [
              0.1111111111111111,
              "#46039f"
             ],
             [
              0.2222222222222222,
              "#7201a8"
             ],
             [
              0.3333333333333333,
              "#9c179e"
             ],
             [
              0.4444444444444444,
              "#bd3786"
             ],
             [
              0.5555555555555556,
              "#d8576b"
             ],
             [
              0.6666666666666666,
              "#ed7953"
             ],
             [
              0.7777777777777778,
              "#fb9f3a"
             ],
             [
              0.8888888888888888,
              "#fdca26"
             ],
             [
              1,
              "#f0f921"
             ]
            ],
            "type": "heatmapgl"
           }
          ],
          "histogram": [
           {
            "marker": {
             "colorbar": {
              "outlinewidth": 0,
              "ticks": ""
             }
            },
            "type": "histogram"
           }
          ],
          "histogram2d": [
           {
            "colorbar": {
             "outlinewidth": 0,
             "ticks": ""
            },
            "colorscale": [
             [
              0,
              "#0d0887"
             ],
             [
              0.1111111111111111,
              "#46039f"
             ],
             [
              0.2222222222222222,
              "#7201a8"
             ],
             [
              0.3333333333333333,
              "#9c179e"
             ],
             [
              0.4444444444444444,
              "#bd3786"
             ],
             [
              0.5555555555555556,
              "#d8576b"
             ],
             [
              0.6666666666666666,
              "#ed7953"
             ],
             [
              0.7777777777777778,
              "#fb9f3a"
             ],
             [
              0.8888888888888888,
              "#fdca26"
             ],
             [
              1,
              "#f0f921"
             ]
            ],
            "type": "histogram2d"
           }
          ],
          "histogram2dcontour": [
           {
            "colorbar": {
             "outlinewidth": 0,
             "ticks": ""
            },
            "colorscale": [
             [
              0,
              "#0d0887"
             ],
             [
              0.1111111111111111,
              "#46039f"
             ],
             [
              0.2222222222222222,
              "#7201a8"
             ],
             [
              0.3333333333333333,
              "#9c179e"
             ],
             [
              0.4444444444444444,
              "#bd3786"
             ],
             [
              0.5555555555555556,
              "#d8576b"
             ],
             [
              0.6666666666666666,
              "#ed7953"
             ],
             [
              0.7777777777777778,
              "#fb9f3a"
             ],
             [
              0.8888888888888888,
              "#fdca26"
             ],
             [
              1,
              "#f0f921"
             ]
            ],
            "type": "histogram2dcontour"
           }
          ],
          "mesh3d": [
           {
            "colorbar": {
             "outlinewidth": 0,
             "ticks": ""
            },
            "type": "mesh3d"
           }
          ],
          "parcoords": [
           {
            "line": {
             "colorbar": {
              "outlinewidth": 0,
              "ticks": ""
             }
            },
            "type": "parcoords"
           }
          ],
          "pie": [
           {
            "automargin": true,
            "type": "pie"
           }
          ],
          "scatter": [
           {
            "marker": {
             "colorbar": {
              "outlinewidth": 0,
              "ticks": ""
             }
            },
            "type": "scatter"
           }
          ],
          "scatter3d": [
           {
            "line": {
             "colorbar": {
              "outlinewidth": 0,
              "ticks": ""
             }
            },
            "marker": {
             "colorbar": {
              "outlinewidth": 0,
              "ticks": ""
             }
            },
            "type": "scatter3d"
           }
          ],
          "scattercarpet": [
           {
            "marker": {
             "colorbar": {
              "outlinewidth": 0,
              "ticks": ""
             }
            },
            "type": "scattercarpet"
           }
          ],
          "scattergeo": [
           {
            "marker": {
             "colorbar": {
              "outlinewidth": 0,
              "ticks": ""
             }
            },
            "type": "scattergeo"
           }
          ],
          "scattergl": [
           {
            "marker": {
             "colorbar": {
              "outlinewidth": 0,
              "ticks": ""
             }
            },
            "type": "scattergl"
           }
          ],
          "scattermapbox": [
           {
            "marker": {
             "colorbar": {
              "outlinewidth": 0,
              "ticks": ""
             }
            },
            "type": "scattermapbox"
           }
          ],
          "scatterpolar": [
           {
            "marker": {
             "colorbar": {
              "outlinewidth": 0,
              "ticks": ""
             }
            },
            "type": "scatterpolar"
           }
          ],
          "scatterpolargl": [
           {
            "marker": {
             "colorbar": {
              "outlinewidth": 0,
              "ticks": ""
             }
            },
            "type": "scatterpolargl"
           }
          ],
          "scatterternary": [
           {
            "marker": {
             "colorbar": {
              "outlinewidth": 0,
              "ticks": ""
             }
            },
            "type": "scatterternary"
           }
          ],
          "surface": [
           {
            "colorbar": {
             "outlinewidth": 0,
             "ticks": ""
            },
            "colorscale": [
             [
              0,
              "#0d0887"
             ],
             [
              0.1111111111111111,
              "#46039f"
             ],
             [
              0.2222222222222222,
              "#7201a8"
             ],
             [
              0.3333333333333333,
              "#9c179e"
             ],
             [
              0.4444444444444444,
              "#bd3786"
             ],
             [
              0.5555555555555556,
              "#d8576b"
             ],
             [
              0.6666666666666666,
              "#ed7953"
             ],
             [
              0.7777777777777778,
              "#fb9f3a"
             ],
             [
              0.8888888888888888,
              "#fdca26"
             ],
             [
              1,
              "#f0f921"
             ]
            ],
            "type": "surface"
           }
          ],
          "table": [
           {
            "cells": {
             "fill": {
              "color": "#EBF0F8"
             },
             "line": {
              "color": "white"
             }
            },
            "header": {
             "fill": {
              "color": "#C8D4E3"
             },
             "line": {
              "color": "white"
             }
            },
            "type": "table"
           }
          ]
         },
         "layout": {
          "annotationdefaults": {
           "arrowcolor": "#2a3f5f",
           "arrowhead": 0,
           "arrowwidth": 1
          },
          "coloraxis": {
           "colorbar": {
            "outlinewidth": 0,
            "ticks": ""
           }
          },
          "colorscale": {
           "diverging": [
            [
             0,
             "#8e0152"
            ],
            [
             0.1,
             "#c51b7d"
            ],
            [
             0.2,
             "#de77ae"
            ],
            [
             0.3,
             "#f1b6da"
            ],
            [
             0.4,
             "#fde0ef"
            ],
            [
             0.5,
             "#f7f7f7"
            ],
            [
             0.6,
             "#e6f5d0"
            ],
            [
             0.7,
             "#b8e186"
            ],
            [
             0.8,
             "#7fbc41"
            ],
            [
             0.9,
             "#4d9221"
            ],
            [
             1,
             "#276419"
            ]
           ],
           "sequential": [
            [
             0,
             "#0d0887"
            ],
            [
             0.1111111111111111,
             "#46039f"
            ],
            [
             0.2222222222222222,
             "#7201a8"
            ],
            [
             0.3333333333333333,
             "#9c179e"
            ],
            [
             0.4444444444444444,
             "#bd3786"
            ],
            [
             0.5555555555555556,
             "#d8576b"
            ],
            [
             0.6666666666666666,
             "#ed7953"
            ],
            [
             0.7777777777777778,
             "#fb9f3a"
            ],
            [
             0.8888888888888888,
             "#fdca26"
            ],
            [
             1,
             "#f0f921"
            ]
           ],
           "sequentialminus": [
            [
             0,
             "#0d0887"
            ],
            [
             0.1111111111111111,
             "#46039f"
            ],
            [
             0.2222222222222222,
             "#7201a8"
            ],
            [
             0.3333333333333333,
             "#9c179e"
            ],
            [
             0.4444444444444444,
             "#bd3786"
            ],
            [
             0.5555555555555556,
             "#d8576b"
            ],
            [
             0.6666666666666666,
             "#ed7953"
            ],
            [
             0.7777777777777778,
             "#fb9f3a"
            ],
            [
             0.8888888888888888,
             "#fdca26"
            ],
            [
             1,
             "#f0f921"
            ]
           ]
          },
          "colorway": [
           "#636efa",
           "#EF553B",
           "#00cc96",
           "#ab63fa",
           "#FFA15A",
           "#19d3f3",
           "#FF6692",
           "#B6E880",
           "#FF97FF",
           "#FECB52"
          ],
          "font": {
           "color": "#2a3f5f"
          },
          "geo": {
           "bgcolor": "white",
           "lakecolor": "white",
           "landcolor": "#E5ECF6",
           "showlakes": true,
           "showland": true,
           "subunitcolor": "white"
          },
          "hoverlabel": {
           "align": "left"
          },
          "hovermode": "closest",
          "mapbox": {
           "style": "light"
          },
          "paper_bgcolor": "white",
          "plot_bgcolor": "#E5ECF6",
          "polar": {
           "angularaxis": {
            "gridcolor": "white",
            "linecolor": "white",
            "ticks": ""
           },
           "bgcolor": "#E5ECF6",
           "radialaxis": {
            "gridcolor": "white",
            "linecolor": "white",
            "ticks": ""
           }
          },
          "scene": {
           "xaxis": {
            "backgroundcolor": "#E5ECF6",
            "gridcolor": "white",
            "gridwidth": 2,
            "linecolor": "white",
            "showbackground": true,
            "ticks": "",
            "zerolinecolor": "white"
           },
           "yaxis": {
            "backgroundcolor": "#E5ECF6",
            "gridcolor": "white",
            "gridwidth": 2,
            "linecolor": "white",
            "showbackground": true,
            "ticks": "",
            "zerolinecolor": "white"
           },
           "zaxis": {
            "backgroundcolor": "#E5ECF6",
            "gridcolor": "white",
            "gridwidth": 2,
            "linecolor": "white",
            "showbackground": true,
            "ticks": "",
            "zerolinecolor": "white"
           }
          },
          "shapedefaults": {
           "line": {
            "color": "#2a3f5f"
           }
          },
          "ternary": {
           "aaxis": {
            "gridcolor": "white",
            "linecolor": "white",
            "ticks": ""
           },
           "baxis": {
            "gridcolor": "white",
            "linecolor": "white",
            "ticks": ""
           },
           "bgcolor": "#E5ECF6",
           "caxis": {
            "gridcolor": "white",
            "linecolor": "white",
            "ticks": ""
           }
          },
          "title": {
           "x": 0.05
          },
          "xaxis": {
           "automargin": true,
           "gridcolor": "white",
           "linecolor": "white",
           "ticks": "",
           "title": {
            "standoff": 15
           },
           "zerolinecolor": "white",
           "zerolinewidth": 2
          },
          "yaxis": {
           "automargin": true,
           "gridcolor": "white",
           "linecolor": "white",
           "ticks": "",
           "title": {
            "standoff": 15
           },
           "zerolinecolor": "white",
           "zerolinewidth": 2
          }
         }
        },
        "updatemenus": [
         {
          "buttons": [
           {
            "args": [
             null,
             {
              "frame": {
               "duration": 500,
               "redraw": false
              },
              "fromcurrent": true,
              "mode": "immediate",
              "transition": {
               "duration": 500,
               "easing": "linear"
              }
             }
            ],
            "label": "&#9654;",
            "method": "animate"
           },
           {
            "args": [
             [
              null
             ],
             {
              "frame": {
               "duration": 0,
               "redraw": false
              },
              "fromcurrent": true,
              "mode": "immediate",
              "transition": {
               "duration": 0,
               "easing": "linear"
              }
             }
            ],
            "label": "&#9724;",
            "method": "animate"
           }
          ],
          "direction": "left",
          "pad": {
           "r": 10,
           "t": 70
          },
          "showactive": false,
          "type": "buttons",
          "x": 0.1,
          "xanchor": "right",
          "y": 0,
          "yanchor": "top"
         }
        ],
        "xaxis": {
         "anchor": "y",
         "categoryarray": [
          "Agriculture",
          "Production",
          "Construction",
          "Retail",
          "ICT",
          "Finance",
          "Real_Estate",
          "Professional_Service",
          "Public_Adminstration ",
          "Other_Service"
         ],
         "categoryorder": "array",
         "domain": [
          0,
          1
         ],
         "title": {
          "text": "Industry"
         }
        },
        "yaxis": {
         "anchor": "x",
         "domain": [
          0,
          1
         ],
         "title": {
          "text": "Employment"
         }
        }
       }
      },
      "text/html": [
       "<div>\n",
       "        \n",
       "        \n",
       "            <div id=\"a72f8bca-355a-42aa-a32d-a422439bd4be\" class=\"plotly-graph-div\" style=\"height:525px; width:100%;\"></div>\n",
       "            <script type=\"text/javascript\">\n",
       "                require([\"plotly\"], function(Plotly) {\n",
       "                    window.PLOTLYENV=window.PLOTLYENV || {};\n",
       "                    \n",
       "                if (document.getElementById(\"a72f8bca-355a-42aa-a32d-a422439bd4be\")) {\n",
       "                    Plotly.newPlot(\n",
       "                        'a72f8bca-355a-42aa-a32d-a422439bd4be',\n",
       "                        [{\"hovertemplate\": \"Industry=%{x}<br>Years=2009<br>Employment=%{marker.size}<extra></extra>\", \"legendgroup\": \"Agriculture\", \"marker\": {\"color\": \"#636efa\", \"size\": [37700], \"sizemode\": \"area\", \"sizeref\": 1087.25, \"symbol\": \"circle\"}, \"mode\": \"markers\", \"name\": \"Agriculture\", \"showlegend\": true, \"type\": \"scatter\", \"x\": [\"Agriculture\"], \"xaxis\": \"x\", \"y\": [37700], \"yaxis\": \"y\"}, {\"hovertemplate\": \"Industry=%{x}<br>Years=2009<br>Employment=%{marker.size}<extra></extra>\", \"legendgroup\": \"Production\", \"marker\": {\"color\": \"#EF553B\", \"size\": [156700], \"sizemode\": \"area\", \"sizeref\": 1087.25, \"symbol\": \"circle\"}, \"mode\": \"markers\", \"name\": \"Production\", \"showlegend\": true, \"type\": \"scatter\", \"x\": [\"Production\"], \"xaxis\": \"x\", \"y\": [156700], \"yaxis\": \"y\"}, {\"hovertemplate\": \"Industry=%{x}<br>Years=2009<br>Employment=%{marker.size}<extra></extra>\", \"legendgroup\": \"Construction\", \"marker\": {\"color\": \"#00cc96\", \"size\": [96600], \"sizemode\": \"area\", \"sizeref\": 1087.25, \"symbol\": \"circle\"}, \"mode\": \"markers\", \"name\": \"Construction\", \"showlegend\": true, \"type\": \"scatter\", \"x\": [\"Construction\"], \"xaxis\": \"x\", \"y\": [96600], \"yaxis\": \"y\"}, {\"hovertemplate\": \"Industry=%{x}<br>Years=2009<br>Employment=%{marker.size}<extra></extra>\", \"legendgroup\": \"Retail\", \"marker\": {\"color\": \"#ab63fa\", \"size\": [345400], \"sizemode\": \"area\", \"sizeref\": 1087.25, \"symbol\": \"circle\"}, \"mode\": \"markers\", \"name\": \"Retail\", \"showlegend\": true, \"type\": \"scatter\", \"x\": [\"Retail\"], \"xaxis\": \"x\", \"y\": [345400], \"yaxis\": \"y\"}, {\"hovertemplate\": \"Industry=%{x}<br>Years=2009<br>Employment=%{marker.size}<extra></extra>\", \"legendgroup\": \"ICT\", \"marker\": {\"color\": \"#FFA15A\", \"size\": [27800], \"sizemode\": \"area\", \"sizeref\": 1087.25, \"symbol\": \"circle\"}, \"mode\": \"markers\", \"name\": \"ICT\", \"showlegend\": true, \"type\": \"scatter\", \"x\": [\"ICT\"], \"xaxis\": \"x\", \"y\": [27800], \"yaxis\": \"y\"}, {\"hovertemplate\": \"Industry=%{x}<br>Years=2009<br>Employment=%{marker.size}<extra></extra>\", \"legendgroup\": \"Finance\", \"marker\": {\"color\": \"#19d3f3\", \"size\": [33800], \"sizemode\": \"area\", \"sizeref\": 1087.25, \"symbol\": \"circle\"}, \"mode\": \"markers\", \"name\": \"Finance\", \"showlegend\": true, \"type\": \"scatter\", \"x\": [\"Finance\"], \"xaxis\": \"x\", \"y\": [33800], \"yaxis\": \"y\"}, {\"hovertemplate\": \"Industry=%{x}<br>Years=2009<br>Employment=%{marker.size}<extra></extra>\", \"legendgroup\": \"Real_Estate\", \"marker\": {\"color\": \"#FF6692\", \"size\": [13500], \"sizemode\": \"area\", \"sizeref\": 1087.25, \"symbol\": \"circle\"}, \"mode\": \"markers\", \"name\": \"Real_Estate\", \"showlegend\": true, \"type\": \"scatter\", \"x\": [\"Real_Estate\"], \"xaxis\": \"x\", \"y\": [13500], \"yaxis\": \"y\"}, {\"hovertemplate\": \"Industry=%{x}<br>Years=2009<br>Employment=%{marker.size}<extra></extra>\", \"legendgroup\": \"Professional_Service\", \"marker\": {\"color\": \"#B6E880\", \"size\": [144800], \"sizemode\": \"area\", \"sizeref\": 1087.25, \"symbol\": \"circle\"}, \"mode\": \"markers\", \"name\": \"Professional_Service\", \"showlegend\": true, \"type\": \"scatter\", \"x\": [\"Professional_Service\"], \"xaxis\": \"x\", \"y\": [144800], \"yaxis\": \"y\"}, {\"hovertemplate\": \"Industry=%{x}<br>Years=2009<br>Employment=%{marker.size}<extra></extra>\", \"legendgroup\": \"Public_Adminstration \", \"marker\": {\"color\": \"#FF97FF\", \"size\": [415600], \"sizemode\": \"area\", \"sizeref\": 1087.25, \"symbol\": \"circle\"}, \"mode\": \"markers\", \"name\": \"Public_Adminstration \", \"showlegend\": true, \"type\": \"scatter\", \"x\": [\"Public_Adminstration \"], \"xaxis\": \"x\", \"y\": [415600], \"yaxis\": \"y\"}, {\"hovertemplate\": \"Industry=%{x}<br>Years=2009<br>Employment=%{marker.size}<extra></extra>\", \"legendgroup\": \"Other_Service\", \"marker\": {\"color\": \"#FECB52\", \"size\": [64200], \"sizemode\": \"area\", \"sizeref\": 1087.25, \"symbol\": \"circle\"}, \"mode\": \"markers\", \"name\": \"Other_Service\", \"showlegend\": true, \"type\": \"scatter\", \"x\": [\"Other_Service\"], \"xaxis\": \"x\", \"y\": [64200], \"yaxis\": \"y\"}],\n",
       "                        {\"legend\": {\"itemsizing\": \"constant\", \"title\": {\"text\": \"Industry\"}, \"tracegroupgap\": 0}, \"margin\": {\"t\": 60}, \"sliders\": [{\"active\": 0, \"currentvalue\": {\"prefix\": \"Years=\"}, \"len\": 0.9, \"pad\": {\"b\": 10, \"t\": 60}, \"steps\": [{\"args\": [[\"2009\"], {\"frame\": {\"duration\": 0, \"redraw\": false}, \"fromcurrent\": true, \"mode\": \"immediate\", \"transition\": {\"duration\": 0, \"easing\": \"linear\"}}], \"label\": \"2009\", \"method\": \"animate\"}, {\"args\": [[\"2010\"], {\"frame\": {\"duration\": 0, \"redraw\": false}, \"fromcurrent\": true, \"mode\": \"immediate\", \"transition\": {\"duration\": 0, \"easing\": \"linear\"}}], \"label\": \"2010\", \"method\": \"animate\"}, {\"args\": [[\"2011\"], {\"frame\": {\"duration\": 0, \"redraw\": false}, \"fromcurrent\": true, \"mode\": \"immediate\", \"transition\": {\"duration\": 0, \"easing\": \"linear\"}}], \"label\": \"2011\", \"method\": \"animate\"}, {\"args\": [[\"2012\"], {\"frame\": {\"duration\": 0, \"redraw\": false}, \"fromcurrent\": true, \"mode\": \"immediate\", \"transition\": {\"duration\": 0, \"easing\": \"linear\"}}], \"label\": \"2012\", \"method\": \"animate\"}, {\"args\": [[\"2013\"], {\"frame\": {\"duration\": 0, \"redraw\": false}, \"fromcurrent\": true, \"mode\": \"immediate\", \"transition\": {\"duration\": 0, \"easing\": \"linear\"}}], \"label\": \"2013\", \"method\": \"animate\"}, {\"args\": [[\"2014\"], {\"frame\": {\"duration\": 0, \"redraw\": false}, \"fromcurrent\": true, \"mode\": \"immediate\", \"transition\": {\"duration\": 0, \"easing\": \"linear\"}}], \"label\": \"2014\", \"method\": \"animate\"}, {\"args\": [[\"2015\"], {\"frame\": {\"duration\": 0, \"redraw\": false}, \"fromcurrent\": true, \"mode\": \"immediate\", \"transition\": {\"duration\": 0, \"easing\": \"linear\"}}], \"label\": \"2015\", \"method\": \"animate\"}, {\"args\": [[\"2016\"], {\"frame\": {\"duration\": 0, \"redraw\": false}, \"fromcurrent\": true, \"mode\": \"immediate\", \"transition\": {\"duration\": 0, \"easing\": \"linear\"}}], \"label\": \"2016\", \"method\": \"animate\"}, {\"args\": [[\"2017\"], {\"frame\": {\"duration\": 0, \"redraw\": false}, \"fromcurrent\": true, \"mode\": \"immediate\", \"transition\": {\"duration\": 0, \"easing\": \"linear\"}}], \"label\": \"2017\", \"method\": \"animate\"}, {\"args\": [[\"2018\"], {\"frame\": {\"duration\": 0, \"redraw\": false}, \"fromcurrent\": true, \"mode\": \"immediate\", \"transition\": {\"duration\": 0, \"easing\": \"linear\"}}], \"label\": \"2018\", \"method\": \"animate\"}], \"x\": 0.1, \"xanchor\": \"left\", \"y\": 0, \"yanchor\": \"top\"}], \"template\": {\"data\": {\"bar\": [{\"error_x\": {\"color\": \"#2a3f5f\"}, \"error_y\": {\"color\": \"#2a3f5f\"}, \"marker\": {\"line\": {\"color\": \"#E5ECF6\", \"width\": 0.5}}, \"type\": \"bar\"}], \"barpolar\": [{\"marker\": {\"line\": {\"color\": \"#E5ECF6\", \"width\": 0.5}}, \"type\": \"barpolar\"}], \"carpet\": [{\"aaxis\": {\"endlinecolor\": \"#2a3f5f\", \"gridcolor\": \"white\", \"linecolor\": \"white\", \"minorgridcolor\": \"white\", \"startlinecolor\": \"#2a3f5f\"}, \"baxis\": {\"endlinecolor\": \"#2a3f5f\", \"gridcolor\": \"white\", \"linecolor\": \"white\", \"minorgridcolor\": \"white\", \"startlinecolor\": \"#2a3f5f\"}, \"type\": \"carpet\"}], \"choropleth\": [{\"colorbar\": {\"outlinewidth\": 0, \"ticks\": \"\"}, \"type\": \"choropleth\"}], \"contour\": [{\"colorbar\": {\"outlinewidth\": 0, \"ticks\": \"\"}, \"colorscale\": [[0.0, \"#0d0887\"], [0.1111111111111111, \"#46039f\"], [0.2222222222222222, \"#7201a8\"], [0.3333333333333333, \"#9c179e\"], [0.4444444444444444, \"#bd3786\"], [0.5555555555555556, \"#d8576b\"], [0.6666666666666666, \"#ed7953\"], [0.7777777777777778, \"#fb9f3a\"], [0.8888888888888888, \"#fdca26\"], [1.0, \"#f0f921\"]], \"type\": \"contour\"}], \"contourcarpet\": [{\"colorbar\": {\"outlinewidth\": 0, \"ticks\": \"\"}, \"type\": \"contourcarpet\"}], \"heatmap\": [{\"colorbar\": {\"outlinewidth\": 0, \"ticks\": \"\"}, \"colorscale\": [[0.0, \"#0d0887\"], [0.1111111111111111, \"#46039f\"], [0.2222222222222222, \"#7201a8\"], [0.3333333333333333, \"#9c179e\"], [0.4444444444444444, \"#bd3786\"], [0.5555555555555556, \"#d8576b\"], [0.6666666666666666, \"#ed7953\"], [0.7777777777777778, \"#fb9f3a\"], [0.8888888888888888, \"#fdca26\"], [1.0, \"#f0f921\"]], \"type\": \"heatmap\"}], \"heatmapgl\": [{\"colorbar\": {\"outlinewidth\": 0, \"ticks\": \"\"}, \"colorscale\": [[0.0, \"#0d0887\"], [0.1111111111111111, \"#46039f\"], [0.2222222222222222, \"#7201a8\"], [0.3333333333333333, \"#9c179e\"], [0.4444444444444444, \"#bd3786\"], [0.5555555555555556, \"#d8576b\"], [0.6666666666666666, \"#ed7953\"], [0.7777777777777778, \"#fb9f3a\"], [0.8888888888888888, \"#fdca26\"], [1.0, \"#f0f921\"]], \"type\": \"heatmapgl\"}], \"histogram\": [{\"marker\": {\"colorbar\": {\"outlinewidth\": 0, \"ticks\": \"\"}}, \"type\": \"histogram\"}], \"histogram2d\": [{\"colorbar\": {\"outlinewidth\": 0, \"ticks\": \"\"}, \"colorscale\": [[0.0, \"#0d0887\"], [0.1111111111111111, \"#46039f\"], [0.2222222222222222, \"#7201a8\"], [0.3333333333333333, \"#9c179e\"], [0.4444444444444444, \"#bd3786\"], [0.5555555555555556, \"#d8576b\"], [0.6666666666666666, \"#ed7953\"], [0.7777777777777778, \"#fb9f3a\"], [0.8888888888888888, \"#fdca26\"], [1.0, \"#f0f921\"]], \"type\": \"histogram2d\"}], \"histogram2dcontour\": [{\"colorbar\": {\"outlinewidth\": 0, \"ticks\": \"\"}, \"colorscale\": [[0.0, \"#0d0887\"], [0.1111111111111111, \"#46039f\"], [0.2222222222222222, \"#7201a8\"], [0.3333333333333333, \"#9c179e\"], [0.4444444444444444, \"#bd3786\"], [0.5555555555555556, \"#d8576b\"], [0.6666666666666666, \"#ed7953\"], [0.7777777777777778, \"#fb9f3a\"], [0.8888888888888888, \"#fdca26\"], [1.0, \"#f0f921\"]], \"type\": \"histogram2dcontour\"}], \"mesh3d\": [{\"colorbar\": {\"outlinewidth\": 0, \"ticks\": \"\"}, \"type\": \"mesh3d\"}], \"parcoords\": [{\"line\": {\"colorbar\": {\"outlinewidth\": 0, \"ticks\": \"\"}}, \"type\": \"parcoords\"}], \"pie\": [{\"automargin\": true, \"type\": \"pie\"}], \"scatter\": [{\"marker\": {\"colorbar\": {\"outlinewidth\": 0, \"ticks\": \"\"}}, \"type\": \"scatter\"}], \"scatter3d\": [{\"line\": {\"colorbar\": {\"outlinewidth\": 0, \"ticks\": \"\"}}, \"marker\": {\"colorbar\": {\"outlinewidth\": 0, \"ticks\": \"\"}}, \"type\": \"scatter3d\"}], \"scattercarpet\": [{\"marker\": {\"colorbar\": {\"outlinewidth\": 0, \"ticks\": \"\"}}, \"type\": \"scattercarpet\"}], \"scattergeo\": [{\"marker\": {\"colorbar\": {\"outlinewidth\": 0, \"ticks\": \"\"}}, \"type\": \"scattergeo\"}], \"scattergl\": [{\"marker\": {\"colorbar\": {\"outlinewidth\": 0, \"ticks\": \"\"}}, \"type\": \"scattergl\"}], \"scattermapbox\": [{\"marker\": {\"colorbar\": {\"outlinewidth\": 0, \"ticks\": \"\"}}, \"type\": \"scattermapbox\"}], \"scatterpolar\": [{\"marker\": {\"colorbar\": {\"outlinewidth\": 0, \"ticks\": \"\"}}, \"type\": \"scatterpolar\"}], \"scatterpolargl\": [{\"marker\": {\"colorbar\": {\"outlinewidth\": 0, \"ticks\": \"\"}}, \"type\": \"scatterpolargl\"}], \"scatterternary\": [{\"marker\": {\"colorbar\": {\"outlinewidth\": 0, \"ticks\": \"\"}}, \"type\": \"scatterternary\"}], \"surface\": [{\"colorbar\": {\"outlinewidth\": 0, \"ticks\": \"\"}, \"colorscale\": [[0.0, \"#0d0887\"], [0.1111111111111111, \"#46039f\"], [0.2222222222222222, \"#7201a8\"], [0.3333333333333333, \"#9c179e\"], [0.4444444444444444, \"#bd3786\"], [0.5555555555555556, \"#d8576b\"], [0.6666666666666666, \"#ed7953\"], [0.7777777777777778, \"#fb9f3a\"], [0.8888888888888888, \"#fdca26\"], [1.0, \"#f0f921\"]], \"type\": \"surface\"}], \"table\": [{\"cells\": {\"fill\": {\"color\": \"#EBF0F8\"}, \"line\": {\"color\": \"white\"}}, \"header\": {\"fill\": {\"color\": \"#C8D4E3\"}, \"line\": {\"color\": \"white\"}}, \"type\": \"table\"}]}, \"layout\": {\"annotationdefaults\": {\"arrowcolor\": \"#2a3f5f\", \"arrowhead\": 0, \"arrowwidth\": 1}, \"coloraxis\": {\"colorbar\": {\"outlinewidth\": 0, \"ticks\": \"\"}}, \"colorscale\": {\"diverging\": [[0, \"#8e0152\"], [0.1, \"#c51b7d\"], [0.2, \"#de77ae\"], [0.3, \"#f1b6da\"], [0.4, \"#fde0ef\"], [0.5, \"#f7f7f7\"], [0.6, \"#e6f5d0\"], [0.7, \"#b8e186\"], [0.8, \"#7fbc41\"], [0.9, \"#4d9221\"], [1, \"#276419\"]], \"sequential\": [[0.0, \"#0d0887\"], [0.1111111111111111, \"#46039f\"], [0.2222222222222222, \"#7201a8\"], [0.3333333333333333, \"#9c179e\"], [0.4444444444444444, \"#bd3786\"], [0.5555555555555556, \"#d8576b\"], [0.6666666666666666, \"#ed7953\"], [0.7777777777777778, \"#fb9f3a\"], [0.8888888888888888, \"#fdca26\"], [1.0, \"#f0f921\"]], \"sequentialminus\": [[0.0, \"#0d0887\"], [0.1111111111111111, \"#46039f\"], [0.2222222222222222, \"#7201a8\"], [0.3333333333333333, \"#9c179e\"], [0.4444444444444444, \"#bd3786\"], [0.5555555555555556, \"#d8576b\"], [0.6666666666666666, \"#ed7953\"], [0.7777777777777778, \"#fb9f3a\"], [0.8888888888888888, \"#fdca26\"], [1.0, \"#f0f921\"]]}, \"colorway\": [\"#636efa\", \"#EF553B\", \"#00cc96\", \"#ab63fa\", \"#FFA15A\", \"#19d3f3\", \"#FF6692\", \"#B6E880\", \"#FF97FF\", \"#FECB52\"], \"font\": {\"color\": \"#2a3f5f\"}, \"geo\": {\"bgcolor\": \"white\", \"lakecolor\": \"white\", \"landcolor\": \"#E5ECF6\", \"showlakes\": true, \"showland\": true, \"subunitcolor\": \"white\"}, \"hoverlabel\": {\"align\": \"left\"}, \"hovermode\": \"closest\", \"mapbox\": {\"style\": \"light\"}, \"paper_bgcolor\": \"white\", \"plot_bgcolor\": \"#E5ECF6\", \"polar\": {\"angularaxis\": {\"gridcolor\": \"white\", \"linecolor\": \"white\", \"ticks\": \"\"}, \"bgcolor\": \"#E5ECF6\", \"radialaxis\": {\"gridcolor\": \"white\", \"linecolor\": \"white\", \"ticks\": \"\"}}, \"scene\": {\"xaxis\": {\"backgroundcolor\": \"#E5ECF6\", \"gridcolor\": \"white\", \"gridwidth\": 2, \"linecolor\": \"white\", \"showbackground\": true, \"ticks\": \"\", \"zerolinecolor\": \"white\"}, \"yaxis\": {\"backgroundcolor\": \"#E5ECF6\", \"gridcolor\": \"white\", \"gridwidth\": 2, \"linecolor\": \"white\", \"showbackground\": true, \"ticks\": \"\", \"zerolinecolor\": \"white\"}, \"zaxis\": {\"backgroundcolor\": \"#E5ECF6\", \"gridcolor\": \"white\", \"gridwidth\": 2, \"linecolor\": \"white\", \"showbackground\": true, \"ticks\": \"\", \"zerolinecolor\": \"white\"}}, \"shapedefaults\": {\"line\": {\"color\": \"#2a3f5f\"}}, \"ternary\": {\"aaxis\": {\"gridcolor\": \"white\", \"linecolor\": \"white\", \"ticks\": \"\"}, \"baxis\": {\"gridcolor\": \"white\", \"linecolor\": \"white\", \"ticks\": \"\"}, \"bgcolor\": \"#E5ECF6\", \"caxis\": {\"gridcolor\": \"white\", \"linecolor\": \"white\", \"ticks\": \"\"}}, \"title\": {\"x\": 0.05}, \"xaxis\": {\"automargin\": true, \"gridcolor\": \"white\", \"linecolor\": \"white\", \"ticks\": \"\", \"title\": {\"standoff\": 15}, \"zerolinecolor\": \"white\", \"zerolinewidth\": 2}, \"yaxis\": {\"automargin\": true, \"gridcolor\": \"white\", \"linecolor\": \"white\", \"ticks\": \"\", \"title\": {\"standoff\": 15}, \"zerolinecolor\": \"white\", \"zerolinewidth\": 2}}}, \"updatemenus\": [{\"buttons\": [{\"args\": [null, {\"frame\": {\"duration\": 500, \"redraw\": false}, \"fromcurrent\": true, \"mode\": \"immediate\", \"transition\": {\"duration\": 500, \"easing\": \"linear\"}}], \"label\": \"&#9654;\", \"method\": \"animate\"}, {\"args\": [[null], {\"frame\": {\"duration\": 0, \"redraw\": false}, \"fromcurrent\": true, \"mode\": \"immediate\", \"transition\": {\"duration\": 0, \"easing\": \"linear\"}}], \"label\": \"&#9724;\", \"method\": \"animate\"}], \"direction\": \"left\", \"pad\": {\"r\": 10, \"t\": 70}, \"showactive\": false, \"type\": \"buttons\", \"x\": 0.1, \"xanchor\": \"right\", \"y\": 0, \"yanchor\": \"top\"}], \"xaxis\": {\"anchor\": \"y\", \"categoryarray\": [\"Agriculture\", \"Production\", \"Construction\", \"Retail\", \"ICT\", \"Finance\", \"Real_Estate\", \"Professional_Service\", \"Public_Adminstration \", \"Other_Service\"], \"categoryorder\": \"array\", \"domain\": [0.0, 1.0], \"title\": {\"text\": \"Industry\"}}, \"yaxis\": {\"anchor\": \"x\", \"domain\": [0.0, 1.0], \"title\": {\"text\": \"Employment\"}}},\n",
       "                        {\"responsive\": true}\n",
       "                    ).then(function(){\n",
       "                            Plotly.addFrames('a72f8bca-355a-42aa-a32d-a422439bd4be', [{\"data\": [{\"hovertemplate\": \"Industry=%{x}<br>Years=2009<br>Employment=%{marker.size}<extra></extra>\", \"legendgroup\": \"Agriculture\", \"marker\": {\"color\": \"#636efa\", \"size\": [37700], \"sizemode\": \"area\", \"sizeref\": 1087.25, \"symbol\": \"circle\"}, \"mode\": \"markers\", \"name\": \"Agriculture\", \"showlegend\": true, \"x\": [\"Agriculture\"], \"xaxis\": \"x\", \"y\": [37700], \"yaxis\": \"y\", \"type\": \"scatter\"}, {\"hovertemplate\": \"Industry=%{x}<br>Years=2009<br>Employment=%{marker.size}<extra></extra>\", \"legendgroup\": \"Production\", \"marker\": {\"color\": \"#EF553B\", \"size\": [156700], \"sizemode\": \"area\", \"sizeref\": 1087.25, \"symbol\": \"circle\"}, \"mode\": \"markers\", \"name\": \"Production\", \"showlegend\": true, \"x\": [\"Production\"], \"xaxis\": \"x\", \"y\": [156700], \"yaxis\": \"y\", \"type\": \"scatter\"}, {\"hovertemplate\": \"Industry=%{x}<br>Years=2009<br>Employment=%{marker.size}<extra></extra>\", \"legendgroup\": \"Construction\", \"marker\": {\"color\": \"#00cc96\", \"size\": [96600], \"sizemode\": \"area\", \"sizeref\": 1087.25, \"symbol\": \"circle\"}, \"mode\": \"markers\", \"name\": \"Construction\", \"showlegend\": true, \"x\": [\"Construction\"], \"xaxis\": \"x\", \"y\": [96600], \"yaxis\": \"y\", \"type\": \"scatter\"}, {\"hovertemplate\": \"Industry=%{x}<br>Years=2009<br>Employment=%{marker.size}<extra></extra>\", \"legendgroup\": \"Retail\", \"marker\": {\"color\": \"#ab63fa\", \"size\": [345400], \"sizemode\": \"area\", \"sizeref\": 1087.25, \"symbol\": \"circle\"}, \"mode\": \"markers\", \"name\": \"Retail\", \"showlegend\": true, \"x\": [\"Retail\"], \"xaxis\": \"x\", \"y\": [345400], \"yaxis\": \"y\", \"type\": \"scatter\"}, {\"hovertemplate\": \"Industry=%{x}<br>Years=2009<br>Employment=%{marker.size}<extra></extra>\", \"legendgroup\": \"ICT\", \"marker\": {\"color\": \"#FFA15A\", \"size\": [27800], \"sizemode\": \"area\", \"sizeref\": 1087.25, \"symbol\": \"circle\"}, \"mode\": \"markers\", \"name\": \"ICT\", \"showlegend\": true, \"x\": [\"ICT\"], \"xaxis\": \"x\", \"y\": [27800], \"yaxis\": \"y\", \"type\": \"scatter\"}, {\"hovertemplate\": \"Industry=%{x}<br>Years=2009<br>Employment=%{marker.size}<extra></extra>\", \"legendgroup\": \"Finance\", \"marker\": {\"color\": \"#19d3f3\", \"size\": [33800], \"sizemode\": \"area\", \"sizeref\": 1087.25, \"symbol\": \"circle\"}, \"mode\": \"markers\", \"name\": \"Finance\", \"showlegend\": true, \"x\": [\"Finance\"], \"xaxis\": \"x\", \"y\": [33800], \"yaxis\": \"y\", \"type\": \"scatter\"}, {\"hovertemplate\": \"Industry=%{x}<br>Years=2009<br>Employment=%{marker.size}<extra></extra>\", \"legendgroup\": \"Real_Estate\", \"marker\": {\"color\": \"#FF6692\", \"size\": [13500], \"sizemode\": \"area\", \"sizeref\": 1087.25, \"symbol\": \"circle\"}, \"mode\": \"markers\", \"name\": \"Real_Estate\", \"showlegend\": true, \"x\": [\"Real_Estate\"], \"xaxis\": \"x\", \"y\": [13500], \"yaxis\": \"y\", \"type\": \"scatter\"}, {\"hovertemplate\": \"Industry=%{x}<br>Years=2009<br>Employment=%{marker.size}<extra></extra>\", \"legendgroup\": \"Professional_Service\", \"marker\": {\"color\": \"#B6E880\", \"size\": [144800], \"sizemode\": \"area\", \"sizeref\": 1087.25, \"symbol\": \"circle\"}, \"mode\": \"markers\", \"name\": \"Professional_Service\", \"showlegend\": true, \"x\": [\"Professional_Service\"], \"xaxis\": \"x\", \"y\": [144800], \"yaxis\": \"y\", \"type\": \"scatter\"}, {\"hovertemplate\": \"Industry=%{x}<br>Years=2009<br>Employment=%{marker.size}<extra></extra>\", \"legendgroup\": \"Public_Adminstration \", \"marker\": {\"color\": \"#FF97FF\", \"size\": [415600], \"sizemode\": \"area\", \"sizeref\": 1087.25, \"symbol\": \"circle\"}, \"mode\": \"markers\", \"name\": \"Public_Adminstration \", \"showlegend\": true, \"x\": [\"Public_Adminstration \"], \"xaxis\": \"x\", \"y\": [415600], \"yaxis\": \"y\", \"type\": \"scatter\"}, {\"hovertemplate\": \"Industry=%{x}<br>Years=2009<br>Employment=%{marker.size}<extra></extra>\", \"legendgroup\": \"Other_Service\", \"marker\": {\"color\": \"#FECB52\", \"size\": [64200], \"sizemode\": \"area\", \"sizeref\": 1087.25, \"symbol\": \"circle\"}, \"mode\": \"markers\", \"name\": \"Other_Service\", \"showlegend\": true, \"x\": [\"Other_Service\"], \"xaxis\": \"x\", \"y\": [64200], \"yaxis\": \"y\", \"type\": \"scatter\"}], \"name\": \"2009\"}, {\"data\": [{\"hovertemplate\": \"Industry=%{x}<br>Years=2010<br>Employment=%{marker.size}<extra></extra>\", \"legendgroup\": \"Agriculture\", \"marker\": {\"color\": \"#636efa\", \"size\": [38200], \"sizemode\": \"area\", \"sizeref\": 1087.25, \"symbol\": \"circle\"}, \"mode\": \"markers\", \"name\": \"Agriculture\", \"showlegend\": true, \"x\": [\"Agriculture\"], \"xaxis\": \"x\", \"y\": [38200], \"yaxis\": \"y\", \"type\": \"scatter\"}, {\"hovertemplate\": \"Industry=%{x}<br>Years=2010<br>Employment=%{marker.size}<extra></extra>\", \"legendgroup\": \"Production\", \"marker\": {\"color\": \"#EF553B\", \"size\": [149800], \"sizemode\": \"area\", \"sizeref\": 1087.25, \"symbol\": \"circle\"}, \"mode\": \"markers\", \"name\": \"Production\", \"showlegend\": true, \"x\": [\"Production\"], \"xaxis\": \"x\", \"y\": [149800], \"yaxis\": \"y\", \"type\": \"scatter\"}, {\"hovertemplate\": \"Industry=%{x}<br>Years=2010<br>Employment=%{marker.size}<extra></extra>\", \"legendgroup\": \"Construction\", \"marker\": {\"color\": \"#00cc96\", \"size\": [93200], \"sizemode\": \"area\", \"sizeref\": 1087.25, \"symbol\": \"circle\"}, \"mode\": \"markers\", \"name\": \"Construction\", \"showlegend\": true, \"x\": [\"Construction\"], \"xaxis\": \"x\", \"y\": [93200], \"yaxis\": \"y\", \"type\": \"scatter\"}, {\"hovertemplate\": \"Industry=%{x}<br>Years=2010<br>Employment=%{marker.size}<extra></extra>\", \"legendgroup\": \"Retail\", \"marker\": {\"color\": \"#ab63fa\", \"size\": [344500], \"sizemode\": \"area\", \"sizeref\": 1087.25, \"symbol\": \"circle\"}, \"mode\": \"markers\", \"name\": \"Retail\", \"showlegend\": true, \"x\": [\"Retail\"], \"xaxis\": \"x\", \"y\": [344500], \"yaxis\": \"y\", \"type\": \"scatter\"}, {\"hovertemplate\": \"Industry=%{x}<br>Years=2010<br>Employment=%{marker.size}<extra></extra>\", \"legendgroup\": \"ICT\", \"marker\": {\"color\": \"#FFA15A\", \"size\": [27900], \"sizemode\": \"area\", \"sizeref\": 1087.25, \"symbol\": \"circle\"}, \"mode\": \"markers\", \"name\": \"ICT\", \"showlegend\": true, \"x\": [\"ICT\"], \"xaxis\": \"x\", \"y\": [27900], \"yaxis\": \"y\", \"type\": \"scatter\"}, {\"hovertemplate\": \"Industry=%{x}<br>Years=2010<br>Employment=%{marker.size}<extra></extra>\", \"legendgroup\": \"Finance\", \"marker\": {\"color\": \"#19d3f3\", \"size\": [29800], \"sizemode\": \"area\", \"sizeref\": 1087.25, \"symbol\": \"circle\"}, \"mode\": \"markers\", \"name\": \"Finance\", \"showlegend\": true, \"x\": [\"Finance\"], \"xaxis\": \"x\", \"y\": [29800], \"yaxis\": \"y\", \"type\": \"scatter\"}, {\"hovertemplate\": \"Industry=%{x}<br>Years=2010<br>Employment=%{marker.size}<extra></extra>\", \"legendgroup\": \"Real_Estate\", \"marker\": {\"color\": \"#FF6692\", \"size\": [14600], \"sizemode\": \"area\", \"sizeref\": 1087.25, \"symbol\": \"circle\"}, \"mode\": \"markers\", \"name\": \"Real_Estate\", \"showlegend\": true, \"x\": [\"Real_Estate\"], \"xaxis\": \"x\", \"y\": [14600], \"yaxis\": \"y\", \"type\": \"scatter\"}, {\"hovertemplate\": \"Industry=%{x}<br>Years=2010<br>Employment=%{marker.size}<extra></extra>\", \"legendgroup\": \"Professional_Service\", \"marker\": {\"color\": \"#B6E880\", \"size\": [145800], \"sizemode\": \"area\", \"sizeref\": 1087.25, \"symbol\": \"circle\"}, \"mode\": \"markers\", \"name\": \"Professional_Service\", \"showlegend\": true, \"x\": [\"Professional_Service\"], \"xaxis\": \"x\", \"y\": [145800], \"yaxis\": \"y\", \"type\": \"scatter\"}, {\"hovertemplate\": \"Industry=%{x}<br>Years=2010<br>Employment=%{marker.size}<extra></extra>\", \"legendgroup\": \"Public_Adminstration \", \"marker\": {\"color\": \"#FF97FF\", \"size\": [418600], \"sizemode\": \"area\", \"sizeref\": 1087.25, \"symbol\": \"circle\"}, \"mode\": \"markers\", \"name\": \"Public_Adminstration \", \"showlegend\": true, \"x\": [\"Public_Adminstration \"], \"xaxis\": \"x\", \"y\": [418600], \"yaxis\": \"y\", \"type\": \"scatter\"}, {\"hovertemplate\": \"Industry=%{x}<br>Years=2010<br>Employment=%{marker.size}<extra></extra>\", \"legendgroup\": \"Other_Service\", \"marker\": {\"color\": \"#FECB52\", \"size\": [68000], \"sizemode\": \"area\", \"sizeref\": 1087.25, \"symbol\": \"circle\"}, \"mode\": \"markers\", \"name\": \"Other_Service\", \"showlegend\": true, \"x\": [\"Other_Service\"], \"xaxis\": \"x\", \"y\": [68000], \"yaxis\": \"y\", \"type\": \"scatter\"}], \"name\": \"2010\"}, {\"data\": [{\"hovertemplate\": \"Industry=%{x}<br>Years=2011<br>Employment=%{marker.size}<extra></extra>\", \"legendgroup\": \"Agriculture\", \"marker\": {\"color\": \"#636efa\", \"size\": [36100], \"sizemode\": \"area\", \"sizeref\": 1087.25, \"symbol\": \"circle\"}, \"mode\": \"markers\", \"name\": \"Agriculture\", \"showlegend\": true, \"x\": [\"Agriculture\"], \"xaxis\": \"x\", \"y\": [36100], \"yaxis\": \"y\", \"type\": \"scatter\"}, {\"hovertemplate\": \"Industry=%{x}<br>Years=2011<br>Employment=%{marker.size}<extra></extra>\", \"legendgroup\": \"Production\", \"marker\": {\"color\": \"#EF553B\", \"size\": [158600], \"sizemode\": \"area\", \"sizeref\": 1087.25, \"symbol\": \"circle\"}, \"mode\": \"markers\", \"name\": \"Production\", \"showlegend\": true, \"x\": [\"Production\"], \"xaxis\": \"x\", \"y\": [158600], \"yaxis\": \"y\", \"type\": \"scatter\"}, {\"hovertemplate\": \"Industry=%{x}<br>Years=2011<br>Employment=%{marker.size}<extra></extra>\", \"legendgroup\": \"Construction\", \"marker\": {\"color\": \"#00cc96\", \"size\": [90000], \"sizemode\": \"area\", \"sizeref\": 1087.25, \"symbol\": \"circle\"}, \"mode\": \"markers\", \"name\": \"Construction\", \"showlegend\": true, \"x\": [\"Construction\"], \"xaxis\": \"x\", \"y\": [90000], \"yaxis\": \"y\", \"type\": \"scatter\"}, {\"hovertemplate\": \"Industry=%{x}<br>Years=2011<br>Employment=%{marker.size}<extra></extra>\", \"legendgroup\": \"Retail\", \"marker\": {\"color\": \"#ab63fa\", \"size\": [343100], \"sizemode\": \"area\", \"sizeref\": 1087.25, \"symbol\": \"circle\"}, \"mode\": \"markers\", \"name\": \"Retail\", \"showlegend\": true, \"x\": [\"Retail\"], \"xaxis\": \"x\", \"y\": [343100], \"yaxis\": \"y\", \"type\": \"scatter\"}, {\"hovertemplate\": \"Industry=%{x}<br>Years=2011<br>Employment=%{marker.size}<extra></extra>\", \"legendgroup\": \"ICT\", \"marker\": {\"color\": \"#FFA15A\", \"size\": [26400], \"sizemode\": \"area\", \"sizeref\": 1087.25, \"symbol\": \"circle\"}, \"mode\": \"markers\", \"name\": \"ICT\", \"showlegend\": true, \"x\": [\"ICT\"], \"xaxis\": \"x\", \"y\": [26400], \"yaxis\": \"y\", \"type\": \"scatter\"}, {\"hovertemplate\": \"Industry=%{x}<br>Years=2011<br>Employment=%{marker.size}<extra></extra>\", \"legendgroup\": \"Finance\", \"marker\": {\"color\": \"#19d3f3\", \"size\": [33200], \"sizemode\": \"area\", \"sizeref\": 1087.25, \"symbol\": \"circle\"}, \"mode\": \"markers\", \"name\": \"Finance\", \"showlegend\": true, \"x\": [\"Finance\"], \"xaxis\": \"x\", \"y\": [33200], \"yaxis\": \"y\", \"type\": \"scatter\"}, {\"hovertemplate\": \"Industry=%{x}<br>Years=2011<br>Employment=%{marker.size}<extra></extra>\", \"legendgroup\": \"Real_Estate\", \"marker\": {\"color\": \"#FF6692\", \"size\": [17600], \"sizemode\": \"area\", \"sizeref\": 1087.25, \"symbol\": \"circle\"}, \"mode\": \"markers\", \"name\": \"Real_Estate\", \"showlegend\": true, \"x\": [\"Real_Estate\"], \"xaxis\": \"x\", \"y\": [17600], \"yaxis\": \"y\", \"type\": \"scatter\"}, {\"hovertemplate\": \"Industry=%{x}<br>Years=2011<br>Employment=%{marker.size}<extra></extra>\", \"legendgroup\": \"Professional_Service\", \"marker\": {\"color\": \"#B6E880\", \"size\": [143600], \"sizemode\": \"area\", \"sizeref\": 1087.25, \"symbol\": \"circle\"}, \"mode\": \"markers\", \"name\": \"Professional_Service\", \"showlegend\": true, \"x\": [\"Professional_Service\"], \"xaxis\": \"x\", \"y\": [143600], \"yaxis\": \"y\", \"type\": \"scatter\"}, {\"hovertemplate\": \"Industry=%{x}<br>Years=2011<br>Employment=%{marker.size}<extra></extra>\", \"legendgroup\": \"Public_Adminstration \", \"marker\": {\"color\": \"#FF97FF\", \"size\": [425600], \"sizemode\": \"area\", \"sizeref\": 1087.25, \"symbol\": \"circle\"}, \"mode\": \"markers\", \"name\": \"Public_Adminstration \", \"showlegend\": true, \"x\": [\"Public_Adminstration \"], \"xaxis\": \"x\", \"y\": [425600], \"yaxis\": \"y\", \"type\": \"scatter\"}, {\"hovertemplate\": \"Industry=%{x}<br>Years=2011<br>Employment=%{marker.size}<extra></extra>\", \"legendgroup\": \"Other_Service\", \"marker\": {\"color\": \"#FECB52\", \"size\": [72400], \"sizemode\": \"area\", \"sizeref\": 1087.25, \"symbol\": \"circle\"}, \"mode\": \"markers\", \"name\": \"Other_Service\", \"showlegend\": true, \"x\": [\"Other_Service\"], \"xaxis\": \"x\", \"y\": [72400], \"yaxis\": \"y\", \"type\": \"scatter\"}], \"name\": \"2011\"}, {\"data\": [{\"hovertemplate\": \"Industry=%{x}<br>Years=2012<br>Employment=%{marker.size}<extra></extra>\", \"legendgroup\": \"Agriculture\", \"marker\": {\"color\": \"#636efa\", \"size\": [36100], \"sizemode\": \"area\", \"sizeref\": 1087.25, \"symbol\": \"circle\"}, \"mode\": \"markers\", \"name\": \"Agriculture\", \"showlegend\": true, \"x\": [\"Agriculture\"], \"xaxis\": \"x\", \"y\": [36100], \"yaxis\": \"y\", \"type\": \"scatter\"}, {\"hovertemplate\": \"Industry=%{x}<br>Years=2012<br>Employment=%{marker.size}<extra></extra>\", \"legendgroup\": \"Production\", \"marker\": {\"color\": \"#EF553B\", \"size\": [154400], \"sizemode\": \"area\", \"sizeref\": 1087.25, \"symbol\": \"circle\"}, \"mode\": \"markers\", \"name\": \"Production\", \"showlegend\": true, \"x\": [\"Production\"], \"xaxis\": \"x\", \"y\": [154400], \"yaxis\": \"y\", \"type\": \"scatter\"}, {\"hovertemplate\": \"Industry=%{x}<br>Years=2012<br>Employment=%{marker.size}<extra></extra>\", \"legendgroup\": \"Construction\", \"marker\": {\"color\": \"#00cc96\", \"size\": [91300], \"sizemode\": \"area\", \"sizeref\": 1087.25, \"symbol\": \"circle\"}, \"mode\": \"markers\", \"name\": \"Construction\", \"showlegend\": true, \"x\": [\"Construction\"], \"xaxis\": \"x\", \"y\": [91300], \"yaxis\": \"y\", \"type\": \"scatter\"}, {\"hovertemplate\": \"Industry=%{x}<br>Years=2012<br>Employment=%{marker.size}<extra></extra>\", \"legendgroup\": \"Retail\", \"marker\": {\"color\": \"#ab63fa\", \"size\": [347300], \"sizemode\": \"area\", \"sizeref\": 1087.25, \"symbol\": \"circle\"}, \"mode\": \"markers\", \"name\": \"Retail\", \"showlegend\": true, \"x\": [\"Retail\"], \"xaxis\": \"x\", \"y\": [347300], \"yaxis\": \"y\", \"type\": \"scatter\"}, {\"hovertemplate\": \"Industry=%{x}<br>Years=2012<br>Employment=%{marker.size}<extra></extra>\", \"legendgroup\": \"ICT\", \"marker\": {\"color\": \"#FFA15A\", \"size\": [27200], \"sizemode\": \"area\", \"sizeref\": 1087.25, \"symbol\": \"circle\"}, \"mode\": \"markers\", \"name\": \"ICT\", \"showlegend\": true, \"x\": [\"ICT\"], \"xaxis\": \"x\", \"y\": [27200], \"yaxis\": \"y\", \"type\": \"scatter\"}, {\"hovertemplate\": \"Industry=%{x}<br>Years=2012<br>Employment=%{marker.size}<extra></extra>\", \"legendgroup\": \"Finance\", \"marker\": {\"color\": \"#19d3f3\", \"size\": [31100], \"sizemode\": \"area\", \"sizeref\": 1087.25, \"symbol\": \"circle\"}, \"mode\": \"markers\", \"name\": \"Finance\", \"showlegend\": true, \"x\": [\"Finance\"], \"xaxis\": \"x\", \"y\": [31100], \"yaxis\": \"y\", \"type\": \"scatter\"}, {\"hovertemplate\": \"Industry=%{x}<br>Years=2012<br>Employment=%{marker.size}<extra></extra>\", \"legendgroup\": \"Real_Estate\", \"marker\": {\"color\": \"#FF6692\", \"size\": [18800], \"sizemode\": \"area\", \"sizeref\": 1087.25, \"symbol\": \"circle\"}, \"mode\": \"markers\", \"name\": \"Real_Estate\", \"showlegend\": true, \"x\": [\"Real_Estate\"], \"xaxis\": \"x\", \"y\": [18800], \"yaxis\": \"y\", \"type\": \"scatter\"}, {\"hovertemplate\": \"Industry=%{x}<br>Years=2012<br>Employment=%{marker.size}<extra></extra>\", \"legendgroup\": \"Professional_Service\", \"marker\": {\"color\": \"#B6E880\", \"size\": [137300], \"sizemode\": \"area\", \"sizeref\": 1087.25, \"symbol\": \"circle\"}, \"mode\": \"markers\", \"name\": \"Professional_Service\", \"showlegend\": true, \"x\": [\"Professional_Service\"], \"xaxis\": \"x\", \"y\": [137300], \"yaxis\": \"y\", \"type\": \"scatter\"}, {\"hovertemplate\": \"Industry=%{x}<br>Years=2012<br>Employment=%{marker.size}<extra></extra>\", \"legendgroup\": \"Public_Adminstration \", \"marker\": {\"color\": \"#FF97FF\", \"size\": [421000], \"sizemode\": \"area\", \"sizeref\": 1087.25, \"symbol\": \"circle\"}, \"mode\": \"markers\", \"name\": \"Public_Adminstration \", \"showlegend\": true, \"x\": [\"Public_Adminstration \"], \"xaxis\": \"x\", \"y\": [421000], \"yaxis\": \"y\", \"type\": \"scatter\"}, {\"hovertemplate\": \"Industry=%{x}<br>Years=2012<br>Employment=%{marker.size}<extra></extra>\", \"legendgroup\": \"Other_Service\", \"marker\": {\"color\": \"#FECB52\", \"size\": [72800], \"sizemode\": \"area\", \"sizeref\": 1087.25, \"symbol\": \"circle\"}, \"mode\": \"markers\", \"name\": \"Other_Service\", \"showlegend\": true, \"x\": [\"Other_Service\"], \"xaxis\": \"x\", \"y\": [72800], \"yaxis\": \"y\", \"type\": \"scatter\"}], \"name\": \"2012\"}, {\"data\": [{\"hovertemplate\": \"Industry=%{x}<br>Years=2013<br>Employment=%{marker.size}<extra></extra>\", \"legendgroup\": \"Agriculture\", \"marker\": {\"color\": \"#636efa\", \"size\": [36800], \"sizemode\": \"area\", \"sizeref\": 1087.25, \"symbol\": \"circle\"}, \"mode\": \"markers\", \"name\": \"Agriculture\", \"showlegend\": true, \"x\": [\"Agriculture\"], \"xaxis\": \"x\", \"y\": [36800], \"yaxis\": \"y\", \"type\": \"scatter\"}, {\"hovertemplate\": \"Industry=%{x}<br>Years=2013<br>Employment=%{marker.size}<extra></extra>\", \"legendgroup\": \"Production\", \"marker\": {\"color\": \"#EF553B\", \"size\": [164200], \"sizemode\": \"area\", \"sizeref\": 1087.25, \"symbol\": \"circle\"}, \"mode\": \"markers\", \"name\": \"Production\", \"showlegend\": true, \"x\": [\"Production\"], \"xaxis\": \"x\", \"y\": [164200], \"yaxis\": \"y\", \"type\": \"scatter\"}, {\"hovertemplate\": \"Industry=%{x}<br>Years=2013<br>Employment=%{marker.size}<extra></extra>\", \"legendgroup\": \"Construction\", \"marker\": {\"color\": \"#00cc96\", \"size\": [89300], \"sizemode\": \"area\", \"sizeref\": 1087.25, \"symbol\": \"circle\"}, \"mode\": \"markers\", \"name\": \"Construction\", \"showlegend\": true, \"x\": [\"Construction\"], \"xaxis\": \"x\", \"y\": [89300], \"yaxis\": \"y\", \"type\": \"scatter\"}, {\"hovertemplate\": \"Industry=%{x}<br>Years=2013<br>Employment=%{marker.size}<extra></extra>\", \"legendgroup\": \"Retail\", \"marker\": {\"color\": \"#ab63fa\", \"size\": [345100], \"sizemode\": \"area\", \"sizeref\": 1087.25, \"symbol\": \"circle\"}, \"mode\": \"markers\", \"name\": \"Retail\", \"showlegend\": true, \"x\": [\"Retail\"], \"xaxis\": \"x\", \"y\": [345100], \"yaxis\": \"y\", \"type\": \"scatter\"}, {\"hovertemplate\": \"Industry=%{x}<br>Years=2013<br>Employment=%{marker.size}<extra></extra>\", \"legendgroup\": \"ICT\", \"marker\": {\"color\": \"#FFA15A\", \"size\": [26900], \"sizemode\": \"area\", \"sizeref\": 1087.25, \"symbol\": \"circle\"}, \"mode\": \"markers\", \"name\": \"ICT\", \"showlegend\": true, \"x\": [\"ICT\"], \"xaxis\": \"x\", \"y\": [26900], \"yaxis\": \"y\", \"type\": \"scatter\"}, {\"hovertemplate\": \"Industry=%{x}<br>Years=2013<br>Employment=%{marker.size}<extra></extra>\", \"legendgroup\": \"Finance\", \"marker\": {\"color\": \"#19d3f3\", \"size\": [32400], \"sizemode\": \"area\", \"sizeref\": 1087.25, \"symbol\": \"circle\"}, \"mode\": \"markers\", \"name\": \"Finance\", \"showlegend\": true, \"x\": [\"Finance\"], \"xaxis\": \"x\", \"y\": [32400], \"yaxis\": \"y\", \"type\": \"scatter\"}, {\"hovertemplate\": \"Industry=%{x}<br>Years=2013<br>Employment=%{marker.size}<extra></extra>\", \"legendgroup\": \"Real_Estate\", \"marker\": {\"color\": \"#FF6692\", \"size\": [18000], \"sizemode\": \"area\", \"sizeref\": 1087.25, \"symbol\": \"circle\"}, \"mode\": \"markers\", \"name\": \"Real_Estate\", \"showlegend\": true, \"x\": [\"Real_Estate\"], \"xaxis\": \"x\", \"y\": [18000], \"yaxis\": \"y\", \"type\": \"scatter\"}, {\"hovertemplate\": \"Industry=%{x}<br>Years=2013<br>Employment=%{marker.size}<extra></extra>\", \"legendgroup\": \"Professional_Service\", \"marker\": {\"color\": \"#B6E880\", \"size\": [149900], \"sizemode\": \"area\", \"sizeref\": 1087.25, \"symbol\": \"circle\"}, \"mode\": \"markers\", \"name\": \"Professional_Service\", \"showlegend\": true, \"x\": [\"Professional_Service\"], \"xaxis\": \"x\", \"y\": [149900], \"yaxis\": \"y\", \"type\": \"scatter\"}, {\"hovertemplate\": \"Industry=%{x}<br>Years=2013<br>Employment=%{marker.size}<extra></extra>\", \"legendgroup\": \"Public_Adminstration \", \"marker\": {\"color\": \"#FF97FF\", \"size\": [427000], \"sizemode\": \"area\", \"sizeref\": 1087.25, \"symbol\": \"circle\"}, \"mode\": \"markers\", \"name\": \"Public_Adminstration \", \"showlegend\": true, \"x\": [\"Public_Adminstration \"], \"xaxis\": \"x\", \"y\": [427000], \"yaxis\": \"y\", \"type\": \"scatter\"}, {\"hovertemplate\": \"Industry=%{x}<br>Years=2013<br>Employment=%{marker.size}<extra></extra>\", \"legendgroup\": \"Other_Service\", \"marker\": {\"color\": \"#FECB52\", \"size\": [75500], \"sizemode\": \"area\", \"sizeref\": 1087.25, \"symbol\": \"circle\"}, \"mode\": \"markers\", \"name\": \"Other_Service\", \"showlegend\": true, \"x\": [\"Other_Service\"], \"xaxis\": \"x\", \"y\": [75500], \"yaxis\": \"y\", \"type\": \"scatter\"}], \"name\": \"2013\"}, {\"data\": [{\"hovertemplate\": \"Industry=%{x}<br>Years=2014<br>Employment=%{marker.size}<extra></extra>\", \"legendgroup\": \"Agriculture\", \"marker\": {\"color\": \"#636efa\", \"size\": [42700], \"sizemode\": \"area\", \"sizeref\": 1087.25, \"symbol\": \"circle\"}, \"mode\": \"markers\", \"name\": \"Agriculture\", \"showlegend\": true, \"x\": [\"Agriculture\"], \"xaxis\": \"x\", \"y\": [42700], \"yaxis\": \"y\", \"type\": \"scatter\"}, {\"hovertemplate\": \"Industry=%{x}<br>Years=2014<br>Employment=%{marker.size}<extra></extra>\", \"legendgroup\": \"Production\", \"marker\": {\"color\": \"#EF553B\", \"size\": [173300], \"sizemode\": \"area\", \"sizeref\": 1087.25, \"symbol\": \"circle\"}, \"mode\": \"markers\", \"name\": \"Production\", \"showlegend\": true, \"x\": [\"Production\"], \"xaxis\": \"x\", \"y\": [173300], \"yaxis\": \"y\", \"type\": \"scatter\"}, {\"hovertemplate\": \"Industry=%{x}<br>Years=2014<br>Employment=%{marker.size}<extra></extra>\", \"legendgroup\": \"Construction\", \"marker\": {\"color\": \"#00cc96\", \"size\": [97000], \"sizemode\": \"area\", \"sizeref\": 1087.25, \"symbol\": \"circle\"}, \"mode\": \"markers\", \"name\": \"Construction\", \"showlegend\": true, \"x\": [\"Construction\"], \"xaxis\": \"x\", \"y\": [97000], \"yaxis\": \"y\", \"type\": \"scatter\"}, {\"hovertemplate\": \"Industry=%{x}<br>Years=2014<br>Employment=%{marker.size}<extra></extra>\", \"legendgroup\": \"Retail\", \"marker\": {\"color\": \"#ab63fa\", \"size\": [337300], \"sizemode\": \"area\", \"sizeref\": 1087.25, \"symbol\": \"circle\"}, \"mode\": \"markers\", \"name\": \"Retail\", \"showlegend\": true, \"x\": [\"Retail\"], \"xaxis\": \"x\", \"y\": [337300], \"yaxis\": \"y\", \"type\": \"scatter\"}, {\"hovertemplate\": \"Industry=%{x}<br>Years=2014<br>Employment=%{marker.size}<extra></extra>\", \"legendgroup\": \"ICT\", \"marker\": {\"color\": \"#FFA15A\", \"size\": [35700], \"sizemode\": \"area\", \"sizeref\": 1087.25, \"symbol\": \"circle\"}, \"mode\": \"markers\", \"name\": \"ICT\", \"showlegend\": true, \"x\": [\"ICT\"], \"xaxis\": \"x\", \"y\": [35700], \"yaxis\": \"y\", \"type\": \"scatter\"}, {\"hovertemplate\": \"Industry=%{x}<br>Years=2014<br>Employment=%{marker.size}<extra></extra>\", \"legendgroup\": \"Finance\", \"marker\": {\"color\": \"#19d3f3\", \"size\": [32400], \"sizemode\": \"area\", \"sizeref\": 1087.25, \"symbol\": \"circle\"}, \"mode\": \"markers\", \"name\": \"Finance\", \"showlegend\": true, \"x\": [\"Finance\"], \"xaxis\": \"x\", \"y\": [32400], \"yaxis\": \"y\", \"type\": \"scatter\"}, {\"hovertemplate\": \"Industry=%{x}<br>Years=2014<br>Employment=%{marker.size}<extra></extra>\", \"legendgroup\": \"Real_Estate\", \"marker\": {\"color\": \"#FF6692\", \"size\": [22200], \"sizemode\": \"area\", \"sizeref\": 1087.25, \"symbol\": \"circle\"}, \"mode\": \"markers\", \"name\": \"Real_Estate\", \"showlegend\": true, \"x\": [\"Real_Estate\"], \"xaxis\": \"x\", \"y\": [22200], \"yaxis\": \"y\", \"type\": \"scatter\"}, {\"hovertemplate\": \"Industry=%{x}<br>Years=2014<br>Employment=%{marker.size}<extra></extra>\", \"legendgroup\": \"Professional_Service\", \"marker\": {\"color\": \"#B6E880\", \"size\": [152900], \"sizemode\": \"area\", \"sizeref\": 1087.25, \"symbol\": \"circle\"}, \"mode\": \"markers\", \"name\": \"Professional_Service\", \"showlegend\": true, \"x\": [\"Professional_Service\"], \"xaxis\": \"x\", \"y\": [152900], \"yaxis\": \"y\", \"type\": \"scatter\"}, {\"hovertemplate\": \"Industry=%{x}<br>Years=2014<br>Employment=%{marker.size}<extra></extra>\", \"legendgroup\": \"Public_Adminstration \", \"marker\": {\"color\": \"#FF97FF\", \"size\": [427600], \"sizemode\": \"area\", \"sizeref\": 1087.25, \"symbol\": \"circle\"}, \"mode\": \"markers\", \"name\": \"Public_Adminstration \", \"showlegend\": true, \"x\": [\"Public_Adminstration \"], \"xaxis\": \"x\", \"y\": [427600], \"yaxis\": \"y\", \"type\": \"scatter\"}, {\"hovertemplate\": \"Industry=%{x}<br>Years=2014<br>Employment=%{marker.size}<extra></extra>\", \"legendgroup\": \"Other_Service\", \"marker\": {\"color\": \"#FECB52\", \"size\": [73300], \"sizemode\": \"area\", \"sizeref\": 1087.25, \"symbol\": \"circle\"}, \"mode\": \"markers\", \"name\": \"Other_Service\", \"showlegend\": true, \"x\": [\"Other_Service\"], \"xaxis\": \"x\", \"y\": [73300], \"yaxis\": \"y\", \"type\": \"scatter\"}], \"name\": \"2014\"}, {\"data\": [{\"hovertemplate\": \"Industry=%{x}<br>Years=2015<br>Employment=%{marker.size}<extra></extra>\", \"legendgroup\": \"Agriculture\", \"marker\": {\"color\": \"#636efa\", \"size\": [40700], \"sizemode\": \"area\", \"sizeref\": 1087.25, \"symbol\": \"circle\"}, \"mode\": \"markers\", \"name\": \"Agriculture\", \"showlegend\": true, \"x\": [\"Agriculture\"], \"xaxis\": \"x\", \"y\": [40700], \"yaxis\": \"y\", \"type\": \"scatter\"}, {\"hovertemplate\": \"Industry=%{x}<br>Years=2015<br>Employment=%{marker.size}<extra></extra>\", \"legendgroup\": \"Production\", \"marker\": {\"color\": \"#EF553B\", \"size\": [172300], \"sizemode\": \"area\", \"sizeref\": 1087.25, \"symbol\": \"circle\"}, \"mode\": \"markers\", \"name\": \"Production\", \"showlegend\": true, \"x\": [\"Production\"], \"xaxis\": \"x\", \"y\": [172300], \"yaxis\": \"y\", \"type\": \"scatter\"}, {\"hovertemplate\": \"Industry=%{x}<br>Years=2015<br>Employment=%{marker.size}<extra></extra>\", \"legendgroup\": \"Construction\", \"marker\": {\"color\": \"#00cc96\", \"size\": [92600], \"sizemode\": \"area\", \"sizeref\": 1087.25, \"symbol\": \"circle\"}, \"mode\": \"markers\", \"name\": \"Construction\", \"showlegend\": true, \"x\": [\"Construction\"], \"xaxis\": \"x\", \"y\": [92600], \"yaxis\": \"y\", \"type\": \"scatter\"}, {\"hovertemplate\": \"Industry=%{x}<br>Years=2015<br>Employment=%{marker.size}<extra></extra>\", \"legendgroup\": \"Retail\", \"marker\": {\"color\": \"#ab63fa\", \"size\": [357700], \"sizemode\": \"area\", \"sizeref\": 1087.25, \"symbol\": \"circle\"}, \"mode\": \"markers\", \"name\": \"Retail\", \"showlegend\": true, \"x\": [\"Retail\"], \"xaxis\": \"x\", \"y\": [357700], \"yaxis\": \"y\", \"type\": \"scatter\"}, {\"hovertemplate\": \"Industry=%{x}<br>Years=2015<br>Employment=%{marker.size}<extra></extra>\", \"legendgroup\": \"ICT\", \"marker\": {\"color\": \"#FFA15A\", \"size\": [24000], \"sizemode\": \"area\", \"sizeref\": 1087.25, \"symbol\": \"circle\"}, \"mode\": \"markers\", \"name\": \"ICT\", \"showlegend\": true, \"x\": [\"ICT\"], \"xaxis\": \"x\", \"y\": [24000], \"yaxis\": \"y\", \"type\": \"scatter\"}, {\"hovertemplate\": \"Industry=%{x}<br>Years=2015<br>Employment=%{marker.size}<extra></extra>\", \"legendgroup\": \"Finance\", \"marker\": {\"color\": \"#19d3f3\", \"size\": [30800], \"sizemode\": \"area\", \"sizeref\": 1087.25, \"symbol\": \"circle\"}, \"mode\": \"markers\", \"name\": \"Finance\", \"showlegend\": true, \"x\": [\"Finance\"], \"xaxis\": \"x\", \"y\": [30800], \"yaxis\": \"y\", \"type\": \"scatter\"}, {\"hovertemplate\": \"Industry=%{x}<br>Years=2015<br>Employment=%{marker.size}<extra></extra>\", \"legendgroup\": \"Real_Estate\", \"marker\": {\"color\": \"#FF6692\", \"size\": [19100], \"sizemode\": \"area\", \"sizeref\": 1087.25, \"symbol\": \"circle\"}, \"mode\": \"markers\", \"name\": \"Real_Estate\", \"showlegend\": true, \"x\": [\"Real_Estate\"], \"xaxis\": \"x\", \"y\": [19100], \"yaxis\": \"y\", \"type\": \"scatter\"}, {\"hovertemplate\": \"Industry=%{x}<br>Years=2015<br>Employment=%{marker.size}<extra></extra>\", \"legendgroup\": \"Professional_Service\", \"marker\": {\"color\": \"#B6E880\", \"size\": [166200], \"sizemode\": \"area\", \"sizeref\": 1087.25, \"symbol\": \"circle\"}, \"mode\": \"markers\", \"name\": \"Professional_Service\", \"showlegend\": true, \"x\": [\"Professional_Service\"], \"xaxis\": \"x\", \"y\": [166200], \"yaxis\": \"y\", \"type\": \"scatter\"}, {\"hovertemplate\": \"Industry=%{x}<br>Years=2015<br>Employment=%{marker.size}<extra></extra>\", \"legendgroup\": \"Public_Adminstration \", \"marker\": {\"color\": \"#FF97FF\", \"size\": [423200], \"sizemode\": \"area\", \"sizeref\": 1087.25, \"symbol\": \"circle\"}, \"mode\": \"markers\", \"name\": \"Public_Adminstration \", \"showlegend\": true, \"x\": [\"Public_Adminstration \"], \"xaxis\": \"x\", \"y\": [423200], \"yaxis\": \"y\", \"type\": \"scatter\"}, {\"hovertemplate\": \"Industry=%{x}<br>Years=2015<br>Employment=%{marker.size}<extra></extra>\", \"legendgroup\": \"Other_Service\", \"marker\": {\"color\": \"#FECB52\", \"size\": [77200], \"sizemode\": \"area\", \"sizeref\": 1087.25, \"symbol\": \"circle\"}, \"mode\": \"markers\", \"name\": \"Other_Service\", \"showlegend\": true, \"x\": [\"Other_Service\"], \"xaxis\": \"x\", \"y\": [77200], \"yaxis\": \"y\", \"type\": \"scatter\"}], \"name\": \"2015\"}, {\"data\": [{\"hovertemplate\": \"Industry=%{x}<br>Years=2016<br>Employment=%{marker.size}<extra></extra>\", \"legendgroup\": \"Agriculture\", \"marker\": {\"color\": \"#636efa\", \"size\": [43200], \"sizemode\": \"area\", \"sizeref\": 1087.25, \"symbol\": \"circle\"}, \"mode\": \"markers\", \"name\": \"Agriculture\", \"showlegend\": true, \"x\": [\"Agriculture\"], \"xaxis\": \"x\", \"y\": [43200], \"yaxis\": \"y\", \"type\": \"scatter\"}, {\"hovertemplate\": \"Industry=%{x}<br>Years=2016<br>Employment=%{marker.size}<extra></extra>\", \"legendgroup\": \"Production\", \"marker\": {\"color\": \"#EF553B\", \"size\": [162500], \"sizemode\": \"area\", \"sizeref\": 1087.25, \"symbol\": \"circle\"}, \"mode\": \"markers\", \"name\": \"Production\", \"showlegend\": true, \"x\": [\"Production\"], \"xaxis\": \"x\", \"y\": [162500], \"yaxis\": \"y\", \"type\": \"scatter\"}, {\"hovertemplate\": \"Industry=%{x}<br>Years=2016<br>Employment=%{marker.size}<extra></extra>\", \"legendgroup\": \"Construction\", \"marker\": {\"color\": \"#00cc96\", \"size\": [102700], \"sizemode\": \"area\", \"sizeref\": 1087.25, \"symbol\": \"circle\"}, \"mode\": \"markers\", \"name\": \"Construction\", \"showlegend\": true, \"x\": [\"Construction\"], \"xaxis\": \"x\", \"y\": [102700], \"yaxis\": \"y\", \"type\": \"scatter\"}, {\"hovertemplate\": \"Industry=%{x}<br>Years=2016<br>Employment=%{marker.size}<extra></extra>\", \"legendgroup\": \"Retail\", \"marker\": {\"color\": \"#ab63fa\", \"size\": [360200], \"sizemode\": \"area\", \"sizeref\": 1087.25, \"symbol\": \"circle\"}, \"mode\": \"markers\", \"name\": \"Retail\", \"showlegend\": true, \"x\": [\"Retail\"], \"xaxis\": \"x\", \"y\": [360200], \"yaxis\": \"y\", \"type\": \"scatter\"}, {\"hovertemplate\": \"Industry=%{x}<br>Years=2016<br>Employment=%{marker.size}<extra></extra>\", \"legendgroup\": \"ICT\", \"marker\": {\"color\": \"#FFA15A\", \"size\": [34400], \"sizemode\": \"area\", \"sizeref\": 1087.25, \"symbol\": \"circle\"}, \"mode\": \"markers\", \"name\": \"ICT\", \"showlegend\": true, \"x\": [\"ICT\"], \"xaxis\": \"x\", \"y\": [34400], \"yaxis\": \"y\", \"type\": \"scatter\"}, {\"hovertemplate\": \"Industry=%{x}<br>Years=2016<br>Employment=%{marker.size}<extra></extra>\", \"legendgroup\": \"Finance\", \"marker\": {\"color\": \"#19d3f3\", \"size\": [31000], \"sizemode\": \"area\", \"sizeref\": 1087.25, \"symbol\": \"circle\"}, \"mode\": \"markers\", \"name\": \"Finance\", \"showlegend\": true, \"x\": [\"Finance\"], \"xaxis\": \"x\", \"y\": [31000], \"yaxis\": \"y\", \"type\": \"scatter\"}, {\"hovertemplate\": \"Industry=%{x}<br>Years=2016<br>Employment=%{marker.size}<extra></extra>\", \"legendgroup\": \"Real_Estate\", \"marker\": {\"color\": \"#FF6692\", \"size\": [22700], \"sizemode\": \"area\", \"sizeref\": 1087.25, \"symbol\": \"circle\"}, \"mode\": \"markers\", \"name\": \"Real_Estate\", \"showlegend\": true, \"x\": [\"Real_Estate\"], \"xaxis\": \"x\", \"y\": [22700], \"yaxis\": \"y\", \"type\": \"scatter\"}, {\"hovertemplate\": \"Industry=%{x}<br>Years=2016<br>Employment=%{marker.size}<extra></extra>\", \"legendgroup\": \"Professional_Service\", \"marker\": {\"color\": \"#B6E880\", \"size\": [161200], \"sizemode\": \"area\", \"sizeref\": 1087.25, \"symbol\": \"circle\"}, \"mode\": \"markers\", \"name\": \"Professional_Service\", \"showlegend\": true, \"x\": [\"Professional_Service\"], \"xaxis\": \"x\", \"y\": [161200], \"yaxis\": \"y\", \"type\": \"scatter\"}, {\"hovertemplate\": \"Industry=%{x}<br>Years=2016<br>Employment=%{marker.size}<extra></extra>\", \"legendgroup\": \"Public_Adminstration \", \"marker\": {\"color\": \"#FF97FF\", \"size\": [418500], \"sizemode\": \"area\", \"sizeref\": 1087.25, \"symbol\": \"circle\"}, \"mode\": \"markers\", \"name\": \"Public_Adminstration \", \"showlegend\": true, \"x\": [\"Public_Adminstration \"], \"xaxis\": \"x\", \"y\": [418500], \"yaxis\": \"y\", \"type\": \"scatter\"}, {\"hovertemplate\": \"Industry=%{x}<br>Years=2016<br>Employment=%{marker.size}<extra></extra>\", \"legendgroup\": \"Other_Service\", \"marker\": {\"color\": \"#FECB52\", \"size\": [72400], \"sizemode\": \"area\", \"sizeref\": 1087.25, \"symbol\": \"circle\"}, \"mode\": \"markers\", \"name\": \"Other_Service\", \"showlegend\": true, \"x\": [\"Other_Service\"], \"xaxis\": \"x\", \"y\": [72400], \"yaxis\": \"y\", \"type\": \"scatter\"}], \"name\": \"2016\"}, {\"data\": [{\"hovertemplate\": \"Industry=%{x}<br>Years=2017<br>Employment=%{marker.size}<extra></extra>\", \"legendgroup\": \"Agriculture\", \"marker\": {\"color\": \"#636efa\", \"size\": [40200], \"sizemode\": \"area\", \"sizeref\": 1087.25, \"symbol\": \"circle\"}, \"mode\": \"markers\", \"name\": \"Agriculture\", \"showlegend\": true, \"x\": [\"Agriculture\"], \"xaxis\": \"x\", \"y\": [40200], \"yaxis\": \"y\", \"type\": \"scatter\"}, {\"hovertemplate\": \"Industry=%{x}<br>Years=2017<br>Employment=%{marker.size}<extra></extra>\", \"legendgroup\": \"Production\", \"marker\": {\"color\": \"#EF553B\", \"size\": [165100], \"sizemode\": \"area\", \"sizeref\": 1087.25, \"symbol\": \"circle\"}, \"mode\": \"markers\", \"name\": \"Production\", \"showlegend\": true, \"x\": [\"Production\"], \"xaxis\": \"x\", \"y\": [165100], \"yaxis\": \"y\", \"type\": \"scatter\"}, {\"hovertemplate\": \"Industry=%{x}<br>Years=2017<br>Employment=%{marker.size}<extra></extra>\", \"legendgroup\": \"Construction\", \"marker\": {\"color\": \"#00cc96\", \"size\": [90800], \"sizemode\": \"area\", \"sizeref\": 1087.25, \"symbol\": \"circle\"}, \"mode\": \"markers\", \"name\": \"Construction\", \"showlegend\": true, \"x\": [\"Construction\"], \"xaxis\": \"x\", \"y\": [90800], \"yaxis\": \"y\", \"type\": \"scatter\"}, {\"hovertemplate\": \"Industry=%{x}<br>Years=2017<br>Employment=%{marker.size}<extra></extra>\", \"legendgroup\": \"Retail\", \"marker\": {\"color\": \"#ab63fa\", \"size\": [333500], \"sizemode\": \"area\", \"sizeref\": 1087.25, \"symbol\": \"circle\"}, \"mode\": \"markers\", \"name\": \"Retail\", \"showlegend\": true, \"x\": [\"Retail\"], \"xaxis\": \"x\", \"y\": [333500], \"yaxis\": \"y\", \"type\": \"scatter\"}, {\"hovertemplate\": \"Industry=%{x}<br>Years=2017<br>Employment=%{marker.size}<extra></extra>\", \"legendgroup\": \"ICT\", \"marker\": {\"color\": \"#FFA15A\", \"size\": [58900], \"sizemode\": \"area\", \"sizeref\": 1087.25, \"symbol\": \"circle\"}, \"mode\": \"markers\", \"name\": \"ICT\", \"showlegend\": true, \"x\": [\"ICT\"], \"xaxis\": \"x\", \"y\": [58900], \"yaxis\": \"y\", \"type\": \"scatter\"}, {\"hovertemplate\": \"Industry=%{x}<br>Years=2017<br>Employment=%{marker.size}<extra></extra>\", \"legendgroup\": \"Finance\", \"marker\": {\"color\": \"#19d3f3\", \"size\": [32100], \"sizemode\": \"area\", \"sizeref\": 1087.25, \"symbol\": \"circle\"}, \"mode\": \"markers\", \"name\": \"Finance\", \"showlegend\": true, \"x\": [\"Finance\"], \"xaxis\": \"x\", \"y\": [32100], \"yaxis\": \"y\", \"type\": \"scatter\"}, {\"hovertemplate\": \"Industry=%{x}<br>Years=2017<br>Employment=%{marker.size}<extra></extra>\", \"legendgroup\": \"Real_Estate\", \"marker\": {\"color\": \"#FF6692\", \"size\": [18200], \"sizemode\": \"area\", \"sizeref\": 1087.25, \"symbol\": \"circle\"}, \"mode\": \"markers\", \"name\": \"Real_Estate\", \"showlegend\": true, \"x\": [\"Real_Estate\"], \"xaxis\": \"x\", \"y\": [18200], \"yaxis\": \"y\", \"type\": \"scatter\"}, {\"hovertemplate\": \"Industry=%{x}<br>Years=2017<br>Employment=%{marker.size}<extra></extra>\", \"legendgroup\": \"Professional_Service\", \"marker\": {\"color\": \"#B6E880\", \"size\": [176400], \"sizemode\": \"area\", \"sizeref\": 1087.25, \"symbol\": \"circle\"}, \"mode\": \"markers\", \"name\": \"Professional_Service\", \"showlegend\": true, \"x\": [\"Professional_Service\"], \"xaxis\": \"x\", \"y\": [176400], \"yaxis\": \"y\", \"type\": \"scatter\"}, {\"hovertemplate\": \"Industry=%{x}<br>Years=2017<br>Employment=%{marker.size}<extra></extra>\", \"legendgroup\": \"Public_Adminstration \", \"marker\": {\"color\": \"#FF97FF\", \"size\": [424500], \"sizemode\": \"area\", \"sizeref\": 1087.25, \"symbol\": \"circle\"}, \"mode\": \"markers\", \"name\": \"Public_Adminstration \", \"showlegend\": true, \"x\": [\"Public_Adminstration \"], \"xaxis\": \"x\", \"y\": [424500], \"yaxis\": \"y\", \"type\": \"scatter\"}, {\"hovertemplate\": \"Industry=%{x}<br>Years=2017<br>Employment=%{marker.size}<extra></extra>\", \"legendgroup\": \"Other_Service\", \"marker\": {\"color\": \"#FECB52\", \"size\": [83200], \"sizemode\": \"area\", \"sizeref\": 1087.25, \"symbol\": \"circle\"}, \"mode\": \"markers\", \"name\": \"Other_Service\", \"showlegend\": true, \"x\": [\"Other_Service\"], \"xaxis\": \"x\", \"y\": [83200], \"yaxis\": \"y\", \"type\": \"scatter\"}], \"name\": \"2017\"}, {\"data\": [{\"hovertemplate\": \"Industry=%{x}<br>Years=2018<br>Employment=%{marker.size}<extra></extra>\", \"legendgroup\": \"Agriculture\", \"marker\": {\"color\": \"#636efa\", \"size\": [41100], \"sizemode\": \"area\", \"sizeref\": 1087.25, \"symbol\": \"circle\"}, \"mode\": \"markers\", \"name\": \"Agriculture\", \"showlegend\": true, \"x\": [\"Agriculture\"], \"xaxis\": \"x\", \"y\": [41100], \"yaxis\": \"y\", \"type\": \"scatter\"}, {\"hovertemplate\": \"Industry=%{x}<br>Years=2018<br>Employment=%{marker.size}<extra></extra>\", \"legendgroup\": \"Production\", \"marker\": {\"color\": \"#EF553B\", \"size\": [165700], \"sizemode\": \"area\", \"sizeref\": 1087.25, \"symbol\": \"circle\"}, \"mode\": \"markers\", \"name\": \"Production\", \"showlegend\": true, \"x\": [\"Production\"], \"xaxis\": \"x\", \"y\": [165700], \"yaxis\": \"y\", \"type\": \"scatter\"}, {\"hovertemplate\": \"Industry=%{x}<br>Years=2018<br>Employment=%{marker.size}<extra></extra>\", \"legendgroup\": \"Construction\", \"marker\": {\"color\": \"#00cc96\", \"size\": [101800], \"sizemode\": \"area\", \"sizeref\": 1087.25, \"symbol\": \"circle\"}, \"mode\": \"markers\", \"name\": \"Construction\", \"showlegend\": true, \"x\": [\"Construction\"], \"xaxis\": \"x\", \"y\": [101800], \"yaxis\": \"y\", \"type\": \"scatter\"}, {\"hovertemplate\": \"Industry=%{x}<br>Years=2018<br>Employment=%{marker.size}<extra></extra>\", \"legendgroup\": \"Retail\", \"marker\": {\"color\": \"#ab63fa\", \"size\": [347600], \"sizemode\": \"area\", \"sizeref\": 1087.25, \"symbol\": \"circle\"}, \"mode\": \"markers\", \"name\": \"Retail\", \"showlegend\": true, \"x\": [\"Retail\"], \"xaxis\": \"x\", \"y\": [347600], \"yaxis\": \"y\", \"type\": \"scatter\"}, {\"hovertemplate\": \"Industry=%{x}<br>Years=2018<br>Employment=%{marker.size}<extra></extra>\", \"legendgroup\": \"ICT\", \"marker\": {\"color\": \"#FFA15A\", \"size\": [31500], \"sizemode\": \"area\", \"sizeref\": 1087.25, \"symbol\": \"circle\"}, \"mode\": \"markers\", \"name\": \"ICT\", \"showlegend\": true, \"x\": [\"ICT\"], \"xaxis\": \"x\", \"y\": [31500], \"yaxis\": \"y\", \"type\": \"scatter\"}, {\"hovertemplate\": \"Industry=%{x}<br>Years=2018<br>Employment=%{marker.size}<extra></extra>\", \"legendgroup\": \"Finance\", \"marker\": {\"color\": \"#19d3f3\", \"size\": [35500], \"sizemode\": \"area\", \"sizeref\": 1087.25, \"symbol\": \"circle\"}, \"mode\": \"markers\", \"name\": \"Finance\", \"showlegend\": true, \"x\": [\"Finance\"], \"xaxis\": \"x\", \"y\": [35500], \"yaxis\": \"y\", \"type\": \"scatter\"}, {\"hovertemplate\": \"Industry=%{x}<br>Years=2018<br>Employment=%{marker.size}<extra></extra>\", \"legendgroup\": \"Real_Estate\", \"marker\": {\"color\": \"#FF6692\", \"size\": [25200], \"sizemode\": \"area\", \"sizeref\": 1087.25, \"symbol\": \"circle\"}, \"mode\": \"markers\", \"name\": \"Real_Estate\", \"showlegend\": true, \"x\": [\"Real_Estate\"], \"xaxis\": \"x\", \"y\": [25200], \"yaxis\": \"y\", \"type\": \"scatter\"}, {\"hovertemplate\": \"Industry=%{x}<br>Years=2018<br>Employment=%{marker.size}<extra></extra>\", \"legendgroup\": \"Professional_Service\", \"marker\": {\"color\": \"#B6E880\", \"size\": [187100], \"sizemode\": \"area\", \"sizeref\": 1087.25, \"symbol\": \"circle\"}, \"mode\": \"markers\", \"name\": \"Professional_Service\", \"showlegend\": true, \"x\": [\"Professional_Service\"], \"xaxis\": \"x\", \"y\": [187100], \"yaxis\": \"y\", \"type\": \"scatter\"}, {\"hovertemplate\": \"Industry=%{x}<br>Years=2018<br>Employment=%{marker.size}<extra></extra>\", \"legendgroup\": \"Public_Adminstration \", \"marker\": {\"color\": \"#FF97FF\", \"size\": [434900], \"sizemode\": \"area\", \"sizeref\": 1087.25, \"symbol\": \"circle\"}, \"mode\": \"markers\", \"name\": \"Public_Adminstration \", \"showlegend\": true, \"x\": [\"Public_Adminstration \"], \"xaxis\": \"x\", \"y\": [434900], \"yaxis\": \"y\", \"type\": \"scatter\"}, {\"hovertemplate\": \"Industry=%{x}<br>Years=2018<br>Employment=%{marker.size}<extra></extra>\", \"legendgroup\": \"Other_Service\", \"marker\": {\"color\": \"#FECB52\", \"size\": [81800], \"sizemode\": \"area\", \"sizeref\": 1087.25, \"symbol\": \"circle\"}, \"mode\": \"markers\", \"name\": \"Other_Service\", \"showlegend\": true, \"x\": [\"Other_Service\"], \"xaxis\": \"x\", \"y\": [81800], \"yaxis\": \"y\", \"type\": \"scatter\"}], \"name\": \"2018\"}]);\n",
       "                        }).then(function(){\n",
       "                            \n",
       "var gd = document.getElementById('a72f8bca-355a-42aa-a32d-a422439bd4be');\n",
       "var x = new MutationObserver(function (mutations, observer) {{\n",
       "        var display = window.getComputedStyle(gd).display;\n",
       "        if (!display || display === 'none') {{\n",
       "            console.log([gd, 'removed!']);\n",
       "            Plotly.purge(gd);\n",
       "            observer.disconnect();\n",
       "        }}\n",
       "}});\n",
       "\n",
       "// Listen for the removal of the full notebook cells\n",
       "var notebookContainer = gd.closest('#notebook-container');\n",
       "if (notebookContainer) {{\n",
       "    x.observe(notebookContainer, {childList: true});\n",
       "}}\n",
       "\n",
       "// Listen for the clearing of the current output cell\n",
       "var outputEl = gd.closest('.output');\n",
       "if (outputEl) {{\n",
       "    x.observe(outputEl, {childList: true});\n",
       "}}\n",
       "\n",
       "                        })\n",
       "                };\n",
       "                });\n",
       "            </script>\n",
       "        </div>"
      ]
     },
     "metadata": {},
     "output_type": "display_data"
    },
    {
     "data": {
      "application/javascript": [
       "\n",
       "            setTimeout(function() {\n",
       "                var nbb_cell_id = 16;\n",
       "                var nbb_unformatted_code = \"fig = px.scatter(\\n    plotly_dataframe,\\n    x=\\\"Industry\\\",\\n    y=\\\"Employment\\\",\\n    animation_frame=\\\"Years\\\",\\n    size=\\\"Employment\\\",\\n    color=\\\"Industry\\\",\\n)\\nfig.show()\";\n",
       "                var nbb_formatted_code = \"fig = px.scatter(\\n    plotly_dataframe,\\n    x=\\\"Industry\\\",\\n    y=\\\"Employment\\\",\\n    animation_frame=\\\"Years\\\",\\n    size=\\\"Employment\\\",\\n    color=\\\"Industry\\\",\\n)\\nfig.show()\";\n",
       "                var nbb_cells = Jupyter.notebook.get_cells();\n",
       "                for (var i = 0; i < nbb_cells.length; ++i) {\n",
       "                    if (nbb_cells[i].input_prompt_number == nbb_cell_id) {\n",
       "                        if (nbb_cells[i].get_text() == nbb_unformatted_code) {\n",
       "                             nbb_cells[i].set_text(nbb_formatted_code);\n",
       "                        }\n",
       "                        break;\n",
       "                    }\n",
       "                }\n",
       "            }, 500);\n",
       "            "
      ],
      "text/plain": [
       "<IPython.core.display.Javascript object>"
      ]
     },
     "metadata": {},
     "output_type": "display_data"
    }
   ],
   "source": [
    "fig = px.scatter(\n",
    "    plotly_dataframe,\n",
    "    x=\"Industry\",\n",
    "    y=\"Employment\",\n",
    "    animation_frame=\"Years\",\n",
    "    size=\"Employment\",\n",
    "    color=\"Industry\",\n",
    ")\n",
    "fig.show()"
   ]
  },
  {
   "cell_type": "markdown",
   "metadata": {},
   "source": [
    "Here we can easily visualize the change of workforce number in different industries over the period. To demonstrate the change of workforce number in a single year we will make another dynamic plot."
   ]
  },
  {
   "cell_type": "code",
   "execution_count": 17,
   "metadata": {},
   "outputs": [
    {
     "data": {
      "application/javascript": [
       "\n",
       "            setTimeout(function() {\n",
       "                var nbb_cell_id = 17;\n",
       "                var nbb_unformatted_code = \"data = dataframe.copy()\\nindustrystacked = []\\nyears = []\\nrow_list = []\\nk = 0\\n\\nfor i in range(len(years_)):\\n    for j in range(len(data[\\\"Industry\\\"])):\\n        industrystacked.append(data[\\\"Industry\\\"][k])\\n        years.append(int(years_[j]))\\n    k += 1\\n\\n# Iterate over each row\\nfor i in range((data.shape[0])):\\n    row = list(data.iloc[i, 1:])\\n    for j in range(len(row)):\\n        row_list.append(row[j])\\n\\n\\ntuples = list(zip(industrystacked, years, row_list))\\nplotly_dataframe = pd.DataFrame(tuples, columns=[\\\"Industry\\\", \\\"Years\\\", \\\"Employment\\\"])\";\n",
       "                var nbb_formatted_code = \"data = dataframe.copy()\\nindustrystacked = []\\nyears = []\\nrow_list = []\\nk = 0\\n\\nfor i in range(len(years_)):\\n    for j in range(len(data[\\\"Industry\\\"])):\\n        industrystacked.append(data[\\\"Industry\\\"][k])\\n        years.append(int(years_[j]))\\n    k += 1\\n\\n# Iterate over each row\\nfor i in range((data.shape[0])):\\n    row = list(data.iloc[i, 1:])\\n    for j in range(len(row)):\\n        row_list.append(row[j])\\n\\n\\ntuples = list(zip(industrystacked, years, row_list))\\nplotly_dataframe = pd.DataFrame(tuples, columns=[\\\"Industry\\\", \\\"Years\\\", \\\"Employment\\\"])\";\n",
       "                var nbb_cells = Jupyter.notebook.get_cells();\n",
       "                for (var i = 0; i < nbb_cells.length; ++i) {\n",
       "                    if (nbb_cells[i].input_prompt_number == nbb_cell_id) {\n",
       "                        if (nbb_cells[i].get_text() == nbb_unformatted_code) {\n",
       "                             nbb_cells[i].set_text(nbb_formatted_code);\n",
       "                        }\n",
       "                        break;\n",
       "                    }\n",
       "                }\n",
       "            }, 500);\n",
       "            "
      ],
      "text/plain": [
       "<IPython.core.display.Javascript object>"
      ]
     },
     "metadata": {},
     "output_type": "display_data"
    }
   ],
   "source": [
    "data = dataframe.copy()\n",
    "industrystacked = []\n",
    "years = []\n",
    "row_list = []\n",
    "k = 0\n",
    "\n",
    "for i in range(len(years_)):\n",
    "    for j in range(len(data[\"Industry\"])):\n",
    "        industrystacked.append(data[\"Industry\"][k])\n",
    "        years.append(int(years_[j]))\n",
    "    k += 1\n",
    "\n",
    "# Iterate over each row\n",
    "for i in range((data.shape[0])):\n",
    "    row = list(data.iloc[i, 1:])\n",
    "    for j in range(len(row)):\n",
    "        row_list.append(row[j])\n",
    "\n",
    "\n",
    "tuples = list(zip(industrystacked, years, row_list))\n",
    "plotly_dataframe = pd.DataFrame(tuples, columns=[\"Industry\", \"Years\", \"Employment\"])"
   ]
  },
  {
   "cell_type": "code",
   "execution_count": 18,
   "metadata": {},
   "outputs": [
    {
     "data": {
      "application/vnd.plotly.v1+json": {
       "config": {
        "plotlyServerURL": "https://plot.ly"
       },
       "data": [
        {
         "hovertemplate": "<b>%{hovertext}</b><br><br>Industry=Agriculture<br>Years=%{x}<br>Employment=%{marker.size}<extra></extra>",
         "hovertext": [
          37700
         ],
         "ids": [
          "Agriculture"
         ],
         "legendgroup": "Agriculture",
         "marker": {
          "color": "#636efa",
          "size": [
           37700
          ],
          "sizemode": "area",
          "sizeref": 1932.888888888889,
          "symbol": "circle"
         },
         "mode": "markers",
         "name": "Agriculture",
         "showlegend": true,
         "type": "scatter",
         "x": [
          2009
         ],
         "xaxis": "x",
         "y": [
          37700
         ],
         "yaxis": "y"
        },
        {
         "hovertemplate": "<b>%{hovertext}</b><br><br>Industry=Production<br>Years=%{x}<br>Employment=%{marker.size}<extra></extra>",
         "hovertext": [
          156700
         ],
         "ids": [
          "Production"
         ],
         "legendgroup": "Production",
         "marker": {
          "color": "#EF553B",
          "size": [
           156700
          ],
          "sizemode": "area",
          "sizeref": 1932.888888888889,
          "symbol": "circle"
         },
         "mode": "markers",
         "name": "Production",
         "showlegend": true,
         "type": "scatter",
         "x": [
          2009
         ],
         "xaxis": "x",
         "y": [
          156700
         ],
         "yaxis": "y"
        },
        {
         "hovertemplate": "<b>%{hovertext}</b><br><br>Industry=Construction<br>Years=%{x}<br>Employment=%{marker.size}<extra></extra>",
         "hovertext": [
          96600
         ],
         "ids": [
          "Construction"
         ],
         "legendgroup": "Construction",
         "marker": {
          "color": "#00cc96",
          "size": [
           96600
          ],
          "sizemode": "area",
          "sizeref": 1932.888888888889,
          "symbol": "circle"
         },
         "mode": "markers",
         "name": "Construction",
         "showlegend": true,
         "type": "scatter",
         "x": [
          2009
         ],
         "xaxis": "x",
         "y": [
          96600
         ],
         "yaxis": "y"
        },
        {
         "hovertemplate": "<b>%{hovertext}</b><br><br>Industry=Retail<br>Years=%{x}<br>Employment=%{marker.size}<extra></extra>",
         "hovertext": [
          345400
         ],
         "ids": [
          "Retail"
         ],
         "legendgroup": "Retail",
         "marker": {
          "color": "#ab63fa",
          "size": [
           345400
          ],
          "sizemode": "area",
          "sizeref": 1932.888888888889,
          "symbol": "circle"
         },
         "mode": "markers",
         "name": "Retail",
         "showlegend": true,
         "type": "scatter",
         "x": [
          2009
         ],
         "xaxis": "x",
         "y": [
          345400
         ],
         "yaxis": "y"
        },
        {
         "hovertemplate": "<b>%{hovertext}</b><br><br>Industry=ICT<br>Years=%{x}<br>Employment=%{marker.size}<extra></extra>",
         "hovertext": [
          27800
         ],
         "ids": [
          "ICT"
         ],
         "legendgroup": "ICT",
         "marker": {
          "color": "#FFA15A",
          "size": [
           27800
          ],
          "sizemode": "area",
          "sizeref": 1932.888888888889,
          "symbol": "circle"
         },
         "mode": "markers",
         "name": "ICT",
         "showlegend": true,
         "type": "scatter",
         "x": [
          2009
         ],
         "xaxis": "x",
         "y": [
          27800
         ],
         "yaxis": "y"
        },
        {
         "hovertemplate": "<b>%{hovertext}</b><br><br>Industry=Finance<br>Years=%{x}<br>Employment=%{marker.size}<extra></extra>",
         "hovertext": [
          33800
         ],
         "ids": [
          "Finance"
         ],
         "legendgroup": "Finance",
         "marker": {
          "color": "#19d3f3",
          "size": [
           33800
          ],
          "sizemode": "area",
          "sizeref": 1932.888888888889,
          "symbol": "circle"
         },
         "mode": "markers",
         "name": "Finance",
         "showlegend": true,
         "type": "scatter",
         "x": [
          2009
         ],
         "xaxis": "x",
         "y": [
          33800
         ],
         "yaxis": "y"
        },
        {
         "hovertemplate": "<b>%{hovertext}</b><br><br>Industry=Real_Estate<br>Years=%{x}<br>Employment=%{marker.size}<extra></extra>",
         "hovertext": [
          13500
         ],
         "ids": [
          "Real_Estate"
         ],
         "legendgroup": "Real_Estate",
         "marker": {
          "color": "#FF6692",
          "size": [
           13500
          ],
          "sizemode": "area",
          "sizeref": 1932.888888888889,
          "symbol": "circle"
         },
         "mode": "markers",
         "name": "Real_Estate",
         "showlegend": true,
         "type": "scatter",
         "x": [
          2009
         ],
         "xaxis": "x",
         "y": [
          13500
         ],
         "yaxis": "y"
        },
        {
         "hovertemplate": "<b>%{hovertext}</b><br><br>Industry=Professional_Service<br>Years=%{x}<br>Employment=%{marker.size}<extra></extra>",
         "hovertext": [
          144800
         ],
         "ids": [
          "Professional_Service"
         ],
         "legendgroup": "Professional_Service",
         "marker": {
          "color": "#B6E880",
          "size": [
           144800
          ],
          "sizemode": "area",
          "sizeref": 1932.888888888889,
          "symbol": "circle"
         },
         "mode": "markers",
         "name": "Professional_Service",
         "showlegend": true,
         "type": "scatter",
         "x": [
          2009
         ],
         "xaxis": "x",
         "y": [
          144800
         ],
         "yaxis": "y"
        },
        {
         "hovertemplate": "<b>%{hovertext}</b><br><br>Industry=Public_Adminstration <br>Years=%{x}<br>Employment=%{marker.size}<extra></extra>",
         "hovertext": [
          415600
         ],
         "ids": [
          "Public_Adminstration "
         ],
         "legendgroup": "Public_Adminstration ",
         "marker": {
          "color": "#FF97FF",
          "size": [
           415600
          ],
          "sizemode": "area",
          "sizeref": 1932.888888888889,
          "symbol": "circle"
         },
         "mode": "markers",
         "name": "Public_Adminstration ",
         "showlegend": true,
         "type": "scatter",
         "x": [
          2009
         ],
         "xaxis": "x",
         "y": [
          415600
         ],
         "yaxis": "y"
        },
        {
         "hovertemplate": "<b>%{hovertext}</b><br><br>Industry=Other_Service<br>Years=%{x}<br>Employment=%{marker.size}<extra></extra>",
         "hovertext": [
          64200
         ],
         "ids": [
          "Other_Service"
         ],
         "legendgroup": "Other_Service",
         "marker": {
          "color": "#FECB52",
          "size": [
           64200
          ],
          "sizemode": "area",
          "sizeref": 1932.888888888889,
          "symbol": "circle"
         },
         "mode": "markers",
         "name": "Other_Service",
         "showlegend": true,
         "type": "scatter",
         "x": [
          2009
         ],
         "xaxis": "x",
         "y": [
          64200
         ],
         "yaxis": "y"
        }
       ],
       "frames": [
        {
         "data": [
          {
           "hovertemplate": "<b>%{hovertext}</b><br><br>Industry=Agriculture<br>Years=%{x}<br>Employment=%{marker.size}<extra></extra>",
           "hovertext": [
            37700
           ],
           "ids": [
            "Agriculture"
           ],
           "legendgroup": "Agriculture",
           "marker": {
            "color": "#636efa",
            "size": [
             37700
            ],
            "sizemode": "area",
            "sizeref": 1932.888888888889,
            "symbol": "circle"
           },
           "mode": "markers",
           "name": "Agriculture",
           "showlegend": true,
           "type": "scatter",
           "x": [
            2009
           ],
           "xaxis": "x",
           "y": [
            37700
           ],
           "yaxis": "y"
          },
          {
           "hovertemplate": "<b>%{hovertext}</b><br><br>Industry=Production<br>Years=%{x}<br>Employment=%{marker.size}<extra></extra>",
           "hovertext": [
            156700
           ],
           "ids": [
            "Production"
           ],
           "legendgroup": "Production",
           "marker": {
            "color": "#EF553B",
            "size": [
             156700
            ],
            "sizemode": "area",
            "sizeref": 1932.888888888889,
            "symbol": "circle"
           },
           "mode": "markers",
           "name": "Production",
           "showlegend": true,
           "type": "scatter",
           "x": [
            2009
           ],
           "xaxis": "x",
           "y": [
            156700
           ],
           "yaxis": "y"
          },
          {
           "hovertemplate": "<b>%{hovertext}</b><br><br>Industry=Construction<br>Years=%{x}<br>Employment=%{marker.size}<extra></extra>",
           "hovertext": [
            96600
           ],
           "ids": [
            "Construction"
           ],
           "legendgroup": "Construction",
           "marker": {
            "color": "#00cc96",
            "size": [
             96600
            ],
            "sizemode": "area",
            "sizeref": 1932.888888888889,
            "symbol": "circle"
           },
           "mode": "markers",
           "name": "Construction",
           "showlegend": true,
           "type": "scatter",
           "x": [
            2009
           ],
           "xaxis": "x",
           "y": [
            96600
           ],
           "yaxis": "y"
          },
          {
           "hovertemplate": "<b>%{hovertext}</b><br><br>Industry=Retail<br>Years=%{x}<br>Employment=%{marker.size}<extra></extra>",
           "hovertext": [
            345400
           ],
           "ids": [
            "Retail"
           ],
           "legendgroup": "Retail",
           "marker": {
            "color": "#ab63fa",
            "size": [
             345400
            ],
            "sizemode": "area",
            "sizeref": 1932.888888888889,
            "symbol": "circle"
           },
           "mode": "markers",
           "name": "Retail",
           "showlegend": true,
           "type": "scatter",
           "x": [
            2009
           ],
           "xaxis": "x",
           "y": [
            345400
           ],
           "yaxis": "y"
          },
          {
           "hovertemplate": "<b>%{hovertext}</b><br><br>Industry=ICT<br>Years=%{x}<br>Employment=%{marker.size}<extra></extra>",
           "hovertext": [
            27800
           ],
           "ids": [
            "ICT"
           ],
           "legendgroup": "ICT",
           "marker": {
            "color": "#FFA15A",
            "size": [
             27800
            ],
            "sizemode": "area",
            "sizeref": 1932.888888888889,
            "symbol": "circle"
           },
           "mode": "markers",
           "name": "ICT",
           "showlegend": true,
           "type": "scatter",
           "x": [
            2009
           ],
           "xaxis": "x",
           "y": [
            27800
           ],
           "yaxis": "y"
          },
          {
           "hovertemplate": "<b>%{hovertext}</b><br><br>Industry=Finance<br>Years=%{x}<br>Employment=%{marker.size}<extra></extra>",
           "hovertext": [
            33800
           ],
           "ids": [
            "Finance"
           ],
           "legendgroup": "Finance",
           "marker": {
            "color": "#19d3f3",
            "size": [
             33800
            ],
            "sizemode": "area",
            "sizeref": 1932.888888888889,
            "symbol": "circle"
           },
           "mode": "markers",
           "name": "Finance",
           "showlegend": true,
           "type": "scatter",
           "x": [
            2009
           ],
           "xaxis": "x",
           "y": [
            33800
           ],
           "yaxis": "y"
          },
          {
           "hovertemplate": "<b>%{hovertext}</b><br><br>Industry=Real_Estate<br>Years=%{x}<br>Employment=%{marker.size}<extra></extra>",
           "hovertext": [
            13500
           ],
           "ids": [
            "Real_Estate"
           ],
           "legendgroup": "Real_Estate",
           "marker": {
            "color": "#FF6692",
            "size": [
             13500
            ],
            "sizemode": "area",
            "sizeref": 1932.888888888889,
            "symbol": "circle"
           },
           "mode": "markers",
           "name": "Real_Estate",
           "showlegend": true,
           "type": "scatter",
           "x": [
            2009
           ],
           "xaxis": "x",
           "y": [
            13500
           ],
           "yaxis": "y"
          },
          {
           "hovertemplate": "<b>%{hovertext}</b><br><br>Industry=Professional_Service<br>Years=%{x}<br>Employment=%{marker.size}<extra></extra>",
           "hovertext": [
            144800
           ],
           "ids": [
            "Professional_Service"
           ],
           "legendgroup": "Professional_Service",
           "marker": {
            "color": "#B6E880",
            "size": [
             144800
            ],
            "sizemode": "area",
            "sizeref": 1932.888888888889,
            "symbol": "circle"
           },
           "mode": "markers",
           "name": "Professional_Service",
           "showlegend": true,
           "type": "scatter",
           "x": [
            2009
           ],
           "xaxis": "x",
           "y": [
            144800
           ],
           "yaxis": "y"
          },
          {
           "hovertemplate": "<b>%{hovertext}</b><br><br>Industry=Public_Adminstration <br>Years=%{x}<br>Employment=%{marker.size}<extra></extra>",
           "hovertext": [
            415600
           ],
           "ids": [
            "Public_Adminstration "
           ],
           "legendgroup": "Public_Adminstration ",
           "marker": {
            "color": "#FF97FF",
            "size": [
             415600
            ],
            "sizemode": "area",
            "sizeref": 1932.888888888889,
            "symbol": "circle"
           },
           "mode": "markers",
           "name": "Public_Adminstration ",
           "showlegend": true,
           "type": "scatter",
           "x": [
            2009
           ],
           "xaxis": "x",
           "y": [
            415600
           ],
           "yaxis": "y"
          },
          {
           "hovertemplate": "<b>%{hovertext}</b><br><br>Industry=Other_Service<br>Years=%{x}<br>Employment=%{marker.size}<extra></extra>",
           "hovertext": [
            64200
           ],
           "ids": [
            "Other_Service"
           ],
           "legendgroup": "Other_Service",
           "marker": {
            "color": "#FECB52",
            "size": [
             64200
            ],
            "sizemode": "area",
            "sizeref": 1932.888888888889,
            "symbol": "circle"
           },
           "mode": "markers",
           "name": "Other_Service",
           "showlegend": true,
           "type": "scatter",
           "x": [
            2009
           ],
           "xaxis": "x",
           "y": [
            64200
           ],
           "yaxis": "y"
          }
         ],
         "name": "2009"
        },
        {
         "data": [
          {
           "hovertemplate": "<b>%{hovertext}</b><br><br>Industry=Agriculture<br>Years=%{x}<br>Employment=%{marker.size}<extra></extra>",
           "hovertext": [
            38200
           ],
           "ids": [
            "Agriculture"
           ],
           "legendgroup": "Agriculture",
           "marker": {
            "color": "#636efa",
            "size": [
             38200
            ],
            "sizemode": "area",
            "sizeref": 1932.888888888889,
            "symbol": "circle"
           },
           "mode": "markers",
           "name": "Agriculture",
           "showlegend": true,
           "type": "scatter",
           "x": [
            2010
           ],
           "xaxis": "x",
           "y": [
            38200
           ],
           "yaxis": "y"
          },
          {
           "hovertemplate": "<b>%{hovertext}</b><br><br>Industry=Production<br>Years=%{x}<br>Employment=%{marker.size}<extra></extra>",
           "hovertext": [
            149800
           ],
           "ids": [
            "Production"
           ],
           "legendgroup": "Production",
           "marker": {
            "color": "#EF553B",
            "size": [
             149800
            ],
            "sizemode": "area",
            "sizeref": 1932.888888888889,
            "symbol": "circle"
           },
           "mode": "markers",
           "name": "Production",
           "showlegend": true,
           "type": "scatter",
           "x": [
            2010
           ],
           "xaxis": "x",
           "y": [
            149800
           ],
           "yaxis": "y"
          },
          {
           "hovertemplate": "<b>%{hovertext}</b><br><br>Industry=Construction<br>Years=%{x}<br>Employment=%{marker.size}<extra></extra>",
           "hovertext": [
            93200
           ],
           "ids": [
            "Construction"
           ],
           "legendgroup": "Construction",
           "marker": {
            "color": "#00cc96",
            "size": [
             93200
            ],
            "sizemode": "area",
            "sizeref": 1932.888888888889,
            "symbol": "circle"
           },
           "mode": "markers",
           "name": "Construction",
           "showlegend": true,
           "type": "scatter",
           "x": [
            2010
           ],
           "xaxis": "x",
           "y": [
            93200
           ],
           "yaxis": "y"
          },
          {
           "hovertemplate": "<b>%{hovertext}</b><br><br>Industry=Retail<br>Years=%{x}<br>Employment=%{marker.size}<extra></extra>",
           "hovertext": [
            344500
           ],
           "ids": [
            "Retail"
           ],
           "legendgroup": "Retail",
           "marker": {
            "color": "#ab63fa",
            "size": [
             344500
            ],
            "sizemode": "area",
            "sizeref": 1932.888888888889,
            "symbol": "circle"
           },
           "mode": "markers",
           "name": "Retail",
           "showlegend": true,
           "type": "scatter",
           "x": [
            2010
           ],
           "xaxis": "x",
           "y": [
            344500
           ],
           "yaxis": "y"
          },
          {
           "hovertemplate": "<b>%{hovertext}</b><br><br>Industry=ICT<br>Years=%{x}<br>Employment=%{marker.size}<extra></extra>",
           "hovertext": [
            27900
           ],
           "ids": [
            "ICT"
           ],
           "legendgroup": "ICT",
           "marker": {
            "color": "#FFA15A",
            "size": [
             27900
            ],
            "sizemode": "area",
            "sizeref": 1932.888888888889,
            "symbol": "circle"
           },
           "mode": "markers",
           "name": "ICT",
           "showlegend": true,
           "type": "scatter",
           "x": [
            2010
           ],
           "xaxis": "x",
           "y": [
            27900
           ],
           "yaxis": "y"
          },
          {
           "hovertemplate": "<b>%{hovertext}</b><br><br>Industry=Finance<br>Years=%{x}<br>Employment=%{marker.size}<extra></extra>",
           "hovertext": [
            29800
           ],
           "ids": [
            "Finance"
           ],
           "legendgroup": "Finance",
           "marker": {
            "color": "#19d3f3",
            "size": [
             29800
            ],
            "sizemode": "area",
            "sizeref": 1932.888888888889,
            "symbol": "circle"
           },
           "mode": "markers",
           "name": "Finance",
           "showlegend": true,
           "type": "scatter",
           "x": [
            2010
           ],
           "xaxis": "x",
           "y": [
            29800
           ],
           "yaxis": "y"
          },
          {
           "hovertemplate": "<b>%{hovertext}</b><br><br>Industry=Real_Estate<br>Years=%{x}<br>Employment=%{marker.size}<extra></extra>",
           "hovertext": [
            14600
           ],
           "ids": [
            "Real_Estate"
           ],
           "legendgroup": "Real_Estate",
           "marker": {
            "color": "#FF6692",
            "size": [
             14600
            ],
            "sizemode": "area",
            "sizeref": 1932.888888888889,
            "symbol": "circle"
           },
           "mode": "markers",
           "name": "Real_Estate",
           "showlegend": true,
           "type": "scatter",
           "x": [
            2010
           ],
           "xaxis": "x",
           "y": [
            14600
           ],
           "yaxis": "y"
          },
          {
           "hovertemplate": "<b>%{hovertext}</b><br><br>Industry=Professional_Service<br>Years=%{x}<br>Employment=%{marker.size}<extra></extra>",
           "hovertext": [
            145800
           ],
           "ids": [
            "Professional_Service"
           ],
           "legendgroup": "Professional_Service",
           "marker": {
            "color": "#B6E880",
            "size": [
             145800
            ],
            "sizemode": "area",
            "sizeref": 1932.888888888889,
            "symbol": "circle"
           },
           "mode": "markers",
           "name": "Professional_Service",
           "showlegend": true,
           "type": "scatter",
           "x": [
            2010
           ],
           "xaxis": "x",
           "y": [
            145800
           ],
           "yaxis": "y"
          },
          {
           "hovertemplate": "<b>%{hovertext}</b><br><br>Industry=Public_Adminstration <br>Years=%{x}<br>Employment=%{marker.size}<extra></extra>",
           "hovertext": [
            418600
           ],
           "ids": [
            "Public_Adminstration "
           ],
           "legendgroup": "Public_Adminstration ",
           "marker": {
            "color": "#FF97FF",
            "size": [
             418600
            ],
            "sizemode": "area",
            "sizeref": 1932.888888888889,
            "symbol": "circle"
           },
           "mode": "markers",
           "name": "Public_Adminstration ",
           "showlegend": true,
           "type": "scatter",
           "x": [
            2010
           ],
           "xaxis": "x",
           "y": [
            418600
           ],
           "yaxis": "y"
          },
          {
           "hovertemplate": "<b>%{hovertext}</b><br><br>Industry=Other_Service<br>Years=%{x}<br>Employment=%{marker.size}<extra></extra>",
           "hovertext": [
            68000
           ],
           "ids": [
            "Other_Service"
           ],
           "legendgroup": "Other_Service",
           "marker": {
            "color": "#FECB52",
            "size": [
             68000
            ],
            "sizemode": "area",
            "sizeref": 1932.888888888889,
            "symbol": "circle"
           },
           "mode": "markers",
           "name": "Other_Service",
           "showlegend": true,
           "type": "scatter",
           "x": [
            2010
           ],
           "xaxis": "x",
           "y": [
            68000
           ],
           "yaxis": "y"
          }
         ],
         "name": "2010"
        },
        {
         "data": [
          {
           "hovertemplate": "<b>%{hovertext}</b><br><br>Industry=Agriculture<br>Years=%{x}<br>Employment=%{marker.size}<extra></extra>",
           "hovertext": [
            36100
           ],
           "ids": [
            "Agriculture"
           ],
           "legendgroup": "Agriculture",
           "marker": {
            "color": "#636efa",
            "size": [
             36100
            ],
            "sizemode": "area",
            "sizeref": 1932.888888888889,
            "symbol": "circle"
           },
           "mode": "markers",
           "name": "Agriculture",
           "showlegend": true,
           "type": "scatter",
           "x": [
            2011
           ],
           "xaxis": "x",
           "y": [
            36100
           ],
           "yaxis": "y"
          },
          {
           "hovertemplate": "<b>%{hovertext}</b><br><br>Industry=Production<br>Years=%{x}<br>Employment=%{marker.size}<extra></extra>",
           "hovertext": [
            158600
           ],
           "ids": [
            "Production"
           ],
           "legendgroup": "Production",
           "marker": {
            "color": "#EF553B",
            "size": [
             158600
            ],
            "sizemode": "area",
            "sizeref": 1932.888888888889,
            "symbol": "circle"
           },
           "mode": "markers",
           "name": "Production",
           "showlegend": true,
           "type": "scatter",
           "x": [
            2011
           ],
           "xaxis": "x",
           "y": [
            158600
           ],
           "yaxis": "y"
          },
          {
           "hovertemplate": "<b>%{hovertext}</b><br><br>Industry=Construction<br>Years=%{x}<br>Employment=%{marker.size}<extra></extra>",
           "hovertext": [
            90000
           ],
           "ids": [
            "Construction"
           ],
           "legendgroup": "Construction",
           "marker": {
            "color": "#00cc96",
            "size": [
             90000
            ],
            "sizemode": "area",
            "sizeref": 1932.888888888889,
            "symbol": "circle"
           },
           "mode": "markers",
           "name": "Construction",
           "showlegend": true,
           "type": "scatter",
           "x": [
            2011
           ],
           "xaxis": "x",
           "y": [
            90000
           ],
           "yaxis": "y"
          },
          {
           "hovertemplate": "<b>%{hovertext}</b><br><br>Industry=Retail<br>Years=%{x}<br>Employment=%{marker.size}<extra></extra>",
           "hovertext": [
            343100
           ],
           "ids": [
            "Retail"
           ],
           "legendgroup": "Retail",
           "marker": {
            "color": "#ab63fa",
            "size": [
             343100
            ],
            "sizemode": "area",
            "sizeref": 1932.888888888889,
            "symbol": "circle"
           },
           "mode": "markers",
           "name": "Retail",
           "showlegend": true,
           "type": "scatter",
           "x": [
            2011
           ],
           "xaxis": "x",
           "y": [
            343100
           ],
           "yaxis": "y"
          },
          {
           "hovertemplate": "<b>%{hovertext}</b><br><br>Industry=ICT<br>Years=%{x}<br>Employment=%{marker.size}<extra></extra>",
           "hovertext": [
            26400
           ],
           "ids": [
            "ICT"
           ],
           "legendgroup": "ICT",
           "marker": {
            "color": "#FFA15A",
            "size": [
             26400
            ],
            "sizemode": "area",
            "sizeref": 1932.888888888889,
            "symbol": "circle"
           },
           "mode": "markers",
           "name": "ICT",
           "showlegend": true,
           "type": "scatter",
           "x": [
            2011
           ],
           "xaxis": "x",
           "y": [
            26400
           ],
           "yaxis": "y"
          },
          {
           "hovertemplate": "<b>%{hovertext}</b><br><br>Industry=Finance<br>Years=%{x}<br>Employment=%{marker.size}<extra></extra>",
           "hovertext": [
            33200
           ],
           "ids": [
            "Finance"
           ],
           "legendgroup": "Finance",
           "marker": {
            "color": "#19d3f3",
            "size": [
             33200
            ],
            "sizemode": "area",
            "sizeref": 1932.888888888889,
            "symbol": "circle"
           },
           "mode": "markers",
           "name": "Finance",
           "showlegend": true,
           "type": "scatter",
           "x": [
            2011
           ],
           "xaxis": "x",
           "y": [
            33200
           ],
           "yaxis": "y"
          },
          {
           "hovertemplate": "<b>%{hovertext}</b><br><br>Industry=Real_Estate<br>Years=%{x}<br>Employment=%{marker.size}<extra></extra>",
           "hovertext": [
            17600
           ],
           "ids": [
            "Real_Estate"
           ],
           "legendgroup": "Real_Estate",
           "marker": {
            "color": "#FF6692",
            "size": [
             17600
            ],
            "sizemode": "area",
            "sizeref": 1932.888888888889,
            "symbol": "circle"
           },
           "mode": "markers",
           "name": "Real_Estate",
           "showlegend": true,
           "type": "scatter",
           "x": [
            2011
           ],
           "xaxis": "x",
           "y": [
            17600
           ],
           "yaxis": "y"
          },
          {
           "hovertemplate": "<b>%{hovertext}</b><br><br>Industry=Professional_Service<br>Years=%{x}<br>Employment=%{marker.size}<extra></extra>",
           "hovertext": [
            143600
           ],
           "ids": [
            "Professional_Service"
           ],
           "legendgroup": "Professional_Service",
           "marker": {
            "color": "#B6E880",
            "size": [
             143600
            ],
            "sizemode": "area",
            "sizeref": 1932.888888888889,
            "symbol": "circle"
           },
           "mode": "markers",
           "name": "Professional_Service",
           "showlegend": true,
           "type": "scatter",
           "x": [
            2011
           ],
           "xaxis": "x",
           "y": [
            143600
           ],
           "yaxis": "y"
          },
          {
           "hovertemplate": "<b>%{hovertext}</b><br><br>Industry=Public_Adminstration <br>Years=%{x}<br>Employment=%{marker.size}<extra></extra>",
           "hovertext": [
            425600
           ],
           "ids": [
            "Public_Adminstration "
           ],
           "legendgroup": "Public_Adminstration ",
           "marker": {
            "color": "#FF97FF",
            "size": [
             425600
            ],
            "sizemode": "area",
            "sizeref": 1932.888888888889,
            "symbol": "circle"
           },
           "mode": "markers",
           "name": "Public_Adminstration ",
           "showlegend": true,
           "type": "scatter",
           "x": [
            2011
           ],
           "xaxis": "x",
           "y": [
            425600
           ],
           "yaxis": "y"
          },
          {
           "hovertemplate": "<b>%{hovertext}</b><br><br>Industry=Other_Service<br>Years=%{x}<br>Employment=%{marker.size}<extra></extra>",
           "hovertext": [
            72400
           ],
           "ids": [
            "Other_Service"
           ],
           "legendgroup": "Other_Service",
           "marker": {
            "color": "#FECB52",
            "size": [
             72400
            ],
            "sizemode": "area",
            "sizeref": 1932.888888888889,
            "symbol": "circle"
           },
           "mode": "markers",
           "name": "Other_Service",
           "showlegend": true,
           "type": "scatter",
           "x": [
            2011
           ],
           "xaxis": "x",
           "y": [
            72400
           ],
           "yaxis": "y"
          }
         ],
         "name": "2011"
        },
        {
         "data": [
          {
           "hovertemplate": "<b>%{hovertext}</b><br><br>Industry=Agriculture<br>Years=%{x}<br>Employment=%{marker.size}<extra></extra>",
           "hovertext": [
            36100
           ],
           "ids": [
            "Agriculture"
           ],
           "legendgroup": "Agriculture",
           "marker": {
            "color": "#636efa",
            "size": [
             36100
            ],
            "sizemode": "area",
            "sizeref": 1932.888888888889,
            "symbol": "circle"
           },
           "mode": "markers",
           "name": "Agriculture",
           "showlegend": true,
           "type": "scatter",
           "x": [
            2012
           ],
           "xaxis": "x",
           "y": [
            36100
           ],
           "yaxis": "y"
          },
          {
           "hovertemplate": "<b>%{hovertext}</b><br><br>Industry=Production<br>Years=%{x}<br>Employment=%{marker.size}<extra></extra>",
           "hovertext": [
            154400
           ],
           "ids": [
            "Production"
           ],
           "legendgroup": "Production",
           "marker": {
            "color": "#EF553B",
            "size": [
             154400
            ],
            "sizemode": "area",
            "sizeref": 1932.888888888889,
            "symbol": "circle"
           },
           "mode": "markers",
           "name": "Production",
           "showlegend": true,
           "type": "scatter",
           "x": [
            2012
           ],
           "xaxis": "x",
           "y": [
            154400
           ],
           "yaxis": "y"
          },
          {
           "hovertemplate": "<b>%{hovertext}</b><br><br>Industry=Construction<br>Years=%{x}<br>Employment=%{marker.size}<extra></extra>",
           "hovertext": [
            91300
           ],
           "ids": [
            "Construction"
           ],
           "legendgroup": "Construction",
           "marker": {
            "color": "#00cc96",
            "size": [
             91300
            ],
            "sizemode": "area",
            "sizeref": 1932.888888888889,
            "symbol": "circle"
           },
           "mode": "markers",
           "name": "Construction",
           "showlegend": true,
           "type": "scatter",
           "x": [
            2012
           ],
           "xaxis": "x",
           "y": [
            91300
           ],
           "yaxis": "y"
          },
          {
           "hovertemplate": "<b>%{hovertext}</b><br><br>Industry=Retail<br>Years=%{x}<br>Employment=%{marker.size}<extra></extra>",
           "hovertext": [
            347300
           ],
           "ids": [
            "Retail"
           ],
           "legendgroup": "Retail",
           "marker": {
            "color": "#ab63fa",
            "size": [
             347300
            ],
            "sizemode": "area",
            "sizeref": 1932.888888888889,
            "symbol": "circle"
           },
           "mode": "markers",
           "name": "Retail",
           "showlegend": true,
           "type": "scatter",
           "x": [
            2012
           ],
           "xaxis": "x",
           "y": [
            347300
           ],
           "yaxis": "y"
          },
          {
           "hovertemplate": "<b>%{hovertext}</b><br><br>Industry=ICT<br>Years=%{x}<br>Employment=%{marker.size}<extra></extra>",
           "hovertext": [
            27200
           ],
           "ids": [
            "ICT"
           ],
           "legendgroup": "ICT",
           "marker": {
            "color": "#FFA15A",
            "size": [
             27200
            ],
            "sizemode": "area",
            "sizeref": 1932.888888888889,
            "symbol": "circle"
           },
           "mode": "markers",
           "name": "ICT",
           "showlegend": true,
           "type": "scatter",
           "x": [
            2012
           ],
           "xaxis": "x",
           "y": [
            27200
           ],
           "yaxis": "y"
          },
          {
           "hovertemplate": "<b>%{hovertext}</b><br><br>Industry=Finance<br>Years=%{x}<br>Employment=%{marker.size}<extra></extra>",
           "hovertext": [
            31100
           ],
           "ids": [
            "Finance"
           ],
           "legendgroup": "Finance",
           "marker": {
            "color": "#19d3f3",
            "size": [
             31100
            ],
            "sizemode": "area",
            "sizeref": 1932.888888888889,
            "symbol": "circle"
           },
           "mode": "markers",
           "name": "Finance",
           "showlegend": true,
           "type": "scatter",
           "x": [
            2012
           ],
           "xaxis": "x",
           "y": [
            31100
           ],
           "yaxis": "y"
          },
          {
           "hovertemplate": "<b>%{hovertext}</b><br><br>Industry=Real_Estate<br>Years=%{x}<br>Employment=%{marker.size}<extra></extra>",
           "hovertext": [
            18800
           ],
           "ids": [
            "Real_Estate"
           ],
           "legendgroup": "Real_Estate",
           "marker": {
            "color": "#FF6692",
            "size": [
             18800
            ],
            "sizemode": "area",
            "sizeref": 1932.888888888889,
            "symbol": "circle"
           },
           "mode": "markers",
           "name": "Real_Estate",
           "showlegend": true,
           "type": "scatter",
           "x": [
            2012
           ],
           "xaxis": "x",
           "y": [
            18800
           ],
           "yaxis": "y"
          },
          {
           "hovertemplate": "<b>%{hovertext}</b><br><br>Industry=Professional_Service<br>Years=%{x}<br>Employment=%{marker.size}<extra></extra>",
           "hovertext": [
            137300
           ],
           "ids": [
            "Professional_Service"
           ],
           "legendgroup": "Professional_Service",
           "marker": {
            "color": "#B6E880",
            "size": [
             137300
            ],
            "sizemode": "area",
            "sizeref": 1932.888888888889,
            "symbol": "circle"
           },
           "mode": "markers",
           "name": "Professional_Service",
           "showlegend": true,
           "type": "scatter",
           "x": [
            2012
           ],
           "xaxis": "x",
           "y": [
            137300
           ],
           "yaxis": "y"
          },
          {
           "hovertemplate": "<b>%{hovertext}</b><br><br>Industry=Public_Adminstration <br>Years=%{x}<br>Employment=%{marker.size}<extra></extra>",
           "hovertext": [
            421000
           ],
           "ids": [
            "Public_Adminstration "
           ],
           "legendgroup": "Public_Adminstration ",
           "marker": {
            "color": "#FF97FF",
            "size": [
             421000
            ],
            "sizemode": "area",
            "sizeref": 1932.888888888889,
            "symbol": "circle"
           },
           "mode": "markers",
           "name": "Public_Adminstration ",
           "showlegend": true,
           "type": "scatter",
           "x": [
            2012
           ],
           "xaxis": "x",
           "y": [
            421000
           ],
           "yaxis": "y"
          },
          {
           "hovertemplate": "<b>%{hovertext}</b><br><br>Industry=Other_Service<br>Years=%{x}<br>Employment=%{marker.size}<extra></extra>",
           "hovertext": [
            72800
           ],
           "ids": [
            "Other_Service"
           ],
           "legendgroup": "Other_Service",
           "marker": {
            "color": "#FECB52",
            "size": [
             72800
            ],
            "sizemode": "area",
            "sizeref": 1932.888888888889,
            "symbol": "circle"
           },
           "mode": "markers",
           "name": "Other_Service",
           "showlegend": true,
           "type": "scatter",
           "x": [
            2012
           ],
           "xaxis": "x",
           "y": [
            72800
           ],
           "yaxis": "y"
          }
         ],
         "name": "2012"
        },
        {
         "data": [
          {
           "hovertemplate": "<b>%{hovertext}</b><br><br>Industry=Agriculture<br>Years=%{x}<br>Employment=%{marker.size}<extra></extra>",
           "hovertext": [
            36800
           ],
           "ids": [
            "Agriculture"
           ],
           "legendgroup": "Agriculture",
           "marker": {
            "color": "#636efa",
            "size": [
             36800
            ],
            "sizemode": "area",
            "sizeref": 1932.888888888889,
            "symbol": "circle"
           },
           "mode": "markers",
           "name": "Agriculture",
           "showlegend": true,
           "type": "scatter",
           "x": [
            2013
           ],
           "xaxis": "x",
           "y": [
            36800
           ],
           "yaxis": "y"
          },
          {
           "hovertemplate": "<b>%{hovertext}</b><br><br>Industry=Production<br>Years=%{x}<br>Employment=%{marker.size}<extra></extra>",
           "hovertext": [
            164200
           ],
           "ids": [
            "Production"
           ],
           "legendgroup": "Production",
           "marker": {
            "color": "#EF553B",
            "size": [
             164200
            ],
            "sizemode": "area",
            "sizeref": 1932.888888888889,
            "symbol": "circle"
           },
           "mode": "markers",
           "name": "Production",
           "showlegend": true,
           "type": "scatter",
           "x": [
            2013
           ],
           "xaxis": "x",
           "y": [
            164200
           ],
           "yaxis": "y"
          },
          {
           "hovertemplate": "<b>%{hovertext}</b><br><br>Industry=Construction<br>Years=%{x}<br>Employment=%{marker.size}<extra></extra>",
           "hovertext": [
            89300
           ],
           "ids": [
            "Construction"
           ],
           "legendgroup": "Construction",
           "marker": {
            "color": "#00cc96",
            "size": [
             89300
            ],
            "sizemode": "area",
            "sizeref": 1932.888888888889,
            "symbol": "circle"
           },
           "mode": "markers",
           "name": "Construction",
           "showlegend": true,
           "type": "scatter",
           "x": [
            2013
           ],
           "xaxis": "x",
           "y": [
            89300
           ],
           "yaxis": "y"
          },
          {
           "hovertemplate": "<b>%{hovertext}</b><br><br>Industry=Retail<br>Years=%{x}<br>Employment=%{marker.size}<extra></extra>",
           "hovertext": [
            345100
           ],
           "ids": [
            "Retail"
           ],
           "legendgroup": "Retail",
           "marker": {
            "color": "#ab63fa",
            "size": [
             345100
            ],
            "sizemode": "area",
            "sizeref": 1932.888888888889,
            "symbol": "circle"
           },
           "mode": "markers",
           "name": "Retail",
           "showlegend": true,
           "type": "scatter",
           "x": [
            2013
           ],
           "xaxis": "x",
           "y": [
            345100
           ],
           "yaxis": "y"
          },
          {
           "hovertemplate": "<b>%{hovertext}</b><br><br>Industry=ICT<br>Years=%{x}<br>Employment=%{marker.size}<extra></extra>",
           "hovertext": [
            26900
           ],
           "ids": [
            "ICT"
           ],
           "legendgroup": "ICT",
           "marker": {
            "color": "#FFA15A",
            "size": [
             26900
            ],
            "sizemode": "area",
            "sizeref": 1932.888888888889,
            "symbol": "circle"
           },
           "mode": "markers",
           "name": "ICT",
           "showlegend": true,
           "type": "scatter",
           "x": [
            2013
           ],
           "xaxis": "x",
           "y": [
            26900
           ],
           "yaxis": "y"
          },
          {
           "hovertemplate": "<b>%{hovertext}</b><br><br>Industry=Finance<br>Years=%{x}<br>Employment=%{marker.size}<extra></extra>",
           "hovertext": [
            32400
           ],
           "ids": [
            "Finance"
           ],
           "legendgroup": "Finance",
           "marker": {
            "color": "#19d3f3",
            "size": [
             32400
            ],
            "sizemode": "area",
            "sizeref": 1932.888888888889,
            "symbol": "circle"
           },
           "mode": "markers",
           "name": "Finance",
           "showlegend": true,
           "type": "scatter",
           "x": [
            2013
           ],
           "xaxis": "x",
           "y": [
            32400
           ],
           "yaxis": "y"
          },
          {
           "hovertemplate": "<b>%{hovertext}</b><br><br>Industry=Real_Estate<br>Years=%{x}<br>Employment=%{marker.size}<extra></extra>",
           "hovertext": [
            18000
           ],
           "ids": [
            "Real_Estate"
           ],
           "legendgroup": "Real_Estate",
           "marker": {
            "color": "#FF6692",
            "size": [
             18000
            ],
            "sizemode": "area",
            "sizeref": 1932.888888888889,
            "symbol": "circle"
           },
           "mode": "markers",
           "name": "Real_Estate",
           "showlegend": true,
           "type": "scatter",
           "x": [
            2013
           ],
           "xaxis": "x",
           "y": [
            18000
           ],
           "yaxis": "y"
          },
          {
           "hovertemplate": "<b>%{hovertext}</b><br><br>Industry=Professional_Service<br>Years=%{x}<br>Employment=%{marker.size}<extra></extra>",
           "hovertext": [
            149900
           ],
           "ids": [
            "Professional_Service"
           ],
           "legendgroup": "Professional_Service",
           "marker": {
            "color": "#B6E880",
            "size": [
             149900
            ],
            "sizemode": "area",
            "sizeref": 1932.888888888889,
            "symbol": "circle"
           },
           "mode": "markers",
           "name": "Professional_Service",
           "showlegend": true,
           "type": "scatter",
           "x": [
            2013
           ],
           "xaxis": "x",
           "y": [
            149900
           ],
           "yaxis": "y"
          },
          {
           "hovertemplate": "<b>%{hovertext}</b><br><br>Industry=Public_Adminstration <br>Years=%{x}<br>Employment=%{marker.size}<extra></extra>",
           "hovertext": [
            427000
           ],
           "ids": [
            "Public_Adminstration "
           ],
           "legendgroup": "Public_Adminstration ",
           "marker": {
            "color": "#FF97FF",
            "size": [
             427000
            ],
            "sizemode": "area",
            "sizeref": 1932.888888888889,
            "symbol": "circle"
           },
           "mode": "markers",
           "name": "Public_Adminstration ",
           "showlegend": true,
           "type": "scatter",
           "x": [
            2013
           ],
           "xaxis": "x",
           "y": [
            427000
           ],
           "yaxis": "y"
          },
          {
           "hovertemplate": "<b>%{hovertext}</b><br><br>Industry=Other_Service<br>Years=%{x}<br>Employment=%{marker.size}<extra></extra>",
           "hovertext": [
            75500
           ],
           "ids": [
            "Other_Service"
           ],
           "legendgroup": "Other_Service",
           "marker": {
            "color": "#FECB52",
            "size": [
             75500
            ],
            "sizemode": "area",
            "sizeref": 1932.888888888889,
            "symbol": "circle"
           },
           "mode": "markers",
           "name": "Other_Service",
           "showlegend": true,
           "type": "scatter",
           "x": [
            2013
           ],
           "xaxis": "x",
           "y": [
            75500
           ],
           "yaxis": "y"
          }
         ],
         "name": "2013"
        },
        {
         "data": [
          {
           "hovertemplate": "<b>%{hovertext}</b><br><br>Industry=Agriculture<br>Years=%{x}<br>Employment=%{marker.size}<extra></extra>",
           "hovertext": [
            42700
           ],
           "ids": [
            "Agriculture"
           ],
           "legendgroup": "Agriculture",
           "marker": {
            "color": "#636efa",
            "size": [
             42700
            ],
            "sizemode": "area",
            "sizeref": 1932.888888888889,
            "symbol": "circle"
           },
           "mode": "markers",
           "name": "Agriculture",
           "showlegend": true,
           "type": "scatter",
           "x": [
            2014
           ],
           "xaxis": "x",
           "y": [
            42700
           ],
           "yaxis": "y"
          },
          {
           "hovertemplate": "<b>%{hovertext}</b><br><br>Industry=Production<br>Years=%{x}<br>Employment=%{marker.size}<extra></extra>",
           "hovertext": [
            173300
           ],
           "ids": [
            "Production"
           ],
           "legendgroup": "Production",
           "marker": {
            "color": "#EF553B",
            "size": [
             173300
            ],
            "sizemode": "area",
            "sizeref": 1932.888888888889,
            "symbol": "circle"
           },
           "mode": "markers",
           "name": "Production",
           "showlegend": true,
           "type": "scatter",
           "x": [
            2014
           ],
           "xaxis": "x",
           "y": [
            173300
           ],
           "yaxis": "y"
          },
          {
           "hovertemplate": "<b>%{hovertext}</b><br><br>Industry=Construction<br>Years=%{x}<br>Employment=%{marker.size}<extra></extra>",
           "hovertext": [
            97000
           ],
           "ids": [
            "Construction"
           ],
           "legendgroup": "Construction",
           "marker": {
            "color": "#00cc96",
            "size": [
             97000
            ],
            "sizemode": "area",
            "sizeref": 1932.888888888889,
            "symbol": "circle"
           },
           "mode": "markers",
           "name": "Construction",
           "showlegend": true,
           "type": "scatter",
           "x": [
            2014
           ],
           "xaxis": "x",
           "y": [
            97000
           ],
           "yaxis": "y"
          },
          {
           "hovertemplate": "<b>%{hovertext}</b><br><br>Industry=Retail<br>Years=%{x}<br>Employment=%{marker.size}<extra></extra>",
           "hovertext": [
            337300
           ],
           "ids": [
            "Retail"
           ],
           "legendgroup": "Retail",
           "marker": {
            "color": "#ab63fa",
            "size": [
             337300
            ],
            "sizemode": "area",
            "sizeref": 1932.888888888889,
            "symbol": "circle"
           },
           "mode": "markers",
           "name": "Retail",
           "showlegend": true,
           "type": "scatter",
           "x": [
            2014
           ],
           "xaxis": "x",
           "y": [
            337300
           ],
           "yaxis": "y"
          },
          {
           "hovertemplate": "<b>%{hovertext}</b><br><br>Industry=ICT<br>Years=%{x}<br>Employment=%{marker.size}<extra></extra>",
           "hovertext": [
            35700
           ],
           "ids": [
            "ICT"
           ],
           "legendgroup": "ICT",
           "marker": {
            "color": "#FFA15A",
            "size": [
             35700
            ],
            "sizemode": "area",
            "sizeref": 1932.888888888889,
            "symbol": "circle"
           },
           "mode": "markers",
           "name": "ICT",
           "showlegend": true,
           "type": "scatter",
           "x": [
            2014
           ],
           "xaxis": "x",
           "y": [
            35700
           ],
           "yaxis": "y"
          },
          {
           "hovertemplate": "<b>%{hovertext}</b><br><br>Industry=Finance<br>Years=%{x}<br>Employment=%{marker.size}<extra></extra>",
           "hovertext": [
            32400
           ],
           "ids": [
            "Finance"
           ],
           "legendgroup": "Finance",
           "marker": {
            "color": "#19d3f3",
            "size": [
             32400
            ],
            "sizemode": "area",
            "sizeref": 1932.888888888889,
            "symbol": "circle"
           },
           "mode": "markers",
           "name": "Finance",
           "showlegend": true,
           "type": "scatter",
           "x": [
            2014
           ],
           "xaxis": "x",
           "y": [
            32400
           ],
           "yaxis": "y"
          },
          {
           "hovertemplate": "<b>%{hovertext}</b><br><br>Industry=Real_Estate<br>Years=%{x}<br>Employment=%{marker.size}<extra></extra>",
           "hovertext": [
            22200
           ],
           "ids": [
            "Real_Estate"
           ],
           "legendgroup": "Real_Estate",
           "marker": {
            "color": "#FF6692",
            "size": [
             22200
            ],
            "sizemode": "area",
            "sizeref": 1932.888888888889,
            "symbol": "circle"
           },
           "mode": "markers",
           "name": "Real_Estate",
           "showlegend": true,
           "type": "scatter",
           "x": [
            2014
           ],
           "xaxis": "x",
           "y": [
            22200
           ],
           "yaxis": "y"
          },
          {
           "hovertemplate": "<b>%{hovertext}</b><br><br>Industry=Professional_Service<br>Years=%{x}<br>Employment=%{marker.size}<extra></extra>",
           "hovertext": [
            152900
           ],
           "ids": [
            "Professional_Service"
           ],
           "legendgroup": "Professional_Service",
           "marker": {
            "color": "#B6E880",
            "size": [
             152900
            ],
            "sizemode": "area",
            "sizeref": 1932.888888888889,
            "symbol": "circle"
           },
           "mode": "markers",
           "name": "Professional_Service",
           "showlegend": true,
           "type": "scatter",
           "x": [
            2014
           ],
           "xaxis": "x",
           "y": [
            152900
           ],
           "yaxis": "y"
          },
          {
           "hovertemplate": "<b>%{hovertext}</b><br><br>Industry=Public_Adminstration <br>Years=%{x}<br>Employment=%{marker.size}<extra></extra>",
           "hovertext": [
            427600
           ],
           "ids": [
            "Public_Adminstration "
           ],
           "legendgroup": "Public_Adminstration ",
           "marker": {
            "color": "#FF97FF",
            "size": [
             427600
            ],
            "sizemode": "area",
            "sizeref": 1932.888888888889,
            "symbol": "circle"
           },
           "mode": "markers",
           "name": "Public_Adminstration ",
           "showlegend": true,
           "type": "scatter",
           "x": [
            2014
           ],
           "xaxis": "x",
           "y": [
            427600
           ],
           "yaxis": "y"
          },
          {
           "hovertemplate": "<b>%{hovertext}</b><br><br>Industry=Other_Service<br>Years=%{x}<br>Employment=%{marker.size}<extra></extra>",
           "hovertext": [
            73300
           ],
           "ids": [
            "Other_Service"
           ],
           "legendgroup": "Other_Service",
           "marker": {
            "color": "#FECB52",
            "size": [
             73300
            ],
            "sizemode": "area",
            "sizeref": 1932.888888888889,
            "symbol": "circle"
           },
           "mode": "markers",
           "name": "Other_Service",
           "showlegend": true,
           "type": "scatter",
           "x": [
            2014
           ],
           "xaxis": "x",
           "y": [
            73300
           ],
           "yaxis": "y"
          }
         ],
         "name": "2014"
        },
        {
         "data": [
          {
           "hovertemplate": "<b>%{hovertext}</b><br><br>Industry=Agriculture<br>Years=%{x}<br>Employment=%{marker.size}<extra></extra>",
           "hovertext": [
            40700
           ],
           "ids": [
            "Agriculture"
           ],
           "legendgroup": "Agriculture",
           "marker": {
            "color": "#636efa",
            "size": [
             40700
            ],
            "sizemode": "area",
            "sizeref": 1932.888888888889,
            "symbol": "circle"
           },
           "mode": "markers",
           "name": "Agriculture",
           "showlegend": true,
           "type": "scatter",
           "x": [
            2015
           ],
           "xaxis": "x",
           "y": [
            40700
           ],
           "yaxis": "y"
          },
          {
           "hovertemplate": "<b>%{hovertext}</b><br><br>Industry=Production<br>Years=%{x}<br>Employment=%{marker.size}<extra></extra>",
           "hovertext": [
            172300
           ],
           "ids": [
            "Production"
           ],
           "legendgroup": "Production",
           "marker": {
            "color": "#EF553B",
            "size": [
             172300
            ],
            "sizemode": "area",
            "sizeref": 1932.888888888889,
            "symbol": "circle"
           },
           "mode": "markers",
           "name": "Production",
           "showlegend": true,
           "type": "scatter",
           "x": [
            2015
           ],
           "xaxis": "x",
           "y": [
            172300
           ],
           "yaxis": "y"
          },
          {
           "hovertemplate": "<b>%{hovertext}</b><br><br>Industry=Construction<br>Years=%{x}<br>Employment=%{marker.size}<extra></extra>",
           "hovertext": [
            92600
           ],
           "ids": [
            "Construction"
           ],
           "legendgroup": "Construction",
           "marker": {
            "color": "#00cc96",
            "size": [
             92600
            ],
            "sizemode": "area",
            "sizeref": 1932.888888888889,
            "symbol": "circle"
           },
           "mode": "markers",
           "name": "Construction",
           "showlegend": true,
           "type": "scatter",
           "x": [
            2015
           ],
           "xaxis": "x",
           "y": [
            92600
           ],
           "yaxis": "y"
          },
          {
           "hovertemplate": "<b>%{hovertext}</b><br><br>Industry=Retail<br>Years=%{x}<br>Employment=%{marker.size}<extra></extra>",
           "hovertext": [
            357700
           ],
           "ids": [
            "Retail"
           ],
           "legendgroup": "Retail",
           "marker": {
            "color": "#ab63fa",
            "size": [
             357700
            ],
            "sizemode": "area",
            "sizeref": 1932.888888888889,
            "symbol": "circle"
           },
           "mode": "markers",
           "name": "Retail",
           "showlegend": true,
           "type": "scatter",
           "x": [
            2015
           ],
           "xaxis": "x",
           "y": [
            357700
           ],
           "yaxis": "y"
          },
          {
           "hovertemplate": "<b>%{hovertext}</b><br><br>Industry=ICT<br>Years=%{x}<br>Employment=%{marker.size}<extra></extra>",
           "hovertext": [
            24000
           ],
           "ids": [
            "ICT"
           ],
           "legendgroup": "ICT",
           "marker": {
            "color": "#FFA15A",
            "size": [
             24000
            ],
            "sizemode": "area",
            "sizeref": 1932.888888888889,
            "symbol": "circle"
           },
           "mode": "markers",
           "name": "ICT",
           "showlegend": true,
           "type": "scatter",
           "x": [
            2015
           ],
           "xaxis": "x",
           "y": [
            24000
           ],
           "yaxis": "y"
          },
          {
           "hovertemplate": "<b>%{hovertext}</b><br><br>Industry=Finance<br>Years=%{x}<br>Employment=%{marker.size}<extra></extra>",
           "hovertext": [
            30800
           ],
           "ids": [
            "Finance"
           ],
           "legendgroup": "Finance",
           "marker": {
            "color": "#19d3f3",
            "size": [
             30800
            ],
            "sizemode": "area",
            "sizeref": 1932.888888888889,
            "symbol": "circle"
           },
           "mode": "markers",
           "name": "Finance",
           "showlegend": true,
           "type": "scatter",
           "x": [
            2015
           ],
           "xaxis": "x",
           "y": [
            30800
           ],
           "yaxis": "y"
          },
          {
           "hovertemplate": "<b>%{hovertext}</b><br><br>Industry=Real_Estate<br>Years=%{x}<br>Employment=%{marker.size}<extra></extra>",
           "hovertext": [
            19100
           ],
           "ids": [
            "Real_Estate"
           ],
           "legendgroup": "Real_Estate",
           "marker": {
            "color": "#FF6692",
            "size": [
             19100
            ],
            "sizemode": "area",
            "sizeref": 1932.888888888889,
            "symbol": "circle"
           },
           "mode": "markers",
           "name": "Real_Estate",
           "showlegend": true,
           "type": "scatter",
           "x": [
            2015
           ],
           "xaxis": "x",
           "y": [
            19100
           ],
           "yaxis": "y"
          },
          {
           "hovertemplate": "<b>%{hovertext}</b><br><br>Industry=Professional_Service<br>Years=%{x}<br>Employment=%{marker.size}<extra></extra>",
           "hovertext": [
            166200
           ],
           "ids": [
            "Professional_Service"
           ],
           "legendgroup": "Professional_Service",
           "marker": {
            "color": "#B6E880",
            "size": [
             166200
            ],
            "sizemode": "area",
            "sizeref": 1932.888888888889,
            "symbol": "circle"
           },
           "mode": "markers",
           "name": "Professional_Service",
           "showlegend": true,
           "type": "scatter",
           "x": [
            2015
           ],
           "xaxis": "x",
           "y": [
            166200
           ],
           "yaxis": "y"
          },
          {
           "hovertemplate": "<b>%{hovertext}</b><br><br>Industry=Public_Adminstration <br>Years=%{x}<br>Employment=%{marker.size}<extra></extra>",
           "hovertext": [
            423200
           ],
           "ids": [
            "Public_Adminstration "
           ],
           "legendgroup": "Public_Adminstration ",
           "marker": {
            "color": "#FF97FF",
            "size": [
             423200
            ],
            "sizemode": "area",
            "sizeref": 1932.888888888889,
            "symbol": "circle"
           },
           "mode": "markers",
           "name": "Public_Adminstration ",
           "showlegend": true,
           "type": "scatter",
           "x": [
            2015
           ],
           "xaxis": "x",
           "y": [
            423200
           ],
           "yaxis": "y"
          },
          {
           "hovertemplate": "<b>%{hovertext}</b><br><br>Industry=Other_Service<br>Years=%{x}<br>Employment=%{marker.size}<extra></extra>",
           "hovertext": [
            77200
           ],
           "ids": [
            "Other_Service"
           ],
           "legendgroup": "Other_Service",
           "marker": {
            "color": "#FECB52",
            "size": [
             77200
            ],
            "sizemode": "area",
            "sizeref": 1932.888888888889,
            "symbol": "circle"
           },
           "mode": "markers",
           "name": "Other_Service",
           "showlegend": true,
           "type": "scatter",
           "x": [
            2015
           ],
           "xaxis": "x",
           "y": [
            77200
           ],
           "yaxis": "y"
          }
         ],
         "name": "2015"
        },
        {
         "data": [
          {
           "hovertemplate": "<b>%{hovertext}</b><br><br>Industry=Agriculture<br>Years=%{x}<br>Employment=%{marker.size}<extra></extra>",
           "hovertext": [
            43200
           ],
           "ids": [
            "Agriculture"
           ],
           "legendgroup": "Agriculture",
           "marker": {
            "color": "#636efa",
            "size": [
             43200
            ],
            "sizemode": "area",
            "sizeref": 1932.888888888889,
            "symbol": "circle"
           },
           "mode": "markers",
           "name": "Agriculture",
           "showlegend": true,
           "type": "scatter",
           "x": [
            2016
           ],
           "xaxis": "x",
           "y": [
            43200
           ],
           "yaxis": "y"
          },
          {
           "hovertemplate": "<b>%{hovertext}</b><br><br>Industry=Production<br>Years=%{x}<br>Employment=%{marker.size}<extra></extra>",
           "hovertext": [
            162500
           ],
           "ids": [
            "Production"
           ],
           "legendgroup": "Production",
           "marker": {
            "color": "#EF553B",
            "size": [
             162500
            ],
            "sizemode": "area",
            "sizeref": 1932.888888888889,
            "symbol": "circle"
           },
           "mode": "markers",
           "name": "Production",
           "showlegend": true,
           "type": "scatter",
           "x": [
            2016
           ],
           "xaxis": "x",
           "y": [
            162500
           ],
           "yaxis": "y"
          },
          {
           "hovertemplate": "<b>%{hovertext}</b><br><br>Industry=Construction<br>Years=%{x}<br>Employment=%{marker.size}<extra></extra>",
           "hovertext": [
            102700
           ],
           "ids": [
            "Construction"
           ],
           "legendgroup": "Construction",
           "marker": {
            "color": "#00cc96",
            "size": [
             102700
            ],
            "sizemode": "area",
            "sizeref": 1932.888888888889,
            "symbol": "circle"
           },
           "mode": "markers",
           "name": "Construction",
           "showlegend": true,
           "type": "scatter",
           "x": [
            2016
           ],
           "xaxis": "x",
           "y": [
            102700
           ],
           "yaxis": "y"
          },
          {
           "hovertemplate": "<b>%{hovertext}</b><br><br>Industry=Retail<br>Years=%{x}<br>Employment=%{marker.size}<extra></extra>",
           "hovertext": [
            360200
           ],
           "ids": [
            "Retail"
           ],
           "legendgroup": "Retail",
           "marker": {
            "color": "#ab63fa",
            "size": [
             360200
            ],
            "sizemode": "area",
            "sizeref": 1932.888888888889,
            "symbol": "circle"
           },
           "mode": "markers",
           "name": "Retail",
           "showlegend": true,
           "type": "scatter",
           "x": [
            2016
           ],
           "xaxis": "x",
           "y": [
            360200
           ],
           "yaxis": "y"
          },
          {
           "hovertemplate": "<b>%{hovertext}</b><br><br>Industry=ICT<br>Years=%{x}<br>Employment=%{marker.size}<extra></extra>",
           "hovertext": [
            34400
           ],
           "ids": [
            "ICT"
           ],
           "legendgroup": "ICT",
           "marker": {
            "color": "#FFA15A",
            "size": [
             34400
            ],
            "sizemode": "area",
            "sizeref": 1932.888888888889,
            "symbol": "circle"
           },
           "mode": "markers",
           "name": "ICT",
           "showlegend": true,
           "type": "scatter",
           "x": [
            2016
           ],
           "xaxis": "x",
           "y": [
            34400
           ],
           "yaxis": "y"
          },
          {
           "hovertemplate": "<b>%{hovertext}</b><br><br>Industry=Finance<br>Years=%{x}<br>Employment=%{marker.size}<extra></extra>",
           "hovertext": [
            31000
           ],
           "ids": [
            "Finance"
           ],
           "legendgroup": "Finance",
           "marker": {
            "color": "#19d3f3",
            "size": [
             31000
            ],
            "sizemode": "area",
            "sizeref": 1932.888888888889,
            "symbol": "circle"
           },
           "mode": "markers",
           "name": "Finance",
           "showlegend": true,
           "type": "scatter",
           "x": [
            2016
           ],
           "xaxis": "x",
           "y": [
            31000
           ],
           "yaxis": "y"
          },
          {
           "hovertemplate": "<b>%{hovertext}</b><br><br>Industry=Real_Estate<br>Years=%{x}<br>Employment=%{marker.size}<extra></extra>",
           "hovertext": [
            22700
           ],
           "ids": [
            "Real_Estate"
           ],
           "legendgroup": "Real_Estate",
           "marker": {
            "color": "#FF6692",
            "size": [
             22700
            ],
            "sizemode": "area",
            "sizeref": 1932.888888888889,
            "symbol": "circle"
           },
           "mode": "markers",
           "name": "Real_Estate",
           "showlegend": true,
           "type": "scatter",
           "x": [
            2016
           ],
           "xaxis": "x",
           "y": [
            22700
           ],
           "yaxis": "y"
          },
          {
           "hovertemplate": "<b>%{hovertext}</b><br><br>Industry=Professional_Service<br>Years=%{x}<br>Employment=%{marker.size}<extra></extra>",
           "hovertext": [
            161200
           ],
           "ids": [
            "Professional_Service"
           ],
           "legendgroup": "Professional_Service",
           "marker": {
            "color": "#B6E880",
            "size": [
             161200
            ],
            "sizemode": "area",
            "sizeref": 1932.888888888889,
            "symbol": "circle"
           },
           "mode": "markers",
           "name": "Professional_Service",
           "showlegend": true,
           "type": "scatter",
           "x": [
            2016
           ],
           "xaxis": "x",
           "y": [
            161200
           ],
           "yaxis": "y"
          },
          {
           "hovertemplate": "<b>%{hovertext}</b><br><br>Industry=Public_Adminstration <br>Years=%{x}<br>Employment=%{marker.size}<extra></extra>",
           "hovertext": [
            418500
           ],
           "ids": [
            "Public_Adminstration "
           ],
           "legendgroup": "Public_Adminstration ",
           "marker": {
            "color": "#FF97FF",
            "size": [
             418500
            ],
            "sizemode": "area",
            "sizeref": 1932.888888888889,
            "symbol": "circle"
           },
           "mode": "markers",
           "name": "Public_Adminstration ",
           "showlegend": true,
           "type": "scatter",
           "x": [
            2016
           ],
           "xaxis": "x",
           "y": [
            418500
           ],
           "yaxis": "y"
          },
          {
           "hovertemplate": "<b>%{hovertext}</b><br><br>Industry=Other_Service<br>Years=%{x}<br>Employment=%{marker.size}<extra></extra>",
           "hovertext": [
            72400
           ],
           "ids": [
            "Other_Service"
           ],
           "legendgroup": "Other_Service",
           "marker": {
            "color": "#FECB52",
            "size": [
             72400
            ],
            "sizemode": "area",
            "sizeref": 1932.888888888889,
            "symbol": "circle"
           },
           "mode": "markers",
           "name": "Other_Service",
           "showlegend": true,
           "type": "scatter",
           "x": [
            2016
           ],
           "xaxis": "x",
           "y": [
            72400
           ],
           "yaxis": "y"
          }
         ],
         "name": "2016"
        },
        {
         "data": [
          {
           "hovertemplate": "<b>%{hovertext}</b><br><br>Industry=Agriculture<br>Years=%{x}<br>Employment=%{marker.size}<extra></extra>",
           "hovertext": [
            40200
           ],
           "ids": [
            "Agriculture"
           ],
           "legendgroup": "Agriculture",
           "marker": {
            "color": "#636efa",
            "size": [
             40200
            ],
            "sizemode": "area",
            "sizeref": 1932.888888888889,
            "symbol": "circle"
           },
           "mode": "markers",
           "name": "Agriculture",
           "showlegend": true,
           "type": "scatter",
           "x": [
            2017
           ],
           "xaxis": "x",
           "y": [
            40200
           ],
           "yaxis": "y"
          },
          {
           "hovertemplate": "<b>%{hovertext}</b><br><br>Industry=Production<br>Years=%{x}<br>Employment=%{marker.size}<extra></extra>",
           "hovertext": [
            165100
           ],
           "ids": [
            "Production"
           ],
           "legendgroup": "Production",
           "marker": {
            "color": "#EF553B",
            "size": [
             165100
            ],
            "sizemode": "area",
            "sizeref": 1932.888888888889,
            "symbol": "circle"
           },
           "mode": "markers",
           "name": "Production",
           "showlegend": true,
           "type": "scatter",
           "x": [
            2017
           ],
           "xaxis": "x",
           "y": [
            165100
           ],
           "yaxis": "y"
          },
          {
           "hovertemplate": "<b>%{hovertext}</b><br><br>Industry=Construction<br>Years=%{x}<br>Employment=%{marker.size}<extra></extra>",
           "hovertext": [
            90800
           ],
           "ids": [
            "Construction"
           ],
           "legendgroup": "Construction",
           "marker": {
            "color": "#00cc96",
            "size": [
             90800
            ],
            "sizemode": "area",
            "sizeref": 1932.888888888889,
            "symbol": "circle"
           },
           "mode": "markers",
           "name": "Construction",
           "showlegend": true,
           "type": "scatter",
           "x": [
            2017
           ],
           "xaxis": "x",
           "y": [
            90800
           ],
           "yaxis": "y"
          },
          {
           "hovertemplate": "<b>%{hovertext}</b><br><br>Industry=Retail<br>Years=%{x}<br>Employment=%{marker.size}<extra></extra>",
           "hovertext": [
            333500
           ],
           "ids": [
            "Retail"
           ],
           "legendgroup": "Retail",
           "marker": {
            "color": "#ab63fa",
            "size": [
             333500
            ],
            "sizemode": "area",
            "sizeref": 1932.888888888889,
            "symbol": "circle"
           },
           "mode": "markers",
           "name": "Retail",
           "showlegend": true,
           "type": "scatter",
           "x": [
            2017
           ],
           "xaxis": "x",
           "y": [
            333500
           ],
           "yaxis": "y"
          },
          {
           "hovertemplate": "<b>%{hovertext}</b><br><br>Industry=ICT<br>Years=%{x}<br>Employment=%{marker.size}<extra></extra>",
           "hovertext": [
            58900
           ],
           "ids": [
            "ICT"
           ],
           "legendgroup": "ICT",
           "marker": {
            "color": "#FFA15A",
            "size": [
             58900
            ],
            "sizemode": "area",
            "sizeref": 1932.888888888889,
            "symbol": "circle"
           },
           "mode": "markers",
           "name": "ICT",
           "showlegend": true,
           "type": "scatter",
           "x": [
            2017
           ],
           "xaxis": "x",
           "y": [
            58900
           ],
           "yaxis": "y"
          },
          {
           "hovertemplate": "<b>%{hovertext}</b><br><br>Industry=Finance<br>Years=%{x}<br>Employment=%{marker.size}<extra></extra>",
           "hovertext": [
            32100
           ],
           "ids": [
            "Finance"
           ],
           "legendgroup": "Finance",
           "marker": {
            "color": "#19d3f3",
            "size": [
             32100
            ],
            "sizemode": "area",
            "sizeref": 1932.888888888889,
            "symbol": "circle"
           },
           "mode": "markers",
           "name": "Finance",
           "showlegend": true,
           "type": "scatter",
           "x": [
            2017
           ],
           "xaxis": "x",
           "y": [
            32100
           ],
           "yaxis": "y"
          },
          {
           "hovertemplate": "<b>%{hovertext}</b><br><br>Industry=Real_Estate<br>Years=%{x}<br>Employment=%{marker.size}<extra></extra>",
           "hovertext": [
            18200
           ],
           "ids": [
            "Real_Estate"
           ],
           "legendgroup": "Real_Estate",
           "marker": {
            "color": "#FF6692",
            "size": [
             18200
            ],
            "sizemode": "area",
            "sizeref": 1932.888888888889,
            "symbol": "circle"
           },
           "mode": "markers",
           "name": "Real_Estate",
           "showlegend": true,
           "type": "scatter",
           "x": [
            2017
           ],
           "xaxis": "x",
           "y": [
            18200
           ],
           "yaxis": "y"
          },
          {
           "hovertemplate": "<b>%{hovertext}</b><br><br>Industry=Professional_Service<br>Years=%{x}<br>Employment=%{marker.size}<extra></extra>",
           "hovertext": [
            176400
           ],
           "ids": [
            "Professional_Service"
           ],
           "legendgroup": "Professional_Service",
           "marker": {
            "color": "#B6E880",
            "size": [
             176400
            ],
            "sizemode": "area",
            "sizeref": 1932.888888888889,
            "symbol": "circle"
           },
           "mode": "markers",
           "name": "Professional_Service",
           "showlegend": true,
           "type": "scatter",
           "x": [
            2017
           ],
           "xaxis": "x",
           "y": [
            176400
           ],
           "yaxis": "y"
          },
          {
           "hovertemplate": "<b>%{hovertext}</b><br><br>Industry=Public_Adminstration <br>Years=%{x}<br>Employment=%{marker.size}<extra></extra>",
           "hovertext": [
            424500
           ],
           "ids": [
            "Public_Adminstration "
           ],
           "legendgroup": "Public_Adminstration ",
           "marker": {
            "color": "#FF97FF",
            "size": [
             424500
            ],
            "sizemode": "area",
            "sizeref": 1932.888888888889,
            "symbol": "circle"
           },
           "mode": "markers",
           "name": "Public_Adminstration ",
           "showlegend": true,
           "type": "scatter",
           "x": [
            2017
           ],
           "xaxis": "x",
           "y": [
            424500
           ],
           "yaxis": "y"
          },
          {
           "hovertemplate": "<b>%{hovertext}</b><br><br>Industry=Other_Service<br>Years=%{x}<br>Employment=%{marker.size}<extra></extra>",
           "hovertext": [
            83200
           ],
           "ids": [
            "Other_Service"
           ],
           "legendgroup": "Other_Service",
           "marker": {
            "color": "#FECB52",
            "size": [
             83200
            ],
            "sizemode": "area",
            "sizeref": 1932.888888888889,
            "symbol": "circle"
           },
           "mode": "markers",
           "name": "Other_Service",
           "showlegend": true,
           "type": "scatter",
           "x": [
            2017
           ],
           "xaxis": "x",
           "y": [
            83200
           ],
           "yaxis": "y"
          }
         ],
         "name": "2017"
        },
        {
         "data": [
          {
           "hovertemplate": "<b>%{hovertext}</b><br><br>Industry=Agriculture<br>Years=%{x}<br>Employment=%{marker.size}<extra></extra>",
           "hovertext": [
            41100
           ],
           "ids": [
            "Agriculture"
           ],
           "legendgroup": "Agriculture",
           "marker": {
            "color": "#636efa",
            "size": [
             41100
            ],
            "sizemode": "area",
            "sizeref": 1932.888888888889,
            "symbol": "circle"
           },
           "mode": "markers",
           "name": "Agriculture",
           "showlegend": true,
           "type": "scatter",
           "x": [
            2018
           ],
           "xaxis": "x",
           "y": [
            41100
           ],
           "yaxis": "y"
          },
          {
           "hovertemplate": "<b>%{hovertext}</b><br><br>Industry=Production<br>Years=%{x}<br>Employment=%{marker.size}<extra></extra>",
           "hovertext": [
            165700
           ],
           "ids": [
            "Production"
           ],
           "legendgroup": "Production",
           "marker": {
            "color": "#EF553B",
            "size": [
             165700
            ],
            "sizemode": "area",
            "sizeref": 1932.888888888889,
            "symbol": "circle"
           },
           "mode": "markers",
           "name": "Production",
           "showlegend": true,
           "type": "scatter",
           "x": [
            2018
           ],
           "xaxis": "x",
           "y": [
            165700
           ],
           "yaxis": "y"
          },
          {
           "hovertemplate": "<b>%{hovertext}</b><br><br>Industry=Construction<br>Years=%{x}<br>Employment=%{marker.size}<extra></extra>",
           "hovertext": [
            101800
           ],
           "ids": [
            "Construction"
           ],
           "legendgroup": "Construction",
           "marker": {
            "color": "#00cc96",
            "size": [
             101800
            ],
            "sizemode": "area",
            "sizeref": 1932.888888888889,
            "symbol": "circle"
           },
           "mode": "markers",
           "name": "Construction",
           "showlegend": true,
           "type": "scatter",
           "x": [
            2018
           ],
           "xaxis": "x",
           "y": [
            101800
           ],
           "yaxis": "y"
          },
          {
           "hovertemplate": "<b>%{hovertext}</b><br><br>Industry=Retail<br>Years=%{x}<br>Employment=%{marker.size}<extra></extra>",
           "hovertext": [
            347600
           ],
           "ids": [
            "Retail"
           ],
           "legendgroup": "Retail",
           "marker": {
            "color": "#ab63fa",
            "size": [
             347600
            ],
            "sizemode": "area",
            "sizeref": 1932.888888888889,
            "symbol": "circle"
           },
           "mode": "markers",
           "name": "Retail",
           "showlegend": true,
           "type": "scatter",
           "x": [
            2018
           ],
           "xaxis": "x",
           "y": [
            347600
           ],
           "yaxis": "y"
          },
          {
           "hovertemplate": "<b>%{hovertext}</b><br><br>Industry=ICT<br>Years=%{x}<br>Employment=%{marker.size}<extra></extra>",
           "hovertext": [
            31500
           ],
           "ids": [
            "ICT"
           ],
           "legendgroup": "ICT",
           "marker": {
            "color": "#FFA15A",
            "size": [
             31500
            ],
            "sizemode": "area",
            "sizeref": 1932.888888888889,
            "symbol": "circle"
           },
           "mode": "markers",
           "name": "ICT",
           "showlegend": true,
           "type": "scatter",
           "x": [
            2018
           ],
           "xaxis": "x",
           "y": [
            31500
           ],
           "yaxis": "y"
          },
          {
           "hovertemplate": "<b>%{hovertext}</b><br><br>Industry=Finance<br>Years=%{x}<br>Employment=%{marker.size}<extra></extra>",
           "hovertext": [
            35500
           ],
           "ids": [
            "Finance"
           ],
           "legendgroup": "Finance",
           "marker": {
            "color": "#19d3f3",
            "size": [
             35500
            ],
            "sizemode": "area",
            "sizeref": 1932.888888888889,
            "symbol": "circle"
           },
           "mode": "markers",
           "name": "Finance",
           "showlegend": true,
           "type": "scatter",
           "x": [
            2018
           ],
           "xaxis": "x",
           "y": [
            35500
           ],
           "yaxis": "y"
          },
          {
           "hovertemplate": "<b>%{hovertext}</b><br><br>Industry=Real_Estate<br>Years=%{x}<br>Employment=%{marker.size}<extra></extra>",
           "hovertext": [
            25200
           ],
           "ids": [
            "Real_Estate"
           ],
           "legendgroup": "Real_Estate",
           "marker": {
            "color": "#FF6692",
            "size": [
             25200
            ],
            "sizemode": "area",
            "sizeref": 1932.888888888889,
            "symbol": "circle"
           },
           "mode": "markers",
           "name": "Real_Estate",
           "showlegend": true,
           "type": "scatter",
           "x": [
            2018
           ],
           "xaxis": "x",
           "y": [
            25200
           ],
           "yaxis": "y"
          },
          {
           "hovertemplate": "<b>%{hovertext}</b><br><br>Industry=Professional_Service<br>Years=%{x}<br>Employment=%{marker.size}<extra></extra>",
           "hovertext": [
            187100
           ],
           "ids": [
            "Professional_Service"
           ],
           "legendgroup": "Professional_Service",
           "marker": {
            "color": "#B6E880",
            "size": [
             187100
            ],
            "sizemode": "area",
            "sizeref": 1932.888888888889,
            "symbol": "circle"
           },
           "mode": "markers",
           "name": "Professional_Service",
           "showlegend": true,
           "type": "scatter",
           "x": [
            2018
           ],
           "xaxis": "x",
           "y": [
            187100
           ],
           "yaxis": "y"
          },
          {
           "hovertemplate": "<b>%{hovertext}</b><br><br>Industry=Public_Adminstration <br>Years=%{x}<br>Employment=%{marker.size}<extra></extra>",
           "hovertext": [
            434900
           ],
           "ids": [
            "Public_Adminstration "
           ],
           "legendgroup": "Public_Adminstration ",
           "marker": {
            "color": "#FF97FF",
            "size": [
             434900
            ],
            "sizemode": "area",
            "sizeref": 1932.888888888889,
            "symbol": "circle"
           },
           "mode": "markers",
           "name": "Public_Adminstration ",
           "showlegend": true,
           "type": "scatter",
           "x": [
            2018
           ],
           "xaxis": "x",
           "y": [
            434900
           ],
           "yaxis": "y"
          },
          {
           "hovertemplate": "<b>%{hovertext}</b><br><br>Industry=Other_Service<br>Years=%{x}<br>Employment=%{marker.size}<extra></extra>",
           "hovertext": [
            81800
           ],
           "ids": [
            "Other_Service"
           ],
           "legendgroup": "Other_Service",
           "marker": {
            "color": "#FECB52",
            "size": [
             81800
            ],
            "sizemode": "area",
            "sizeref": 1932.888888888889,
            "symbol": "circle"
           },
           "mode": "markers",
           "name": "Other_Service",
           "showlegend": true,
           "type": "scatter",
           "x": [
            2018
           ],
           "xaxis": "x",
           "y": [
            81800
           ],
           "yaxis": "y"
          }
         ],
         "name": "2018"
        }
       ],
       "layout": {
        "legend": {
         "itemsizing": "constant",
         "title": {
          "text": "Industry"
         },
         "tracegroupgap": 0
        },
        "margin": {
         "t": 60
        },
        "sliders": [
         {
          "active": 0,
          "currentvalue": {
           "prefix": "Years="
          },
          "len": 0.9,
          "pad": {
           "b": 10,
           "t": 60
          },
          "steps": [
           {
            "args": [
             [
              "2009"
             ],
             {
              "frame": {
               "duration": 0,
               "redraw": false
              },
              "fromcurrent": true,
              "mode": "immediate",
              "transition": {
               "duration": 0,
               "easing": "linear"
              }
             }
            ],
            "label": "2009",
            "method": "animate"
           },
           {
            "args": [
             [
              "2010"
             ],
             {
              "frame": {
               "duration": 0,
               "redraw": false
              },
              "fromcurrent": true,
              "mode": "immediate",
              "transition": {
               "duration": 0,
               "easing": "linear"
              }
             }
            ],
            "label": "2010",
            "method": "animate"
           },
           {
            "args": [
             [
              "2011"
             ],
             {
              "frame": {
               "duration": 0,
               "redraw": false
              },
              "fromcurrent": true,
              "mode": "immediate",
              "transition": {
               "duration": 0,
               "easing": "linear"
              }
             }
            ],
            "label": "2011",
            "method": "animate"
           },
           {
            "args": [
             [
              "2012"
             ],
             {
              "frame": {
               "duration": 0,
               "redraw": false
              },
              "fromcurrent": true,
              "mode": "immediate",
              "transition": {
               "duration": 0,
               "easing": "linear"
              }
             }
            ],
            "label": "2012",
            "method": "animate"
           },
           {
            "args": [
             [
              "2013"
             ],
             {
              "frame": {
               "duration": 0,
               "redraw": false
              },
              "fromcurrent": true,
              "mode": "immediate",
              "transition": {
               "duration": 0,
               "easing": "linear"
              }
             }
            ],
            "label": "2013",
            "method": "animate"
           },
           {
            "args": [
             [
              "2014"
             ],
             {
              "frame": {
               "duration": 0,
               "redraw": false
              },
              "fromcurrent": true,
              "mode": "immediate",
              "transition": {
               "duration": 0,
               "easing": "linear"
              }
             }
            ],
            "label": "2014",
            "method": "animate"
           },
           {
            "args": [
             [
              "2015"
             ],
             {
              "frame": {
               "duration": 0,
               "redraw": false
              },
              "fromcurrent": true,
              "mode": "immediate",
              "transition": {
               "duration": 0,
               "easing": "linear"
              }
             }
            ],
            "label": "2015",
            "method": "animate"
           },
           {
            "args": [
             [
              "2016"
             ],
             {
              "frame": {
               "duration": 0,
               "redraw": false
              },
              "fromcurrent": true,
              "mode": "immediate",
              "transition": {
               "duration": 0,
               "easing": "linear"
              }
             }
            ],
            "label": "2016",
            "method": "animate"
           },
           {
            "args": [
             [
              "2017"
             ],
             {
              "frame": {
               "duration": 0,
               "redraw": false
              },
              "fromcurrent": true,
              "mode": "immediate",
              "transition": {
               "duration": 0,
               "easing": "linear"
              }
             }
            ],
            "label": "2017",
            "method": "animate"
           },
           {
            "args": [
             [
              "2018"
             ],
             {
              "frame": {
               "duration": 0,
               "redraw": false
              },
              "fromcurrent": true,
              "mode": "immediate",
              "transition": {
               "duration": 0,
               "easing": "linear"
              }
             }
            ],
            "label": "2018",
            "method": "animate"
           }
          ],
          "x": 0.1,
          "xanchor": "left",
          "y": 0,
          "yanchor": "top"
         }
        ],
        "template": {
         "data": {
          "bar": [
           {
            "error_x": {
             "color": "#2a3f5f"
            },
            "error_y": {
             "color": "#2a3f5f"
            },
            "marker": {
             "line": {
              "color": "#E5ECF6",
              "width": 0.5
             }
            },
            "type": "bar"
           }
          ],
          "barpolar": [
           {
            "marker": {
             "line": {
              "color": "#E5ECF6",
              "width": 0.5
             }
            },
            "type": "barpolar"
           }
          ],
          "carpet": [
           {
            "aaxis": {
             "endlinecolor": "#2a3f5f",
             "gridcolor": "white",
             "linecolor": "white",
             "minorgridcolor": "white",
             "startlinecolor": "#2a3f5f"
            },
            "baxis": {
             "endlinecolor": "#2a3f5f",
             "gridcolor": "white",
             "linecolor": "white",
             "minorgridcolor": "white",
             "startlinecolor": "#2a3f5f"
            },
            "type": "carpet"
           }
          ],
          "choropleth": [
           {
            "colorbar": {
             "outlinewidth": 0,
             "ticks": ""
            },
            "type": "choropleth"
           }
          ],
          "contour": [
           {
            "colorbar": {
             "outlinewidth": 0,
             "ticks": ""
            },
            "colorscale": [
             [
              0,
              "#0d0887"
             ],
             [
              0.1111111111111111,
              "#46039f"
             ],
             [
              0.2222222222222222,
              "#7201a8"
             ],
             [
              0.3333333333333333,
              "#9c179e"
             ],
             [
              0.4444444444444444,
              "#bd3786"
             ],
             [
              0.5555555555555556,
              "#d8576b"
             ],
             [
              0.6666666666666666,
              "#ed7953"
             ],
             [
              0.7777777777777778,
              "#fb9f3a"
             ],
             [
              0.8888888888888888,
              "#fdca26"
             ],
             [
              1,
              "#f0f921"
             ]
            ],
            "type": "contour"
           }
          ],
          "contourcarpet": [
           {
            "colorbar": {
             "outlinewidth": 0,
             "ticks": ""
            },
            "type": "contourcarpet"
           }
          ],
          "heatmap": [
           {
            "colorbar": {
             "outlinewidth": 0,
             "ticks": ""
            },
            "colorscale": [
             [
              0,
              "#0d0887"
             ],
             [
              0.1111111111111111,
              "#46039f"
             ],
             [
              0.2222222222222222,
              "#7201a8"
             ],
             [
              0.3333333333333333,
              "#9c179e"
             ],
             [
              0.4444444444444444,
              "#bd3786"
             ],
             [
              0.5555555555555556,
              "#d8576b"
             ],
             [
              0.6666666666666666,
              "#ed7953"
             ],
             [
              0.7777777777777778,
              "#fb9f3a"
             ],
             [
              0.8888888888888888,
              "#fdca26"
             ],
             [
              1,
              "#f0f921"
             ]
            ],
            "type": "heatmap"
           }
          ],
          "heatmapgl": [
           {
            "colorbar": {
             "outlinewidth": 0,
             "ticks": ""
            },
            "colorscale": [
             [
              0,
              "#0d0887"
             ],
             [
              0.1111111111111111,
              "#46039f"
             ],
             [
              0.2222222222222222,
              "#7201a8"
             ],
             [
              0.3333333333333333,
              "#9c179e"
             ],
             [
              0.4444444444444444,
              "#bd3786"
             ],
             [
              0.5555555555555556,
              "#d8576b"
             ],
             [
              0.6666666666666666,
              "#ed7953"
             ],
             [
              0.7777777777777778,
              "#fb9f3a"
             ],
             [
              0.8888888888888888,
              "#fdca26"
             ],
             [
              1,
              "#f0f921"
             ]
            ],
            "type": "heatmapgl"
           }
          ],
          "histogram": [
           {
            "marker": {
             "colorbar": {
              "outlinewidth": 0,
              "ticks": ""
             }
            },
            "type": "histogram"
           }
          ],
          "histogram2d": [
           {
            "colorbar": {
             "outlinewidth": 0,
             "ticks": ""
            },
            "colorscale": [
             [
              0,
              "#0d0887"
             ],
             [
              0.1111111111111111,
              "#46039f"
             ],
             [
              0.2222222222222222,
              "#7201a8"
             ],
             [
              0.3333333333333333,
              "#9c179e"
             ],
             [
              0.4444444444444444,
              "#bd3786"
             ],
             [
              0.5555555555555556,
              "#d8576b"
             ],
             [
              0.6666666666666666,
              "#ed7953"
             ],
             [
              0.7777777777777778,
              "#fb9f3a"
             ],
             [
              0.8888888888888888,
              "#fdca26"
             ],
             [
              1,
              "#f0f921"
             ]
            ],
            "type": "histogram2d"
           }
          ],
          "histogram2dcontour": [
           {
            "colorbar": {
             "outlinewidth": 0,
             "ticks": ""
            },
            "colorscale": [
             [
              0,
              "#0d0887"
             ],
             [
              0.1111111111111111,
              "#46039f"
             ],
             [
              0.2222222222222222,
              "#7201a8"
             ],
             [
              0.3333333333333333,
              "#9c179e"
             ],
             [
              0.4444444444444444,
              "#bd3786"
             ],
             [
              0.5555555555555556,
              "#d8576b"
             ],
             [
              0.6666666666666666,
              "#ed7953"
             ],
             [
              0.7777777777777778,
              "#fb9f3a"
             ],
             [
              0.8888888888888888,
              "#fdca26"
             ],
             [
              1,
              "#f0f921"
             ]
            ],
            "type": "histogram2dcontour"
           }
          ],
          "mesh3d": [
           {
            "colorbar": {
             "outlinewidth": 0,
             "ticks": ""
            },
            "type": "mesh3d"
           }
          ],
          "parcoords": [
           {
            "line": {
             "colorbar": {
              "outlinewidth": 0,
              "ticks": ""
             }
            },
            "type": "parcoords"
           }
          ],
          "pie": [
           {
            "automargin": true,
            "type": "pie"
           }
          ],
          "scatter": [
           {
            "marker": {
             "colorbar": {
              "outlinewidth": 0,
              "ticks": ""
             }
            },
            "type": "scatter"
           }
          ],
          "scatter3d": [
           {
            "line": {
             "colorbar": {
              "outlinewidth": 0,
              "ticks": ""
             }
            },
            "marker": {
             "colorbar": {
              "outlinewidth": 0,
              "ticks": ""
             }
            },
            "type": "scatter3d"
           }
          ],
          "scattercarpet": [
           {
            "marker": {
             "colorbar": {
              "outlinewidth": 0,
              "ticks": ""
             }
            },
            "type": "scattercarpet"
           }
          ],
          "scattergeo": [
           {
            "marker": {
             "colorbar": {
              "outlinewidth": 0,
              "ticks": ""
             }
            },
            "type": "scattergeo"
           }
          ],
          "scattergl": [
           {
            "marker": {
             "colorbar": {
              "outlinewidth": 0,
              "ticks": ""
             }
            },
            "type": "scattergl"
           }
          ],
          "scattermapbox": [
           {
            "marker": {
             "colorbar": {
              "outlinewidth": 0,
              "ticks": ""
             }
            },
            "type": "scattermapbox"
           }
          ],
          "scatterpolar": [
           {
            "marker": {
             "colorbar": {
              "outlinewidth": 0,
              "ticks": ""
             }
            },
            "type": "scatterpolar"
           }
          ],
          "scatterpolargl": [
           {
            "marker": {
             "colorbar": {
              "outlinewidth": 0,
              "ticks": ""
             }
            },
            "type": "scatterpolargl"
           }
          ],
          "scatterternary": [
           {
            "marker": {
             "colorbar": {
              "outlinewidth": 0,
              "ticks": ""
             }
            },
            "type": "scatterternary"
           }
          ],
          "surface": [
           {
            "colorbar": {
             "outlinewidth": 0,
             "ticks": ""
            },
            "colorscale": [
             [
              0,
              "#0d0887"
             ],
             [
              0.1111111111111111,
              "#46039f"
             ],
             [
              0.2222222222222222,
              "#7201a8"
             ],
             [
              0.3333333333333333,
              "#9c179e"
             ],
             [
              0.4444444444444444,
              "#bd3786"
             ],
             [
              0.5555555555555556,
              "#d8576b"
             ],
             [
              0.6666666666666666,
              "#ed7953"
             ],
             [
              0.7777777777777778,
              "#fb9f3a"
             ],
             [
              0.8888888888888888,
              "#fdca26"
             ],
             [
              1,
              "#f0f921"
             ]
            ],
            "type": "surface"
           }
          ],
          "table": [
           {
            "cells": {
             "fill": {
              "color": "#EBF0F8"
             },
             "line": {
              "color": "white"
             }
            },
            "header": {
             "fill": {
              "color": "#C8D4E3"
             },
             "line": {
              "color": "white"
             }
            },
            "type": "table"
           }
          ]
         },
         "layout": {
          "annotationdefaults": {
           "arrowcolor": "#2a3f5f",
           "arrowhead": 0,
           "arrowwidth": 1
          },
          "coloraxis": {
           "colorbar": {
            "outlinewidth": 0,
            "ticks": ""
           }
          },
          "colorscale": {
           "diverging": [
            [
             0,
             "#8e0152"
            ],
            [
             0.1,
             "#c51b7d"
            ],
            [
             0.2,
             "#de77ae"
            ],
            [
             0.3,
             "#f1b6da"
            ],
            [
             0.4,
             "#fde0ef"
            ],
            [
             0.5,
             "#f7f7f7"
            ],
            [
             0.6,
             "#e6f5d0"
            ],
            [
             0.7,
             "#b8e186"
            ],
            [
             0.8,
             "#7fbc41"
            ],
            [
             0.9,
             "#4d9221"
            ],
            [
             1,
             "#276419"
            ]
           ],
           "sequential": [
            [
             0,
             "#0d0887"
            ],
            [
             0.1111111111111111,
             "#46039f"
            ],
            [
             0.2222222222222222,
             "#7201a8"
            ],
            [
             0.3333333333333333,
             "#9c179e"
            ],
            [
             0.4444444444444444,
             "#bd3786"
            ],
            [
             0.5555555555555556,
             "#d8576b"
            ],
            [
             0.6666666666666666,
             "#ed7953"
            ],
            [
             0.7777777777777778,
             "#fb9f3a"
            ],
            [
             0.8888888888888888,
             "#fdca26"
            ],
            [
             1,
             "#f0f921"
            ]
           ],
           "sequentialminus": [
            [
             0,
             "#0d0887"
            ],
            [
             0.1111111111111111,
             "#46039f"
            ],
            [
             0.2222222222222222,
             "#7201a8"
            ],
            [
             0.3333333333333333,
             "#9c179e"
            ],
            [
             0.4444444444444444,
             "#bd3786"
            ],
            [
             0.5555555555555556,
             "#d8576b"
            ],
            [
             0.6666666666666666,
             "#ed7953"
            ],
            [
             0.7777777777777778,
             "#fb9f3a"
            ],
            [
             0.8888888888888888,
             "#fdca26"
            ],
            [
             1,
             "#f0f921"
            ]
           ]
          },
          "colorway": [
           "#636efa",
           "#EF553B",
           "#00cc96",
           "#ab63fa",
           "#FFA15A",
           "#19d3f3",
           "#FF6692",
           "#B6E880",
           "#FF97FF",
           "#FECB52"
          ],
          "font": {
           "color": "#2a3f5f"
          },
          "geo": {
           "bgcolor": "white",
           "lakecolor": "white",
           "landcolor": "#E5ECF6",
           "showlakes": true,
           "showland": true,
           "subunitcolor": "white"
          },
          "hoverlabel": {
           "align": "left"
          },
          "hovermode": "closest",
          "mapbox": {
           "style": "light"
          },
          "paper_bgcolor": "white",
          "plot_bgcolor": "#E5ECF6",
          "polar": {
           "angularaxis": {
            "gridcolor": "white",
            "linecolor": "white",
            "ticks": ""
           },
           "bgcolor": "#E5ECF6",
           "radialaxis": {
            "gridcolor": "white",
            "linecolor": "white",
            "ticks": ""
           }
          },
          "scene": {
           "xaxis": {
            "backgroundcolor": "#E5ECF6",
            "gridcolor": "white",
            "gridwidth": 2,
            "linecolor": "white",
            "showbackground": true,
            "ticks": "",
            "zerolinecolor": "white"
           },
           "yaxis": {
            "backgroundcolor": "#E5ECF6",
            "gridcolor": "white",
            "gridwidth": 2,
            "linecolor": "white",
            "showbackground": true,
            "ticks": "",
            "zerolinecolor": "white"
           },
           "zaxis": {
            "backgroundcolor": "#E5ECF6",
            "gridcolor": "white",
            "gridwidth": 2,
            "linecolor": "white",
            "showbackground": true,
            "ticks": "",
            "zerolinecolor": "white"
           }
          },
          "shapedefaults": {
           "line": {
            "color": "#2a3f5f"
           }
          },
          "ternary": {
           "aaxis": {
            "gridcolor": "white",
            "linecolor": "white",
            "ticks": ""
           },
           "baxis": {
            "gridcolor": "white",
            "linecolor": "white",
            "ticks": ""
           },
           "bgcolor": "#E5ECF6",
           "caxis": {
            "gridcolor": "white",
            "linecolor": "white",
            "ticks": ""
           }
          },
          "title": {
           "x": 0.05
          },
          "xaxis": {
           "automargin": true,
           "gridcolor": "white",
           "linecolor": "white",
           "ticks": "",
           "title": {
            "standoff": 15
           },
           "zerolinecolor": "white",
           "zerolinewidth": 2
          },
          "yaxis": {
           "automargin": true,
           "gridcolor": "white",
           "linecolor": "white",
           "ticks": "",
           "title": {
            "standoff": 15
           },
           "zerolinecolor": "white",
           "zerolinewidth": 2
          }
         }
        },
        "updatemenus": [
         {
          "buttons": [
           {
            "args": [
             null,
             {
              "frame": {
               "duration": 500,
               "redraw": false
              },
              "fromcurrent": true,
              "mode": "immediate",
              "transition": {
               "duration": 500,
               "easing": "linear"
              }
             }
            ],
            "label": "&#9654;",
            "method": "animate"
           },
           {
            "args": [
             [
              null
             ],
             {
              "frame": {
               "duration": 0,
               "redraw": false
              },
              "fromcurrent": true,
              "mode": "immediate",
              "transition": {
               "duration": 0,
               "easing": "linear"
              }
             }
            ],
            "label": "&#9724;",
            "method": "animate"
           }
          ],
          "direction": "left",
          "pad": {
           "r": 10,
           "t": 70
          },
          "showactive": false,
          "type": "buttons",
          "x": 0.1,
          "xanchor": "right",
          "y": 0,
          "yanchor": "top"
         }
        ],
        "xaxis": {
         "anchor": "y",
         "categoryarray": [
          2009,
          2010,
          2011,
          2012,
          2013,
          2014,
          2015,
          2016,
          2017,
          2018
         ],
         "categoryorder": "array",
         "domain": [
          0,
          1
         ],
         "range": [
          3.3027637084729813,
          3.305136318943639
         ],
         "title": {
          "text": "Years"
         },
         "type": "log"
        },
        "yaxis": {
         "anchor": "x",
         "domain": [
          0,
          1
         ],
         "range": [
          0,
          500000
         ],
         "title": {
          "text": "Employment"
         }
        }
       }
      },
      "text/html": [
       "<div>\n",
       "        \n",
       "        \n",
       "            <div id=\"709aa4fd-e576-4ee4-86d4-7b5bf2d8a0b6\" class=\"plotly-graph-div\" style=\"height:525px; width:100%;\"></div>\n",
       "            <script type=\"text/javascript\">\n",
       "                require([\"plotly\"], function(Plotly) {\n",
       "                    window.PLOTLYENV=window.PLOTLYENV || {};\n",
       "                    \n",
       "                if (document.getElementById(\"709aa4fd-e576-4ee4-86d4-7b5bf2d8a0b6\")) {\n",
       "                    Plotly.newPlot(\n",
       "                        '709aa4fd-e576-4ee4-86d4-7b5bf2d8a0b6',\n",
       "                        [{\"hovertemplate\": \"<b>%{hovertext}</b><br><br>Industry=Agriculture<br>Years=%{x}<br>Employment=%{marker.size}<extra></extra>\", \"hovertext\": [37700.0], \"ids\": [\"Agriculture\"], \"legendgroup\": \"Agriculture\", \"marker\": {\"color\": \"#636efa\", \"size\": [37700], \"sizemode\": \"area\", \"sizeref\": 1932.888888888889, \"symbol\": \"circle\"}, \"mode\": \"markers\", \"name\": \"Agriculture\", \"showlegend\": true, \"type\": \"scatter\", \"x\": [2009], \"xaxis\": \"x\", \"y\": [37700], \"yaxis\": \"y\"}, {\"hovertemplate\": \"<b>%{hovertext}</b><br><br>Industry=Production<br>Years=%{x}<br>Employment=%{marker.size}<extra></extra>\", \"hovertext\": [156700.0], \"ids\": [\"Production\"], \"legendgroup\": \"Production\", \"marker\": {\"color\": \"#EF553B\", \"size\": [156700], \"sizemode\": \"area\", \"sizeref\": 1932.888888888889, \"symbol\": \"circle\"}, \"mode\": \"markers\", \"name\": \"Production\", \"showlegend\": true, \"type\": \"scatter\", \"x\": [2009], \"xaxis\": \"x\", \"y\": [156700], \"yaxis\": \"y\"}, {\"hovertemplate\": \"<b>%{hovertext}</b><br><br>Industry=Construction<br>Years=%{x}<br>Employment=%{marker.size}<extra></extra>\", \"hovertext\": [96600.0], \"ids\": [\"Construction\"], \"legendgroup\": \"Construction\", \"marker\": {\"color\": \"#00cc96\", \"size\": [96600], \"sizemode\": \"area\", \"sizeref\": 1932.888888888889, \"symbol\": \"circle\"}, \"mode\": \"markers\", \"name\": \"Construction\", \"showlegend\": true, \"type\": \"scatter\", \"x\": [2009], \"xaxis\": \"x\", \"y\": [96600], \"yaxis\": \"y\"}, {\"hovertemplate\": \"<b>%{hovertext}</b><br><br>Industry=Retail<br>Years=%{x}<br>Employment=%{marker.size}<extra></extra>\", \"hovertext\": [345400.0], \"ids\": [\"Retail\"], \"legendgroup\": \"Retail\", \"marker\": {\"color\": \"#ab63fa\", \"size\": [345400], \"sizemode\": \"area\", \"sizeref\": 1932.888888888889, \"symbol\": \"circle\"}, \"mode\": \"markers\", \"name\": \"Retail\", \"showlegend\": true, \"type\": \"scatter\", \"x\": [2009], \"xaxis\": \"x\", \"y\": [345400], \"yaxis\": \"y\"}, {\"hovertemplate\": \"<b>%{hovertext}</b><br><br>Industry=ICT<br>Years=%{x}<br>Employment=%{marker.size}<extra></extra>\", \"hovertext\": [27800.0], \"ids\": [\"ICT\"], \"legendgroup\": \"ICT\", \"marker\": {\"color\": \"#FFA15A\", \"size\": [27800], \"sizemode\": \"area\", \"sizeref\": 1932.888888888889, \"symbol\": \"circle\"}, \"mode\": \"markers\", \"name\": \"ICT\", \"showlegend\": true, \"type\": \"scatter\", \"x\": [2009], \"xaxis\": \"x\", \"y\": [27800], \"yaxis\": \"y\"}, {\"hovertemplate\": \"<b>%{hovertext}</b><br><br>Industry=Finance<br>Years=%{x}<br>Employment=%{marker.size}<extra></extra>\", \"hovertext\": [33800.0], \"ids\": [\"Finance\"], \"legendgroup\": \"Finance\", \"marker\": {\"color\": \"#19d3f3\", \"size\": [33800], \"sizemode\": \"area\", \"sizeref\": 1932.888888888889, \"symbol\": \"circle\"}, \"mode\": \"markers\", \"name\": \"Finance\", \"showlegend\": true, \"type\": \"scatter\", \"x\": [2009], \"xaxis\": \"x\", \"y\": [33800], \"yaxis\": \"y\"}, {\"hovertemplate\": \"<b>%{hovertext}</b><br><br>Industry=Real_Estate<br>Years=%{x}<br>Employment=%{marker.size}<extra></extra>\", \"hovertext\": [13500.0], \"ids\": [\"Real_Estate\"], \"legendgroup\": \"Real_Estate\", \"marker\": {\"color\": \"#FF6692\", \"size\": [13500], \"sizemode\": \"area\", \"sizeref\": 1932.888888888889, \"symbol\": \"circle\"}, \"mode\": \"markers\", \"name\": \"Real_Estate\", \"showlegend\": true, \"type\": \"scatter\", \"x\": [2009], \"xaxis\": \"x\", \"y\": [13500], \"yaxis\": \"y\"}, {\"hovertemplate\": \"<b>%{hovertext}</b><br><br>Industry=Professional_Service<br>Years=%{x}<br>Employment=%{marker.size}<extra></extra>\", \"hovertext\": [144800.0], \"ids\": [\"Professional_Service\"], \"legendgroup\": \"Professional_Service\", \"marker\": {\"color\": \"#B6E880\", \"size\": [144800], \"sizemode\": \"area\", \"sizeref\": 1932.888888888889, \"symbol\": \"circle\"}, \"mode\": \"markers\", \"name\": \"Professional_Service\", \"showlegend\": true, \"type\": \"scatter\", \"x\": [2009], \"xaxis\": \"x\", \"y\": [144800], \"yaxis\": \"y\"}, {\"hovertemplate\": \"<b>%{hovertext}</b><br><br>Industry=Public_Adminstration <br>Years=%{x}<br>Employment=%{marker.size}<extra></extra>\", \"hovertext\": [415600.0], \"ids\": [\"Public_Adminstration \"], \"legendgroup\": \"Public_Adminstration \", \"marker\": {\"color\": \"#FF97FF\", \"size\": [415600], \"sizemode\": \"area\", \"sizeref\": 1932.888888888889, \"symbol\": \"circle\"}, \"mode\": \"markers\", \"name\": \"Public_Adminstration \", \"showlegend\": true, \"type\": \"scatter\", \"x\": [2009], \"xaxis\": \"x\", \"y\": [415600], \"yaxis\": \"y\"}, {\"hovertemplate\": \"<b>%{hovertext}</b><br><br>Industry=Other_Service<br>Years=%{x}<br>Employment=%{marker.size}<extra></extra>\", \"hovertext\": [64200.0], \"ids\": [\"Other_Service\"], \"legendgroup\": \"Other_Service\", \"marker\": {\"color\": \"#FECB52\", \"size\": [64200], \"sizemode\": \"area\", \"sizeref\": 1932.888888888889, \"symbol\": \"circle\"}, \"mode\": \"markers\", \"name\": \"Other_Service\", \"showlegend\": true, \"type\": \"scatter\", \"x\": [2009], \"xaxis\": \"x\", \"y\": [64200], \"yaxis\": \"y\"}],\n",
       "                        {\"legend\": {\"itemsizing\": \"constant\", \"title\": {\"text\": \"Industry\"}, \"tracegroupgap\": 0}, \"margin\": {\"t\": 60}, \"sliders\": [{\"active\": 0, \"currentvalue\": {\"prefix\": \"Years=\"}, \"len\": 0.9, \"pad\": {\"b\": 10, \"t\": 60}, \"steps\": [{\"args\": [[\"2009\"], {\"frame\": {\"duration\": 0, \"redraw\": false}, \"fromcurrent\": true, \"mode\": \"immediate\", \"transition\": {\"duration\": 0, \"easing\": \"linear\"}}], \"label\": \"2009\", \"method\": \"animate\"}, {\"args\": [[\"2010\"], {\"frame\": {\"duration\": 0, \"redraw\": false}, \"fromcurrent\": true, \"mode\": \"immediate\", \"transition\": {\"duration\": 0, \"easing\": \"linear\"}}], \"label\": \"2010\", \"method\": \"animate\"}, {\"args\": [[\"2011\"], {\"frame\": {\"duration\": 0, \"redraw\": false}, \"fromcurrent\": true, \"mode\": \"immediate\", \"transition\": {\"duration\": 0, \"easing\": \"linear\"}}], \"label\": \"2011\", \"method\": \"animate\"}, {\"args\": [[\"2012\"], {\"frame\": {\"duration\": 0, \"redraw\": false}, \"fromcurrent\": true, \"mode\": \"immediate\", \"transition\": {\"duration\": 0, \"easing\": \"linear\"}}], \"label\": \"2012\", \"method\": \"animate\"}, {\"args\": [[\"2013\"], {\"frame\": {\"duration\": 0, \"redraw\": false}, \"fromcurrent\": true, \"mode\": \"immediate\", \"transition\": {\"duration\": 0, \"easing\": \"linear\"}}], \"label\": \"2013\", \"method\": \"animate\"}, {\"args\": [[\"2014\"], {\"frame\": {\"duration\": 0, \"redraw\": false}, \"fromcurrent\": true, \"mode\": \"immediate\", \"transition\": {\"duration\": 0, \"easing\": \"linear\"}}], \"label\": \"2014\", \"method\": \"animate\"}, {\"args\": [[\"2015\"], {\"frame\": {\"duration\": 0, \"redraw\": false}, \"fromcurrent\": true, \"mode\": \"immediate\", \"transition\": {\"duration\": 0, \"easing\": \"linear\"}}], \"label\": \"2015\", \"method\": \"animate\"}, {\"args\": [[\"2016\"], {\"frame\": {\"duration\": 0, \"redraw\": false}, \"fromcurrent\": true, \"mode\": \"immediate\", \"transition\": {\"duration\": 0, \"easing\": \"linear\"}}], \"label\": \"2016\", \"method\": \"animate\"}, {\"args\": [[\"2017\"], {\"frame\": {\"duration\": 0, \"redraw\": false}, \"fromcurrent\": true, \"mode\": \"immediate\", \"transition\": {\"duration\": 0, \"easing\": \"linear\"}}], \"label\": \"2017\", \"method\": \"animate\"}, {\"args\": [[\"2018\"], {\"frame\": {\"duration\": 0, \"redraw\": false}, \"fromcurrent\": true, \"mode\": \"immediate\", \"transition\": {\"duration\": 0, \"easing\": \"linear\"}}], \"label\": \"2018\", \"method\": \"animate\"}], \"x\": 0.1, \"xanchor\": \"left\", \"y\": 0, \"yanchor\": \"top\"}], \"template\": {\"data\": {\"bar\": [{\"error_x\": {\"color\": \"#2a3f5f\"}, \"error_y\": {\"color\": \"#2a3f5f\"}, \"marker\": {\"line\": {\"color\": \"#E5ECF6\", \"width\": 0.5}}, \"type\": \"bar\"}], \"barpolar\": [{\"marker\": {\"line\": {\"color\": \"#E5ECF6\", \"width\": 0.5}}, \"type\": \"barpolar\"}], \"carpet\": [{\"aaxis\": {\"endlinecolor\": \"#2a3f5f\", \"gridcolor\": \"white\", \"linecolor\": \"white\", \"minorgridcolor\": \"white\", \"startlinecolor\": \"#2a3f5f\"}, \"baxis\": {\"endlinecolor\": \"#2a3f5f\", \"gridcolor\": \"white\", \"linecolor\": \"white\", \"minorgridcolor\": \"white\", \"startlinecolor\": \"#2a3f5f\"}, \"type\": \"carpet\"}], \"choropleth\": [{\"colorbar\": {\"outlinewidth\": 0, \"ticks\": \"\"}, \"type\": \"choropleth\"}], \"contour\": [{\"colorbar\": {\"outlinewidth\": 0, \"ticks\": \"\"}, \"colorscale\": [[0.0, \"#0d0887\"], [0.1111111111111111, \"#46039f\"], [0.2222222222222222, \"#7201a8\"], [0.3333333333333333, \"#9c179e\"], [0.4444444444444444, \"#bd3786\"], [0.5555555555555556, \"#d8576b\"], [0.6666666666666666, \"#ed7953\"], [0.7777777777777778, \"#fb9f3a\"], [0.8888888888888888, \"#fdca26\"], [1.0, \"#f0f921\"]], \"type\": \"contour\"}], \"contourcarpet\": [{\"colorbar\": {\"outlinewidth\": 0, \"ticks\": \"\"}, \"type\": \"contourcarpet\"}], \"heatmap\": [{\"colorbar\": {\"outlinewidth\": 0, \"ticks\": \"\"}, \"colorscale\": [[0.0, \"#0d0887\"], [0.1111111111111111, \"#46039f\"], [0.2222222222222222, \"#7201a8\"], [0.3333333333333333, \"#9c179e\"], [0.4444444444444444, \"#bd3786\"], [0.5555555555555556, \"#d8576b\"], [0.6666666666666666, \"#ed7953\"], [0.7777777777777778, \"#fb9f3a\"], [0.8888888888888888, \"#fdca26\"], [1.0, \"#f0f921\"]], \"type\": \"heatmap\"}], \"heatmapgl\": [{\"colorbar\": {\"outlinewidth\": 0, \"ticks\": \"\"}, \"colorscale\": [[0.0, \"#0d0887\"], [0.1111111111111111, \"#46039f\"], [0.2222222222222222, \"#7201a8\"], [0.3333333333333333, \"#9c179e\"], [0.4444444444444444, \"#bd3786\"], [0.5555555555555556, \"#d8576b\"], [0.6666666666666666, \"#ed7953\"], [0.7777777777777778, \"#fb9f3a\"], [0.8888888888888888, \"#fdca26\"], [1.0, \"#f0f921\"]], \"type\": \"heatmapgl\"}], \"histogram\": [{\"marker\": {\"colorbar\": {\"outlinewidth\": 0, \"ticks\": \"\"}}, \"type\": \"histogram\"}], \"histogram2d\": [{\"colorbar\": {\"outlinewidth\": 0, \"ticks\": \"\"}, \"colorscale\": [[0.0, \"#0d0887\"], [0.1111111111111111, \"#46039f\"], [0.2222222222222222, \"#7201a8\"], [0.3333333333333333, \"#9c179e\"], [0.4444444444444444, \"#bd3786\"], [0.5555555555555556, \"#d8576b\"], [0.6666666666666666, \"#ed7953\"], [0.7777777777777778, \"#fb9f3a\"], [0.8888888888888888, \"#fdca26\"], [1.0, \"#f0f921\"]], \"type\": \"histogram2d\"}], \"histogram2dcontour\": [{\"colorbar\": {\"outlinewidth\": 0, \"ticks\": \"\"}, \"colorscale\": [[0.0, \"#0d0887\"], [0.1111111111111111, \"#46039f\"], [0.2222222222222222, \"#7201a8\"], [0.3333333333333333, \"#9c179e\"], [0.4444444444444444, \"#bd3786\"], [0.5555555555555556, \"#d8576b\"], [0.6666666666666666, \"#ed7953\"], [0.7777777777777778, \"#fb9f3a\"], [0.8888888888888888, \"#fdca26\"], [1.0, \"#f0f921\"]], \"type\": \"histogram2dcontour\"}], \"mesh3d\": [{\"colorbar\": {\"outlinewidth\": 0, \"ticks\": \"\"}, \"type\": \"mesh3d\"}], \"parcoords\": [{\"line\": {\"colorbar\": {\"outlinewidth\": 0, \"ticks\": \"\"}}, \"type\": \"parcoords\"}], \"pie\": [{\"automargin\": true, \"type\": \"pie\"}], \"scatter\": [{\"marker\": {\"colorbar\": {\"outlinewidth\": 0, \"ticks\": \"\"}}, \"type\": \"scatter\"}], \"scatter3d\": [{\"line\": {\"colorbar\": {\"outlinewidth\": 0, \"ticks\": \"\"}}, \"marker\": {\"colorbar\": {\"outlinewidth\": 0, \"ticks\": \"\"}}, \"type\": \"scatter3d\"}], \"scattercarpet\": [{\"marker\": {\"colorbar\": {\"outlinewidth\": 0, \"ticks\": \"\"}}, \"type\": \"scattercarpet\"}], \"scattergeo\": [{\"marker\": {\"colorbar\": {\"outlinewidth\": 0, \"ticks\": \"\"}}, \"type\": \"scattergeo\"}], \"scattergl\": [{\"marker\": {\"colorbar\": {\"outlinewidth\": 0, \"ticks\": \"\"}}, \"type\": \"scattergl\"}], \"scattermapbox\": [{\"marker\": {\"colorbar\": {\"outlinewidth\": 0, \"ticks\": \"\"}}, \"type\": \"scattermapbox\"}], \"scatterpolar\": [{\"marker\": {\"colorbar\": {\"outlinewidth\": 0, \"ticks\": \"\"}}, \"type\": \"scatterpolar\"}], \"scatterpolargl\": [{\"marker\": {\"colorbar\": {\"outlinewidth\": 0, \"ticks\": \"\"}}, \"type\": \"scatterpolargl\"}], \"scatterternary\": [{\"marker\": {\"colorbar\": {\"outlinewidth\": 0, \"ticks\": \"\"}}, \"type\": \"scatterternary\"}], \"surface\": [{\"colorbar\": {\"outlinewidth\": 0, \"ticks\": \"\"}, \"colorscale\": [[0.0, \"#0d0887\"], [0.1111111111111111, \"#46039f\"], [0.2222222222222222, \"#7201a8\"], [0.3333333333333333, \"#9c179e\"], [0.4444444444444444, \"#bd3786\"], [0.5555555555555556, \"#d8576b\"], [0.6666666666666666, \"#ed7953\"], [0.7777777777777778, \"#fb9f3a\"], [0.8888888888888888, \"#fdca26\"], [1.0, \"#f0f921\"]], \"type\": \"surface\"}], \"table\": [{\"cells\": {\"fill\": {\"color\": \"#EBF0F8\"}, \"line\": {\"color\": \"white\"}}, \"header\": {\"fill\": {\"color\": \"#C8D4E3\"}, \"line\": {\"color\": \"white\"}}, \"type\": \"table\"}]}, \"layout\": {\"annotationdefaults\": {\"arrowcolor\": \"#2a3f5f\", \"arrowhead\": 0, \"arrowwidth\": 1}, \"coloraxis\": {\"colorbar\": {\"outlinewidth\": 0, \"ticks\": \"\"}}, \"colorscale\": {\"diverging\": [[0, \"#8e0152\"], [0.1, \"#c51b7d\"], [0.2, \"#de77ae\"], [0.3, \"#f1b6da\"], [0.4, \"#fde0ef\"], [0.5, \"#f7f7f7\"], [0.6, \"#e6f5d0\"], [0.7, \"#b8e186\"], [0.8, \"#7fbc41\"], [0.9, \"#4d9221\"], [1, \"#276419\"]], \"sequential\": [[0.0, \"#0d0887\"], [0.1111111111111111, \"#46039f\"], [0.2222222222222222, \"#7201a8\"], [0.3333333333333333, \"#9c179e\"], [0.4444444444444444, \"#bd3786\"], [0.5555555555555556, \"#d8576b\"], [0.6666666666666666, \"#ed7953\"], [0.7777777777777778, \"#fb9f3a\"], [0.8888888888888888, \"#fdca26\"], [1.0, \"#f0f921\"]], \"sequentialminus\": [[0.0, \"#0d0887\"], [0.1111111111111111, \"#46039f\"], [0.2222222222222222, \"#7201a8\"], [0.3333333333333333, \"#9c179e\"], [0.4444444444444444, \"#bd3786\"], [0.5555555555555556, \"#d8576b\"], [0.6666666666666666, \"#ed7953\"], [0.7777777777777778, \"#fb9f3a\"], [0.8888888888888888, \"#fdca26\"], [1.0, \"#f0f921\"]]}, \"colorway\": [\"#636efa\", \"#EF553B\", \"#00cc96\", \"#ab63fa\", \"#FFA15A\", \"#19d3f3\", \"#FF6692\", \"#B6E880\", \"#FF97FF\", \"#FECB52\"], \"font\": {\"color\": \"#2a3f5f\"}, \"geo\": {\"bgcolor\": \"white\", \"lakecolor\": \"white\", \"landcolor\": \"#E5ECF6\", \"showlakes\": true, \"showland\": true, \"subunitcolor\": \"white\"}, \"hoverlabel\": {\"align\": \"left\"}, \"hovermode\": \"closest\", \"mapbox\": {\"style\": \"light\"}, \"paper_bgcolor\": \"white\", \"plot_bgcolor\": \"#E5ECF6\", \"polar\": {\"angularaxis\": {\"gridcolor\": \"white\", \"linecolor\": \"white\", \"ticks\": \"\"}, \"bgcolor\": \"#E5ECF6\", \"radialaxis\": {\"gridcolor\": \"white\", \"linecolor\": \"white\", \"ticks\": \"\"}}, \"scene\": {\"xaxis\": {\"backgroundcolor\": \"#E5ECF6\", \"gridcolor\": \"white\", \"gridwidth\": 2, \"linecolor\": \"white\", \"showbackground\": true, \"ticks\": \"\", \"zerolinecolor\": \"white\"}, \"yaxis\": {\"backgroundcolor\": \"#E5ECF6\", \"gridcolor\": \"white\", \"gridwidth\": 2, \"linecolor\": \"white\", \"showbackground\": true, \"ticks\": \"\", \"zerolinecolor\": \"white\"}, \"zaxis\": {\"backgroundcolor\": \"#E5ECF6\", \"gridcolor\": \"white\", \"gridwidth\": 2, \"linecolor\": \"white\", \"showbackground\": true, \"ticks\": \"\", \"zerolinecolor\": \"white\"}}, \"shapedefaults\": {\"line\": {\"color\": \"#2a3f5f\"}}, \"ternary\": {\"aaxis\": {\"gridcolor\": \"white\", \"linecolor\": \"white\", \"ticks\": \"\"}, \"baxis\": {\"gridcolor\": \"white\", \"linecolor\": \"white\", \"ticks\": \"\"}, \"bgcolor\": \"#E5ECF6\", \"caxis\": {\"gridcolor\": \"white\", \"linecolor\": \"white\", \"ticks\": \"\"}}, \"title\": {\"x\": 0.05}, \"xaxis\": {\"automargin\": true, \"gridcolor\": \"white\", \"linecolor\": \"white\", \"ticks\": \"\", \"title\": {\"standoff\": 15}, \"zerolinecolor\": \"white\", \"zerolinewidth\": 2}, \"yaxis\": {\"automargin\": true, \"gridcolor\": \"white\", \"linecolor\": \"white\", \"ticks\": \"\", \"title\": {\"standoff\": 15}, \"zerolinecolor\": \"white\", \"zerolinewidth\": 2}}}, \"updatemenus\": [{\"buttons\": [{\"args\": [null, {\"frame\": {\"duration\": 500, \"redraw\": false}, \"fromcurrent\": true, \"mode\": \"immediate\", \"transition\": {\"duration\": 500, \"easing\": \"linear\"}}], \"label\": \"&#9654;\", \"method\": \"animate\"}, {\"args\": [[null], {\"frame\": {\"duration\": 0, \"redraw\": false}, \"fromcurrent\": true, \"mode\": \"immediate\", \"transition\": {\"duration\": 0, \"easing\": \"linear\"}}], \"label\": \"&#9724;\", \"method\": \"animate\"}], \"direction\": \"left\", \"pad\": {\"r\": 10, \"t\": 70}, \"showactive\": false, \"type\": \"buttons\", \"x\": 0.1, \"xanchor\": \"right\", \"y\": 0, \"yanchor\": \"top\"}], \"xaxis\": {\"anchor\": \"y\", \"categoryarray\": [2009, 2010, 2011, 2012, 2013, 2014, 2015, 2016, 2017, 2018], \"categoryorder\": \"array\", \"domain\": [0.0, 1.0], \"range\": [3.3027637084729813, 3.305136318943639], \"title\": {\"text\": \"Years\"}, \"type\": \"log\"}, \"yaxis\": {\"anchor\": \"x\", \"domain\": [0.0, 1.0], \"range\": [0, 500000], \"title\": {\"text\": \"Employment\"}}},\n",
       "                        {\"responsive\": true}\n",
       "                    ).then(function(){\n",
       "                            Plotly.addFrames('709aa4fd-e576-4ee4-86d4-7b5bf2d8a0b6', [{\"data\": [{\"hovertemplate\": \"<b>%{hovertext}</b><br><br>Industry=Agriculture<br>Years=%{x}<br>Employment=%{marker.size}<extra></extra>\", \"hovertext\": [37700.0], \"ids\": [\"Agriculture\"], \"legendgroup\": \"Agriculture\", \"marker\": {\"color\": \"#636efa\", \"size\": [37700], \"sizemode\": \"area\", \"sizeref\": 1932.888888888889, \"symbol\": \"circle\"}, \"mode\": \"markers\", \"name\": \"Agriculture\", \"showlegend\": true, \"x\": [2009], \"xaxis\": \"x\", \"y\": [37700], \"yaxis\": \"y\", \"type\": \"scatter\"}, {\"hovertemplate\": \"<b>%{hovertext}</b><br><br>Industry=Production<br>Years=%{x}<br>Employment=%{marker.size}<extra></extra>\", \"hovertext\": [156700.0], \"ids\": [\"Production\"], \"legendgroup\": \"Production\", \"marker\": {\"color\": \"#EF553B\", \"size\": [156700], \"sizemode\": \"area\", \"sizeref\": 1932.888888888889, \"symbol\": \"circle\"}, \"mode\": \"markers\", \"name\": \"Production\", \"showlegend\": true, \"x\": [2009], \"xaxis\": \"x\", \"y\": [156700], \"yaxis\": \"y\", \"type\": \"scatter\"}, {\"hovertemplate\": \"<b>%{hovertext}</b><br><br>Industry=Construction<br>Years=%{x}<br>Employment=%{marker.size}<extra></extra>\", \"hovertext\": [96600.0], \"ids\": [\"Construction\"], \"legendgroup\": \"Construction\", \"marker\": {\"color\": \"#00cc96\", \"size\": [96600], \"sizemode\": \"area\", \"sizeref\": 1932.888888888889, \"symbol\": \"circle\"}, \"mode\": \"markers\", \"name\": \"Construction\", \"showlegend\": true, \"x\": [2009], \"xaxis\": \"x\", \"y\": [96600], \"yaxis\": \"y\", \"type\": \"scatter\"}, {\"hovertemplate\": \"<b>%{hovertext}</b><br><br>Industry=Retail<br>Years=%{x}<br>Employment=%{marker.size}<extra></extra>\", \"hovertext\": [345400.0], \"ids\": [\"Retail\"], \"legendgroup\": \"Retail\", \"marker\": {\"color\": \"#ab63fa\", \"size\": [345400], \"sizemode\": \"area\", \"sizeref\": 1932.888888888889, \"symbol\": \"circle\"}, \"mode\": \"markers\", \"name\": \"Retail\", \"showlegend\": true, \"x\": [2009], \"xaxis\": \"x\", \"y\": [345400], \"yaxis\": \"y\", \"type\": \"scatter\"}, {\"hovertemplate\": \"<b>%{hovertext}</b><br><br>Industry=ICT<br>Years=%{x}<br>Employment=%{marker.size}<extra></extra>\", \"hovertext\": [27800.0], \"ids\": [\"ICT\"], \"legendgroup\": \"ICT\", \"marker\": {\"color\": \"#FFA15A\", \"size\": [27800], \"sizemode\": \"area\", \"sizeref\": 1932.888888888889, \"symbol\": \"circle\"}, \"mode\": \"markers\", \"name\": \"ICT\", \"showlegend\": true, \"x\": [2009], \"xaxis\": \"x\", \"y\": [27800], \"yaxis\": \"y\", \"type\": \"scatter\"}, {\"hovertemplate\": \"<b>%{hovertext}</b><br><br>Industry=Finance<br>Years=%{x}<br>Employment=%{marker.size}<extra></extra>\", \"hovertext\": [33800.0], \"ids\": [\"Finance\"], \"legendgroup\": \"Finance\", \"marker\": {\"color\": \"#19d3f3\", \"size\": [33800], \"sizemode\": \"area\", \"sizeref\": 1932.888888888889, \"symbol\": \"circle\"}, \"mode\": \"markers\", \"name\": \"Finance\", \"showlegend\": true, \"x\": [2009], \"xaxis\": \"x\", \"y\": [33800], \"yaxis\": \"y\", \"type\": \"scatter\"}, {\"hovertemplate\": \"<b>%{hovertext}</b><br><br>Industry=Real_Estate<br>Years=%{x}<br>Employment=%{marker.size}<extra></extra>\", \"hovertext\": [13500.0], \"ids\": [\"Real_Estate\"], \"legendgroup\": \"Real_Estate\", \"marker\": {\"color\": \"#FF6692\", \"size\": [13500], \"sizemode\": \"area\", \"sizeref\": 1932.888888888889, \"symbol\": \"circle\"}, \"mode\": \"markers\", \"name\": \"Real_Estate\", \"showlegend\": true, \"x\": [2009], \"xaxis\": \"x\", \"y\": [13500], \"yaxis\": \"y\", \"type\": \"scatter\"}, {\"hovertemplate\": \"<b>%{hovertext}</b><br><br>Industry=Professional_Service<br>Years=%{x}<br>Employment=%{marker.size}<extra></extra>\", \"hovertext\": [144800.0], \"ids\": [\"Professional_Service\"], \"legendgroup\": \"Professional_Service\", \"marker\": {\"color\": \"#B6E880\", \"size\": [144800], \"sizemode\": \"area\", \"sizeref\": 1932.888888888889, \"symbol\": \"circle\"}, \"mode\": \"markers\", \"name\": \"Professional_Service\", \"showlegend\": true, \"x\": [2009], \"xaxis\": \"x\", \"y\": [144800], \"yaxis\": \"y\", \"type\": \"scatter\"}, {\"hovertemplate\": \"<b>%{hovertext}</b><br><br>Industry=Public_Adminstration <br>Years=%{x}<br>Employment=%{marker.size}<extra></extra>\", \"hovertext\": [415600.0], \"ids\": [\"Public_Adminstration \"], \"legendgroup\": \"Public_Adminstration \", \"marker\": {\"color\": \"#FF97FF\", \"size\": [415600], \"sizemode\": \"area\", \"sizeref\": 1932.888888888889, \"symbol\": \"circle\"}, \"mode\": \"markers\", \"name\": \"Public_Adminstration \", \"showlegend\": true, \"x\": [2009], \"xaxis\": \"x\", \"y\": [415600], \"yaxis\": \"y\", \"type\": \"scatter\"}, {\"hovertemplate\": \"<b>%{hovertext}</b><br><br>Industry=Other_Service<br>Years=%{x}<br>Employment=%{marker.size}<extra></extra>\", \"hovertext\": [64200.0], \"ids\": [\"Other_Service\"], \"legendgroup\": \"Other_Service\", \"marker\": {\"color\": \"#FECB52\", \"size\": [64200], \"sizemode\": \"area\", \"sizeref\": 1932.888888888889, \"symbol\": \"circle\"}, \"mode\": \"markers\", \"name\": \"Other_Service\", \"showlegend\": true, \"x\": [2009], \"xaxis\": \"x\", \"y\": [64200], \"yaxis\": \"y\", \"type\": \"scatter\"}], \"name\": \"2009\"}, {\"data\": [{\"hovertemplate\": \"<b>%{hovertext}</b><br><br>Industry=Agriculture<br>Years=%{x}<br>Employment=%{marker.size}<extra></extra>\", \"hovertext\": [38200.0], \"ids\": [\"Agriculture\"], \"legendgroup\": \"Agriculture\", \"marker\": {\"color\": \"#636efa\", \"size\": [38200], \"sizemode\": \"area\", \"sizeref\": 1932.888888888889, \"symbol\": \"circle\"}, \"mode\": \"markers\", \"name\": \"Agriculture\", \"showlegend\": true, \"x\": [2010], \"xaxis\": \"x\", \"y\": [38200], \"yaxis\": \"y\", \"type\": \"scatter\"}, {\"hovertemplate\": \"<b>%{hovertext}</b><br><br>Industry=Production<br>Years=%{x}<br>Employment=%{marker.size}<extra></extra>\", \"hovertext\": [149800.0], \"ids\": [\"Production\"], \"legendgroup\": \"Production\", \"marker\": {\"color\": \"#EF553B\", \"size\": [149800], \"sizemode\": \"area\", \"sizeref\": 1932.888888888889, \"symbol\": \"circle\"}, \"mode\": \"markers\", \"name\": \"Production\", \"showlegend\": true, \"x\": [2010], \"xaxis\": \"x\", \"y\": [149800], \"yaxis\": \"y\", \"type\": \"scatter\"}, {\"hovertemplate\": \"<b>%{hovertext}</b><br><br>Industry=Construction<br>Years=%{x}<br>Employment=%{marker.size}<extra></extra>\", \"hovertext\": [93200.0], \"ids\": [\"Construction\"], \"legendgroup\": \"Construction\", \"marker\": {\"color\": \"#00cc96\", \"size\": [93200], \"sizemode\": \"area\", \"sizeref\": 1932.888888888889, \"symbol\": \"circle\"}, \"mode\": \"markers\", \"name\": \"Construction\", \"showlegend\": true, \"x\": [2010], \"xaxis\": \"x\", \"y\": [93200], \"yaxis\": \"y\", \"type\": \"scatter\"}, {\"hovertemplate\": \"<b>%{hovertext}</b><br><br>Industry=Retail<br>Years=%{x}<br>Employment=%{marker.size}<extra></extra>\", \"hovertext\": [344500.0], \"ids\": [\"Retail\"], \"legendgroup\": \"Retail\", \"marker\": {\"color\": \"#ab63fa\", \"size\": [344500], \"sizemode\": \"area\", \"sizeref\": 1932.888888888889, \"symbol\": \"circle\"}, \"mode\": \"markers\", \"name\": \"Retail\", \"showlegend\": true, \"x\": [2010], \"xaxis\": \"x\", \"y\": [344500], \"yaxis\": \"y\", \"type\": \"scatter\"}, {\"hovertemplate\": \"<b>%{hovertext}</b><br><br>Industry=ICT<br>Years=%{x}<br>Employment=%{marker.size}<extra></extra>\", \"hovertext\": [27900.0], \"ids\": [\"ICT\"], \"legendgroup\": \"ICT\", \"marker\": {\"color\": \"#FFA15A\", \"size\": [27900], \"sizemode\": \"area\", \"sizeref\": 1932.888888888889, \"symbol\": \"circle\"}, \"mode\": \"markers\", \"name\": \"ICT\", \"showlegend\": true, \"x\": [2010], \"xaxis\": \"x\", \"y\": [27900], \"yaxis\": \"y\", \"type\": \"scatter\"}, {\"hovertemplate\": \"<b>%{hovertext}</b><br><br>Industry=Finance<br>Years=%{x}<br>Employment=%{marker.size}<extra></extra>\", \"hovertext\": [29800.0], \"ids\": [\"Finance\"], \"legendgroup\": \"Finance\", \"marker\": {\"color\": \"#19d3f3\", \"size\": [29800], \"sizemode\": \"area\", \"sizeref\": 1932.888888888889, \"symbol\": \"circle\"}, \"mode\": \"markers\", \"name\": \"Finance\", \"showlegend\": true, \"x\": [2010], \"xaxis\": \"x\", \"y\": [29800], \"yaxis\": \"y\", \"type\": \"scatter\"}, {\"hovertemplate\": \"<b>%{hovertext}</b><br><br>Industry=Real_Estate<br>Years=%{x}<br>Employment=%{marker.size}<extra></extra>\", \"hovertext\": [14600.0], \"ids\": [\"Real_Estate\"], \"legendgroup\": \"Real_Estate\", \"marker\": {\"color\": \"#FF6692\", \"size\": [14600], \"sizemode\": \"area\", \"sizeref\": 1932.888888888889, \"symbol\": \"circle\"}, \"mode\": \"markers\", \"name\": \"Real_Estate\", \"showlegend\": true, \"x\": [2010], \"xaxis\": \"x\", \"y\": [14600], \"yaxis\": \"y\", \"type\": \"scatter\"}, {\"hovertemplate\": \"<b>%{hovertext}</b><br><br>Industry=Professional_Service<br>Years=%{x}<br>Employment=%{marker.size}<extra></extra>\", \"hovertext\": [145800.0], \"ids\": [\"Professional_Service\"], \"legendgroup\": \"Professional_Service\", \"marker\": {\"color\": \"#B6E880\", \"size\": [145800], \"sizemode\": \"area\", \"sizeref\": 1932.888888888889, \"symbol\": \"circle\"}, \"mode\": \"markers\", \"name\": \"Professional_Service\", \"showlegend\": true, \"x\": [2010], \"xaxis\": \"x\", \"y\": [145800], \"yaxis\": \"y\", \"type\": \"scatter\"}, {\"hovertemplate\": \"<b>%{hovertext}</b><br><br>Industry=Public_Adminstration <br>Years=%{x}<br>Employment=%{marker.size}<extra></extra>\", \"hovertext\": [418600.0], \"ids\": [\"Public_Adminstration \"], \"legendgroup\": \"Public_Adminstration \", \"marker\": {\"color\": \"#FF97FF\", \"size\": [418600], \"sizemode\": \"area\", \"sizeref\": 1932.888888888889, \"symbol\": \"circle\"}, \"mode\": \"markers\", \"name\": \"Public_Adminstration \", \"showlegend\": true, \"x\": [2010], \"xaxis\": \"x\", \"y\": [418600], \"yaxis\": \"y\", \"type\": \"scatter\"}, {\"hovertemplate\": \"<b>%{hovertext}</b><br><br>Industry=Other_Service<br>Years=%{x}<br>Employment=%{marker.size}<extra></extra>\", \"hovertext\": [68000.0], \"ids\": [\"Other_Service\"], \"legendgroup\": \"Other_Service\", \"marker\": {\"color\": \"#FECB52\", \"size\": [68000], \"sizemode\": \"area\", \"sizeref\": 1932.888888888889, \"symbol\": \"circle\"}, \"mode\": \"markers\", \"name\": \"Other_Service\", \"showlegend\": true, \"x\": [2010], \"xaxis\": \"x\", \"y\": [68000], \"yaxis\": \"y\", \"type\": \"scatter\"}], \"name\": \"2010\"}, {\"data\": [{\"hovertemplate\": \"<b>%{hovertext}</b><br><br>Industry=Agriculture<br>Years=%{x}<br>Employment=%{marker.size}<extra></extra>\", \"hovertext\": [36100.0], \"ids\": [\"Agriculture\"], \"legendgroup\": \"Agriculture\", \"marker\": {\"color\": \"#636efa\", \"size\": [36100], \"sizemode\": \"area\", \"sizeref\": 1932.888888888889, \"symbol\": \"circle\"}, \"mode\": \"markers\", \"name\": \"Agriculture\", \"showlegend\": true, \"x\": [2011], \"xaxis\": \"x\", \"y\": [36100], \"yaxis\": \"y\", \"type\": \"scatter\"}, {\"hovertemplate\": \"<b>%{hovertext}</b><br><br>Industry=Production<br>Years=%{x}<br>Employment=%{marker.size}<extra></extra>\", \"hovertext\": [158600.0], \"ids\": [\"Production\"], \"legendgroup\": \"Production\", \"marker\": {\"color\": \"#EF553B\", \"size\": [158600], \"sizemode\": \"area\", \"sizeref\": 1932.888888888889, \"symbol\": \"circle\"}, \"mode\": \"markers\", \"name\": \"Production\", \"showlegend\": true, \"x\": [2011], \"xaxis\": \"x\", \"y\": [158600], \"yaxis\": \"y\", \"type\": \"scatter\"}, {\"hovertemplate\": \"<b>%{hovertext}</b><br><br>Industry=Construction<br>Years=%{x}<br>Employment=%{marker.size}<extra></extra>\", \"hovertext\": [90000.0], \"ids\": [\"Construction\"], \"legendgroup\": \"Construction\", \"marker\": {\"color\": \"#00cc96\", \"size\": [90000], \"sizemode\": \"area\", \"sizeref\": 1932.888888888889, \"symbol\": \"circle\"}, \"mode\": \"markers\", \"name\": \"Construction\", \"showlegend\": true, \"x\": [2011], \"xaxis\": \"x\", \"y\": [90000], \"yaxis\": \"y\", \"type\": \"scatter\"}, {\"hovertemplate\": \"<b>%{hovertext}</b><br><br>Industry=Retail<br>Years=%{x}<br>Employment=%{marker.size}<extra></extra>\", \"hovertext\": [343100.0], \"ids\": [\"Retail\"], \"legendgroup\": \"Retail\", \"marker\": {\"color\": \"#ab63fa\", \"size\": [343100], \"sizemode\": \"area\", \"sizeref\": 1932.888888888889, \"symbol\": \"circle\"}, \"mode\": \"markers\", \"name\": \"Retail\", \"showlegend\": true, \"x\": [2011], \"xaxis\": \"x\", \"y\": [343100], \"yaxis\": \"y\", \"type\": \"scatter\"}, {\"hovertemplate\": \"<b>%{hovertext}</b><br><br>Industry=ICT<br>Years=%{x}<br>Employment=%{marker.size}<extra></extra>\", \"hovertext\": [26400.0], \"ids\": [\"ICT\"], \"legendgroup\": \"ICT\", \"marker\": {\"color\": \"#FFA15A\", \"size\": [26400], \"sizemode\": \"area\", \"sizeref\": 1932.888888888889, \"symbol\": \"circle\"}, \"mode\": \"markers\", \"name\": \"ICT\", \"showlegend\": true, \"x\": [2011], \"xaxis\": \"x\", \"y\": [26400], \"yaxis\": \"y\", \"type\": \"scatter\"}, {\"hovertemplate\": \"<b>%{hovertext}</b><br><br>Industry=Finance<br>Years=%{x}<br>Employment=%{marker.size}<extra></extra>\", \"hovertext\": [33200.0], \"ids\": [\"Finance\"], \"legendgroup\": \"Finance\", \"marker\": {\"color\": \"#19d3f3\", \"size\": [33200], \"sizemode\": \"area\", \"sizeref\": 1932.888888888889, \"symbol\": \"circle\"}, \"mode\": \"markers\", \"name\": \"Finance\", \"showlegend\": true, \"x\": [2011], \"xaxis\": \"x\", \"y\": [33200], \"yaxis\": \"y\", \"type\": \"scatter\"}, {\"hovertemplate\": \"<b>%{hovertext}</b><br><br>Industry=Real_Estate<br>Years=%{x}<br>Employment=%{marker.size}<extra></extra>\", \"hovertext\": [17600.0], \"ids\": [\"Real_Estate\"], \"legendgroup\": \"Real_Estate\", \"marker\": {\"color\": \"#FF6692\", \"size\": [17600], \"sizemode\": \"area\", \"sizeref\": 1932.888888888889, \"symbol\": \"circle\"}, \"mode\": \"markers\", \"name\": \"Real_Estate\", \"showlegend\": true, \"x\": [2011], \"xaxis\": \"x\", \"y\": [17600], \"yaxis\": \"y\", \"type\": \"scatter\"}, {\"hovertemplate\": \"<b>%{hovertext}</b><br><br>Industry=Professional_Service<br>Years=%{x}<br>Employment=%{marker.size}<extra></extra>\", \"hovertext\": [143600.0], \"ids\": [\"Professional_Service\"], \"legendgroup\": \"Professional_Service\", \"marker\": {\"color\": \"#B6E880\", \"size\": [143600], \"sizemode\": \"area\", \"sizeref\": 1932.888888888889, \"symbol\": \"circle\"}, \"mode\": \"markers\", \"name\": \"Professional_Service\", \"showlegend\": true, \"x\": [2011], \"xaxis\": \"x\", \"y\": [143600], \"yaxis\": \"y\", \"type\": \"scatter\"}, {\"hovertemplate\": \"<b>%{hovertext}</b><br><br>Industry=Public_Adminstration <br>Years=%{x}<br>Employment=%{marker.size}<extra></extra>\", \"hovertext\": [425600.0], \"ids\": [\"Public_Adminstration \"], \"legendgroup\": \"Public_Adminstration \", \"marker\": {\"color\": \"#FF97FF\", \"size\": [425600], \"sizemode\": \"area\", \"sizeref\": 1932.888888888889, \"symbol\": \"circle\"}, \"mode\": \"markers\", \"name\": \"Public_Adminstration \", \"showlegend\": true, \"x\": [2011], \"xaxis\": \"x\", \"y\": [425600], \"yaxis\": \"y\", \"type\": \"scatter\"}, {\"hovertemplate\": \"<b>%{hovertext}</b><br><br>Industry=Other_Service<br>Years=%{x}<br>Employment=%{marker.size}<extra></extra>\", \"hovertext\": [72400.0], \"ids\": [\"Other_Service\"], \"legendgroup\": \"Other_Service\", \"marker\": {\"color\": \"#FECB52\", \"size\": [72400], \"sizemode\": \"area\", \"sizeref\": 1932.888888888889, \"symbol\": \"circle\"}, \"mode\": \"markers\", \"name\": \"Other_Service\", \"showlegend\": true, \"x\": [2011], \"xaxis\": \"x\", \"y\": [72400], \"yaxis\": \"y\", \"type\": \"scatter\"}], \"name\": \"2011\"}, {\"data\": [{\"hovertemplate\": \"<b>%{hovertext}</b><br><br>Industry=Agriculture<br>Years=%{x}<br>Employment=%{marker.size}<extra></extra>\", \"hovertext\": [36100.0], \"ids\": [\"Agriculture\"], \"legendgroup\": \"Agriculture\", \"marker\": {\"color\": \"#636efa\", \"size\": [36100], \"sizemode\": \"area\", \"sizeref\": 1932.888888888889, \"symbol\": \"circle\"}, \"mode\": \"markers\", \"name\": \"Agriculture\", \"showlegend\": true, \"x\": [2012], \"xaxis\": \"x\", \"y\": [36100], \"yaxis\": \"y\", \"type\": \"scatter\"}, {\"hovertemplate\": \"<b>%{hovertext}</b><br><br>Industry=Production<br>Years=%{x}<br>Employment=%{marker.size}<extra></extra>\", \"hovertext\": [154400.0], \"ids\": [\"Production\"], \"legendgroup\": \"Production\", \"marker\": {\"color\": \"#EF553B\", \"size\": [154400], \"sizemode\": \"area\", \"sizeref\": 1932.888888888889, \"symbol\": \"circle\"}, \"mode\": \"markers\", \"name\": \"Production\", \"showlegend\": true, \"x\": [2012], \"xaxis\": \"x\", \"y\": [154400], \"yaxis\": \"y\", \"type\": \"scatter\"}, {\"hovertemplate\": \"<b>%{hovertext}</b><br><br>Industry=Construction<br>Years=%{x}<br>Employment=%{marker.size}<extra></extra>\", \"hovertext\": [91300.0], \"ids\": [\"Construction\"], \"legendgroup\": \"Construction\", \"marker\": {\"color\": \"#00cc96\", \"size\": [91300], \"sizemode\": \"area\", \"sizeref\": 1932.888888888889, \"symbol\": \"circle\"}, \"mode\": \"markers\", \"name\": \"Construction\", \"showlegend\": true, \"x\": [2012], \"xaxis\": \"x\", \"y\": [91300], \"yaxis\": \"y\", \"type\": \"scatter\"}, {\"hovertemplate\": \"<b>%{hovertext}</b><br><br>Industry=Retail<br>Years=%{x}<br>Employment=%{marker.size}<extra></extra>\", \"hovertext\": [347300.0], \"ids\": [\"Retail\"], \"legendgroup\": \"Retail\", \"marker\": {\"color\": \"#ab63fa\", \"size\": [347300], \"sizemode\": \"area\", \"sizeref\": 1932.888888888889, \"symbol\": \"circle\"}, \"mode\": \"markers\", \"name\": \"Retail\", \"showlegend\": true, \"x\": [2012], \"xaxis\": \"x\", \"y\": [347300], \"yaxis\": \"y\", \"type\": \"scatter\"}, {\"hovertemplate\": \"<b>%{hovertext}</b><br><br>Industry=ICT<br>Years=%{x}<br>Employment=%{marker.size}<extra></extra>\", \"hovertext\": [27200.0], \"ids\": [\"ICT\"], \"legendgroup\": \"ICT\", \"marker\": {\"color\": \"#FFA15A\", \"size\": [27200], \"sizemode\": \"area\", \"sizeref\": 1932.888888888889, \"symbol\": \"circle\"}, \"mode\": \"markers\", \"name\": \"ICT\", \"showlegend\": true, \"x\": [2012], \"xaxis\": \"x\", \"y\": [27200], \"yaxis\": \"y\", \"type\": \"scatter\"}, {\"hovertemplate\": \"<b>%{hovertext}</b><br><br>Industry=Finance<br>Years=%{x}<br>Employment=%{marker.size}<extra></extra>\", \"hovertext\": [31100.0], \"ids\": [\"Finance\"], \"legendgroup\": \"Finance\", \"marker\": {\"color\": \"#19d3f3\", \"size\": [31100], \"sizemode\": \"area\", \"sizeref\": 1932.888888888889, \"symbol\": \"circle\"}, \"mode\": \"markers\", \"name\": \"Finance\", \"showlegend\": true, \"x\": [2012], \"xaxis\": \"x\", \"y\": [31100], \"yaxis\": \"y\", \"type\": \"scatter\"}, {\"hovertemplate\": \"<b>%{hovertext}</b><br><br>Industry=Real_Estate<br>Years=%{x}<br>Employment=%{marker.size}<extra></extra>\", \"hovertext\": [18800.0], \"ids\": [\"Real_Estate\"], \"legendgroup\": \"Real_Estate\", \"marker\": {\"color\": \"#FF6692\", \"size\": [18800], \"sizemode\": \"area\", \"sizeref\": 1932.888888888889, \"symbol\": \"circle\"}, \"mode\": \"markers\", \"name\": \"Real_Estate\", \"showlegend\": true, \"x\": [2012], \"xaxis\": \"x\", \"y\": [18800], \"yaxis\": \"y\", \"type\": \"scatter\"}, {\"hovertemplate\": \"<b>%{hovertext}</b><br><br>Industry=Professional_Service<br>Years=%{x}<br>Employment=%{marker.size}<extra></extra>\", \"hovertext\": [137300.0], \"ids\": [\"Professional_Service\"], \"legendgroup\": \"Professional_Service\", \"marker\": {\"color\": \"#B6E880\", \"size\": [137300], \"sizemode\": \"area\", \"sizeref\": 1932.888888888889, \"symbol\": \"circle\"}, \"mode\": \"markers\", \"name\": \"Professional_Service\", \"showlegend\": true, \"x\": [2012], \"xaxis\": \"x\", \"y\": [137300], \"yaxis\": \"y\", \"type\": \"scatter\"}, {\"hovertemplate\": \"<b>%{hovertext}</b><br><br>Industry=Public_Adminstration <br>Years=%{x}<br>Employment=%{marker.size}<extra></extra>\", \"hovertext\": [421000.0], \"ids\": [\"Public_Adminstration \"], \"legendgroup\": \"Public_Adminstration \", \"marker\": {\"color\": \"#FF97FF\", \"size\": [421000], \"sizemode\": \"area\", \"sizeref\": 1932.888888888889, \"symbol\": \"circle\"}, \"mode\": \"markers\", \"name\": \"Public_Adminstration \", \"showlegend\": true, \"x\": [2012], \"xaxis\": \"x\", \"y\": [421000], \"yaxis\": \"y\", \"type\": \"scatter\"}, {\"hovertemplate\": \"<b>%{hovertext}</b><br><br>Industry=Other_Service<br>Years=%{x}<br>Employment=%{marker.size}<extra></extra>\", \"hovertext\": [72800.0], \"ids\": [\"Other_Service\"], \"legendgroup\": \"Other_Service\", \"marker\": {\"color\": \"#FECB52\", \"size\": [72800], \"sizemode\": \"area\", \"sizeref\": 1932.888888888889, \"symbol\": \"circle\"}, \"mode\": \"markers\", \"name\": \"Other_Service\", \"showlegend\": true, \"x\": [2012], \"xaxis\": \"x\", \"y\": [72800], \"yaxis\": \"y\", \"type\": \"scatter\"}], \"name\": \"2012\"}, {\"data\": [{\"hovertemplate\": \"<b>%{hovertext}</b><br><br>Industry=Agriculture<br>Years=%{x}<br>Employment=%{marker.size}<extra></extra>\", \"hovertext\": [36800.0], \"ids\": [\"Agriculture\"], \"legendgroup\": \"Agriculture\", \"marker\": {\"color\": \"#636efa\", \"size\": [36800], \"sizemode\": \"area\", \"sizeref\": 1932.888888888889, \"symbol\": \"circle\"}, \"mode\": \"markers\", \"name\": \"Agriculture\", \"showlegend\": true, \"x\": [2013], \"xaxis\": \"x\", \"y\": [36800], \"yaxis\": \"y\", \"type\": \"scatter\"}, {\"hovertemplate\": \"<b>%{hovertext}</b><br><br>Industry=Production<br>Years=%{x}<br>Employment=%{marker.size}<extra></extra>\", \"hovertext\": [164200.0], \"ids\": [\"Production\"], \"legendgroup\": \"Production\", \"marker\": {\"color\": \"#EF553B\", \"size\": [164200], \"sizemode\": \"area\", \"sizeref\": 1932.888888888889, \"symbol\": \"circle\"}, \"mode\": \"markers\", \"name\": \"Production\", \"showlegend\": true, \"x\": [2013], \"xaxis\": \"x\", \"y\": [164200], \"yaxis\": \"y\", \"type\": \"scatter\"}, {\"hovertemplate\": \"<b>%{hovertext}</b><br><br>Industry=Construction<br>Years=%{x}<br>Employment=%{marker.size}<extra></extra>\", \"hovertext\": [89300.0], \"ids\": [\"Construction\"], \"legendgroup\": \"Construction\", \"marker\": {\"color\": \"#00cc96\", \"size\": [89300], \"sizemode\": \"area\", \"sizeref\": 1932.888888888889, \"symbol\": \"circle\"}, \"mode\": \"markers\", \"name\": \"Construction\", \"showlegend\": true, \"x\": [2013], \"xaxis\": \"x\", \"y\": [89300], \"yaxis\": \"y\", \"type\": \"scatter\"}, {\"hovertemplate\": \"<b>%{hovertext}</b><br><br>Industry=Retail<br>Years=%{x}<br>Employment=%{marker.size}<extra></extra>\", \"hovertext\": [345100.0], \"ids\": [\"Retail\"], \"legendgroup\": \"Retail\", \"marker\": {\"color\": \"#ab63fa\", \"size\": [345100], \"sizemode\": \"area\", \"sizeref\": 1932.888888888889, \"symbol\": \"circle\"}, \"mode\": \"markers\", \"name\": \"Retail\", \"showlegend\": true, \"x\": [2013], \"xaxis\": \"x\", \"y\": [345100], \"yaxis\": \"y\", \"type\": \"scatter\"}, {\"hovertemplate\": \"<b>%{hovertext}</b><br><br>Industry=ICT<br>Years=%{x}<br>Employment=%{marker.size}<extra></extra>\", \"hovertext\": [26900.0], \"ids\": [\"ICT\"], \"legendgroup\": \"ICT\", \"marker\": {\"color\": \"#FFA15A\", \"size\": [26900], \"sizemode\": \"area\", \"sizeref\": 1932.888888888889, \"symbol\": \"circle\"}, \"mode\": \"markers\", \"name\": \"ICT\", \"showlegend\": true, \"x\": [2013], \"xaxis\": \"x\", \"y\": [26900], \"yaxis\": \"y\", \"type\": \"scatter\"}, {\"hovertemplate\": \"<b>%{hovertext}</b><br><br>Industry=Finance<br>Years=%{x}<br>Employment=%{marker.size}<extra></extra>\", \"hovertext\": [32400.0], \"ids\": [\"Finance\"], \"legendgroup\": \"Finance\", \"marker\": {\"color\": \"#19d3f3\", \"size\": [32400], \"sizemode\": \"area\", \"sizeref\": 1932.888888888889, \"symbol\": \"circle\"}, \"mode\": \"markers\", \"name\": \"Finance\", \"showlegend\": true, \"x\": [2013], \"xaxis\": \"x\", \"y\": [32400], \"yaxis\": \"y\", \"type\": \"scatter\"}, {\"hovertemplate\": \"<b>%{hovertext}</b><br><br>Industry=Real_Estate<br>Years=%{x}<br>Employment=%{marker.size}<extra></extra>\", \"hovertext\": [18000.0], \"ids\": [\"Real_Estate\"], \"legendgroup\": \"Real_Estate\", \"marker\": {\"color\": \"#FF6692\", \"size\": [18000], \"sizemode\": \"area\", \"sizeref\": 1932.888888888889, \"symbol\": \"circle\"}, \"mode\": \"markers\", \"name\": \"Real_Estate\", \"showlegend\": true, \"x\": [2013], \"xaxis\": \"x\", \"y\": [18000], \"yaxis\": \"y\", \"type\": \"scatter\"}, {\"hovertemplate\": \"<b>%{hovertext}</b><br><br>Industry=Professional_Service<br>Years=%{x}<br>Employment=%{marker.size}<extra></extra>\", \"hovertext\": [149900.0], \"ids\": [\"Professional_Service\"], \"legendgroup\": \"Professional_Service\", \"marker\": {\"color\": \"#B6E880\", \"size\": [149900], \"sizemode\": \"area\", \"sizeref\": 1932.888888888889, \"symbol\": \"circle\"}, \"mode\": \"markers\", \"name\": \"Professional_Service\", \"showlegend\": true, \"x\": [2013], \"xaxis\": \"x\", \"y\": [149900], \"yaxis\": \"y\", \"type\": \"scatter\"}, {\"hovertemplate\": \"<b>%{hovertext}</b><br><br>Industry=Public_Adminstration <br>Years=%{x}<br>Employment=%{marker.size}<extra></extra>\", \"hovertext\": [427000.0], \"ids\": [\"Public_Adminstration \"], \"legendgroup\": \"Public_Adminstration \", \"marker\": {\"color\": \"#FF97FF\", \"size\": [427000], \"sizemode\": \"area\", \"sizeref\": 1932.888888888889, \"symbol\": \"circle\"}, \"mode\": \"markers\", \"name\": \"Public_Adminstration \", \"showlegend\": true, \"x\": [2013], \"xaxis\": \"x\", \"y\": [427000], \"yaxis\": \"y\", \"type\": \"scatter\"}, {\"hovertemplate\": \"<b>%{hovertext}</b><br><br>Industry=Other_Service<br>Years=%{x}<br>Employment=%{marker.size}<extra></extra>\", \"hovertext\": [75500.0], \"ids\": [\"Other_Service\"], \"legendgroup\": \"Other_Service\", \"marker\": {\"color\": \"#FECB52\", \"size\": [75500], \"sizemode\": \"area\", \"sizeref\": 1932.888888888889, \"symbol\": \"circle\"}, \"mode\": \"markers\", \"name\": \"Other_Service\", \"showlegend\": true, \"x\": [2013], \"xaxis\": \"x\", \"y\": [75500], \"yaxis\": \"y\", \"type\": \"scatter\"}], \"name\": \"2013\"}, {\"data\": [{\"hovertemplate\": \"<b>%{hovertext}</b><br><br>Industry=Agriculture<br>Years=%{x}<br>Employment=%{marker.size}<extra></extra>\", \"hovertext\": [42700.0], \"ids\": [\"Agriculture\"], \"legendgroup\": \"Agriculture\", \"marker\": {\"color\": \"#636efa\", \"size\": [42700], \"sizemode\": \"area\", \"sizeref\": 1932.888888888889, \"symbol\": \"circle\"}, \"mode\": \"markers\", \"name\": \"Agriculture\", \"showlegend\": true, \"x\": [2014], \"xaxis\": \"x\", \"y\": [42700], \"yaxis\": \"y\", \"type\": \"scatter\"}, {\"hovertemplate\": \"<b>%{hovertext}</b><br><br>Industry=Production<br>Years=%{x}<br>Employment=%{marker.size}<extra></extra>\", \"hovertext\": [173300.0], \"ids\": [\"Production\"], \"legendgroup\": \"Production\", \"marker\": {\"color\": \"#EF553B\", \"size\": [173300], \"sizemode\": \"area\", \"sizeref\": 1932.888888888889, \"symbol\": \"circle\"}, \"mode\": \"markers\", \"name\": \"Production\", \"showlegend\": true, \"x\": [2014], \"xaxis\": \"x\", \"y\": [173300], \"yaxis\": \"y\", \"type\": \"scatter\"}, {\"hovertemplate\": \"<b>%{hovertext}</b><br><br>Industry=Construction<br>Years=%{x}<br>Employment=%{marker.size}<extra></extra>\", \"hovertext\": [97000.0], \"ids\": [\"Construction\"], \"legendgroup\": \"Construction\", \"marker\": {\"color\": \"#00cc96\", \"size\": [97000], \"sizemode\": \"area\", \"sizeref\": 1932.888888888889, \"symbol\": \"circle\"}, \"mode\": \"markers\", \"name\": \"Construction\", \"showlegend\": true, \"x\": [2014], \"xaxis\": \"x\", \"y\": [97000], \"yaxis\": \"y\", \"type\": \"scatter\"}, {\"hovertemplate\": \"<b>%{hovertext}</b><br><br>Industry=Retail<br>Years=%{x}<br>Employment=%{marker.size}<extra></extra>\", \"hovertext\": [337300.0], \"ids\": [\"Retail\"], \"legendgroup\": \"Retail\", \"marker\": {\"color\": \"#ab63fa\", \"size\": [337300], \"sizemode\": \"area\", \"sizeref\": 1932.888888888889, \"symbol\": \"circle\"}, \"mode\": \"markers\", \"name\": \"Retail\", \"showlegend\": true, \"x\": [2014], \"xaxis\": \"x\", \"y\": [337300], \"yaxis\": \"y\", \"type\": \"scatter\"}, {\"hovertemplate\": \"<b>%{hovertext}</b><br><br>Industry=ICT<br>Years=%{x}<br>Employment=%{marker.size}<extra></extra>\", \"hovertext\": [35700.0], \"ids\": [\"ICT\"], \"legendgroup\": \"ICT\", \"marker\": {\"color\": \"#FFA15A\", \"size\": [35700], \"sizemode\": \"area\", \"sizeref\": 1932.888888888889, \"symbol\": \"circle\"}, \"mode\": \"markers\", \"name\": \"ICT\", \"showlegend\": true, \"x\": [2014], \"xaxis\": \"x\", \"y\": [35700], \"yaxis\": \"y\", \"type\": \"scatter\"}, {\"hovertemplate\": \"<b>%{hovertext}</b><br><br>Industry=Finance<br>Years=%{x}<br>Employment=%{marker.size}<extra></extra>\", \"hovertext\": [32400.0], \"ids\": [\"Finance\"], \"legendgroup\": \"Finance\", \"marker\": {\"color\": \"#19d3f3\", \"size\": [32400], \"sizemode\": \"area\", \"sizeref\": 1932.888888888889, \"symbol\": \"circle\"}, \"mode\": \"markers\", \"name\": \"Finance\", \"showlegend\": true, \"x\": [2014], \"xaxis\": \"x\", \"y\": [32400], \"yaxis\": \"y\", \"type\": \"scatter\"}, {\"hovertemplate\": \"<b>%{hovertext}</b><br><br>Industry=Real_Estate<br>Years=%{x}<br>Employment=%{marker.size}<extra></extra>\", \"hovertext\": [22200.0], \"ids\": [\"Real_Estate\"], \"legendgroup\": \"Real_Estate\", \"marker\": {\"color\": \"#FF6692\", \"size\": [22200], \"sizemode\": \"area\", \"sizeref\": 1932.888888888889, \"symbol\": \"circle\"}, \"mode\": \"markers\", \"name\": \"Real_Estate\", \"showlegend\": true, \"x\": [2014], \"xaxis\": \"x\", \"y\": [22200], \"yaxis\": \"y\", \"type\": \"scatter\"}, {\"hovertemplate\": \"<b>%{hovertext}</b><br><br>Industry=Professional_Service<br>Years=%{x}<br>Employment=%{marker.size}<extra></extra>\", \"hovertext\": [152900.0], \"ids\": [\"Professional_Service\"], \"legendgroup\": \"Professional_Service\", \"marker\": {\"color\": \"#B6E880\", \"size\": [152900], \"sizemode\": \"area\", \"sizeref\": 1932.888888888889, \"symbol\": \"circle\"}, \"mode\": \"markers\", \"name\": \"Professional_Service\", \"showlegend\": true, \"x\": [2014], \"xaxis\": \"x\", \"y\": [152900], \"yaxis\": \"y\", \"type\": \"scatter\"}, {\"hovertemplate\": \"<b>%{hovertext}</b><br><br>Industry=Public_Adminstration <br>Years=%{x}<br>Employment=%{marker.size}<extra></extra>\", \"hovertext\": [427600.0], \"ids\": [\"Public_Adminstration \"], \"legendgroup\": \"Public_Adminstration \", \"marker\": {\"color\": \"#FF97FF\", \"size\": [427600], \"sizemode\": \"area\", \"sizeref\": 1932.888888888889, \"symbol\": \"circle\"}, \"mode\": \"markers\", \"name\": \"Public_Adminstration \", \"showlegend\": true, \"x\": [2014], \"xaxis\": \"x\", \"y\": [427600], \"yaxis\": \"y\", \"type\": \"scatter\"}, {\"hovertemplate\": \"<b>%{hovertext}</b><br><br>Industry=Other_Service<br>Years=%{x}<br>Employment=%{marker.size}<extra></extra>\", \"hovertext\": [73300.0], \"ids\": [\"Other_Service\"], \"legendgroup\": \"Other_Service\", \"marker\": {\"color\": \"#FECB52\", \"size\": [73300], \"sizemode\": \"area\", \"sizeref\": 1932.888888888889, \"symbol\": \"circle\"}, \"mode\": \"markers\", \"name\": \"Other_Service\", \"showlegend\": true, \"x\": [2014], \"xaxis\": \"x\", \"y\": [73300], \"yaxis\": \"y\", \"type\": \"scatter\"}], \"name\": \"2014\"}, {\"data\": [{\"hovertemplate\": \"<b>%{hovertext}</b><br><br>Industry=Agriculture<br>Years=%{x}<br>Employment=%{marker.size}<extra></extra>\", \"hovertext\": [40700.0], \"ids\": [\"Agriculture\"], \"legendgroup\": \"Agriculture\", \"marker\": {\"color\": \"#636efa\", \"size\": [40700], \"sizemode\": \"area\", \"sizeref\": 1932.888888888889, \"symbol\": \"circle\"}, \"mode\": \"markers\", \"name\": \"Agriculture\", \"showlegend\": true, \"x\": [2015], \"xaxis\": \"x\", \"y\": [40700], \"yaxis\": \"y\", \"type\": \"scatter\"}, {\"hovertemplate\": \"<b>%{hovertext}</b><br><br>Industry=Production<br>Years=%{x}<br>Employment=%{marker.size}<extra></extra>\", \"hovertext\": [172300.0], \"ids\": [\"Production\"], \"legendgroup\": \"Production\", \"marker\": {\"color\": \"#EF553B\", \"size\": [172300], \"sizemode\": \"area\", \"sizeref\": 1932.888888888889, \"symbol\": \"circle\"}, \"mode\": \"markers\", \"name\": \"Production\", \"showlegend\": true, \"x\": [2015], \"xaxis\": \"x\", \"y\": [172300], \"yaxis\": \"y\", \"type\": \"scatter\"}, {\"hovertemplate\": \"<b>%{hovertext}</b><br><br>Industry=Construction<br>Years=%{x}<br>Employment=%{marker.size}<extra></extra>\", \"hovertext\": [92600.0], \"ids\": [\"Construction\"], \"legendgroup\": \"Construction\", \"marker\": {\"color\": \"#00cc96\", \"size\": [92600], \"sizemode\": \"area\", \"sizeref\": 1932.888888888889, \"symbol\": \"circle\"}, \"mode\": \"markers\", \"name\": \"Construction\", \"showlegend\": true, \"x\": [2015], \"xaxis\": \"x\", \"y\": [92600], \"yaxis\": \"y\", \"type\": \"scatter\"}, {\"hovertemplate\": \"<b>%{hovertext}</b><br><br>Industry=Retail<br>Years=%{x}<br>Employment=%{marker.size}<extra></extra>\", \"hovertext\": [357700.0], \"ids\": [\"Retail\"], \"legendgroup\": \"Retail\", \"marker\": {\"color\": \"#ab63fa\", \"size\": [357700], \"sizemode\": \"area\", \"sizeref\": 1932.888888888889, \"symbol\": \"circle\"}, \"mode\": \"markers\", \"name\": \"Retail\", \"showlegend\": true, \"x\": [2015], \"xaxis\": \"x\", \"y\": [357700], \"yaxis\": \"y\", \"type\": \"scatter\"}, {\"hovertemplate\": \"<b>%{hovertext}</b><br><br>Industry=ICT<br>Years=%{x}<br>Employment=%{marker.size}<extra></extra>\", \"hovertext\": [24000.0], \"ids\": [\"ICT\"], \"legendgroup\": \"ICT\", \"marker\": {\"color\": \"#FFA15A\", \"size\": [24000], \"sizemode\": \"area\", \"sizeref\": 1932.888888888889, \"symbol\": \"circle\"}, \"mode\": \"markers\", \"name\": \"ICT\", \"showlegend\": true, \"x\": [2015], \"xaxis\": \"x\", \"y\": [24000], \"yaxis\": \"y\", \"type\": \"scatter\"}, {\"hovertemplate\": \"<b>%{hovertext}</b><br><br>Industry=Finance<br>Years=%{x}<br>Employment=%{marker.size}<extra></extra>\", \"hovertext\": [30800.0], \"ids\": [\"Finance\"], \"legendgroup\": \"Finance\", \"marker\": {\"color\": \"#19d3f3\", \"size\": [30800], \"sizemode\": \"area\", \"sizeref\": 1932.888888888889, \"symbol\": \"circle\"}, \"mode\": \"markers\", \"name\": \"Finance\", \"showlegend\": true, \"x\": [2015], \"xaxis\": \"x\", \"y\": [30800], \"yaxis\": \"y\", \"type\": \"scatter\"}, {\"hovertemplate\": \"<b>%{hovertext}</b><br><br>Industry=Real_Estate<br>Years=%{x}<br>Employment=%{marker.size}<extra></extra>\", \"hovertext\": [19100.0], \"ids\": [\"Real_Estate\"], \"legendgroup\": \"Real_Estate\", \"marker\": {\"color\": \"#FF6692\", \"size\": [19100], \"sizemode\": \"area\", \"sizeref\": 1932.888888888889, \"symbol\": \"circle\"}, \"mode\": \"markers\", \"name\": \"Real_Estate\", \"showlegend\": true, \"x\": [2015], \"xaxis\": \"x\", \"y\": [19100], \"yaxis\": \"y\", \"type\": \"scatter\"}, {\"hovertemplate\": \"<b>%{hovertext}</b><br><br>Industry=Professional_Service<br>Years=%{x}<br>Employment=%{marker.size}<extra></extra>\", \"hovertext\": [166200.0], \"ids\": [\"Professional_Service\"], \"legendgroup\": \"Professional_Service\", \"marker\": {\"color\": \"#B6E880\", \"size\": [166200], \"sizemode\": \"area\", \"sizeref\": 1932.888888888889, \"symbol\": \"circle\"}, \"mode\": \"markers\", \"name\": \"Professional_Service\", \"showlegend\": true, \"x\": [2015], \"xaxis\": \"x\", \"y\": [166200], \"yaxis\": \"y\", \"type\": \"scatter\"}, {\"hovertemplate\": \"<b>%{hovertext}</b><br><br>Industry=Public_Adminstration <br>Years=%{x}<br>Employment=%{marker.size}<extra></extra>\", \"hovertext\": [423200.0], \"ids\": [\"Public_Adminstration \"], \"legendgroup\": \"Public_Adminstration \", \"marker\": {\"color\": \"#FF97FF\", \"size\": [423200], \"sizemode\": \"area\", \"sizeref\": 1932.888888888889, \"symbol\": \"circle\"}, \"mode\": \"markers\", \"name\": \"Public_Adminstration \", \"showlegend\": true, \"x\": [2015], \"xaxis\": \"x\", \"y\": [423200], \"yaxis\": \"y\", \"type\": \"scatter\"}, {\"hovertemplate\": \"<b>%{hovertext}</b><br><br>Industry=Other_Service<br>Years=%{x}<br>Employment=%{marker.size}<extra></extra>\", \"hovertext\": [77200.0], \"ids\": [\"Other_Service\"], \"legendgroup\": \"Other_Service\", \"marker\": {\"color\": \"#FECB52\", \"size\": [77200], \"sizemode\": \"area\", \"sizeref\": 1932.888888888889, \"symbol\": \"circle\"}, \"mode\": \"markers\", \"name\": \"Other_Service\", \"showlegend\": true, \"x\": [2015], \"xaxis\": \"x\", \"y\": [77200], \"yaxis\": \"y\", \"type\": \"scatter\"}], \"name\": \"2015\"}, {\"data\": [{\"hovertemplate\": \"<b>%{hovertext}</b><br><br>Industry=Agriculture<br>Years=%{x}<br>Employment=%{marker.size}<extra></extra>\", \"hovertext\": [43200.0], \"ids\": [\"Agriculture\"], \"legendgroup\": \"Agriculture\", \"marker\": {\"color\": \"#636efa\", \"size\": [43200], \"sizemode\": \"area\", \"sizeref\": 1932.888888888889, \"symbol\": \"circle\"}, \"mode\": \"markers\", \"name\": \"Agriculture\", \"showlegend\": true, \"x\": [2016], \"xaxis\": \"x\", \"y\": [43200], \"yaxis\": \"y\", \"type\": \"scatter\"}, {\"hovertemplate\": \"<b>%{hovertext}</b><br><br>Industry=Production<br>Years=%{x}<br>Employment=%{marker.size}<extra></extra>\", \"hovertext\": [162500.0], \"ids\": [\"Production\"], \"legendgroup\": \"Production\", \"marker\": {\"color\": \"#EF553B\", \"size\": [162500], \"sizemode\": \"area\", \"sizeref\": 1932.888888888889, \"symbol\": \"circle\"}, \"mode\": \"markers\", \"name\": \"Production\", \"showlegend\": true, \"x\": [2016], \"xaxis\": \"x\", \"y\": [162500], \"yaxis\": \"y\", \"type\": \"scatter\"}, {\"hovertemplate\": \"<b>%{hovertext}</b><br><br>Industry=Construction<br>Years=%{x}<br>Employment=%{marker.size}<extra></extra>\", \"hovertext\": [102700.0], \"ids\": [\"Construction\"], \"legendgroup\": \"Construction\", \"marker\": {\"color\": \"#00cc96\", \"size\": [102700], \"sizemode\": \"area\", \"sizeref\": 1932.888888888889, \"symbol\": \"circle\"}, \"mode\": \"markers\", \"name\": \"Construction\", \"showlegend\": true, \"x\": [2016], \"xaxis\": \"x\", \"y\": [102700], \"yaxis\": \"y\", \"type\": \"scatter\"}, {\"hovertemplate\": \"<b>%{hovertext}</b><br><br>Industry=Retail<br>Years=%{x}<br>Employment=%{marker.size}<extra></extra>\", \"hovertext\": [360200.0], \"ids\": [\"Retail\"], \"legendgroup\": \"Retail\", \"marker\": {\"color\": \"#ab63fa\", \"size\": [360200], \"sizemode\": \"area\", \"sizeref\": 1932.888888888889, \"symbol\": \"circle\"}, \"mode\": \"markers\", \"name\": \"Retail\", \"showlegend\": true, \"x\": [2016], \"xaxis\": \"x\", \"y\": [360200], \"yaxis\": \"y\", \"type\": \"scatter\"}, {\"hovertemplate\": \"<b>%{hovertext}</b><br><br>Industry=ICT<br>Years=%{x}<br>Employment=%{marker.size}<extra></extra>\", \"hovertext\": [34400.0], \"ids\": [\"ICT\"], \"legendgroup\": \"ICT\", \"marker\": {\"color\": \"#FFA15A\", \"size\": [34400], \"sizemode\": \"area\", \"sizeref\": 1932.888888888889, \"symbol\": \"circle\"}, \"mode\": \"markers\", \"name\": \"ICT\", \"showlegend\": true, \"x\": [2016], \"xaxis\": \"x\", \"y\": [34400], \"yaxis\": \"y\", \"type\": \"scatter\"}, {\"hovertemplate\": \"<b>%{hovertext}</b><br><br>Industry=Finance<br>Years=%{x}<br>Employment=%{marker.size}<extra></extra>\", \"hovertext\": [31000.0], \"ids\": [\"Finance\"], \"legendgroup\": \"Finance\", \"marker\": {\"color\": \"#19d3f3\", \"size\": [31000], \"sizemode\": \"area\", \"sizeref\": 1932.888888888889, \"symbol\": \"circle\"}, \"mode\": \"markers\", \"name\": \"Finance\", \"showlegend\": true, \"x\": [2016], \"xaxis\": \"x\", \"y\": [31000], \"yaxis\": \"y\", \"type\": \"scatter\"}, {\"hovertemplate\": \"<b>%{hovertext}</b><br><br>Industry=Real_Estate<br>Years=%{x}<br>Employment=%{marker.size}<extra></extra>\", \"hovertext\": [22700.0], \"ids\": [\"Real_Estate\"], \"legendgroup\": \"Real_Estate\", \"marker\": {\"color\": \"#FF6692\", \"size\": [22700], \"sizemode\": \"area\", \"sizeref\": 1932.888888888889, \"symbol\": \"circle\"}, \"mode\": \"markers\", \"name\": \"Real_Estate\", \"showlegend\": true, \"x\": [2016], \"xaxis\": \"x\", \"y\": [22700], \"yaxis\": \"y\", \"type\": \"scatter\"}, {\"hovertemplate\": \"<b>%{hovertext}</b><br><br>Industry=Professional_Service<br>Years=%{x}<br>Employment=%{marker.size}<extra></extra>\", \"hovertext\": [161200.0], \"ids\": [\"Professional_Service\"], \"legendgroup\": \"Professional_Service\", \"marker\": {\"color\": \"#B6E880\", \"size\": [161200], \"sizemode\": \"area\", \"sizeref\": 1932.888888888889, \"symbol\": \"circle\"}, \"mode\": \"markers\", \"name\": \"Professional_Service\", \"showlegend\": true, \"x\": [2016], \"xaxis\": \"x\", \"y\": [161200], \"yaxis\": \"y\", \"type\": \"scatter\"}, {\"hovertemplate\": \"<b>%{hovertext}</b><br><br>Industry=Public_Adminstration <br>Years=%{x}<br>Employment=%{marker.size}<extra></extra>\", \"hovertext\": [418500.0], \"ids\": [\"Public_Adminstration \"], \"legendgroup\": \"Public_Adminstration \", \"marker\": {\"color\": \"#FF97FF\", \"size\": [418500], \"sizemode\": \"area\", \"sizeref\": 1932.888888888889, \"symbol\": \"circle\"}, \"mode\": \"markers\", \"name\": \"Public_Adminstration \", \"showlegend\": true, \"x\": [2016], \"xaxis\": \"x\", \"y\": [418500], \"yaxis\": \"y\", \"type\": \"scatter\"}, {\"hovertemplate\": \"<b>%{hovertext}</b><br><br>Industry=Other_Service<br>Years=%{x}<br>Employment=%{marker.size}<extra></extra>\", \"hovertext\": [72400.0], \"ids\": [\"Other_Service\"], \"legendgroup\": \"Other_Service\", \"marker\": {\"color\": \"#FECB52\", \"size\": [72400], \"sizemode\": \"area\", \"sizeref\": 1932.888888888889, \"symbol\": \"circle\"}, \"mode\": \"markers\", \"name\": \"Other_Service\", \"showlegend\": true, \"x\": [2016], \"xaxis\": \"x\", \"y\": [72400], \"yaxis\": \"y\", \"type\": \"scatter\"}], \"name\": \"2016\"}, {\"data\": [{\"hovertemplate\": \"<b>%{hovertext}</b><br><br>Industry=Agriculture<br>Years=%{x}<br>Employment=%{marker.size}<extra></extra>\", \"hovertext\": [40200.0], \"ids\": [\"Agriculture\"], \"legendgroup\": \"Agriculture\", \"marker\": {\"color\": \"#636efa\", \"size\": [40200], \"sizemode\": \"area\", \"sizeref\": 1932.888888888889, \"symbol\": \"circle\"}, \"mode\": \"markers\", \"name\": \"Agriculture\", \"showlegend\": true, \"x\": [2017], \"xaxis\": \"x\", \"y\": [40200], \"yaxis\": \"y\", \"type\": \"scatter\"}, {\"hovertemplate\": \"<b>%{hovertext}</b><br><br>Industry=Production<br>Years=%{x}<br>Employment=%{marker.size}<extra></extra>\", \"hovertext\": [165100.0], \"ids\": [\"Production\"], \"legendgroup\": \"Production\", \"marker\": {\"color\": \"#EF553B\", \"size\": [165100], \"sizemode\": \"area\", \"sizeref\": 1932.888888888889, \"symbol\": \"circle\"}, \"mode\": \"markers\", \"name\": \"Production\", \"showlegend\": true, \"x\": [2017], \"xaxis\": \"x\", \"y\": [165100], \"yaxis\": \"y\", \"type\": \"scatter\"}, {\"hovertemplate\": \"<b>%{hovertext}</b><br><br>Industry=Construction<br>Years=%{x}<br>Employment=%{marker.size}<extra></extra>\", \"hovertext\": [90800.0], \"ids\": [\"Construction\"], \"legendgroup\": \"Construction\", \"marker\": {\"color\": \"#00cc96\", \"size\": [90800], \"sizemode\": \"area\", \"sizeref\": 1932.888888888889, \"symbol\": \"circle\"}, \"mode\": \"markers\", \"name\": \"Construction\", \"showlegend\": true, \"x\": [2017], \"xaxis\": \"x\", \"y\": [90800], \"yaxis\": \"y\", \"type\": \"scatter\"}, {\"hovertemplate\": \"<b>%{hovertext}</b><br><br>Industry=Retail<br>Years=%{x}<br>Employment=%{marker.size}<extra></extra>\", \"hovertext\": [333500.0], \"ids\": [\"Retail\"], \"legendgroup\": \"Retail\", \"marker\": {\"color\": \"#ab63fa\", \"size\": [333500], \"sizemode\": \"area\", \"sizeref\": 1932.888888888889, \"symbol\": \"circle\"}, \"mode\": \"markers\", \"name\": \"Retail\", \"showlegend\": true, \"x\": [2017], \"xaxis\": \"x\", \"y\": [333500], \"yaxis\": \"y\", \"type\": \"scatter\"}, {\"hovertemplate\": \"<b>%{hovertext}</b><br><br>Industry=ICT<br>Years=%{x}<br>Employment=%{marker.size}<extra></extra>\", \"hovertext\": [58900.0], \"ids\": [\"ICT\"], \"legendgroup\": \"ICT\", \"marker\": {\"color\": \"#FFA15A\", \"size\": [58900], \"sizemode\": \"area\", \"sizeref\": 1932.888888888889, \"symbol\": \"circle\"}, \"mode\": \"markers\", \"name\": \"ICT\", \"showlegend\": true, \"x\": [2017], \"xaxis\": \"x\", \"y\": [58900], \"yaxis\": \"y\", \"type\": \"scatter\"}, {\"hovertemplate\": \"<b>%{hovertext}</b><br><br>Industry=Finance<br>Years=%{x}<br>Employment=%{marker.size}<extra></extra>\", \"hovertext\": [32100.0], \"ids\": [\"Finance\"], \"legendgroup\": \"Finance\", \"marker\": {\"color\": \"#19d3f3\", \"size\": [32100], \"sizemode\": \"area\", \"sizeref\": 1932.888888888889, \"symbol\": \"circle\"}, \"mode\": \"markers\", \"name\": \"Finance\", \"showlegend\": true, \"x\": [2017], \"xaxis\": \"x\", \"y\": [32100], \"yaxis\": \"y\", \"type\": \"scatter\"}, {\"hovertemplate\": \"<b>%{hovertext}</b><br><br>Industry=Real_Estate<br>Years=%{x}<br>Employment=%{marker.size}<extra></extra>\", \"hovertext\": [18200.0], \"ids\": [\"Real_Estate\"], \"legendgroup\": \"Real_Estate\", \"marker\": {\"color\": \"#FF6692\", \"size\": [18200], \"sizemode\": \"area\", \"sizeref\": 1932.888888888889, \"symbol\": \"circle\"}, \"mode\": \"markers\", \"name\": \"Real_Estate\", \"showlegend\": true, \"x\": [2017], \"xaxis\": \"x\", \"y\": [18200], \"yaxis\": \"y\", \"type\": \"scatter\"}, {\"hovertemplate\": \"<b>%{hovertext}</b><br><br>Industry=Professional_Service<br>Years=%{x}<br>Employment=%{marker.size}<extra></extra>\", \"hovertext\": [176400.0], \"ids\": [\"Professional_Service\"], \"legendgroup\": \"Professional_Service\", \"marker\": {\"color\": \"#B6E880\", \"size\": [176400], \"sizemode\": \"area\", \"sizeref\": 1932.888888888889, \"symbol\": \"circle\"}, \"mode\": \"markers\", \"name\": \"Professional_Service\", \"showlegend\": true, \"x\": [2017], \"xaxis\": \"x\", \"y\": [176400], \"yaxis\": \"y\", \"type\": \"scatter\"}, {\"hovertemplate\": \"<b>%{hovertext}</b><br><br>Industry=Public_Adminstration <br>Years=%{x}<br>Employment=%{marker.size}<extra></extra>\", \"hovertext\": [424500.0], \"ids\": [\"Public_Adminstration \"], \"legendgroup\": \"Public_Adminstration \", \"marker\": {\"color\": \"#FF97FF\", \"size\": [424500], \"sizemode\": \"area\", \"sizeref\": 1932.888888888889, \"symbol\": \"circle\"}, \"mode\": \"markers\", \"name\": \"Public_Adminstration \", \"showlegend\": true, \"x\": [2017], \"xaxis\": \"x\", \"y\": [424500], \"yaxis\": \"y\", \"type\": \"scatter\"}, {\"hovertemplate\": \"<b>%{hovertext}</b><br><br>Industry=Other_Service<br>Years=%{x}<br>Employment=%{marker.size}<extra></extra>\", \"hovertext\": [83200.0], \"ids\": [\"Other_Service\"], \"legendgroup\": \"Other_Service\", \"marker\": {\"color\": \"#FECB52\", \"size\": [83200], \"sizemode\": \"area\", \"sizeref\": 1932.888888888889, \"symbol\": \"circle\"}, \"mode\": \"markers\", \"name\": \"Other_Service\", \"showlegend\": true, \"x\": [2017], \"xaxis\": \"x\", \"y\": [83200], \"yaxis\": \"y\", \"type\": \"scatter\"}], \"name\": \"2017\"}, {\"data\": [{\"hovertemplate\": \"<b>%{hovertext}</b><br><br>Industry=Agriculture<br>Years=%{x}<br>Employment=%{marker.size}<extra></extra>\", \"hovertext\": [41100.0], \"ids\": [\"Agriculture\"], \"legendgroup\": \"Agriculture\", \"marker\": {\"color\": \"#636efa\", \"size\": [41100], \"sizemode\": \"area\", \"sizeref\": 1932.888888888889, \"symbol\": \"circle\"}, \"mode\": \"markers\", \"name\": \"Agriculture\", \"showlegend\": true, \"x\": [2018], \"xaxis\": \"x\", \"y\": [41100], \"yaxis\": \"y\", \"type\": \"scatter\"}, {\"hovertemplate\": \"<b>%{hovertext}</b><br><br>Industry=Production<br>Years=%{x}<br>Employment=%{marker.size}<extra></extra>\", \"hovertext\": [165700.0], \"ids\": [\"Production\"], \"legendgroup\": \"Production\", \"marker\": {\"color\": \"#EF553B\", \"size\": [165700], \"sizemode\": \"area\", \"sizeref\": 1932.888888888889, \"symbol\": \"circle\"}, \"mode\": \"markers\", \"name\": \"Production\", \"showlegend\": true, \"x\": [2018], \"xaxis\": \"x\", \"y\": [165700], \"yaxis\": \"y\", \"type\": \"scatter\"}, {\"hovertemplate\": \"<b>%{hovertext}</b><br><br>Industry=Construction<br>Years=%{x}<br>Employment=%{marker.size}<extra></extra>\", \"hovertext\": [101800.0], \"ids\": [\"Construction\"], \"legendgroup\": \"Construction\", \"marker\": {\"color\": \"#00cc96\", \"size\": [101800], \"sizemode\": \"area\", \"sizeref\": 1932.888888888889, \"symbol\": \"circle\"}, \"mode\": \"markers\", \"name\": \"Construction\", \"showlegend\": true, \"x\": [2018], \"xaxis\": \"x\", \"y\": [101800], \"yaxis\": \"y\", \"type\": \"scatter\"}, {\"hovertemplate\": \"<b>%{hovertext}</b><br><br>Industry=Retail<br>Years=%{x}<br>Employment=%{marker.size}<extra></extra>\", \"hovertext\": [347600.0], \"ids\": [\"Retail\"], \"legendgroup\": \"Retail\", \"marker\": {\"color\": \"#ab63fa\", \"size\": [347600], \"sizemode\": \"area\", \"sizeref\": 1932.888888888889, \"symbol\": \"circle\"}, \"mode\": \"markers\", \"name\": \"Retail\", \"showlegend\": true, \"x\": [2018], \"xaxis\": \"x\", \"y\": [347600], \"yaxis\": \"y\", \"type\": \"scatter\"}, {\"hovertemplate\": \"<b>%{hovertext}</b><br><br>Industry=ICT<br>Years=%{x}<br>Employment=%{marker.size}<extra></extra>\", \"hovertext\": [31500.0], \"ids\": [\"ICT\"], \"legendgroup\": \"ICT\", \"marker\": {\"color\": \"#FFA15A\", \"size\": [31500], \"sizemode\": \"area\", \"sizeref\": 1932.888888888889, \"symbol\": \"circle\"}, \"mode\": \"markers\", \"name\": \"ICT\", \"showlegend\": true, \"x\": [2018], \"xaxis\": \"x\", \"y\": [31500], \"yaxis\": \"y\", \"type\": \"scatter\"}, {\"hovertemplate\": \"<b>%{hovertext}</b><br><br>Industry=Finance<br>Years=%{x}<br>Employment=%{marker.size}<extra></extra>\", \"hovertext\": [35500.0], \"ids\": [\"Finance\"], \"legendgroup\": \"Finance\", \"marker\": {\"color\": \"#19d3f3\", \"size\": [35500], \"sizemode\": \"area\", \"sizeref\": 1932.888888888889, \"symbol\": \"circle\"}, \"mode\": \"markers\", \"name\": \"Finance\", \"showlegend\": true, \"x\": [2018], \"xaxis\": \"x\", \"y\": [35500], \"yaxis\": \"y\", \"type\": \"scatter\"}, {\"hovertemplate\": \"<b>%{hovertext}</b><br><br>Industry=Real_Estate<br>Years=%{x}<br>Employment=%{marker.size}<extra></extra>\", \"hovertext\": [25200.0], \"ids\": [\"Real_Estate\"], \"legendgroup\": \"Real_Estate\", \"marker\": {\"color\": \"#FF6692\", \"size\": [25200], \"sizemode\": \"area\", \"sizeref\": 1932.888888888889, \"symbol\": \"circle\"}, \"mode\": \"markers\", \"name\": \"Real_Estate\", \"showlegend\": true, \"x\": [2018], \"xaxis\": \"x\", \"y\": [25200], \"yaxis\": \"y\", \"type\": \"scatter\"}, {\"hovertemplate\": \"<b>%{hovertext}</b><br><br>Industry=Professional_Service<br>Years=%{x}<br>Employment=%{marker.size}<extra></extra>\", \"hovertext\": [187100.0], \"ids\": [\"Professional_Service\"], \"legendgroup\": \"Professional_Service\", \"marker\": {\"color\": \"#B6E880\", \"size\": [187100], \"sizemode\": \"area\", \"sizeref\": 1932.888888888889, \"symbol\": \"circle\"}, \"mode\": \"markers\", \"name\": \"Professional_Service\", \"showlegend\": true, \"x\": [2018], \"xaxis\": \"x\", \"y\": [187100], \"yaxis\": \"y\", \"type\": \"scatter\"}, {\"hovertemplate\": \"<b>%{hovertext}</b><br><br>Industry=Public_Adminstration <br>Years=%{x}<br>Employment=%{marker.size}<extra></extra>\", \"hovertext\": [434900.0], \"ids\": [\"Public_Adminstration \"], \"legendgroup\": \"Public_Adminstration \", \"marker\": {\"color\": \"#FF97FF\", \"size\": [434900], \"sizemode\": \"area\", \"sizeref\": 1932.888888888889, \"symbol\": \"circle\"}, \"mode\": \"markers\", \"name\": \"Public_Adminstration \", \"showlegend\": true, \"x\": [2018], \"xaxis\": \"x\", \"y\": [434900], \"yaxis\": \"y\", \"type\": \"scatter\"}, {\"hovertemplate\": \"<b>%{hovertext}</b><br><br>Industry=Other_Service<br>Years=%{x}<br>Employment=%{marker.size}<extra></extra>\", \"hovertext\": [81800.0], \"ids\": [\"Other_Service\"], \"legendgroup\": \"Other_Service\", \"marker\": {\"color\": \"#FECB52\", \"size\": [81800], \"sizemode\": \"area\", \"sizeref\": 1932.888888888889, \"symbol\": \"circle\"}, \"mode\": \"markers\", \"name\": \"Other_Service\", \"showlegend\": true, \"x\": [2018], \"xaxis\": \"x\", \"y\": [81800], \"yaxis\": \"y\", \"type\": \"scatter\"}], \"name\": \"2018\"}]);\n",
       "                        }).then(function(){\n",
       "                            \n",
       "var gd = document.getElementById('709aa4fd-e576-4ee4-86d4-7b5bf2d8a0b6');\n",
       "var x = new MutationObserver(function (mutations, observer) {{\n",
       "        var display = window.getComputedStyle(gd).display;\n",
       "        if (!display || display === 'none') {{\n",
       "            console.log([gd, 'removed!']);\n",
       "            Plotly.purge(gd);\n",
       "            observer.disconnect();\n",
       "        }}\n",
       "}});\n",
       "\n",
       "// Listen for the removal of the full notebook cells\n",
       "var notebookContainer = gd.closest('#notebook-container');\n",
       "if (notebookContainer) {{\n",
       "    x.observe(notebookContainer, {childList: true});\n",
       "}}\n",
       "\n",
       "// Listen for the clearing of the current output cell\n",
       "var outputEl = gd.closest('.output');\n",
       "if (outputEl) {{\n",
       "    x.observe(outputEl, {childList: true});\n",
       "}}\n",
       "\n",
       "                        })\n",
       "                };\n",
       "                });\n",
       "            </script>\n",
       "        </div>"
      ]
     },
     "metadata": {},
     "output_type": "display_data"
    },
    {
     "data": {
      "application/javascript": [
       "\n",
       "            setTimeout(function() {\n",
       "                var nbb_cell_id = 18;\n",
       "                var nbb_unformatted_code = \"fig = px.scatter(\\n    plotly_dataframe,\\n    x=\\\"Years\\\",\\n    y=\\\"Employment\\\",\\n    animation_frame=\\\"Years\\\",\\n    animation_group=\\\"Industry\\\",\\n    color=\\\"Industry\\\",\\n    hover_name=\\\"Employment\\\",\\n    size=\\\"Employment\\\",\\n    log_x=True,\\n    size_max=15,\\n    range_x=[2008, 2019],\\n    range_y=[0, 500000],\\n)\\nfig.show()\";\n",
       "                var nbb_formatted_code = \"fig = px.scatter(\\n    plotly_dataframe,\\n    x=\\\"Years\\\",\\n    y=\\\"Employment\\\",\\n    animation_frame=\\\"Years\\\",\\n    animation_group=\\\"Industry\\\",\\n    color=\\\"Industry\\\",\\n    hover_name=\\\"Employment\\\",\\n    size=\\\"Employment\\\",\\n    log_x=True,\\n    size_max=15,\\n    range_x=[2008, 2019],\\n    range_y=[0, 500000],\\n)\\nfig.show()\";\n",
       "                var nbb_cells = Jupyter.notebook.get_cells();\n",
       "                for (var i = 0; i < nbb_cells.length; ++i) {\n",
       "                    if (nbb_cells[i].input_prompt_number == nbb_cell_id) {\n",
       "                        if (nbb_cells[i].get_text() == nbb_unformatted_code) {\n",
       "                             nbb_cells[i].set_text(nbb_formatted_code);\n",
       "                        }\n",
       "                        break;\n",
       "                    }\n",
       "                }\n",
       "            }, 500);\n",
       "            "
      ],
      "text/plain": [
       "<IPython.core.display.Javascript object>"
      ]
     },
     "metadata": {},
     "output_type": "display_data"
    }
   ],
   "source": [
    "fig = px.scatter(\n",
    "    plotly_dataframe,\n",
    "    x=\"Years\",\n",
    "    y=\"Employment\",\n",
    "    animation_frame=\"Years\",\n",
    "    animation_group=\"Industry\",\n",
    "    color=\"Industry\",\n",
    "    hover_name=\"Employment\",\n",
    "    size=\"Employment\",\n",
    "    log_x=True,\n",
    "    size_max=15,\n",
    "    range_x=[2008, 2019],\n",
    "    range_y=[0, 500000],\n",
    ")\n",
    "fig.show()"
   ]
  },
  {
   "cell_type": "markdown",
   "metadata": {},
   "source": [
    "# PCA/Correlation"
   ]
  },
  {
   "cell_type": "markdown",
   "metadata": {
    "collapsed": true
   },
   "source": [
    "In this section, we will undertake a **principal component analysis** in our dataset and will produce a **scatter plot** to better demonstrate the PCA results. PCA is important for tasks like dimensionality reduction."
   ]
  },
  {
   "cell_type": "code",
   "execution_count": 19,
   "metadata": {},
   "outputs": [
    {
     "data": {
      "application/javascript": [
       "\n",
       "            setTimeout(function() {\n",
       "                var nbb_cell_id = 19;\n",
       "                var nbb_unformatted_code = \"data = dataframe.copy()\\nx = data.loc[:, years_].values\";\n",
       "                var nbb_formatted_code = \"data = dataframe.copy()\\nx = data.loc[:, years_].values\";\n",
       "                var nbb_cells = Jupyter.notebook.get_cells();\n",
       "                for (var i = 0; i < nbb_cells.length; ++i) {\n",
       "                    if (nbb_cells[i].input_prompt_number == nbb_cell_id) {\n",
       "                        if (nbb_cells[i].get_text() == nbb_unformatted_code) {\n",
       "                             nbb_cells[i].set_text(nbb_formatted_code);\n",
       "                        }\n",
       "                        break;\n",
       "                    }\n",
       "                }\n",
       "            }, 500);\n",
       "            "
      ],
      "text/plain": [
       "<IPython.core.display.Javascript object>"
      ]
     },
     "metadata": {},
     "output_type": "display_data"
    }
   ],
   "source": [
    "data = dataframe.copy()\n",
    "x = data.loc[:, years_].values"
   ]
  },
  {
   "cell_type": "markdown",
   "metadata": {},
   "source": [
    "Since PCA yields a feature subspace that maximizes the variance along the axes and since our dataframe consists of data that are in different scales we will standardize the data first.\n",
    "Although, all features(years) in our dataset were measured in numbers, we will continue the transformation of the data onto unit scale (mean=0 and variance=1), which is a requirement for the optimal performance of many machine learning algorithms."
   ]
  },
  {
   "cell_type": "code",
   "execution_count": 20,
   "metadata": {},
   "outputs": [
    {
     "data": {
      "text/html": [
       "<div>\n",
       "<style scoped>\n",
       "    .dataframe tbody tr th:only-of-type {\n",
       "        vertical-align: middle;\n",
       "    }\n",
       "\n",
       "    .dataframe tbody tr th {\n",
       "        vertical-align: top;\n",
       "    }\n",
       "\n",
       "    .dataframe thead th {\n",
       "        text-align: right;\n",
       "    }\n",
       "</style>\n",
       "<table border=\"1\" class=\"dataframe\">\n",
       "  <thead>\n",
       "    <tr style=\"text-align: right;\">\n",
       "      <th></th>\n",
       "      <th>2009</th>\n",
       "      <th>2010</th>\n",
       "      <th>2011</th>\n",
       "      <th>2012</th>\n",
       "      <th>2013</th>\n",
       "      <th>2014</th>\n",
       "      <th>2015</th>\n",
       "      <th>2016</th>\n",
       "      <th>2017</th>\n",
       "      <th>2018</th>\n",
       "    </tr>\n",
       "  </thead>\n",
       "  <tbody>\n",
       "    <tr>\n",
       "      <th>0</th>\n",
       "      <td>-0.722944</td>\n",
       "      <td>-0.712345</td>\n",
       "      <td>-0.734524</td>\n",
       "      <td>-0.730311</td>\n",
       "      <td>-0.739850</td>\n",
       "      <td>-0.731262</td>\n",
       "      <td>-0.732126</td>\n",
       "      <td>-0.729848</td>\n",
       "      <td>-0.785431</td>\n",
       "      <td>-0.769321</td>\n",
       "    </tr>\n",
       "    <tr>\n",
       "      <th>1</th>\n",
       "      <td>0.174046</td>\n",
       "      <td>0.125885</td>\n",
       "      <td>0.178414</td>\n",
       "      <td>0.154620</td>\n",
       "      <td>0.205460</td>\n",
       "      <td>0.255949</td>\n",
       "      <td>0.234445</td>\n",
       "      <td>0.161541</td>\n",
       "      <td>0.175489</td>\n",
       "      <td>0.151322</td>\n",
       "    </tr>\n",
       "    <tr>\n",
       "      <th>2</th>\n",
       "      <td>-0.278972</td>\n",
       "      <td>-0.299239</td>\n",
       "      <td>-0.332831</td>\n",
       "      <td>-0.317393</td>\n",
       "      <td>-0.350299</td>\n",
       "      <td>-0.320806</td>\n",
       "      <td>-0.350933</td>\n",
       "      <td>-0.285274</td>\n",
       "      <td>-0.396139</td>\n",
       "      <td>-0.320821</td>\n",
       "    </tr>\n",
       "    <tr>\n",
       "      <th>3</th>\n",
       "      <td>1.596417</td>\n",
       "      <td>1.588280</td>\n",
       "      <td>1.553410</td>\n",
       "      <td>1.597587</td>\n",
       "      <td>1.547741</td>\n",
       "      <td>1.495632</td>\n",
       "      <td>1.596163</td>\n",
       "      <td>1.638720</td>\n",
       "      <td>1.471078</td>\n",
       "      <td>1.495344</td>\n",
       "    </tr>\n",
       "    <tr>\n",
       "      <th>4</th>\n",
       "      <td>-0.797568</td>\n",
       "      <td>-0.789708</td>\n",
       "      <td>-0.806813</td>\n",
       "      <td>-0.796886</td>\n",
       "      <td>-0.813308</td>\n",
       "      <td>-0.784175</td>\n",
       "      <td>-0.854783</td>\n",
       "      <td>-0.795600</td>\n",
       "      <td>-0.641563</td>\n",
       "      <td>-0.840254</td>\n",
       "    </tr>\n",
       "  </tbody>\n",
       "</table>\n",
       "</div>"
      ],
      "text/plain": [
       "       2009      2010      2011      2012      2013      2014      2015  \\\n",
       "0 -0.722944 -0.712345 -0.734524 -0.730311 -0.739850 -0.731262 -0.732126   \n",
       "1  0.174046  0.125885  0.178414  0.154620  0.205460  0.255949  0.234445   \n",
       "2 -0.278972 -0.299239 -0.332831 -0.317393 -0.350299 -0.320806 -0.350933   \n",
       "3  1.596417  1.588280  1.553410  1.597587  1.547741  1.495632  1.596163   \n",
       "4 -0.797568 -0.789708 -0.806813 -0.796886 -0.813308 -0.784175 -0.854783   \n",
       "\n",
       "       2016      2017      2018  \n",
       "0 -0.729848 -0.785431 -0.769321  \n",
       "1  0.161541  0.175489  0.151322  \n",
       "2 -0.285274 -0.396139 -0.320821  \n",
       "3  1.638720  1.471078  1.495344  \n",
       "4 -0.795600 -0.641563 -0.840254  "
      ]
     },
     "execution_count": 20,
     "metadata": {},
     "output_type": "execute_result"
    },
    {
     "data": {
      "application/javascript": [
       "\n",
       "            setTimeout(function() {\n",
       "                var nbb_cell_id = 20;\n",
       "                var nbb_unformatted_code = \"x = StandardScaler().fit_transform(x)\\npd.DataFrame(data=x, columns=years_).head()\";\n",
       "                var nbb_formatted_code = \"x = StandardScaler().fit_transform(x)\\npd.DataFrame(data=x, columns=years_).head()\";\n",
       "                var nbb_cells = Jupyter.notebook.get_cells();\n",
       "                for (var i = 0; i < nbb_cells.length; ++i) {\n",
       "                    if (nbb_cells[i].input_prompt_number == nbb_cell_id) {\n",
       "                        if (nbb_cells[i].get_text() == nbb_unformatted_code) {\n",
       "                             nbb_cells[i].set_text(nbb_formatted_code);\n",
       "                        }\n",
       "                        break;\n",
       "                    }\n",
       "                }\n",
       "            }, 500);\n",
       "            "
      ],
      "text/plain": [
       "<IPython.core.display.Javascript object>"
      ]
     },
     "metadata": {},
     "output_type": "display_data"
    }
   ],
   "source": [
    "x = StandardScaler().fit_transform(x)\n",
    "pd.DataFrame(data=x, columns=years_).head()"
   ]
  },
  {
   "cell_type": "code",
   "execution_count": 21,
   "metadata": {},
   "outputs": [
    {
     "data": {
      "text/html": [
       "<div>\n",
       "<style scoped>\n",
       "    .dataframe tbody tr th:only-of-type {\n",
       "        vertical-align: middle;\n",
       "    }\n",
       "\n",
       "    .dataframe tbody tr th {\n",
       "        vertical-align: top;\n",
       "    }\n",
       "\n",
       "    .dataframe thead th {\n",
       "        text-align: right;\n",
       "    }\n",
       "</style>\n",
       "<table border=\"1\" class=\"dataframe\">\n",
       "  <thead>\n",
       "    <tr style=\"text-align: right;\">\n",
       "      <th></th>\n",
       "      <th>Industry</th>\n",
       "      <th>PC 1</th>\n",
       "      <th>PC 2</th>\n",
       "    </tr>\n",
       "  </thead>\n",
       "  <tbody>\n",
       "    <tr>\n",
       "      <th>0</th>\n",
       "      <td>Agriculture</td>\n",
       "      <td>-2.336228</td>\n",
       "      <td>-0.062033</td>\n",
       "    </tr>\n",
       "    <tr>\n",
       "      <th>1</th>\n",
       "      <td>Production</td>\n",
       "      <td>0.574654</td>\n",
       "      <td>0.007002</td>\n",
       "    </tr>\n",
       "    <tr>\n",
       "      <th>2</th>\n",
       "      <td>Construction</td>\n",
       "      <td>-1.028544</td>\n",
       "      <td>-0.068697</td>\n",
       "    </tr>\n",
       "    <tr>\n",
       "      <th>3</th>\n",
       "      <td>Retail</td>\n",
       "      <td>4.927032</td>\n",
       "      <td>-0.121161</td>\n",
       "    </tr>\n",
       "    <tr>\n",
       "      <th>4</th>\n",
       "      <td>ICT</td>\n",
       "      <td>-2.504829</td>\n",
       "      <td>0.084791</td>\n",
       "    </tr>\n",
       "  </tbody>\n",
       "</table>\n",
       "</div>"
      ],
      "text/plain": [
       "       Industry      PC 1      PC 2\n",
       "0   Agriculture -2.336228 -0.062033\n",
       "1    Production  0.574654  0.007002\n",
       "2  Construction -1.028544 -0.068697\n",
       "3        Retail  4.927032 -0.121161\n",
       "4           ICT -2.504829  0.084791"
      ]
     },
     "execution_count": 21,
     "metadata": {},
     "output_type": "execute_result"
    },
    {
     "data": {
      "application/javascript": [
       "\n",
       "            setTimeout(function() {\n",
       "                var nbb_cell_id = 21;\n",
       "                var nbb_unformatted_code = \"pca = PCA(n_components=2)\\nprincipalComponents = pca.fit_transform(x)\\nprincipalDf = pd.DataFrame(data=principalComponents, columns=[\\\"PC 1\\\", \\\"PC 2\\\"])\\npca_dataframe = pd.concat([data[[\\\"Industry\\\"]], principalDf], axis=1)\\npca_dataframe.head(5)\";\n",
       "                var nbb_formatted_code = \"pca = PCA(n_components=2)\\nprincipalComponents = pca.fit_transform(x)\\nprincipalDf = pd.DataFrame(data=principalComponents, columns=[\\\"PC 1\\\", \\\"PC 2\\\"])\\npca_dataframe = pd.concat([data[[\\\"Industry\\\"]], principalDf], axis=1)\\npca_dataframe.head(5)\";\n",
       "                var nbb_cells = Jupyter.notebook.get_cells();\n",
       "                for (var i = 0; i < nbb_cells.length; ++i) {\n",
       "                    if (nbb_cells[i].input_prompt_number == nbb_cell_id) {\n",
       "                        if (nbb_cells[i].get_text() == nbb_unformatted_code) {\n",
       "                             nbb_cells[i].set_text(nbb_formatted_code);\n",
       "                        }\n",
       "                        break;\n",
       "                    }\n",
       "                }\n",
       "            }, 500);\n",
       "            "
      ],
      "text/plain": [
       "<IPython.core.display.Javascript object>"
      ]
     },
     "metadata": {},
     "output_type": "display_data"
    }
   ],
   "source": [
    "pca = PCA(n_components=2)\n",
    "principalComponents = pca.fit_transform(x)\n",
    "principalDf = pd.DataFrame(data=principalComponents, columns=[\"PC 1\", \"PC 2\"])\n",
    "pca_dataframe = pd.concat([data[[\"Industry\"]], principalDf], axis=1)\n",
    "pca_dataframe.head(5)"
   ]
  },
  {
   "cell_type": "markdown",
   "metadata": {},
   "source": [
    "We now have a dataframe containing industry names and two principal component values. Next, we will display **an array as a matrix** in a new figure window and produce a **scatter plot** from this data frame. "
   ]
  },
  {
   "cell_type": "code",
   "execution_count": 22,
   "metadata": {},
   "outputs": [
    {
     "data": {
      "image/png": "[encoded data removed]",
      "text/plain": [
       "<Figure size 288x1152 with 2 Axes>"
      ]
     },
     "metadata": {
      "needs_background": "light"
     },
     "output_type": "display_data"
    },
    {
     "data": {
      "application/javascript": [
       "\n",
       "            setTimeout(function() {\n",
       "                var nbb_cell_id = 22;\n",
       "                var nbb_unformatted_code = \"plt.matshow(principalComponents, cmap=\\\"Pastel1\\\")\\nplt.colorbar()\\nplt.yticks(range(len(industries_)), industries_, ha=\\\"center\\\", rotation=\\\"20\\\")\\nplt.xticks([0, 1], [\\\"PCA 1\\\", \\\"PCA 2\\\"])\\nplt.show()\";\n",
       "                var nbb_formatted_code = \"plt.matshow(principalComponents, cmap=\\\"Pastel1\\\")\\nplt.colorbar()\\nplt.yticks(range(len(industries_)), industries_, ha=\\\"center\\\", rotation=\\\"20\\\")\\nplt.xticks([0, 1], [\\\"PCA 1\\\", \\\"PCA 2\\\"])\\nplt.show()\";\n",
       "                var nbb_cells = Jupyter.notebook.get_cells();\n",
       "                for (var i = 0; i < nbb_cells.length; ++i) {\n",
       "                    if (nbb_cells[i].input_prompt_number == nbb_cell_id) {\n",
       "                        if (nbb_cells[i].get_text() == nbb_unformatted_code) {\n",
       "                             nbb_cells[i].set_text(nbb_formatted_code);\n",
       "                        }\n",
       "                        break;\n",
       "                    }\n",
       "                }\n",
       "            }, 500);\n",
       "            "
      ],
      "text/plain": [
       "<IPython.core.display.Javascript object>"
      ]
     },
     "metadata": {},
     "output_type": "display_data"
    }
   ],
   "source": [
    "plt.matshow(principalComponents, cmap=\"Pastel1\")\n",
    "plt.colorbar()\n",
    "plt.yticks(range(len(industries_)), industries_, ha=\"center\", rotation=\"20\")\n",
    "plt.xticks([0, 1], [\"PCA 1\", \"PCA 2\"])\n",
    "plt.show()"
   ]
  },
  {
   "cell_type": "code",
   "execution_count": 23,
   "metadata": {},
   "outputs": [
    {
     "data": {
      "image/png": "[encoded data removed]",
      "text/plain": [
       "<Figure size 576x576 with 1 Axes>"
      ]
     },
     "metadata": {
      "needs_background": "light"
     },
     "output_type": "display_data"
    },
    {
     "data": {
      "application/javascript": [
       "\n",
       "            setTimeout(function() {\n",
       "                var nbb_cell_id = 23;\n",
       "                var nbb_unformatted_code = \"fig = plt.figure(figsize=(8, 8))\\nax = fig.add_subplot(1, 1, 1)\\nax.set_xlabel(\\\"PC 1\\\", fontsize=15)\\nax.set_ylabel(\\\"PC 2\\\", fontsize=15)\\n# ax.set_title(\\\"PCA\\\", fontsize=20)\\nind = data[\\\"Industry\\\"]\\n\\nfor target in industries_:\\n    indicesToKeep = pca_dataframe[\\\"Industry\\\"] == target\\n    ax.scatter(\\n        pca_dataframe.loc[indicesToKeep, \\\"PC 1\\\"],\\n        pca_dataframe.loc[indicesToKeep, \\\"PC 2\\\"],\\n        cmap=\\\"summer\\\",\\n        s=50,\\n    )\\n\\n\\nfor i, txt in enumerate(industries_):\\n    plt.annotate(\\n        txt, (pca_dataframe.loc[i, \\\"PC 1\\\"], pca_dataframe.loc[i, \\\"PC 2\\\"]), rotation=20,\\n    )\\n# ax.legend(industries_)\\nax.grid()\";\n",
       "                var nbb_formatted_code = \"fig = plt.figure(figsize=(8, 8))\\nax = fig.add_subplot(1, 1, 1)\\nax.set_xlabel(\\\"PC 1\\\", fontsize=15)\\nax.set_ylabel(\\\"PC 2\\\", fontsize=15)\\n# ax.set_title(\\\"PCA\\\", fontsize=20)\\nind = data[\\\"Industry\\\"]\\n\\nfor target in industries_:\\n    indicesToKeep = pca_dataframe[\\\"Industry\\\"] == target\\n    ax.scatter(\\n        pca_dataframe.loc[indicesToKeep, \\\"PC 1\\\"],\\n        pca_dataframe.loc[indicesToKeep, \\\"PC 2\\\"],\\n        cmap=\\\"summer\\\",\\n        s=50,\\n    )\\n\\n\\nfor i, txt in enumerate(industries_):\\n    plt.annotate(\\n        txt, (pca_dataframe.loc[i, \\\"PC 1\\\"], pca_dataframe.loc[i, \\\"PC 2\\\"]), rotation=20,\\n    )\\n# ax.legend(industries_)\\nax.grid()\";\n",
       "                var nbb_cells = Jupyter.notebook.get_cells();\n",
       "                for (var i = 0; i < nbb_cells.length; ++i) {\n",
       "                    if (nbb_cells[i].input_prompt_number == nbb_cell_id) {\n",
       "                        if (nbb_cells[i].get_text() == nbb_unformatted_code) {\n",
       "                             nbb_cells[i].set_text(nbb_formatted_code);\n",
       "                        }\n",
       "                        break;\n",
       "                    }\n",
       "                }\n",
       "            }, 500);\n",
       "            "
      ],
      "text/plain": [
       "<IPython.core.display.Javascript object>"
      ]
     },
     "metadata": {},
     "output_type": "display_data"
    }
   ],
   "source": [
    "fig = plt.figure(figsize=(8, 8))\n",
    "ax = fig.add_subplot(1, 1, 1)\n",
    "ax.set_xlabel(\"PC 1\", fontsize=15)\n",
    "ax.set_ylabel(\"PC 2\", fontsize=15)\n",
    "# ax.set_title(\"PCA\", fontsize=20)\n",
    "ind = data[\"Industry\"]\n",
    "\n",
    "for target in industries_:\n",
    "    indicesToKeep = pca_dataframe[\"Industry\"] == target\n",
    "    ax.scatter(\n",
    "        pca_dataframe.loc[indicesToKeep, \"PC 1\"],\n",
    "        pca_dataframe.loc[indicesToKeep, \"PC 2\"],\n",
    "        cmap=\"summer\",\n",
    "        s=50,\n",
    "    )\n",
    "\n",
    "\n",
    "for i, txt in enumerate(industries_):\n",
    "    plt.annotate(\n",
    "        txt, (pca_dataframe.loc[i, \"PC 1\"], pca_dataframe.loc[i, \"PC 2\"]), rotation=20,\n",
    "    )\n",
    "# ax.legend(industries_)\n",
    "ax.grid()"
   ]
  },
  {
   "cell_type": "code",
   "execution_count": 24,
   "metadata": {},
   "outputs": [
    {
     "data": {
      "text/plain": [
       "array([0.99808273, 0.00102919])"
      ]
     },
     "execution_count": 24,
     "metadata": {},
     "output_type": "execute_result"
    },
    {
     "data": {
      "application/javascript": [
       "\n",
       "            setTimeout(function() {\n",
       "                var nbb_cell_id = 24;\n",
       "                var nbb_unformatted_code = \"pca.explained_variance_ratio_\";\n",
       "                var nbb_formatted_code = \"pca.explained_variance_ratio_\";\n",
       "                var nbb_cells = Jupyter.notebook.get_cells();\n",
       "                for (var i = 0; i < nbb_cells.length; ++i) {\n",
       "                    if (nbb_cells[i].input_prompt_number == nbb_cell_id) {\n",
       "                        if (nbb_cells[i].get_text() == nbb_unformatted_code) {\n",
       "                             nbb_cells[i].set_text(nbb_formatted_code);\n",
       "                        }\n",
       "                        break;\n",
       "                    }\n",
       "                }\n",
       "            }, 500);\n",
       "            "
      ],
      "text/plain": [
       "<IPython.core.display.Javascript object>"
      ]
     },
     "metadata": {},
     "output_type": "display_data"
    }
   ],
   "source": [
    "pca.explained_variance_ratio_"
   ]
  },
  {
   "cell_type": "markdown",
   "metadata": {},
   "source": [
    "The **explained variance** parameter gives us the amount of information that can be attributed to each of the principal components. we can see that the first two principal components contain 99.9% of the information. The first principal component contains 99.8% of the variance and the second principal component contains .1% of the variance.\n",
    "\n",
    "From data analysis part we can see that industries with higher employees have contributed more of the PC 1 variance. **Real estate, agriculture and finance** industries had less than 500000 total employees over the yeears and they are clustered together in PCA. **ICT** also had less than 500000 employees over the years and contains simillar PCA 1 variance. **Other service, construction** and **production, professional service** are in two PCA 1 cluster but in different PCA 2 cluster. **Public administration and retail** contain most variance since they have got the most number of employees over the years.\n",
    "\n",
    "Now that we have undertaken a **PCA** analysis, we will make **a year wise correlation** for each industry and see if the aforementioned industries are also correlated over the years."
   ]
  },
  {
   "cell_type": "code",
   "execution_count": 25,
   "metadata": {},
   "outputs": [
    {
     "data": {
      "text/html": [
       "<div>\n",
       "<style scoped>\n",
       "    .dataframe tbody tr th:only-of-type {\n",
       "        vertical-align: middle;\n",
       "    }\n",
       "\n",
       "    .dataframe tbody tr th {\n",
       "        vertical-align: top;\n",
       "    }\n",
       "\n",
       "    .dataframe thead th {\n",
       "        text-align: right;\n",
       "    }\n",
       "</style>\n",
       "<table border=\"1\" class=\"dataframe\">\n",
       "  <thead>\n",
       "    <tr style=\"text-align: right;\">\n",
       "      <th>Industry</th>\n",
       "      <th>Agriculture</th>\n",
       "      <th>Production</th>\n",
       "      <th>Construction</th>\n",
       "      <th>Retail</th>\n",
       "      <th>ICT</th>\n",
       "      <th>Finance</th>\n",
       "      <th>Real_Estate</th>\n",
       "      <th>Professional_Service</th>\n",
       "      <th>Public_Adminstration</th>\n",
       "      <th>Other_Service</th>\n",
       "    </tr>\n",
       "    <tr>\n",
       "      <th>Industry</th>\n",
       "      <th></th>\n",
       "      <th></th>\n",
       "      <th></th>\n",
       "      <th></th>\n",
       "      <th></th>\n",
       "      <th></th>\n",
       "      <th></th>\n",
       "      <th></th>\n",
       "      <th></th>\n",
       "      <th></th>\n",
       "    </tr>\n",
       "  </thead>\n",
       "  <tbody>\n",
       "    <tr>\n",
       "      <th>Agriculture</th>\n",
       "      <td>NaN</td>\n",
       "      <td>0.646564</td>\n",
       "      <td>0.727019</td>\n",
       "      <td>0.227534</td>\n",
       "      <td>0.378069</td>\n",
       "      <td>0.005239</td>\n",
       "      <td>0.668110</td>\n",
       "      <td>0.636513</td>\n",
       "      <td>0.194875</td>\n",
       "      <td>0.333264</td>\n",
       "    </tr>\n",
       "    <tr>\n",
       "      <th>Production</th>\n",
       "      <td>NaN</td>\n",
       "      <td>NaN</td>\n",
       "      <td>0.188308</td>\n",
       "      <td>0.028424</td>\n",
       "      <td>0.231710</td>\n",
       "      <td>0.225092</td>\n",
       "      <td>0.604355</td>\n",
       "      <td>0.560187</td>\n",
       "      <td>0.546657</td>\n",
       "      <td>0.577920</td>\n",
       "    </tr>\n",
       "    <tr>\n",
       "      <th>Construction</th>\n",
       "      <td>NaN</td>\n",
       "      <td>NaN</td>\n",
       "      <td>NaN</td>\n",
       "      <td>0.414382</td>\n",
       "      <td>0.010326</td>\n",
       "      <td>0.309157</td>\n",
       "      <td>0.598064</td>\n",
       "      <td>0.440657</td>\n",
       "      <td>0.080268</td>\n",
       "      <td>0.030656</td>\n",
       "    </tr>\n",
       "    <tr>\n",
       "      <th>Retail</th>\n",
       "      <td>NaN</td>\n",
       "      <td>NaN</td>\n",
       "      <td>NaN</td>\n",
       "      <td>NaN</td>\n",
       "      <td>0.551669</td>\n",
       "      <td>0.252533</td>\n",
       "      <td>0.232011</td>\n",
       "      <td>0.045887</td>\n",
       "      <td>0.258487</td>\n",
       "      <td>0.156339</td>\n",
       "    </tr>\n",
       "    <tr>\n",
       "      <th>ICT</th>\n",
       "      <td>NaN</td>\n",
       "      <td>NaN</td>\n",
       "      <td>NaN</td>\n",
       "      <td>NaN</td>\n",
       "      <td>NaN</td>\n",
       "      <td>0.042842</td>\n",
       "      <td>0.154186</td>\n",
       "      <td>0.503172</td>\n",
       "      <td>0.122228</td>\n",
       "      <td>0.543306</td>\n",
       "    </tr>\n",
       "    <tr>\n",
       "      <th>Finance</th>\n",
       "      <td>NaN</td>\n",
       "      <td>NaN</td>\n",
       "      <td>NaN</td>\n",
       "      <td>NaN</td>\n",
       "      <td>NaN</td>\n",
       "      <td>NaN</td>\n",
       "      <td>0.316411</td>\n",
       "      <td>0.388880</td>\n",
       "      <td>0.589635</td>\n",
       "      <td>0.242434</td>\n",
       "    </tr>\n",
       "    <tr>\n",
       "      <th>Real_Estate</th>\n",
       "      <td>NaN</td>\n",
       "      <td>NaN</td>\n",
       "      <td>NaN</td>\n",
       "      <td>NaN</td>\n",
       "      <td>NaN</td>\n",
       "      <td>NaN</td>\n",
       "      <td>NaN</td>\n",
       "      <td>0.622777</td>\n",
       "      <td>0.684273</td>\n",
       "      <td>0.617589</td>\n",
       "    </tr>\n",
       "    <tr>\n",
       "      <th>Professional_Service</th>\n",
       "      <td>NaN</td>\n",
       "      <td>NaN</td>\n",
       "      <td>NaN</td>\n",
       "      <td>NaN</td>\n",
       "      <td>NaN</td>\n",
       "      <td>NaN</td>\n",
       "      <td>NaN</td>\n",
       "      <td>NaN</td>\n",
       "      <td>0.584972</td>\n",
       "      <td>0.800549</td>\n",
       "    </tr>\n",
       "    <tr>\n",
       "      <th>Public_Adminstration</th>\n",
       "      <td>NaN</td>\n",
       "      <td>NaN</td>\n",
       "      <td>NaN</td>\n",
       "      <td>NaN</td>\n",
       "      <td>NaN</td>\n",
       "      <td>NaN</td>\n",
       "      <td>NaN</td>\n",
       "      <td>NaN</td>\n",
       "      <td>NaN</td>\n",
       "      <td>0.739090</td>\n",
       "    </tr>\n",
       "    <tr>\n",
       "      <th>Other_Service</th>\n",
       "      <td>NaN</td>\n",
       "      <td>NaN</td>\n",
       "      <td>NaN</td>\n",
       "      <td>NaN</td>\n",
       "      <td>NaN</td>\n",
       "      <td>NaN</td>\n",
       "      <td>NaN</td>\n",
       "      <td>NaN</td>\n",
       "      <td>NaN</td>\n",
       "      <td>NaN</td>\n",
       "    </tr>\n",
       "  </tbody>\n",
       "</table>\n",
       "</div>"
      ],
      "text/plain": [
       "Industry               Agriculture  Production  Construction    Retail  \\\n",
       "Industry                                                                 \n",
       "Agriculture                    NaN    0.646564      0.727019  0.227534   \n",
       "Production                     NaN         NaN      0.188308  0.028424   \n",
       "Construction                   NaN         NaN           NaN  0.414382   \n",
       "Retail                         NaN         NaN           NaN       NaN   \n",
       "ICT                            NaN         NaN           NaN       NaN   \n",
       "Finance                        NaN         NaN           NaN       NaN   \n",
       "Real_Estate                    NaN         NaN           NaN       NaN   \n",
       "Professional_Service           NaN         NaN           NaN       NaN   \n",
       "Public_Adminstration           NaN         NaN           NaN       NaN   \n",
       "Other_Service                  NaN         NaN           NaN       NaN   \n",
       "\n",
       "Industry                    ICT   Finance  Real_Estate  Professional_Service  \\\n",
       "Industry                                                                       \n",
       "Agriculture            0.378069  0.005239     0.668110              0.636513   \n",
       "Production             0.231710  0.225092     0.604355              0.560187   \n",
       "Construction           0.010326  0.309157     0.598064              0.440657   \n",
       "Retail                 0.551669  0.252533     0.232011              0.045887   \n",
       "ICT                         NaN  0.042842     0.154186              0.503172   \n",
       "Finance                     NaN       NaN     0.316411              0.388880   \n",
       "Real_Estate                 NaN       NaN          NaN              0.622777   \n",
       "Professional_Service        NaN       NaN          NaN                   NaN   \n",
       "Public_Adminstration        NaN       NaN          NaN                   NaN   \n",
       "Other_Service               NaN       NaN          NaN                   NaN   \n",
       "\n",
       "Industry               Public_Adminstration   Other_Service  \n",
       "Industry                                                     \n",
       "Agriculture                         0.194875       0.333264  \n",
       "Production                          0.546657       0.577920  \n",
       "Construction                        0.080268       0.030656  \n",
       "Retail                              0.258487       0.156339  \n",
       "ICT                                 0.122228       0.543306  \n",
       "Finance                             0.589635       0.242434  \n",
       "Real_Estate                         0.684273       0.617589  \n",
       "Professional_Service                0.584972       0.800549  \n",
       "Public_Adminstration                     NaN       0.739090  \n",
       "Other_Service                            NaN            NaN  "
      ]
     },
     "execution_count": 25,
     "metadata": {},
     "output_type": "execute_result"
    },
    {
     "data": {
      "application/javascript": [
       "\n",
       "            setTimeout(function() {\n",
       "                var nbb_cell_id = 25;\n",
       "                var nbb_unformatted_code = \"data = dataframe.copy()\\ndata = data.set_index(\\\"Industry\\\")\\ndata = data.T\\ncorr_matrix = data.corr().abs()\\nupper = corr_matrix.where(np.triu(np.ones(corr_matrix.shape), k=1).astype(np.bool))\\nupper\";\n",
       "                var nbb_formatted_code = \"data = dataframe.copy()\\ndata = data.set_index(\\\"Industry\\\")\\ndata = data.T\\ncorr_matrix = data.corr().abs()\\nupper = corr_matrix.where(np.triu(np.ones(corr_matrix.shape), k=1).astype(np.bool))\\nupper\";\n",
       "                var nbb_cells = Jupyter.notebook.get_cells();\n",
       "                for (var i = 0; i < nbb_cells.length; ++i) {\n",
       "                    if (nbb_cells[i].input_prompt_number == nbb_cell_id) {\n",
       "                        if (nbb_cells[i].get_text() == nbb_unformatted_code) {\n",
       "                             nbb_cells[i].set_text(nbb_formatted_code);\n",
       "                        }\n",
       "                        break;\n",
       "                    }\n",
       "                }\n",
       "            }, 500);\n",
       "            "
      ],
      "text/plain": [
       "<IPython.core.display.Javascript object>"
      ]
     },
     "metadata": {},
     "output_type": "display_data"
    }
   ],
   "source": [
    "data = dataframe.copy()\n",
    "data = data.set_index(\"Industry\")\n",
    "data = data.T\n",
    "corr_matrix = data.corr().abs()\n",
    "upper = corr_matrix.where(np.triu(np.ones(corr_matrix.shape), k=1).astype(np.bool))\n",
    "upper"
   ]
  },
  {
   "cell_type": "code",
   "execution_count": 26,
   "metadata": {},
   "outputs": [
    {
     "data": {
      "image/png": "[encoded data removed]",
      "text/plain": [
       "<Figure size 432x288 with 2 Axes>"
      ]
     },
     "metadata": {
      "needs_background": "light"
     },
     "output_type": "display_data"
    },
    {
     "data": {
      "application/javascript": [
       "\n",
       "            setTimeout(function() {\n",
       "                var nbb_cell_id = 26;\n",
       "                var nbb_unformatted_code = \"mask = np.triu(corr_matrix)\\nsns.heatmap(\\n    corr_matrix,\\n    xticklabels=corr_matrix.columns,\\n    yticklabels=corr_matrix.columns,\\n    annot=True,\\n    fmt=\\\".1g\\\",\\n    mask=mask,\\n)\\nplt.show()\";\n",
       "                var nbb_formatted_code = \"mask = np.triu(corr_matrix)\\nsns.heatmap(\\n    corr_matrix,\\n    xticklabels=corr_matrix.columns,\\n    yticklabels=corr_matrix.columns,\\n    annot=True,\\n    fmt=\\\".1g\\\",\\n    mask=mask,\\n)\\nplt.show()\";\n",
       "                var nbb_cells = Jupyter.notebook.get_cells();\n",
       "                for (var i = 0; i < nbb_cells.length; ++i) {\n",
       "                    if (nbb_cells[i].input_prompt_number == nbb_cell_id) {\n",
       "                        if (nbb_cells[i].get_text() == nbb_unformatted_code) {\n",
       "                             nbb_cells[i].set_text(nbb_formatted_code);\n",
       "                        }\n",
       "                        break;\n",
       "                    }\n",
       "                }\n",
       "            }, 500);\n",
       "            "
      ],
      "text/plain": [
       "<IPython.core.display.Javascript object>"
      ]
     },
     "metadata": {},
     "output_type": "display_data"
    }
   ],
   "source": [
    "mask = np.triu(corr_matrix)\n",
    "sns.heatmap(\n",
    "    corr_matrix,\n",
    "    xticklabels=corr_matrix.columns,\n",
    "    yticklabels=corr_matrix.columns,\n",
    "    annot=True,\n",
    "    fmt=\".1g\",\n",
    "    mask=mask,\n",
    ")\n",
    "plt.show()"
   ]
  },
  {
   "cell_type": "markdown",
   "metadata": {},
   "source": [
    "Looking at the correaltion heatmap we can see that **agriculture, finance, ICT and real estate** are not correlated over the years. Also, rest of the industries that were correlated in PCA analysis are not correalated year wise indicating aforementioned industries have no cerrealtion over the years."
   ]
  },
  {
   "cell_type": "markdown",
   "metadata": {},
   "source": [
    "# Clustering (k means & hierarchical)"
   ]
  },
  {
   "cell_type": "markdown",
   "metadata": {
    "collapsed": true
   },
   "source": [
    "In this section, we will use the 2010 and 2018 data since they were **best and worst performing year** in relation to the employment from the data analysis part and use that data to find the relationships between industries. We will start with **K means** clustring. "
   ]
  },
  {
   "cell_type": "code",
   "execution_count": 27,
   "metadata": {},
   "outputs": [
    {
     "data": {
      "text/plain": [
       "KMeans(algorithm='auto', copy_x=True, init='k-means++', max_iter=50,\n",
       "       n_clusters=2, n_init=10, n_jobs=None, precompute_distances='auto',\n",
       "       random_state=1, tol=0.0001, verbose=0)"
      ]
     },
     "execution_count": 27,
     "metadata": {},
     "output_type": "execute_result"
    },
    {
     "data": {
      "application/javascript": [
       "\n",
       "            setTimeout(function() {\n",
       "                var nbb_cell_id = 27;\n",
       "                var nbb_unformatted_code = \"data = dataframe.copy()\\ndata = data[[\\\"2010\\\", \\\"2018\\\"]]\\ndata = data.values.astype(\\\"float32\\\", copy=False)\\nstscaler = preprocessing.StandardScaler().fit(data)\\ndata = stscaler.transform(data)\\nkmeans = KMeans(n_clusters=2, max_iter=50, random_state=1)\\nkmeans.fit(data)\";\n",
       "                var nbb_formatted_code = \"data = dataframe.copy()\\ndata = data[[\\\"2010\\\", \\\"2018\\\"]]\\ndata = data.values.astype(\\\"float32\\\", copy=False)\\nstscaler = preprocessing.StandardScaler().fit(data)\\ndata = stscaler.transform(data)\\nkmeans = KMeans(n_clusters=2, max_iter=50, random_state=1)\\nkmeans.fit(data)\";\n",
       "                var nbb_cells = Jupyter.notebook.get_cells();\n",
       "                for (var i = 0; i < nbb_cells.length; ++i) {\n",
       "                    if (nbb_cells[i].input_prompt_number == nbb_cell_id) {\n",
       "                        if (nbb_cells[i].get_text() == nbb_unformatted_code) {\n",
       "                             nbb_cells[i].set_text(nbb_formatted_code);\n",
       "                        }\n",
       "                        break;\n",
       "                    }\n",
       "                }\n",
       "            }, 500);\n",
       "            "
      ],
      "text/plain": [
       "<IPython.core.display.Javascript object>"
      ]
     },
     "metadata": {},
     "output_type": "display_data"
    }
   ],
   "source": [
    "data = dataframe.copy()\n",
    "data = data[[\"2010\", \"2018\"]]\n",
    "data = data.values.astype(\"float32\", copy=False)\n",
    "stscaler = preprocessing.StandardScaler().fit(data)\n",
    "data = stscaler.transform(data)\n",
    "kmeans = KMeans(n_clusters=2, max_iter=50, random_state=1)\n",
    "kmeans.fit(data)"
   ]
  },
  {
   "cell_type": "code",
   "execution_count": 28,
   "metadata": {},
   "outputs": [
    {
     "data": {
      "text/html": [
       "<div>\n",
       "<style scoped>\n",
       "    .dataframe tbody tr th:only-of-type {\n",
       "        vertical-align: middle;\n",
       "    }\n",
       "\n",
       "    .dataframe tbody tr th {\n",
       "        vertical-align: top;\n",
       "    }\n",
       "\n",
       "    .dataframe thead th {\n",
       "        text-align: right;\n",
       "    }\n",
       "</style>\n",
       "<table border=\"1\" class=\"dataframe\">\n",
       "  <thead>\n",
       "    <tr style=\"text-align: right;\">\n",
       "      <th></th>\n",
       "      <th>Industry</th>\n",
       "      <th>0</th>\n",
       "      <th>1</th>\n",
       "    </tr>\n",
       "  </thead>\n",
       "  <tbody>\n",
       "    <tr>\n",
       "      <th>0</th>\n",
       "      <td>Agriculture</td>\n",
       "      <td>-0.712345</td>\n",
       "      <td>-0.769321</td>\n",
       "    </tr>\n",
       "    <tr>\n",
       "      <th>1</th>\n",
       "      <td>Production</td>\n",
       "      <td>0.125885</td>\n",
       "      <td>0.151322</td>\n",
       "    </tr>\n",
       "    <tr>\n",
       "      <th>2</th>\n",
       "      <td>Construction</td>\n",
       "      <td>-0.299239</td>\n",
       "      <td>-0.320821</td>\n",
       "    </tr>\n",
       "    <tr>\n",
       "      <th>3</th>\n",
       "      <td>Retail</td>\n",
       "      <td>1.588280</td>\n",
       "      <td>1.495344</td>\n",
       "    </tr>\n",
       "    <tr>\n",
       "      <th>4</th>\n",
       "      <td>ICT</td>\n",
       "      <td>-0.789708</td>\n",
       "      <td>-0.840254</td>\n",
       "    </tr>\n",
       "    <tr>\n",
       "      <th>5</th>\n",
       "      <td>Finance</td>\n",
       "      <td>-0.775438</td>\n",
       "      <td>-0.810698</td>\n",
       "    </tr>\n",
       "    <tr>\n",
       "      <th>6</th>\n",
       "      <td>Real_Estate</td>\n",
       "      <td>-0.889605</td>\n",
       "      <td>-0.886803</td>\n",
       "    </tr>\n",
       "    <tr>\n",
       "      <th>7</th>\n",
       "      <td>Professional_Service</td>\n",
       "      <td>0.095841</td>\n",
       "      <td>0.309443</td>\n",
       "    </tr>\n",
       "    <tr>\n",
       "      <th>8</th>\n",
       "      <td>Public_Adminstration</td>\n",
       "      <td>2.144846</td>\n",
       "      <td>2.140386</td>\n",
       "    </tr>\n",
       "    <tr>\n",
       "      <th>9</th>\n",
       "      <td>Other_Service</td>\n",
       "      <td>-0.488517</td>\n",
       "      <td>-0.468597</td>\n",
       "    </tr>\n",
       "  </tbody>\n",
       "</table>\n",
       "</div>"
      ],
      "text/plain": [
       "                Industry         0         1\n",
       "0            Agriculture -0.712345 -0.769321\n",
       "1             Production  0.125885  0.151322\n",
       "2           Construction -0.299239 -0.320821\n",
       "3                 Retail  1.588280  1.495344\n",
       "4                    ICT -0.789708 -0.840254\n",
       "5                Finance -0.775438 -0.810698\n",
       "6            Real_Estate -0.889605 -0.886803\n",
       "7   Professional_Service  0.095841  0.309443\n",
       "8  Public_Adminstration   2.144846  2.140386\n",
       "9          Other_Service -0.488517 -0.468597"
      ]
     },
     "execution_count": 28,
     "metadata": {},
     "output_type": "execute_result"
    },
    {
     "data": {
      "application/javascript": [
       "\n",
       "            setTimeout(function() {\n",
       "                var nbb_cell_id = 28;\n",
       "                var nbb_unformatted_code = \"clusters = pd.DataFrame(data=data)\\nclusters = pd.concat([dataframe[[\\\"Industry\\\"]], clusters], axis=1)\\nclusters\";\n",
       "                var nbb_formatted_code = \"clusters = pd.DataFrame(data=data)\\nclusters = pd.concat([dataframe[[\\\"Industry\\\"]], clusters], axis=1)\\nclusters\";\n",
       "                var nbb_cells = Jupyter.notebook.get_cells();\n",
       "                for (var i = 0; i < nbb_cells.length; ++i) {\n",
       "                    if (nbb_cells[i].input_prompt_number == nbb_cell_id) {\n",
       "                        if (nbb_cells[i].get_text() == nbb_unformatted_code) {\n",
       "                             nbb_cells[i].set_text(nbb_formatted_code);\n",
       "                        }\n",
       "                        break;\n",
       "                    }\n",
       "                }\n",
       "            }, 500);\n",
       "            "
      ],
      "text/plain": [
       "<IPython.core.display.Javascript object>"
      ]
     },
     "metadata": {},
     "output_type": "display_data"
    }
   ],
   "source": [
    "clusters = pd.DataFrame(data=data)\n",
    "clusters = pd.concat([dataframe[[\"Industry\"]], clusters], axis=1)\n",
    "clusters"
   ]
  },
  {
   "cell_type": "code",
   "execution_count": 29,
   "metadata": {},
   "outputs": [
    {
     "data": {
      "image/png": "[encoded data removed]",
      "text/plain": [
       "<Figure size 432x288 with 1 Axes>"
      ]
     },
     "metadata": {
      "needs_background": "light"
     },
     "output_type": "display_data"
    },
    {
     "data": {
      "application/javascript": [
       "\n",
       "            setTimeout(function() {\n",
       "                var nbb_cell_id = 29;\n",
       "                var nbb_unformatted_code = \"plt.scatter(data[:, 0], data[:, 1], c=kmeans.labels_, cmap=\\\"summer\\\")\\nfor i, txt in enumerate(industries_):\\n    plt.annotate(\\n        txt, (data[:, 0][i], data[:, 1][i]),\\n    )\\n\\nplt.scatter(\\n    kmeans.cluster_centers_[:, 0],\\n    kmeans.cluster_centers_[:, 1],\\n    color=\\\"red\\\",\\n    s=200,\\n    alpha=0.5,\\n)\\nfor i, txt in enumerate([\\\"Centroid 1\\\", \\\"Centroid 2\\\"]):\\n    plt.annotate(\\n        txt, (kmeans.cluster_centers_[:, 0][i], kmeans.cluster_centers_[:, 1][i]),\\n    )\\nplt.rcParams[\\\"figure.figsize\\\"] = (12, 10)\\nplt.show()\";\n",
       "                var nbb_formatted_code = \"plt.scatter(data[:, 0], data[:, 1], c=kmeans.labels_, cmap=\\\"summer\\\")\\nfor i, txt in enumerate(industries_):\\n    plt.annotate(\\n        txt, (data[:, 0][i], data[:, 1][i]),\\n    )\\n\\nplt.scatter(\\n    kmeans.cluster_centers_[:, 0],\\n    kmeans.cluster_centers_[:, 1],\\n    color=\\\"red\\\",\\n    s=200,\\n    alpha=0.5,\\n)\\nfor i, txt in enumerate([\\\"Centroid 1\\\", \\\"Centroid 2\\\"]):\\n    plt.annotate(\\n        txt, (kmeans.cluster_centers_[:, 0][i], kmeans.cluster_centers_[:, 1][i]),\\n    )\\nplt.rcParams[\\\"figure.figsize\\\"] = (12, 10)\\nplt.show()\";\n",
       "                var nbb_cells = Jupyter.notebook.get_cells();\n",
       "                for (var i = 0; i < nbb_cells.length; ++i) {\n",
       "                    if (nbb_cells[i].input_prompt_number == nbb_cell_id) {\n",
       "                        if (nbb_cells[i].get_text() == nbb_unformatted_code) {\n",
       "                             nbb_cells[i].set_text(nbb_formatted_code);\n",
       "                        }\n",
       "                        break;\n",
       "                    }\n",
       "                }\n",
       "            }, 500);\n",
       "            "
      ],
      "text/plain": [
       "<IPython.core.display.Javascript object>"
      ]
     },
     "metadata": {},
     "output_type": "display_data"
    }
   ],
   "source": [
    "plt.scatter(data[:, 0], data[:, 1], c=kmeans.labels_, cmap=\"summer\")\n",
    "for i, txt in enumerate(industries_):\n",
    "    plt.annotate(\n",
    "        txt, (data[:, 0][i], data[:, 1][i]),\n",
    "    )\n",
    "\n",
    "plt.scatter(\n",
    "    kmeans.cluster_centers_[:, 0],\n",
    "    kmeans.cluster_centers_[:, 1],\n",
    "    color=\"red\",\n",
    "    s=200,\n",
    "    alpha=0.5,\n",
    ")\n",
    "for i, txt in enumerate([\"Centroid 1\", \"Centroid 2\"]):\n",
    "    plt.annotate(\n",
    "        txt, (kmeans.cluster_centers_[:, 0][i], kmeans.cluster_centers_[:, 1][i]),\n",
    "    )\n",
    "plt.rcParams[\"figure.figsize\"] = (12, 10)\n",
    "plt.show()"
   ]
  },
  {
   "cell_type": "markdown",
   "metadata": {},
   "source": [
    "First, we have started with **(K = 2)** for our K means clustering. Industries that are related with each other will be in a single cluster and we have found two clusters. Public admininstration and retail industry are clustering together while professional service, construction, production, ICT, finance, real estate and other service industries are in another cluster.\n",
    "\n",
    "Next, we will try with **(K = 3)** for our K means clustering."
   ]
  },
  {
   "cell_type": "code",
   "execution_count": 30,
   "metadata": {},
   "outputs": [
    {
     "name": "stdout",
     "output_type": "stream",
     "text": [
      "[[-0.712345   -0.76932114]\n",
      " [ 0.12588467  0.15132248]\n",
      " [-0.29923898 -0.3208214 ]\n",
      " [ 1.58828     1.4953439 ]\n",
      " [-0.7897085  -0.8402536 ]\n",
      " [-0.77543753 -0.8106984 ]\n",
      " [-0.88960505 -0.886803  ]\n",
      " [ 0.0958406   0.30944267]\n",
      " [ 2.1448464   2.1403856 ]\n",
      " [-0.48851666 -0.46859726]]\n"
     ]
    },
    {
     "data": {
      "application/javascript": [
       "\n",
       "            setTimeout(function() {\n",
       "                var nbb_cell_id = 30;\n",
       "                var nbb_unformatted_code = \"kmeans = KMeans(n_clusters=3, max_iter=50, random_state=1)\\nkmeans.fit(data)\\nprint(data)\";\n",
       "                var nbb_formatted_code = \"kmeans = KMeans(n_clusters=3, max_iter=50, random_state=1)\\nkmeans.fit(data)\\nprint(data)\";\n",
       "                var nbb_cells = Jupyter.notebook.get_cells();\n",
       "                for (var i = 0; i < nbb_cells.length; ++i) {\n",
       "                    if (nbb_cells[i].input_prompt_number == nbb_cell_id) {\n",
       "                        if (nbb_cells[i].get_text() == nbb_unformatted_code) {\n",
       "                             nbb_cells[i].set_text(nbb_formatted_code);\n",
       "                        }\n",
       "                        break;\n",
       "                    }\n",
       "                }\n",
       "            }, 500);\n",
       "            "
      ],
      "text/plain": [
       "<IPython.core.display.Javascript object>"
      ]
     },
     "metadata": {},
     "output_type": "display_data"
    }
   ],
   "source": [
    "kmeans = KMeans(n_clusters=3, max_iter=50, random_state=1)\n",
    "kmeans.fit(data)\n",
    "print(data)"
   ]
  },
  {
   "cell_type": "code",
   "execution_count": 31,
   "metadata": {},
   "outputs": [
    {
     "data": {
      "text/html": [
       "<div>\n",
       "<style scoped>\n",
       "    .dataframe tbody tr th:only-of-type {\n",
       "        vertical-align: middle;\n",
       "    }\n",
       "\n",
       "    .dataframe tbody tr th {\n",
       "        vertical-align: top;\n",
       "    }\n",
       "\n",
       "    .dataframe thead th {\n",
       "        text-align: right;\n",
       "    }\n",
       "</style>\n",
       "<table border=\"1\" class=\"dataframe\">\n",
       "  <thead>\n",
       "    <tr style=\"text-align: right;\">\n",
       "      <th></th>\n",
       "      <th>Industry</th>\n",
       "      <th>0</th>\n",
       "      <th>1</th>\n",
       "    </tr>\n",
       "  </thead>\n",
       "  <tbody>\n",
       "    <tr>\n",
       "      <th>0</th>\n",
       "      <td>Agriculture</td>\n",
       "      <td>-0.712345</td>\n",
       "      <td>-0.769321</td>\n",
       "    </tr>\n",
       "    <tr>\n",
       "      <th>1</th>\n",
       "      <td>Production</td>\n",
       "      <td>0.125885</td>\n",
       "      <td>0.151322</td>\n",
       "    </tr>\n",
       "    <tr>\n",
       "      <th>2</th>\n",
       "      <td>Construction</td>\n",
       "      <td>-0.299239</td>\n",
       "      <td>-0.320821</td>\n",
       "    </tr>\n",
       "    <tr>\n",
       "      <th>3</th>\n",
       "      <td>Retail</td>\n",
       "      <td>1.588280</td>\n",
       "      <td>1.495344</td>\n",
       "    </tr>\n",
       "    <tr>\n",
       "      <th>4</th>\n",
       "      <td>ICT</td>\n",
       "      <td>-0.789708</td>\n",
       "      <td>-0.840254</td>\n",
       "    </tr>\n",
       "    <tr>\n",
       "      <th>5</th>\n",
       "      <td>Finance</td>\n",
       "      <td>-0.775438</td>\n",
       "      <td>-0.810698</td>\n",
       "    </tr>\n",
       "    <tr>\n",
       "      <th>6</th>\n",
       "      <td>Real_Estate</td>\n",
       "      <td>-0.889605</td>\n",
       "      <td>-0.886803</td>\n",
       "    </tr>\n",
       "    <tr>\n",
       "      <th>7</th>\n",
       "      <td>Professional_Service</td>\n",
       "      <td>0.095841</td>\n",
       "      <td>0.309443</td>\n",
       "    </tr>\n",
       "    <tr>\n",
       "      <th>8</th>\n",
       "      <td>Public_Adminstration</td>\n",
       "      <td>2.144846</td>\n",
       "      <td>2.140386</td>\n",
       "    </tr>\n",
       "    <tr>\n",
       "      <th>9</th>\n",
       "      <td>Other_Service</td>\n",
       "      <td>-0.488517</td>\n",
       "      <td>-0.468597</td>\n",
       "    </tr>\n",
       "  </tbody>\n",
       "</table>\n",
       "</div>"
      ],
      "text/plain": [
       "                Industry         0         1\n",
       "0            Agriculture -0.712345 -0.769321\n",
       "1             Production  0.125885  0.151322\n",
       "2           Construction -0.299239 -0.320821\n",
       "3                 Retail  1.588280  1.495344\n",
       "4                    ICT -0.789708 -0.840254\n",
       "5                Finance -0.775438 -0.810698\n",
       "6            Real_Estate -0.889605 -0.886803\n",
       "7   Professional_Service  0.095841  0.309443\n",
       "8  Public_Adminstration   2.144846  2.140386\n",
       "9          Other_Service -0.488517 -0.468597"
      ]
     },
     "execution_count": 31,
     "metadata": {},
     "output_type": "execute_result"
    },
    {
     "data": {
      "application/javascript": [
       "\n",
       "            setTimeout(function() {\n",
       "                var nbb_cell_id = 31;\n",
       "                var nbb_unformatted_code = \"cluster_data = pd.DataFrame(data=data)\\ncluster_data = pd.concat([dataframe[[\\\"Industry\\\"]], cluster_data], axis=1)\\ncluster_data\";\n",
       "                var nbb_formatted_code = \"cluster_data = pd.DataFrame(data=data)\\ncluster_data = pd.concat([dataframe[[\\\"Industry\\\"]], cluster_data], axis=1)\\ncluster_data\";\n",
       "                var nbb_cells = Jupyter.notebook.get_cells();\n",
       "                for (var i = 0; i < nbb_cells.length; ++i) {\n",
       "                    if (nbb_cells[i].input_prompt_number == nbb_cell_id) {\n",
       "                        if (nbb_cells[i].get_text() == nbb_unformatted_code) {\n",
       "                             nbb_cells[i].set_text(nbb_formatted_code);\n",
       "                        }\n",
       "                        break;\n",
       "                    }\n",
       "                }\n",
       "            }, 500);\n",
       "            "
      ],
      "text/plain": [
       "<IPython.core.display.Javascript object>"
      ]
     },
     "metadata": {},
     "output_type": "display_data"
    }
   ],
   "source": [
    "cluster_data = pd.DataFrame(data=data)\n",
    "cluster_data = pd.concat([dataframe[[\"Industry\"]], cluster_data], axis=1)\n",
    "cluster_data"
   ]
  },
  {
   "cell_type": "code",
   "execution_count": 32,
   "metadata": {},
   "outputs": [
    {
     "data": {
      "image/png": "[encoded data removed]",
      "text/plain": [
       "<Figure size 864x720 with 1 Axes>"
      ]
     },
     "metadata": {
      "needs_background": "light"
     },
     "output_type": "display_data"
    },
    {
     "data": {
      "application/javascript": [
       "\n",
       "            setTimeout(function() {\n",
       "                var nbb_cell_id = 32;\n",
       "                var nbb_unformatted_code = \"plt.scatter(data[:, 0], data[:, 1], c=kmeans.labels_, cmap=\\\"summer\\\")\\n\\nfor i, txt in enumerate(industries_):\\n    plt.annotate(\\n        txt, (data[:, 0][i], data[:, 1][i]),\\n    )\\n\\n\\nplt.scatter(\\n    kmeans.cluster_centers_[:, 0],\\n    kmeans.cluster_centers_[:, 1],\\n    color=\\\"red\\\",\\n    s=200,\\n    alpha=0.5,\\n)\\nfor i, txt in enumerate([\\\"Centroid 1\\\", \\\"Centroid 2\\\"]):\\n    plt.annotate(\\n        txt, (kmeans.cluster_centers_[:, 0][i], kmeans.cluster_centers_[:, 1][i]),\\n    )\\nplt.rcParams[\\\"figure.figsize\\\"] = (12, 10)\\nplt.show()\";\n",
       "                var nbb_formatted_code = \"plt.scatter(data[:, 0], data[:, 1], c=kmeans.labels_, cmap=\\\"summer\\\")\\n\\nfor i, txt in enumerate(industries_):\\n    plt.annotate(\\n        txt, (data[:, 0][i], data[:, 1][i]),\\n    )\\n\\n\\nplt.scatter(\\n    kmeans.cluster_centers_[:, 0],\\n    kmeans.cluster_centers_[:, 1],\\n    color=\\\"red\\\",\\n    s=200,\\n    alpha=0.5,\\n)\\nfor i, txt in enumerate([\\\"Centroid 1\\\", \\\"Centroid 2\\\"]):\\n    plt.annotate(\\n        txt, (kmeans.cluster_centers_[:, 0][i], kmeans.cluster_centers_[:, 1][i]),\\n    )\\nplt.rcParams[\\\"figure.figsize\\\"] = (12, 10)\\nplt.show()\";\n",
       "                var nbb_cells = Jupyter.notebook.get_cells();\n",
       "                for (var i = 0; i < nbb_cells.length; ++i) {\n",
       "                    if (nbb_cells[i].input_prompt_number == nbb_cell_id) {\n",
       "                        if (nbb_cells[i].get_text() == nbb_unformatted_code) {\n",
       "                             nbb_cells[i].set_text(nbb_formatted_code);\n",
       "                        }\n",
       "                        break;\n",
       "                    }\n",
       "                }\n",
       "            }, 500);\n",
       "            "
      ],
      "text/plain": [
       "<IPython.core.display.Javascript object>"
      ]
     },
     "metadata": {},
     "output_type": "display_data"
    }
   ],
   "source": [
    "plt.scatter(data[:, 0], data[:, 1], c=kmeans.labels_, cmap=\"summer\")\n",
    "\n",
    "for i, txt in enumerate(industries_):\n",
    "    plt.annotate(\n",
    "        txt, (data[:, 0][i], data[:, 1][i]),\n",
    "    )\n",
    "\n",
    "\n",
    "plt.scatter(\n",
    "    kmeans.cluster_centers_[:, 0],\n",
    "    kmeans.cluster_centers_[:, 1],\n",
    "    color=\"red\",\n",
    "    s=200,\n",
    "    alpha=0.5,\n",
    ")\n",
    "for i, txt in enumerate([\"Centroid 1\", \"Centroid 2\"]):\n",
    "    plt.annotate(\n",
    "        txt, (kmeans.cluster_centers_[:, 0][i], kmeans.cluster_centers_[:, 1][i]),\n",
    "    )\n",
    "plt.rcParams[\"figure.figsize\"] = (12, 10)\n",
    "plt.show()"
   ]
  },
  {
   "cell_type": "markdown",
   "metadata": {},
   "source": [
    "Increasing the clusters we found, like previously, **public administration and retail** are highly related in one cluster. **Agriculture, finance, construction, ICT, real estate and other service** are separated in another cluster and **production and professional service** are related in the middle cluster.\n",
    "\n",
    "We can see that **(K = 3)** gives us better results by separating highly related industries more efficiently. \n",
    "\n",
    "Next we will apply **hierarchical clustering to the same 2010 and 2018 data (best & worst performing)** to see the difference."
   ]
  },
  {
   "cell_type": "code",
   "execution_count": 33,
   "metadata": {},
   "outputs": [
    {
     "data": {
      "image/png": "[encoded data removed]",
      "text/plain": [
       "<Figure size 864x720 with 1 Axes>"
      ]
     },
     "metadata": {
      "needs_background": "light"
     },
     "output_type": "display_data"
    },
    {
     "data": {
      "application/javascript": [
       "\n",
       "            setTimeout(function() {\n",
       "                var nbb_cell_id = 33;\n",
       "                var nbb_unformatted_code = \"data = dataframe.copy()\\ndata = data[[\\\"2010\\\", \\\"2018\\\"]]\\nZ = hierarchy.linkage(data.values, \\\"complete\\\")\\ndendogram = hierarchy.dendrogram(Z, labels=industries_, orientation=\\\"right\\\")\";\n",
       "                var nbb_formatted_code = \"data = dataframe.copy()\\ndata = data[[\\\"2010\\\", \\\"2018\\\"]]\\nZ = hierarchy.linkage(data.values, \\\"complete\\\")\\ndendogram = hierarchy.dendrogram(Z, labels=industries_, orientation=\\\"right\\\")\";\n",
       "                var nbb_cells = Jupyter.notebook.get_cells();\n",
       "                for (var i = 0; i < nbb_cells.length; ++i) {\n",
       "                    if (nbb_cells[i].input_prompt_number == nbb_cell_id) {\n",
       "                        if (nbb_cells[i].get_text() == nbb_unformatted_code) {\n",
       "                             nbb_cells[i].set_text(nbb_formatted_code);\n",
       "                        }\n",
       "                        break;\n",
       "                    }\n",
       "                }\n",
       "            }, 500);\n",
       "            "
      ],
      "text/plain": [
       "<IPython.core.display.Javascript object>"
      ]
     },
     "metadata": {},
     "output_type": "display_data"
    }
   ],
   "source": [
    "data = dataframe.copy()\n",
    "data = data[[\"2010\", \"2018\"]]\n",
    "Z = hierarchy.linkage(data.values, \"complete\")\n",
    "dendogram = hierarchy.dendrogram(Z, labels=industries_, orientation=\"right\")"
   ]
  },
  {
   "cell_type": "markdown",
   "metadata": {},
   "source": [
    "Hierarchical clustering builds the hirarchy of clusters as the name suggests. It divides the data into two clusters. Even though both the hierarchical and K means clustering gives quite simillar results, we need to keep in mind that:\n",
    "\n",
    "1. Hierarchical clustering can't handle big data well compared to K Means clustering. Since time complexity of K Means is linear **$O(n)$** while it is quadratic **$O(n^2)$** for hierarchical clustering.\n",
    "\n",
    "2. The results from K Means clustering can differ but the result are reproducible in hierarchical clustering.\n",
    "\n",
    "3. We need prior knowledge of **K** for K Means clustering. But wwe can find number of clusters that are appropriate in hierarchical clustering by interpreting the dendogram.\n",
    "\n",
    "4. K Means generally works well when the shape of data is hyper-spherical.\n"
   ]
  },
  {
   "cell_type": "markdown",
   "metadata": {},
   "source": [
    "# Discussion"
   ]
  },
  {
   "cell_type": "markdown",
   "metadata": {},
   "source": [
    "We have collected Wales employment from 2009 to 2018 and created a dataset. We have analyzed the collected dataset and found that public administration is the biggest employer over the years followed by retail, production, and professional service industries. Real estate has employed the lowest number of employees over the years but this industry has shown the highest overall growth,**$2.34\\%$**, over the years followed by ICT, professional service, and other service industries. Even though the retail industry has a high number of total employees but this industry is the least growing, **$0.04 \\%$**, industry over the years. The professional service industry has a good number, 1565200, of employees while also maintaining a healthy overall growth **$0.81\\%$** over the years. \n",
    "\n",
    "If we look at the employment number for specific years we can see that from 2009 to 2012 the total number of employees every year was not consistent and fluctuating in this time period. But from 2012 the total employment in Wales is increasing every year. The rate of increase was high in the period of 2012 to 2014 and from 2016 to 2018. In the middle of 2014 to 2016 the increase in employment number was moderate. In our analysis we have found that, 2018 is the best performing year and 2010 is the least performing year. In terms of correlated industries, **public administration and retail** are two of the biggest employers that are in the same cluster and highly related to each other. We have found that these industries contain most of the variance in the dataset. **Agriculture, finance, construction, ICT, real estate, and other service** industries are also related to each other while **production and professional service** are also related industries. Industries that were highly related in PCA analysis were not correlated year wise. \n",
    "\n",
    "Overall, from the analysis we have found that the number of employment in Wales is increasing every year, and public administration, retail industries are leading the way. The real estate industry is growing fast and the professional service industry is also growing while having a good amount of employees already."
   ]
  },
  {
   "cell_type": "code",
   "execution_count": null,
   "metadata": {},
   "outputs": [],
   "source": []
  }
 ],
 "metadata": {
  "kernelspec": {
   "display_name": "Python 3",
   "language": "python",
   "name": "python3"
  },
  "language_info": {
   "codemirror_mode": {
    "name": "ipython",
    "version": 3
   },
   "file_extension": ".py",
   "mimetype": "text/x-python",
   "name": "python",
   "nbconvert_exporter": "python",
   "pygments_lexer": "ipython3",
   "version": "3.6.10"
  }
 },
 "nbformat": 4,
 "nbformat_minor": 2
}
